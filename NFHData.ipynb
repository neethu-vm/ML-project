{
  "nbformat": 4,
  "nbformat_minor": 0,
  "metadata": {
    "colab": {
      "name": "NFHData.ipynb",
      "provenance": [],
      "collapsed_sections": [],
      "authorship_tag": "ABX9TyMhQFGw9pzj7CCkhVBSMYq/",
      "include_colab_link": true
    },
    "kernelspec": {
      "name": "python3",
      "display_name": "Python 3"
    },
    "language_info": {
      "name": "python"
    },
    "accelerator": "GPU"
  },
  "cells": [
    {
      "cell_type": "markdown",
      "metadata": {
        "id": "view-in-github",
        "colab_type": "text"
      },
      "source": [
        "<a href=\"https://colab.research.google.com/github/neethu-vm/ML-project/blob/main/NFHData.ipynb\" target=\"_parent\"><img src=\"https://colab.research.google.com/assets/colab-badge.svg\" alt=\"Open In Colab\"/></a>"
      ]
    },
    {
      "cell_type": "markdown",
      "metadata": {
        "id": "g6dgnwmYZM4P"
      },
      "source": [
        "First Name : Neethu\n",
        "\n",
        "Last Name  : VM\n",
        "\n",
        "Start Date : 08/07/2021 \n"
      ]
    },
    {
      "cell_type": "markdown",
      "metadata": {
        "id": "Ns9z1ISqsLSD"
      },
      "source": [
        "# Install All libraries needed "
      ]
    },
    {
      "cell_type": "code",
      "metadata": {
        "colab": {
          "base_uri": "https://localhost:8080/"
        },
        "id": "Jelwsyz8aWC0",
        "outputId": "a0da013b-cf6a-4595-df8b-2ea63e654960"
      },
      "source": [
        "!python3 -m pip install -U pip\n",
        "!python3 -m pip install -U setuptools wheel\n",
        "!python3 -m pip install -U \"mxnet<2.0.0\"\n",
        "!python3 -m pip install autogluon "
      ],
      "execution_count": 6,
      "outputs": [
        {
          "output_type": "stream",
          "text": [
            "Collecting pip\n",
            "\u001b[?25l  Downloading https://files.pythonhosted.org/packages/47/ca/f0d790b6e18b3a6f3bd5e80c2ee4edbb5807286c21cdd0862ca933f751dd/pip-21.1.3-py3-none-any.whl (1.5MB)\n",
            "\r\u001b[K     |▏                               | 10kB 24.0MB/s eta 0:00:01\r\u001b[K     |▍                               | 20kB 31.0MB/s eta 0:00:01\r\u001b[K     |▋                               | 30kB 33.7MB/s eta 0:00:01\r\u001b[K     |▉                               | 40kB 34.6MB/s eta 0:00:01\r\u001b[K     |█                               | 51kB 34.1MB/s eta 0:00:01\r\u001b[K     |█▎                              | 61kB 35.7MB/s eta 0:00:01\r\u001b[K     |█▌                              | 71kB 32.5MB/s eta 0:00:01\r\u001b[K     |█▊                              | 81kB 33.0MB/s eta 0:00:01\r\u001b[K     |██                              | 92kB 30.1MB/s eta 0:00:01\r\u001b[K     |██▏                             | 102kB 30.0MB/s eta 0:00:01\r\u001b[K     |██▎                             | 112kB 30.0MB/s eta 0:00:01\r\u001b[K     |██▌                             | 122kB 30.0MB/s eta 0:00:01\r\u001b[K     |██▊                             | 133kB 30.0MB/s eta 0:00:01\r\u001b[K     |███                             | 143kB 30.0MB/s eta 0:00:01\r\u001b[K     |███▏                            | 153kB 30.0MB/s eta 0:00:01\r\u001b[K     |███▍                            | 163kB 30.0MB/s eta 0:00:01\r\u001b[K     |███▋                            | 174kB 30.0MB/s eta 0:00:01\r\u001b[K     |███▉                            | 184kB 30.0MB/s eta 0:00:01\r\u001b[K     |████                            | 194kB 30.0MB/s eta 0:00:01\r\u001b[K     |████▎                           | 204kB 30.0MB/s eta 0:00:01\r\u001b[K     |████▌                           | 215kB 30.0MB/s eta 0:00:01\r\u001b[K     |████▋                           | 225kB 30.0MB/s eta 0:00:01\r\u001b[K     |████▉                           | 235kB 30.0MB/s eta 0:00:01\r\u001b[K     |█████                           | 245kB 30.0MB/s eta 0:00:01\r\u001b[K     |█████▎                          | 256kB 30.0MB/s eta 0:00:01\r\u001b[K     |█████▌                          | 266kB 30.0MB/s eta 0:00:01\r\u001b[K     |█████▊                          | 276kB 30.0MB/s eta 0:00:01\r\u001b[K     |██████                          | 286kB 30.0MB/s eta 0:00:01\r\u001b[K     |██████▏                         | 296kB 30.0MB/s eta 0:00:01\r\u001b[K     |██████▍                         | 307kB 30.0MB/s eta 0:00:01\r\u001b[K     |██████▋                         | 317kB 30.0MB/s eta 0:00:01\r\u001b[K     |██████▊                         | 327kB 30.0MB/s eta 0:00:01\r\u001b[K     |███████                         | 337kB 30.0MB/s eta 0:00:01\r\u001b[K     |███████▏                        | 348kB 30.0MB/s eta 0:00:01\r\u001b[K     |███████▍                        | 358kB 30.0MB/s eta 0:00:01\r\u001b[K     |███████▋                        | 368kB 30.0MB/s eta 0:00:01\r\u001b[K     |███████▉                        | 378kB 30.0MB/s eta 0:00:01\r\u001b[K     |████████                        | 389kB 30.0MB/s eta 0:00:01\r\u001b[K     |████████▎                       | 399kB 30.0MB/s eta 0:00:01\r\u001b[K     |████████▌                       | 409kB 30.0MB/s eta 0:00:01\r\u001b[K     |████████▊                       | 419kB 30.0MB/s eta 0:00:01\r\u001b[K     |█████████                       | 430kB 30.0MB/s eta 0:00:01\r\u001b[K     |█████████                       | 440kB 30.0MB/s eta 0:00:01\r\u001b[K     |█████████▎                      | 450kB 30.0MB/s eta 0:00:01\r\u001b[K     |█████████▌                      | 460kB 30.0MB/s eta 0:00:01\r\u001b[K     |█████████▊                      | 471kB 30.0MB/s eta 0:00:01\r\u001b[K     |██████████                      | 481kB 30.0MB/s eta 0:00:01\r\u001b[K     |██████████▏                     | 491kB 30.0MB/s eta 0:00:01\r\u001b[K     |██████████▍                     | 501kB 30.0MB/s eta 0:00:01\r\u001b[K     |██████████▋                     | 512kB 30.0MB/s eta 0:00:01\r\u001b[K     |██████████▉                     | 522kB 30.0MB/s eta 0:00:01\r\u001b[K     |███████████                     | 532kB 30.0MB/s eta 0:00:01\r\u001b[K     |███████████▏                    | 542kB 30.0MB/s eta 0:00:01\r\u001b[K     |███████████▍                    | 552kB 30.0MB/s eta 0:00:01\r\u001b[K     |███████████▋                    | 563kB 30.0MB/s eta 0:00:01\r\u001b[K     |███████████▉                    | 573kB 30.0MB/s eta 0:00:01\r\u001b[K     |████████████                    | 583kB 30.0MB/s eta 0:00:01\r\u001b[K     |████████████▎                   | 593kB 30.0MB/s eta 0:00:01\r\u001b[K     |████████████▌                   | 604kB 30.0MB/s eta 0:00:01\r\u001b[K     |████████████▊                   | 614kB 30.0MB/s eta 0:00:01\r\u001b[K     |█████████████                   | 624kB 30.0MB/s eta 0:00:01\r\u001b[K     |█████████████▏                  | 634kB 30.0MB/s eta 0:00:01\r\u001b[K     |█████████████▍                  | 645kB 30.0MB/s eta 0:00:01\r\u001b[K     |█████████████▌                  | 655kB 30.0MB/s eta 0:00:01\r\u001b[K     |█████████████▊                  | 665kB 30.0MB/s eta 0:00:01\r\u001b[K     |██████████████                  | 675kB 30.0MB/s eta 0:00:01\r\u001b[K     |██████████████▏                 | 686kB 30.0MB/s eta 0:00:01\r\u001b[K     |██████████████▍                 | 696kB 30.0MB/s eta 0:00:01\r\u001b[K     |██████████████▋                 | 706kB 30.0MB/s eta 0:00:01\r\u001b[K     |██████████████▉                 | 716kB 30.0MB/s eta 0:00:01\r\u001b[K     |███████████████                 | 727kB 30.0MB/s eta 0:00:01\r\u001b[K     |███████████████▎                | 737kB 30.0MB/s eta 0:00:01\r\u001b[K     |███████████████▌                | 747kB 30.0MB/s eta 0:00:01\r\u001b[K     |███████████████▋                | 757kB 30.0MB/s eta 0:00:01\r\u001b[K     |███████████████▉                | 768kB 30.0MB/s eta 0:00:01\r\u001b[K     |████████████████                | 778kB 30.0MB/s eta 0:00:01\r\u001b[K     |████████████████▎               | 788kB 30.0MB/s eta 0:00:01\r\u001b[K     |████████████████▌               | 798kB 30.0MB/s eta 0:00:01\r\u001b[K     |████████████████▊               | 808kB 30.0MB/s eta 0:00:01\r\u001b[K     |█████████████████               | 819kB 30.0MB/s eta 0:00:01\r\u001b[K     |█████████████████▏              | 829kB 30.0MB/s eta 0:00:01\r\u001b[K     |█████████████████▍              | 839kB 30.0MB/s eta 0:00:01\r\u001b[K     |█████████████████▋              | 849kB 30.0MB/s eta 0:00:01\r\u001b[K     |█████████████████▉              | 860kB 30.0MB/s eta 0:00:01\r\u001b[K     |██████████████████              | 870kB 30.0MB/s eta 0:00:01\r\u001b[K     |██████████████████▏             | 880kB 30.0MB/s eta 0:00:01\r\u001b[K     |██████████████████▍             | 890kB 30.0MB/s eta 0:00:01\r\u001b[K     |██████████████████▋             | 901kB 30.0MB/s eta 0:00:01\r\u001b[K     |██████████████████▉             | 911kB 30.0MB/s eta 0:00:01\r\u001b[K     |███████████████████             | 921kB 30.0MB/s eta 0:00:01\r\u001b[K     |███████████████████▎            | 931kB 30.0MB/s eta 0:00:01\r\u001b[K     |███████████████████▌            | 942kB 30.0MB/s eta 0:00:01\r\u001b[K     |███████████████████▊            | 952kB 30.0MB/s eta 0:00:01\r\u001b[K     |████████████████████            | 962kB 30.0MB/s eta 0:00:01\r\u001b[K     |████████████████████            | 972kB 30.0MB/s eta 0:00:01\r\u001b[K     |████████████████████▎           | 983kB 30.0MB/s eta 0:00:01\r\u001b[K     |████████████████████▌           | 993kB 30.0MB/s eta 0:00:01\r\u001b[K     |████████████████████▊           | 1.0MB 30.0MB/s eta 0:00:01\r\u001b[K     |█████████████████████           | 1.0MB 30.0MB/s eta 0:00:01\r\u001b[K     |█████████████████████▏          | 1.0MB 30.0MB/s eta 0:00:01\r\u001b[K     |█████████████████████▍          | 1.0MB 30.0MB/s eta 0:00:01\r\u001b[K     |█████████████████████▋          | 1.0MB 30.0MB/s eta 0:00:01\r\u001b[K     |█████████████████████▉          | 1.1MB 30.0MB/s eta 0:00:01\r\u001b[K     |██████████████████████          | 1.1MB 30.0MB/s eta 0:00:01\r\u001b[K     |██████████████████████▎         | 1.1MB 30.0MB/s eta 0:00:01\r\u001b[K     |██████████████████████▍         | 1.1MB 30.0MB/s eta 0:00:01\r\u001b[K     |██████████████████████▋         | 1.1MB 30.0MB/s eta 0:00:01\r\u001b[K     |██████████████████████▉         | 1.1MB 30.0MB/s eta 0:00:01\r\u001b[K     |███████████████████████         | 1.1MB 30.0MB/s eta 0:00:01\r\u001b[K     |███████████████████████▎        | 1.1MB 30.0MB/s eta 0:00:01\r\u001b[K     |███████████████████████▌        | 1.1MB 30.0MB/s eta 0:00:01\r\u001b[K     |███████████████████████▊        | 1.1MB 30.0MB/s eta 0:00:01\r\u001b[K     |████████████████████████        | 1.2MB 30.0MB/s eta 0:00:01\r\u001b[K     |████████████████████████▏       | 1.2MB 30.0MB/s eta 0:00:01\r\u001b[K     |████████████████████████▍       | 1.2MB 30.0MB/s eta 0:00:01\r\u001b[K     |████████████████████████▌       | 1.2MB 30.0MB/s eta 0:00:01\r\u001b[K     |████████████████████████▊       | 1.2MB 30.0MB/s eta 0:00:01\r\u001b[K     |█████████████████████████       | 1.2MB 30.0MB/s eta 0:00:01\r\u001b[K     |█████████████████████████▏      | 1.2MB 30.0MB/s eta 0:00:01\r\u001b[K     |█████████████████████████▍      | 1.2MB 30.0MB/s eta 0:00:01\r\u001b[K     |█████████████████████████▋      | 1.2MB 30.0MB/s eta 0:00:01\r\u001b[K     |█████████████████████████▉      | 1.2MB 30.0MB/s eta 0:00:01\r\u001b[K     |██████████████████████████      | 1.3MB 30.0MB/s eta 0:00:01\r\u001b[K     |██████████████████████████▎     | 1.3MB 30.0MB/s eta 0:00:01\r\u001b[K     |██████████████████████████▌     | 1.3MB 30.0MB/s eta 0:00:01\r\u001b[K     |██████████████████████████▊     | 1.3MB 30.0MB/s eta 0:00:01\r\u001b[K     |██████████████████████████▉     | 1.3MB 30.0MB/s eta 0:00:01\r\u001b[K     |███████████████████████████     | 1.3MB 30.0MB/s eta 0:00:01\r\u001b[K     |███████████████████████████▎    | 1.3MB 30.0MB/s eta 0:00:01\r\u001b[K     |███████████████████████████▌    | 1.3MB 30.0MB/s eta 0:00:01\r\u001b[K     |███████████████████████████▊    | 1.3MB 30.0MB/s eta 0:00:01\r\u001b[K     |████████████████████████████    | 1.4MB 30.0MB/s eta 0:00:01\r\u001b[K     |████████████████████████████▏   | 1.4MB 30.0MB/s eta 0:00:01\r\u001b[K     |████████████████████████████▍   | 1.4MB 30.0MB/s eta 0:00:01\r\u001b[K     |████████████████████████████▋   | 1.4MB 30.0MB/s eta 0:00:01\r\u001b[K     |████████████████████████████▉   | 1.4MB 30.0MB/s eta 0:00:01\r\u001b[K     |█████████████████████████████   | 1.4MB 30.0MB/s eta 0:00:01\r\u001b[K     |█████████████████████████████▏  | 1.4MB 30.0MB/s eta 0:00:01\r\u001b[K     |█████████████████████████████▍  | 1.4MB 30.0MB/s eta 0:00:01\r\u001b[K     |█████████████████████████████▋  | 1.4MB 30.0MB/s eta 0:00:01\r\u001b[K     |█████████████████████████████▉  | 1.4MB 30.0MB/s eta 0:00:01\r\u001b[K     |██████████████████████████████  | 1.5MB 30.0MB/s eta 0:00:01\r\u001b[K     |██████████████████████████████▎ | 1.5MB 30.0MB/s eta 0:00:01\r\u001b[K     |██████████████████████████████▌ | 1.5MB 30.0MB/s eta 0:00:01\r\u001b[K     |██████████████████████████████▊ | 1.5MB 30.0MB/s eta 0:00:01\r\u001b[K     |███████████████████████████████ | 1.5MB 30.0MB/s eta 0:00:01\r\u001b[K     |███████████████████████████████▏| 1.5MB 30.0MB/s eta 0:00:01\r\u001b[K     |███████████████████████████████▎| 1.5MB 30.0MB/s eta 0:00:01\r\u001b[K     |███████████████████████████████▌| 1.5MB 30.0MB/s eta 0:00:01\r\u001b[K     |███████████████████████████████▊| 1.5MB 30.0MB/s eta 0:00:01\r\u001b[K     |████████████████████████████████| 1.5MB 30.0MB/s eta 0:00:01\r\u001b[K     |████████████████████████████████| 1.6MB 30.0MB/s \n",
            "\u001b[?25hInstalling collected packages: pip\n",
            "  Found existing installation: pip 19.3.1\n",
            "    Uninstalling pip-19.3.1:\n",
            "      Successfully uninstalled pip-19.3.1\n",
            "Successfully installed pip-21.1.3\n",
            "Requirement already satisfied: setuptools in /usr/local/lib/python3.7/dist-packages (57.0.0)\n",
            "Collecting setuptools\n",
            "  Downloading setuptools-57.1.0-py3-none-any.whl (818 kB)\n",
            "\u001b[K     |████████████████████████████████| 818 kB 27.1 MB/s \n",
            "\u001b[?25hRequirement already satisfied: wheel in /usr/local/lib/python3.7/dist-packages (0.36.2)\n",
            "Installing collected packages: setuptools\n",
            "  Attempting uninstall: setuptools\n",
            "    Found existing installation: setuptools 57.0.0\n",
            "    Uninstalling setuptools-57.0.0:\n",
            "      Successfully uninstalled setuptools-57.0.0\n",
            "\u001b[31mERROR: pip's dependency resolver does not currently take into account all the packages that are installed. This behaviour is the source of the following dependency conflicts.\n",
            "datascience 0.10.6 requires folium==0.2.1, but you have folium 0.8.3 which is incompatible.\u001b[0m\n",
            "Successfully installed setuptools-57.1.0\n",
            "\u001b[33mWARNING: Running pip as the 'root' user can result in broken permissions and conflicting behaviour with the system package manager. It is recommended to use a virtual environment instead: https://pip.pypa.io/warnings/venv\u001b[0m\n",
            "Collecting mxnet<2.0.0\n",
            "  Downloading mxnet-1.8.0.post0-py2.py3-none-manylinux2014_x86_64.whl (46.9 MB)\n",
            "\u001b[K     |████████████████████████████████| 46.9 MB 42 kB/s \n",
            "\u001b[?25hRequirement already satisfied: requests<3,>=2.20.0 in /usr/local/lib/python3.7/dist-packages (from mxnet<2.0.0) (2.23.0)\n",
            "Collecting graphviz<0.9.0,>=0.8.1\n",
            "  Downloading graphviz-0.8.4-py2.py3-none-any.whl (16 kB)\n",
            "Requirement already satisfied: numpy<2.0.0,>1.16.0 in /usr/local/lib/python3.7/dist-packages (from mxnet<2.0.0) (1.19.5)\n",
            "Requirement already satisfied: urllib3!=1.25.0,!=1.25.1,<1.26,>=1.21.1 in /usr/local/lib/python3.7/dist-packages (from requests<3,>=2.20.0->mxnet<2.0.0) (1.24.3)\n",
            "Requirement already satisfied: idna<3,>=2.5 in /usr/local/lib/python3.7/dist-packages (from requests<3,>=2.20.0->mxnet<2.0.0) (2.10)\n",
            "Requirement already satisfied: certifi>=2017.4.17 in /usr/local/lib/python3.7/dist-packages (from requests<3,>=2.20.0->mxnet<2.0.0) (2021.5.30)\n",
            "Requirement already satisfied: chardet<4,>=3.0.2 in /usr/local/lib/python3.7/dist-packages (from requests<3,>=2.20.0->mxnet<2.0.0) (3.0.4)\n",
            "Installing collected packages: graphviz, mxnet\n",
            "  Attempting uninstall: graphviz\n",
            "    Found existing installation: graphviz 0.10.1\n",
            "    Uninstalling graphviz-0.10.1:\n",
            "      Successfully uninstalled graphviz-0.10.1\n",
            "Successfully installed graphviz-0.8.4 mxnet-1.8.0.post0\n",
            "\u001b[33mWARNING: Running pip as the 'root' user can result in broken permissions and conflicting behaviour with the system package manager. It is recommended to use a virtual environment instead: https://pip.pypa.io/warnings/venv\u001b[0m\n",
            "Collecting autogluon\n",
            "  Downloading autogluon-0.2.0-py3-none-any.whl (5.4 kB)\n",
            "Collecting autogluon.tabular[all]==0.2.0\n",
            "  Downloading autogluon.tabular-0.2.0-py3-none-any.whl (250 kB)\n",
            "\u001b[K     |████████████████████████████████| 250 kB 29.5 MB/s \n",
            "\u001b[?25hCollecting autogluon.extra==0.2.0\n",
            "  Downloading autogluon.extra-0.2.0-py3-none-any.whl (24 kB)\n",
            "Collecting autogluon.core==0.2.0\n",
            "  Downloading autogluon.core-0.2.0-py3-none-any.whl (334 kB)\n",
            "\u001b[K     |████████████████████████████████| 334 kB 66.0 MB/s \n",
            "\u001b[?25hCollecting autogluon.mxnet==0.2.0\n",
            "  Downloading autogluon.mxnet-0.2.0-py3-none-any.whl (28 kB)\n",
            "Collecting autogluon.features==0.2.0\n",
            "  Downloading autogluon.features-0.2.0-py3-none-any.whl (48 kB)\n",
            "\u001b[K     |████████████████████████████████| 48 kB 6.6 MB/s \n",
            "\u001b[?25hCollecting autogluon.text==0.2.0\n",
            "  Downloading autogluon.text-0.2.0-py3-none-any.whl (48 kB)\n",
            "\u001b[K     |████████████████████████████████| 48 kB 6.7 MB/s \n",
            "\u001b[?25hCollecting autogluon.vision==0.2.0\n",
            "  Downloading autogluon.vision-0.2.0-py3-none-any.whl (31 kB)\n",
            "Collecting boto3\n",
            "  Downloading boto3-1.17.109-py2.py3-none-any.whl (131 kB)\n",
            "\u001b[K     |████████████████████████████████| 131 kB 64.9 MB/s \n",
            "\u001b[?25hRequirement already satisfied: cython in /usr/local/lib/python3.7/dist-packages (from autogluon.core==0.2.0->autogluon) (0.29.23)\n",
            "Collecting scikit-learn<0.25,>=0.23.2\n",
            "  Downloading scikit_learn-0.24.2-cp37-cp37m-manylinux2010_x86_64.whl (22.3 MB)\n",
            "\u001b[K     |████████████████████████████████| 22.3 MB 1.2 MB/s \n",
            "\u001b[?25hRequirement already satisfied: tornado>=5.0.1 in /usr/local/lib/python3.7/dist-packages (from autogluon.core==0.2.0->autogluon) (5.1.1)\n",
            "Collecting distributed>=2.6.0\n",
            "  Downloading distributed-2021.7.0-py3-none-any.whl (1.0 MB)\n",
            "\u001b[K     |████████████████████████████████| 1.0 MB 62.0 MB/s \n",
            "\u001b[?25hRequirement already satisfied: pandas<2.0,>=1.0.0 in /usr/local/lib/python3.7/dist-packages (from autogluon.core==0.2.0->autogluon) (1.1.5)\n",
            "Requirement already satisfied: matplotlib in /usr/local/lib/python3.7/dist-packages (from autogluon.core==0.2.0->autogluon) (3.2.2)\n",
            "Collecting paramiko>=2.4\n",
            "  Downloading paramiko-2.7.2-py2.py3-none-any.whl (206 kB)\n",
            "\u001b[K     |████████████████████████████████| 206 kB 77.7 MB/s \n",
            "\u001b[?25hRequirement already satisfied: graphviz<0.9.0,>=0.8.1 in /usr/local/lib/python3.7/dist-packages (from autogluon.core==0.2.0->autogluon) (0.8.4)\n",
            "Requirement already satisfied: numpy==1.19.5 in /usr/local/lib/python3.7/dist-packages (from autogluon.core==0.2.0->autogluon) (1.19.5)\n",
            "Collecting ConfigSpace==0.4.18\n",
            "  Downloading ConfigSpace-0.4.18.tar.gz (950 kB)\n",
            "\u001b[K     |████████████████████████████████| 950 kB 63.8 MB/s \n",
            "\u001b[?25h  Installing build dependencies ... \u001b[?25l\u001b[?25hdone\n",
            "  Getting requirements to build wheel ... \u001b[?25l\u001b[?25hdone\n",
            "    Preparing wheel metadata ... \u001b[?25l\u001b[?25hdone\n",
            "Collecting scipy<1.7,>=1.5.4\n",
            "  Downloading scipy-1.6.3-cp37-cp37m-manylinux1_x86_64.whl (27.4 MB)\n",
            "\u001b[K     |████████████████████████████████| 27.4 MB 89 kB/s \n",
            "\u001b[?25hRequirement already satisfied: tqdm>=4.38.0 in /usr/local/lib/python3.7/dist-packages (from autogluon.core==0.2.0->autogluon) (4.41.1)\n",
            "Requirement already satisfied: requests in /usr/local/lib/python3.7/dist-packages (from autogluon.core==0.2.0->autogluon) (2.23.0)\n",
            "Collecting dill==0.3.3\n",
            "  Downloading dill-0.3.3-py2.py3-none-any.whl (81 kB)\n",
            "\u001b[K     |████████████████████████████████| 81 kB 12.3 MB/s \n",
            "\u001b[?25hRequirement already satisfied: autograd>=1.3 in /usr/local/lib/python3.7/dist-packages (from autogluon.core==0.2.0->autogluon) (1.3)\n",
            "Requirement already satisfied: dask>=2.6.0 in /usr/local/lib/python3.7/dist-packages (from autogluon.core==0.2.0->autogluon) (2.12.0)\n",
            "Collecting gluoncv<0.11,>=0.10.1.post0\n",
            "  Downloading gluoncv-0.10.3-py3-none-any.whl (1.3 MB)\n",
            "\u001b[K     |████████████████████████████████| 1.3 MB 54.1 MB/s \n",
            "\u001b[?25hRequirement already satisfied: pytest in /usr/local/lib/python3.7/dist-packages (from autogluon.extra==0.2.0->autogluon) (3.6.4)\n",
            "Collecting openml\n",
            "  Downloading openml-0.12.2.tar.gz (119 kB)\n",
            "\u001b[K     |████████████████████████████████| 119 kB 76.8 MB/s \n",
            "\u001b[?25hRequirement already satisfied: Pillow<=8.1 in /usr/local/lib/python3.7/dist-packages (from autogluon.mxnet==0.2.0->autogluon) (7.1.2)\n",
            "Requirement already satisfied: networkx<3.0,>=2.3 in /usr/local/lib/python3.7/dist-packages (from autogluon.tabular[all]==0.2.0->autogluon) (2.5.1)\n",
            "Collecting psutil<5.9,>=5.7.3\n",
            "  Downloading psutil-5.8.0-cp37-cp37m-manylinux2010_x86_64.whl (296 kB)\n",
            "\u001b[K     |████████████████████████████████| 296 kB 52.6 MB/s \n",
            "\u001b[?25hCollecting fastai<3.0,>=2.0\n",
            "  Downloading fastai-2.4-py3-none-any.whl (187 kB)\n",
            "\u001b[K     |████████████████████████████████| 187 kB 79.9 MB/s \n",
            "\u001b[?25hCollecting catboost<0.26,>=0.24.0\n",
            "  Downloading catboost-0.25.1-cp37-none-manylinux1_x86_64.whl (67.3 MB)\n",
            "\u001b[K     |████████████████████████████████| 67.3 MB 4.0 kB/s \n",
            "\u001b[?25hRequirement already satisfied: torch<2.0,>=1.0 in /usr/local/lib/python3.7/dist-packages (from autogluon.tabular[all]==0.2.0->autogluon) (1.9.0+cu102)\n",
            "Collecting xgboost<1.4,>=1.3.2\n",
            "  Downloading xgboost-1.3.3-py3-none-manylinux2010_x86_64.whl (157.5 MB)\n",
            "\u001b[K     |████████████████████████████████| 157.5 MB 62 kB/s \n",
            "\u001b[?25hCollecting lightgbm<4.0,>=3.0\n",
            "  Downloading lightgbm-3.2.1-py3-none-manylinux1_x86_64.whl (2.0 MB)\n",
            "\u001b[K     |████████████████████████████████| 2.0 MB 58.9 MB/s \n",
            "\u001b[?25hRequirement already satisfied: pyarrow in /usr/local/lib/python3.7/dist-packages (from autogluon.text==0.2.0->autogluon) (3.0.0)\n",
            "Collecting autogluon-contrib-nlp==0.0.1b20210201\n",
            "  Downloading autogluon_contrib_nlp-0.0.1b20210201-py3-none-any.whl (157 kB)\n",
            "\u001b[K     |████████████████████████████████| 157 kB 70.5 MB/s \n",
            "\u001b[?25hCollecting flake8\n",
            "  Downloading flake8-3.9.2-py2.py3-none-any.whl (73 kB)\n",
            "\u001b[K     |████████████████████████████████| 73 kB 2.1 MB/s \n",
            "\u001b[?25hCollecting contextvars\n",
            "  Downloading contextvars-2.4.tar.gz (9.6 kB)\n",
            "Collecting sentencepiece==0.1.95\n",
            "  Downloading sentencepiece-0.1.95-cp37-cp37m-manylinux2014_x86_64.whl (1.2 MB)\n",
            "\u001b[K     |████████████████████████████████| 1.2 MB 48.5 MB/s \n",
            "\u001b[?25hRequirement already satisfied: regex in /usr/local/lib/python3.7/dist-packages (from autogluon-contrib-nlp==0.0.1b20210201->autogluon.text==0.2.0->autogluon) (2019.12.20)\n",
            "Collecting yacs>=0.1.6\n",
            "  Downloading yacs-0.1.8-py3-none-any.whl (14 kB)\n",
            "Collecting tokenizers==0.9.4\n",
            "  Downloading tokenizers-0.9.4-cp37-cp37m-manylinux2010_x86_64.whl (2.9 MB)\n",
            "\u001b[K     |████████████████████████████████| 2.9 MB 61.6 MB/s \n",
            "\u001b[?25hCollecting sacrebleu\n",
            "  Downloading sacrebleu-1.5.1-py3-none-any.whl (54 kB)\n",
            "\u001b[K     |████████████████████████████████| 54 kB 3.0 MB/s \n",
            "\u001b[?25hRequirement already satisfied: protobuf in /usr/local/lib/python3.7/dist-packages (from autogluon-contrib-nlp==0.0.1b20210201->autogluon.text==0.2.0->autogluon) (3.17.3)\n",
            "Collecting sacremoses>=0.0.38\n",
            "  Downloading sacremoses-0.0.45-py3-none-any.whl (895 kB)\n",
            "\u001b[K     |████████████████████████████████| 895 kB 65.3 MB/s \n",
            "\u001b[?25hCollecting d8<1.0,>=0.0.2\n",
            "  Downloading d8-0.0.2.post0-py3-none-any.whl (28 kB)\n",
            "Requirement already satisfied: pyparsing in /usr/local/lib/python3.7/dist-packages (from ConfigSpace==0.4.18->autogluon.core==0.2.0->autogluon) (2.4.7)\n",
            "Requirement already satisfied: future>=0.15.2 in /usr/local/lib/python3.7/dist-packages (from autograd>=1.3->autogluon.core==0.2.0->autogluon) (0.16.0)\n",
            "Requirement already satisfied: plotly in /usr/local/lib/python3.7/dist-packages (from catboost<0.26,>=0.24.0->autogluon.tabular[all]==0.2.0->autogluon) (4.4.1)\n",
            "Requirement already satisfied: six in /usr/local/lib/python3.7/dist-packages (from catboost<0.26,>=0.24.0->autogluon.tabular[all]==0.2.0->autogluon) (1.15.0)\n",
            "Collecting xxhash\n",
            "  Downloading xxhash-2.0.2-cp37-cp37m-manylinux2010_x86_64.whl (243 kB)\n",
            "\u001b[K     |████████████████████████████████| 243 kB 70.6 MB/s \n",
            "\u001b[?25hRequirement already satisfied: kaggle in /usr/local/lib/python3.7/dist-packages (from d8<1.0,>=0.0.2->autogluon.vision==0.2.0->autogluon) (1.5.12)\n",
            "Requirement already satisfied: pyyaml in /usr/local/lib/python3.7/dist-packages (from distributed>=2.6.0->autogluon.core==0.2.0->autogluon) (3.13)\n",
            "Requirement already satisfied: msgpack>=0.6.0 in /usr/local/lib/python3.7/dist-packages (from distributed>=2.6.0->autogluon.core==0.2.0->autogluon) (1.0.2)\n",
            "Collecting cloudpickle>=1.5.0\n",
            "  Downloading cloudpickle-1.6.0-py3-none-any.whl (23 kB)\n",
            "Requirement already satisfied: click>=6.6 in /usr/local/lib/python3.7/dist-packages (from distributed>=2.6.0->autogluon.core==0.2.0->autogluon) (7.1.2)\n",
            "Requirement already satisfied: zict>=0.1.3 in /usr/local/lib/python3.7/dist-packages (from distributed>=2.6.0->autogluon.core==0.2.0->autogluon) (2.0.0)\n",
            "Collecting dask>=2.6.0\n",
            "  Downloading dask-2021.7.0-py3-none-any.whl (977 kB)\n",
            "\u001b[K     |████████████████████████████████| 977 kB 71.8 MB/s \n",
            "\u001b[?25hRequirement already satisfied: sortedcontainers!=2.0.0,!=2.0.1 in /usr/local/lib/python3.7/dist-packages (from distributed>=2.6.0->autogluon.core==0.2.0->autogluon) (2.4.0)\n",
            "Requirement already satisfied: tblib>=1.6.0 in /usr/local/lib/python3.7/dist-packages (from distributed>=2.6.0->autogluon.core==0.2.0->autogluon) (1.7.0)\n",
            "Requirement already satisfied: toolz>=0.8.2 in /usr/local/lib/python3.7/dist-packages (from distributed>=2.6.0->autogluon.core==0.2.0->autogluon) (0.11.1)\n",
            "Requirement already satisfied: setuptools in /usr/local/lib/python3.7/dist-packages (from distributed>=2.6.0->autogluon.core==0.2.0->autogluon) (57.1.0)\n",
            "Collecting partd>=0.3.10\n",
            "  Downloading partd-1.2.0-py3-none-any.whl (19 kB)\n",
            "Collecting fsspec>=0.6.0\n",
            "  Downloading fsspec-2021.6.1-py3-none-any.whl (115 kB)\n",
            "\u001b[K     |████████████████████████████████| 115 kB 75.1 MB/s \n",
            "\u001b[?25hCollecting fastcore<1.4,>=1.3.8\n",
            "  Downloading fastcore-1.3.20-py3-none-any.whl (53 kB)\n",
            "\u001b[K     |████████████████████████████████| 53 kB 2.8 MB/s \n",
            "\u001b[?25hRequirement already satisfied: packaging in /usr/local/lib/python3.7/dist-packages (from fastai<3.0,>=2.0->autogluon.tabular[all]==0.2.0->autogluon) (20.9)\n",
            "Requirement already satisfied: torchvision>=0.8.2 in /usr/local/lib/python3.7/dist-packages (from fastai<3.0,>=2.0->autogluon.tabular[all]==0.2.0->autogluon) (0.10.0+cu102)\n",
            "Requirement already satisfied: pip in /usr/local/lib/python3.7/dist-packages (from fastai<3.0,>=2.0->autogluon.tabular[all]==0.2.0->autogluon) (21.1.3)\n",
            "Requirement already satisfied: fastprogress>=0.2.4 in /usr/local/lib/python3.7/dist-packages (from fastai<3.0,>=2.0->autogluon.tabular[all]==0.2.0->autogluon) (1.0.0)\n",
            "Requirement already satisfied: spacy<4 in /usr/local/lib/python3.7/dist-packages (from fastai<3.0,>=2.0->autogluon.tabular[all]==0.2.0->autogluon) (2.2.4)\n",
            "Requirement already satisfied: opencv-python in /usr/local/lib/python3.7/dist-packages (from gluoncv<0.11,>=0.10.1.post0->autogluon.extra==0.2.0->autogluon) (4.1.2.30)\n",
            "Collecting autocfg\n",
            "  Downloading autocfg-0.0.8-py3-none-any.whl (13 kB)\n",
            "Collecting portalocker\n",
            "  Downloading portalocker-2.3.0-py2.py3-none-any.whl (15 kB)\n",
            "Requirement already satisfied: wheel in /usr/local/lib/python3.7/dist-packages (from lightgbm<4.0,>=3.0->autogluon.tabular[all]==0.2.0->autogluon) (0.36.2)\n",
            "Requirement already satisfied: decorator<5,>=4.3 in /usr/local/lib/python3.7/dist-packages (from networkx<3.0,>=2.3->autogluon.tabular[all]==0.2.0->autogluon) (4.4.2)\n",
            "Requirement already satisfied: pytz>=2017.2 in /usr/local/lib/python3.7/dist-packages (from pandas<2.0,>=1.0.0->autogluon.core==0.2.0->autogluon) (2018.9)\n",
            "Requirement already satisfied: python-dateutil>=2.7.3 in /usr/local/lib/python3.7/dist-packages (from pandas<2.0,>=1.0.0->autogluon.core==0.2.0->autogluon) (2.8.1)\n",
            "Collecting cryptography>=2.5\n",
            "  Downloading cryptography-3.4.7-cp36-abi3-manylinux2014_x86_64.whl (3.2 MB)\n",
            "\u001b[K     |████████████████████████████████| 3.2 MB 24.7 MB/s \n",
            "\u001b[?25hCollecting bcrypt>=3.1.3\n",
            "  Downloading bcrypt-3.2.0-cp36-abi3-manylinux2010_x86_64.whl (63 kB)\n",
            "\u001b[K     |████████████████████████████████| 63 kB 3.0 MB/s \n",
            "\u001b[?25hCollecting pynacl>=1.0.1\n",
            "  Downloading PyNaCl-1.4.0-cp35-abi3-manylinux1_x86_64.whl (961 kB)\n",
            "\u001b[K     |████████████████████████████████| 961 kB 55.6 MB/s \n",
            "\u001b[?25hRequirement already satisfied: cffi>=1.1 in /usr/local/lib/python3.7/dist-packages (from bcrypt>=3.1.3->paramiko>=2.4->autogluon.core==0.2.0->autogluon) (1.14.5)\n",
            "Requirement already satisfied: pycparser in /usr/local/lib/python3.7/dist-packages (from cffi>=1.1->bcrypt>=3.1.3->paramiko>=2.4->autogluon.core==0.2.0->autogluon) (2.20)\n",
            "Collecting locket\n",
            "  Downloading locket-0.2.1-py2.py3-none-any.whl (4.1 kB)\n",
            "Requirement already satisfied: joblib in /usr/local/lib/python3.7/dist-packages (from sacremoses>=0.0.38->autogluon-contrib-nlp==0.0.1b20210201->autogluon.text==0.2.0->autogluon) (1.0.1)\n",
            "Collecting threadpoolctl>=2.0.0\n",
            "  Downloading threadpoolctl-2.2.0-py3-none-any.whl (12 kB)\n",
            "Requirement already satisfied: cymem<2.1.0,>=2.0.2 in /usr/local/lib/python3.7/dist-packages (from spacy<4->fastai<3.0,>=2.0->autogluon.tabular[all]==0.2.0->autogluon) (2.0.5)\n",
            "Requirement already satisfied: preshed<3.1.0,>=3.0.2 in /usr/local/lib/python3.7/dist-packages (from spacy<4->fastai<3.0,>=2.0->autogluon.tabular[all]==0.2.0->autogluon) (3.0.5)\n",
            "Requirement already satisfied: srsly<1.1.0,>=1.0.2 in /usr/local/lib/python3.7/dist-packages (from spacy<4->fastai<3.0,>=2.0->autogluon.tabular[all]==0.2.0->autogluon) (1.0.5)\n",
            "Requirement already satisfied: plac<1.2.0,>=0.9.6 in /usr/local/lib/python3.7/dist-packages (from spacy<4->fastai<3.0,>=2.0->autogluon.tabular[all]==0.2.0->autogluon) (1.1.3)\n",
            "Requirement already satisfied: wasabi<1.1.0,>=0.4.0 in /usr/local/lib/python3.7/dist-packages (from spacy<4->fastai<3.0,>=2.0->autogluon.tabular[all]==0.2.0->autogluon) (0.8.2)\n",
            "Requirement already satisfied: thinc==7.4.0 in /usr/local/lib/python3.7/dist-packages (from spacy<4->fastai<3.0,>=2.0->autogluon.tabular[all]==0.2.0->autogluon) (7.4.0)\n",
            "Requirement already satisfied: catalogue<1.1.0,>=0.0.7 in /usr/local/lib/python3.7/dist-packages (from spacy<4->fastai<3.0,>=2.0->autogluon.tabular[all]==0.2.0->autogluon) (1.0.0)\n",
            "Requirement already satisfied: blis<0.5.0,>=0.4.0 in /usr/local/lib/python3.7/dist-packages (from spacy<4->fastai<3.0,>=2.0->autogluon.tabular[all]==0.2.0->autogluon) (0.4.1)\n",
            "Requirement already satisfied: murmurhash<1.1.0,>=0.28.0 in /usr/local/lib/python3.7/dist-packages (from spacy<4->fastai<3.0,>=2.0->autogluon.tabular[all]==0.2.0->autogluon) (1.0.5)\n",
            "Requirement already satisfied: importlib-metadata>=0.20 in /usr/local/lib/python3.7/dist-packages (from catalogue<1.1.0,>=0.0.7->spacy<4->fastai<3.0,>=2.0->autogluon.tabular[all]==0.2.0->autogluon) (4.6.0)\n",
            "Requirement already satisfied: zipp>=0.5 in /usr/local/lib/python3.7/dist-packages (from importlib-metadata>=0.20->catalogue<1.1.0,>=0.0.7->spacy<4->fastai<3.0,>=2.0->autogluon.tabular[all]==0.2.0->autogluon) (3.4.1)\n",
            "Requirement already satisfied: typing-extensions>=3.6.4 in /usr/local/lib/python3.7/dist-packages (from importlib-metadata>=0.20->catalogue<1.1.0,>=0.0.7->spacy<4->fastai<3.0,>=2.0->autogluon.tabular[all]==0.2.0->autogluon) (3.7.4.3)\n",
            "Requirement already satisfied: idna<3,>=2.5 in /usr/local/lib/python3.7/dist-packages (from requests->autogluon.core==0.2.0->autogluon) (2.10)\n",
            "Requirement already satisfied: chardet<4,>=3.0.2 in /usr/local/lib/python3.7/dist-packages (from requests->autogluon.core==0.2.0->autogluon) (3.0.4)\n",
            "Requirement already satisfied: certifi>=2017.4.17 in /usr/local/lib/python3.7/dist-packages (from requests->autogluon.core==0.2.0->autogluon) (2021.5.30)\n",
            "Requirement already satisfied: urllib3!=1.25.0,!=1.25.1,<1.26,>=1.21.1 in /usr/local/lib/python3.7/dist-packages (from requests->autogluon.core==0.2.0->autogluon) (1.24.3)\n",
            "Requirement already satisfied: heapdict in /usr/local/lib/python3.7/dist-packages (from zict>=0.1.3->distributed>=2.6.0->autogluon.core==0.2.0->autogluon) (1.0.1)\n",
            "Collecting s3transfer<0.5.0,>=0.4.0\n",
            "  Downloading s3transfer-0.4.2-py2.py3-none-any.whl (79 kB)\n",
            "\u001b[K     |████████████████████████████████| 79 kB 9.5 MB/s \n",
            "\u001b[?25hCollecting botocore<1.21.0,>=1.20.109\n",
            "  Downloading botocore-1.20.109-py2.py3-none-any.whl (7.7 MB)\n",
            "\u001b[K     |████████████████████████████████| 7.7 MB 69.6 MB/s \n",
            "\u001b[?25hCollecting jmespath<1.0.0,>=0.7.1\n",
            "  Downloading jmespath-0.10.0-py2.py3-none-any.whl (24 kB)\n",
            "Collecting urllib3!=1.25.0,!=1.25.1,<1.26,>=1.21.1\n",
            "  Downloading urllib3-1.25.11-py2.py3-none-any.whl (127 kB)\n",
            "\u001b[K     |████████████████████████████████| 127 kB 75.1 MB/s \n",
            "\u001b[?25hCollecting immutables>=0.9\n",
            "  Downloading immutables-0.15-cp37-cp37m-manylinux1_x86_64.whl (101 kB)\n",
            "\u001b[K     |████████████████████████████████| 101 kB 14.0 MB/s \n",
            "\u001b[?25hCollecting pycodestyle<2.8.0,>=2.7.0\n",
            "  Downloading pycodestyle-2.7.0-py2.py3-none-any.whl (41 kB)\n",
            "\u001b[K     |████████████████████████████████| 41 kB 811 kB/s \n",
            "\u001b[?25hCollecting pyflakes<2.4.0,>=2.3.0\n",
            "  Downloading pyflakes-2.3.1-py2.py3-none-any.whl (68 kB)\n",
            "\u001b[K     |████████████████████████████████| 68 kB 8.6 MB/s \n",
            "\u001b[?25hCollecting mccabe<0.7.0,>=0.6.0\n",
            "  Downloading mccabe-0.6.1-py2.py3-none-any.whl (8.6 kB)\n",
            "Requirement already satisfied: python-slugify in /usr/local/lib/python3.7/dist-packages (from kaggle->d8<1.0,>=0.0.2->autogluon.vision==0.2.0->autogluon) (5.0.2)\n",
            "Requirement already satisfied: kiwisolver>=1.0.1 in /usr/local/lib/python3.7/dist-packages (from matplotlib->autogluon.core==0.2.0->autogluon) (1.3.1)\n",
            "Requirement already satisfied: cycler>=0.10 in /usr/local/lib/python3.7/dist-packages (from matplotlib->autogluon.core==0.2.0->autogluon) (0.10.0)\n",
            "Collecting liac-arff>=2.4.0\n",
            "  Downloading liac-arff-2.5.0.tar.gz (13 kB)\n",
            "Collecting xmltodict\n",
            "  Downloading xmltodict-0.12.0-py2.py3-none-any.whl (9.2 kB)\n",
            "Collecting minio\n",
            "  Downloading minio-7.1.0-py3-none-any.whl (75 kB)\n",
            "\u001b[K     |████████████████████████████████| 75 kB 5.8 MB/s \n",
            "\u001b[?25hRequirement already satisfied: retrying>=1.3.3 in /usr/local/lib/python3.7/dist-packages (from plotly->catboost<0.26,>=0.24.0->autogluon.tabular[all]==0.2.0->autogluon) (1.3.3)\n",
            "Requirement already satisfied: more-itertools>=4.0.0 in /usr/local/lib/python3.7/dist-packages (from pytest->autogluon.extra==0.2.0->autogluon) (8.8.0)\n",
            "Requirement already satisfied: attrs>=17.4.0 in /usr/local/lib/python3.7/dist-packages (from pytest->autogluon.extra==0.2.0->autogluon) (21.2.0)\n",
            "Requirement already satisfied: atomicwrites>=1.0 in /usr/local/lib/python3.7/dist-packages (from pytest->autogluon.extra==0.2.0->autogluon) (1.4.0)\n",
            "Requirement already satisfied: py>=1.5.0 in /usr/local/lib/python3.7/dist-packages (from pytest->autogluon.extra==0.2.0->autogluon) (1.10.0)\n",
            "Requirement already satisfied: pluggy<0.8,>=0.5 in /usr/local/lib/python3.7/dist-packages (from pytest->autogluon.extra==0.2.0->autogluon) (0.7.1)\n",
            "Requirement already satisfied: text-unidecode>=1.3 in /usr/local/lib/python3.7/dist-packages (from python-slugify->kaggle->d8<1.0,>=0.0.2->autogluon.vision==0.2.0->autogluon) (1.3)\n",
            "Collecting portalocker\n",
            "  Downloading portalocker-2.0.0-py2.py3-none-any.whl (11 kB)\n",
            "Building wheels for collected packages: ConfigSpace, contextvars, openml, liac-arff\n",
            "  Building wheel for ConfigSpace (PEP 517) ... \u001b[?25l\u001b[?25hdone\n",
            "  Created wheel for ConfigSpace: filename=ConfigSpace-0.4.18-cp37-cp37m-linux_x86_64.whl size=2879977 sha256=24c11a2e1d7f46ec5626c796c03b6b0b2d71311e8454f0ad7042beaff69da5d9\n",
            "  Stored in directory: /root/.cache/pip/wheels/36/f7/0f/36f368c419ea1a8024fc3d6c078c3111dfef43fa1d14cfebe0\n",
            "  Building wheel for contextvars (setup.py) ... \u001b[?25l\u001b[?25hdone\n",
            "  Created wheel for contextvars: filename=contextvars-2.4-py3-none-any.whl size=7680 sha256=43fe8991035a494d8bfaf1c4ce8811383e3bd71b15e08fee4f4367b8f16dd3b6\n",
            "  Stored in directory: /root/.cache/pip/wheels/0a/11/79/e70e668095c0bb1f94718af672ef2d35ee7a023fee56ef54d9\n",
            "  Building wheel for openml (setup.py) ... \u001b[?25l\u001b[?25hdone\n",
            "  Created wheel for openml: filename=openml-0.12.2-py3-none-any.whl size=137326 sha256=11bba6b4de286d9e3d1f05ae6735064f2f53fb23b3a17353a897407d591166ef\n",
            "  Stored in directory: /root/.cache/pip/wheels/6a/20/88/cf4ac86aa18e2cd647ed16ebe274a5dacee9d0075fa02af250\n",
            "  Building wheel for liac-arff (setup.py) ... \u001b[?25l\u001b[?25hdone\n",
            "  Created wheel for liac-arff: filename=liac_arff-2.5.0-py3-none-any.whl size=11730 sha256=20fcd0f3507ad790be0b32a4557ed5b5137c311bf38ea1d5efb45232684aedfd\n",
            "  Stored in directory: /root/.cache/pip/wheels/1f/0f/15/332ca86cbebf25ddf98518caaf887945fbe1712b97a0f2493b\n",
            "Successfully built ConfigSpace contextvars openml liac-arff\n",
            "Installing collected packages: urllib3, locket, jmespath, partd, fsspec, cloudpickle, botocore, threadpoolctl, scipy, s3transfer, pynacl, psutil, dask, cryptography, bcrypt, scikit-learn, paramiko, distributed, dill, ConfigSpace, boto3, xmltodict, pyflakes, pycodestyle, portalocker, minio, mccabe, liac-arff, immutables, autogluon.core, yacs, xxhash, tokenizers, sentencepiece, sacremoses, sacrebleu, openml, flake8, fastcore, contextvars, autogluon.features, autocfg, xgboost, lightgbm, gluoncv, fastai, d8, catboost, autogluon.tabular, autogluon.mxnet, autogluon-contrib-nlp, autogluon.vision, autogluon.text, autogluon.extra, autogluon\n",
            "  Attempting uninstall: urllib3\n",
            "    Found existing installation: urllib3 1.24.3\n",
            "    Uninstalling urllib3-1.24.3:\n",
            "      Successfully uninstalled urllib3-1.24.3\n",
            "  Attempting uninstall: cloudpickle\n",
            "    Found existing installation: cloudpickle 1.3.0\n",
            "    Uninstalling cloudpickle-1.3.0:\n",
            "      Successfully uninstalled cloudpickle-1.3.0\n",
            "  Attempting uninstall: scipy\n",
            "    Found existing installation: scipy 1.4.1\n",
            "    Uninstalling scipy-1.4.1:\n",
            "      Successfully uninstalled scipy-1.4.1\n",
            "  Attempting uninstall: psutil\n",
            "    Found existing installation: psutil 5.4.8\n",
            "    Uninstalling psutil-5.4.8:\n",
            "      Successfully uninstalled psutil-5.4.8\n",
            "  Attempting uninstall: dask\n",
            "    Found existing installation: dask 2.12.0\n",
            "    Uninstalling dask-2.12.0:\n",
            "      Successfully uninstalled dask-2.12.0\n",
            "  Attempting uninstall: scikit-learn\n",
            "    Found existing installation: scikit-learn 0.22.2.post1\n",
            "    Uninstalling scikit-learn-0.22.2.post1:\n",
            "      Successfully uninstalled scikit-learn-0.22.2.post1\n",
            "  Attempting uninstall: distributed\n",
            "    Found existing installation: distributed 1.25.3\n",
            "    Uninstalling distributed-1.25.3:\n",
            "      Successfully uninstalled distributed-1.25.3\n",
            "  Attempting uninstall: dill\n",
            "    Found existing installation: dill 0.3.4\n",
            "    Uninstalling dill-0.3.4:\n",
            "      Successfully uninstalled dill-0.3.4\n",
            "  Attempting uninstall: xgboost\n",
            "    Found existing installation: xgboost 0.90\n",
            "    Uninstalling xgboost-0.90:\n",
            "      Successfully uninstalled xgboost-0.90\n",
            "  Attempting uninstall: lightgbm\n",
            "    Found existing installation: lightgbm 2.2.3\n",
            "    Uninstalling lightgbm-2.2.3:\n",
            "      Successfully uninstalled lightgbm-2.2.3\n",
            "  Attempting uninstall: fastai\n",
            "    Found existing installation: fastai 1.0.61\n",
            "    Uninstalling fastai-1.0.61:\n",
            "      Successfully uninstalled fastai-1.0.61\n",
            "\u001b[31mERROR: pip's dependency resolver does not currently take into account all the packages that are installed. This behaviour is the source of the following dependency conflicts.\n",
            "multiprocess 0.70.12.2 requires dill>=0.3.4, but you have dill 0.3.3 which is incompatible.\n",
            "datascience 0.10.6 requires folium==0.2.1, but you have folium 0.8.3 which is incompatible.\n",
            "albumentations 0.1.12 requires imgaug<0.2.7,>=0.2.5, but you have imgaug 0.2.9 which is incompatible.\u001b[0m\n",
            "Successfully installed ConfigSpace-0.4.18 autocfg-0.0.8 autogluon-0.2.0 autogluon-contrib-nlp-0.0.1b20210201 autogluon.core-0.2.0 autogluon.extra-0.2.0 autogluon.features-0.2.0 autogluon.mxnet-0.2.0 autogluon.tabular-0.2.0 autogluon.text-0.2.0 autogluon.vision-0.2.0 bcrypt-3.2.0 boto3-1.17.109 botocore-1.20.109 catboost-0.25.1 cloudpickle-1.6.0 contextvars-2.4 cryptography-3.4.7 d8-0.0.2.post0 dask-2021.7.0 dill-0.3.3 distributed-2021.7.0 fastai-2.4 fastcore-1.3.20 flake8-3.9.2 fsspec-2021.6.1 gluoncv-0.10.3 immutables-0.15 jmespath-0.10.0 liac-arff-2.5.0 lightgbm-3.2.1 locket-0.2.1 mccabe-0.6.1 minio-7.1.0 openml-0.12.2 paramiko-2.7.2 partd-1.2.0 portalocker-2.0.0 psutil-5.8.0 pycodestyle-2.7.0 pyflakes-2.3.1 pynacl-1.4.0 s3transfer-0.4.2 sacrebleu-1.5.1 sacremoses-0.0.45 scikit-learn-0.24.2 scipy-1.6.3 sentencepiece-0.1.95 threadpoolctl-2.2.0 tokenizers-0.9.4 urllib3-1.25.11 xgboost-1.3.3 xmltodict-0.12.0 xxhash-2.0.2 yacs-0.1.8\n",
            "\u001b[33mWARNING: Running pip as the 'root' user can result in broken permissions and conflicting behaviour with the system package manager. It is recommended to use a virtual environment instead: https://pip.pypa.io/warnings/venv\u001b[0m\n"
          ],
          "name": "stdout"
        }
      ]
    },
    {
      "cell_type": "code",
      "metadata": {
        "id": "AqxNukO2IoDg"
      },
      "source": [
        "import autogluon.core as ag"
      ],
      "execution_count": 7,
      "outputs": []
    },
    {
      "cell_type": "markdown",
      "metadata": {
        "id": "avXcNR4bsS7x"
      },
      "source": [
        "# imported autogluon"
      ]
    },
    {
      "cell_type": "markdown",
      "metadata": {
        "id": "ly4tR5uqXgNt"
      },
      "source": [
        "Installed All required installations "
      ]
    },
    {
      "cell_type": "code",
      "metadata": {
        "id": "kw35POKoah7F"
      },
      "source": [
        "from autogluon.tabular import TabularPredictor as task"
      ],
      "execution_count": 8,
      "outputs": []
    },
    {
      "cell_type": "code",
      "metadata": {
        "id": "2fA5fr33btu0"
      },
      "source": [
        "import numpy as np"
      ],
      "execution_count": 9,
      "outputs": []
    },
    {
      "cell_type": "code",
      "metadata": {
        "id": "-1jeyzrKcBUz"
      },
      "source": [
        "import pandas as pd"
      ],
      "execution_count": 10,
      "outputs": []
    },
    {
      "cell_type": "markdown",
      "metadata": {
        "id": "YC00XllzsYtZ"
      },
      "source": [
        "#mount to drive to access csv file"
      ]
    },
    {
      "cell_type": "code",
      "metadata": {
        "id": "xX-bszK3iyKg"
      },
      "source": [
        "from google.colab import drive\n",
        "drive.mount('/content/drive')"
      ],
      "execution_count": null,
      "outputs": []
    },
    {
      "cell_type": "code",
      "metadata": {
        "id": "Wz_MRBgcji0v"
      },
      "source": [
        "PATH = \"/content/drive/MyDrive/Colab Notebooks/nfldata6.csv\""
      ],
      "execution_count": 12,
      "outputs": []
    },
    {
      "cell_type": "markdown",
      "metadata": {
        "id": "_E1xl8m1sfCK"
      },
      "source": [
        "# Load data to DataFrame"
      ]
    },
    {
      "cell_type": "code",
      "metadata": {
        "colab": {
          "base_uri": "https://localhost:8080/",
          "height": 226
        },
        "id": "2h1oTnUjkYP_",
        "outputId": "690852ee-1c2a-4245-c45d-22c80f2a6839"
      },
      "source": [
        "\n",
        "data = pd.read_csv(PATH)\n",
        "\n",
        "data.head()"
      ],
      "execution_count": 13,
      "outputs": [
        {
          "output_type": "execute_result",
          "data": {
            "text/html": [
              "<div>\n",
              "<style scoped>\n",
              "    .dataframe tbody tr th:only-of-type {\n",
              "        vertical-align: middle;\n",
              "    }\n",
              "\n",
              "    .dataframe tbody tr th {\n",
              "        vertical-align: top;\n",
              "    }\n",
              "\n",
              "    .dataframe thead th {\n",
              "        text-align: right;\n",
              "    }\n",
              "</style>\n",
              "<table border=\"1\" class=\"dataframe\">\n",
              "  <thead>\n",
              "    <tr style=\"text-align: right;\">\n",
              "      <th></th>\n",
              "      <th>_c0</th>\n",
              "      <th>Date(IST)</th>\n",
              "      <th>NFO</th>\n",
              "      <th>NFH</th>\n",
              "      <th>NFL</th>\n",
              "      <th>NFC</th>\n",
              "      <th>FIIB</th>\n",
              "      <th>FIIS</th>\n",
              "      <th>FIIN</th>\n",
              "      <th>DIIB</th>\n",
              "      <th>DIIS</th>\n",
              "      <th>DIIN</th>\n",
              "      <th>August</th>\n",
              "      <th>December</th>\n",
              "      <th>CAD</th>\n",
              "      <th>DAD</th>\n",
              "      <th>DOD</th>\n",
              "      <th>NDAD</th>\n",
              "      <th>Currey</th>\n",
              "      <th>Flow</th>\n",
              "      <th>Shine</th>\n",
              "      <th>Vega</th>\n",
              "    </tr>\n",
              "  </thead>\n",
              "  <tbody>\n",
              "    <tr>\n",
              "      <th>0</th>\n",
              "      <td>1</td>\n",
              "      <td>2020-01-02</td>\n",
              "      <td>12115.673242</td>\n",
              "      <td>12177.119957</td>\n",
              "      <td>12151.571552</td>\n",
              "      <td>12216.272367</td>\n",
              "      <td>2670.78</td>\n",
              "      <td>1982.02</td>\n",
              "      <td>688.76</td>\n",
              "      <td>3490.16</td>\n",
              "      <td>3426.21</td>\n",
              "      <td>63.95</td>\n",
              "      <td>1356.0</td>\n",
              "      <td>482.0</td>\n",
              "      <td>-0.01</td>\n",
              "      <td>0.397</td>\n",
              "      <td>-0.98</td>\n",
              "      <td>0.72</td>\n",
              "      <td>-0.0520</td>\n",
              "      <td>0.0399</td>\n",
              "      <td>-0.10</td>\n",
              "      <td>-1.309999</td>\n",
              "    </tr>\n",
              "    <tr>\n",
              "      <th>1</th>\n",
              "      <td>2</td>\n",
              "      <td>2020-01-03</td>\n",
              "      <td>12195.406448</td>\n",
              "      <td>12275.487382</td>\n",
              "      <td>12173.355954</td>\n",
              "      <td>12251.196928</td>\n",
              "      <td>4514.35</td>\n",
              "      <td>3251.30</td>\n",
              "      <td>1263.05</td>\n",
              "      <td>2750.87</td>\n",
              "      <td>3780.07</td>\n",
              "      <td>-1029.20</td>\n",
              "      <td>879.0</td>\n",
              "      <td>973.0</td>\n",
              "      <td>-0.23</td>\n",
              "      <td>-0.510</td>\n",
              "      <td>-1.33</td>\n",
              "      <td>0.46</td>\n",
              "      <td>0.4430</td>\n",
              "      <td>0.5648</td>\n",
              "      <td>0.08</td>\n",
              "      <td>1.550000</td>\n",
              "    </tr>\n",
              "    <tr>\n",
              "      <th>2</th>\n",
              "      <td>3</td>\n",
              "      <td>2020-01-06</td>\n",
              "      <td>12272.929018</td>\n",
              "      <td>12299.127043</td>\n",
              "      <td>12181.887534</td>\n",
              "      <td>12228.903255</td>\n",
              "      <td>3732.00</td>\n",
              "      <td>3835.84</td>\n",
              "      <td>-103.84</td>\n",
              "      <td>3778.78</td>\n",
              "      <td>3802.48</td>\n",
              "      <td>-23.70</td>\n",
              "      <td>360.0</td>\n",
              "      <td>1502.0</td>\n",
              "      <td>-0.17</td>\n",
              "      <td>0.015</td>\n",
              "      <td>-0.21</td>\n",
              "      <td>-0.07</td>\n",
              "      <td>0.0877</td>\n",
              "      <td>-0.0690</td>\n",
              "      <td>-0.18</td>\n",
              "      <td>-0.170000</td>\n",
              "    </tr>\n",
              "    <tr>\n",
              "      <th>3</th>\n",
              "      <td>4</td>\n",
              "      <td>2020-01-07</td>\n",
              "      <td>12237.309351</td>\n",
              "      <td>12242.227141</td>\n",
              "      <td>12030.371144</td>\n",
              "      <td>12051.960005</td>\n",
              "      <td>3911.17</td>\n",
              "      <td>4593.40</td>\n",
              "      <td>-682.23</td>\n",
              "      <td>4205.16</td>\n",
              "      <td>3893.97</td>\n",
              "      <td>311.19</td>\n",
              "      <td>1248.0</td>\n",
              "      <td>578.0</td>\n",
              "      <td>-0.21</td>\n",
              "      <td>-0.050</td>\n",
              "      <td>-0.02</td>\n",
              "      <td>-1.79</td>\n",
              "      <td>-0.0437</td>\n",
              "      <td>-0.0208</td>\n",
              "      <td>0.08</td>\n",
              "      <td>-0.060000</td>\n",
              "    </tr>\n",
              "    <tr>\n",
              "      <th>4</th>\n",
              "      <td>5</td>\n",
              "      <td>2020-01-08</td>\n",
              "      <td>12149.137851</td>\n",
              "      <td>12192.474725</td>\n",
              "      <td>11985.555622</td>\n",
              "      <td>12017.343536</td>\n",
              "      <td>4109.04</td>\n",
              "      <td>4624.89</td>\n",
              "      <td>-515.85</td>\n",
              "      <td>5162.02</td>\n",
              "      <td>4413.62</td>\n",
              "      <td>748.40</td>\n",
              "      <td>725.0</td>\n",
              "      <td>1109.0</td>\n",
              "      <td>0.56</td>\n",
              "      <td>0.305</td>\n",
              "      <td>0.54</td>\n",
              "      <td>-0.59</td>\n",
              "      <td>-0.2980</td>\n",
              "      <td>-0.6992</td>\n",
              "      <td>-0.65</td>\n",
              "      <td>-0.340000</td>\n",
              "    </tr>\n",
              "  </tbody>\n",
              "</table>\n",
              "</div>"
            ],
            "text/plain": [
              "   _c0   Date(IST)           NFO           NFH  ...  Currey    Flow  Shine      Vega\n",
              "0    1  2020-01-02  12115.673242  12177.119957  ... -0.0520  0.0399  -0.10 -1.309999\n",
              "1    2  2020-01-03  12195.406448  12275.487382  ...  0.4430  0.5648   0.08  1.550000\n",
              "2    3  2020-01-06  12272.929018  12299.127043  ...  0.0877 -0.0690  -0.18 -0.170000\n",
              "3    4  2020-01-07  12237.309351  12242.227141  ... -0.0437 -0.0208   0.08 -0.060000\n",
              "4    5  2020-01-08  12149.137851  12192.474725  ... -0.2980 -0.6992  -0.65 -0.340000\n",
              "\n",
              "[5 rows x 22 columns]"
            ]
          },
          "metadata": {
            "tags": []
          },
          "execution_count": 13
        }
      ]
    },
    {
      "cell_type": "code",
      "metadata": {
        "colab": {
          "base_uri": "https://localhost:8080/"
        },
        "id": "XidfvSwfvypG",
        "outputId": "c3825a53-e470-4527-bfe1-b1f5e77aca92"
      },
      "source": [
        "data.columns"
      ],
      "execution_count": 14,
      "outputs": [
        {
          "output_type": "execute_result",
          "data": {
            "text/plain": [
              "Index(['_c0', 'Date(IST)', 'NFO', 'NFH', 'NFL', 'NFC', 'FIIB', 'FIIS', 'FIIN',\n",
              "       'DIIB', 'DIIS', 'DIIN', 'August', 'December', 'CAD', 'DAD', 'DOD',\n",
              "       'NDAD', 'Currey', 'Flow', 'Shine', 'Vega'],\n",
              "      dtype='object')"
            ]
          },
          "metadata": {
            "tags": []
          },
          "execution_count": 14
        }
      ]
    },
    {
      "cell_type": "code",
      "metadata": {
        "id": "zV4poC4sz-f5"
      },
      "source": [
        "data = data.drop(['_c0','Date(IST)'],axis=1)"
      ],
      "execution_count": 15,
      "outputs": []
    },
    {
      "cell_type": "markdown",
      "metadata": {
        "id": "TJRRCl0DYqAb"
      },
      "source": [
        "#Dividing Dataset to 70% train and 30% test"
      ]
    },
    {
      "cell_type": "code",
      "metadata": {
        "id": "o9Flkw1IkdoC"
      },
      "source": [
        "size = int(0.7*data.shape[0])\n",
        "train_df = data[:size]\n",
        "test_df = data[size:]"
      ],
      "execution_count": 16,
      "outputs": []
    },
    {
      "cell_type": "markdown",
      "metadata": {
        "id": "YOMiZEDTY6SW"
      },
      "source": [
        ""
      ]
    },
    {
      "cell_type": "code",
      "metadata": {
        "colab": {
          "base_uri": "https://localhost:8080/",
          "height": 226
        },
        "id": "NLr11_-7vpXv",
        "outputId": "e135c991-4edd-4a9f-fd7f-f10ead397b5b"
      },
      "source": [
        "train_df.head()"
      ],
      "execution_count": 17,
      "outputs": [
        {
          "output_type": "execute_result",
          "data": {
            "text/html": [
              "<div>\n",
              "<style scoped>\n",
              "    .dataframe tbody tr th:only-of-type {\n",
              "        vertical-align: middle;\n",
              "    }\n",
              "\n",
              "    .dataframe tbody tr th {\n",
              "        vertical-align: top;\n",
              "    }\n",
              "\n",
              "    .dataframe thead th {\n",
              "        text-align: right;\n",
              "    }\n",
              "</style>\n",
              "<table border=\"1\" class=\"dataframe\">\n",
              "  <thead>\n",
              "    <tr style=\"text-align: right;\">\n",
              "      <th></th>\n",
              "      <th>NFO</th>\n",
              "      <th>NFH</th>\n",
              "      <th>NFL</th>\n",
              "      <th>NFC</th>\n",
              "      <th>FIIB</th>\n",
              "      <th>FIIS</th>\n",
              "      <th>FIIN</th>\n",
              "      <th>DIIB</th>\n",
              "      <th>DIIS</th>\n",
              "      <th>DIIN</th>\n",
              "      <th>August</th>\n",
              "      <th>December</th>\n",
              "      <th>CAD</th>\n",
              "      <th>DAD</th>\n",
              "      <th>DOD</th>\n",
              "      <th>NDAD</th>\n",
              "      <th>Currey</th>\n",
              "      <th>Flow</th>\n",
              "      <th>Shine</th>\n",
              "      <th>Vega</th>\n",
              "    </tr>\n",
              "  </thead>\n",
              "  <tbody>\n",
              "    <tr>\n",
              "      <th>0</th>\n",
              "      <td>12115.673242</td>\n",
              "      <td>12177.119957</td>\n",
              "      <td>12151.571552</td>\n",
              "      <td>12216.272367</td>\n",
              "      <td>2670.78</td>\n",
              "      <td>1982.02</td>\n",
              "      <td>688.76</td>\n",
              "      <td>3490.16</td>\n",
              "      <td>3426.21</td>\n",
              "      <td>63.95</td>\n",
              "      <td>1356.0</td>\n",
              "      <td>482.0</td>\n",
              "      <td>-0.01</td>\n",
              "      <td>0.397</td>\n",
              "      <td>-0.98</td>\n",
              "      <td>0.72</td>\n",
              "      <td>-0.0520</td>\n",
              "      <td>0.0399</td>\n",
              "      <td>-0.10</td>\n",
              "      <td>-1.309999</td>\n",
              "    </tr>\n",
              "    <tr>\n",
              "      <th>1</th>\n",
              "      <td>12195.406448</td>\n",
              "      <td>12275.487382</td>\n",
              "      <td>12173.355954</td>\n",
              "      <td>12251.196928</td>\n",
              "      <td>4514.35</td>\n",
              "      <td>3251.30</td>\n",
              "      <td>1263.05</td>\n",
              "      <td>2750.87</td>\n",
              "      <td>3780.07</td>\n",
              "      <td>-1029.20</td>\n",
              "      <td>879.0</td>\n",
              "      <td>973.0</td>\n",
              "      <td>-0.23</td>\n",
              "      <td>-0.510</td>\n",
              "      <td>-1.33</td>\n",
              "      <td>0.46</td>\n",
              "      <td>0.4430</td>\n",
              "      <td>0.5648</td>\n",
              "      <td>0.08</td>\n",
              "      <td>1.550000</td>\n",
              "    </tr>\n",
              "    <tr>\n",
              "      <th>2</th>\n",
              "      <td>12272.929018</td>\n",
              "      <td>12299.127043</td>\n",
              "      <td>12181.887534</td>\n",
              "      <td>12228.903255</td>\n",
              "      <td>3732.00</td>\n",
              "      <td>3835.84</td>\n",
              "      <td>-103.84</td>\n",
              "      <td>3778.78</td>\n",
              "      <td>3802.48</td>\n",
              "      <td>-23.70</td>\n",
              "      <td>360.0</td>\n",
              "      <td>1502.0</td>\n",
              "      <td>-0.17</td>\n",
              "      <td>0.015</td>\n",
              "      <td>-0.21</td>\n",
              "      <td>-0.07</td>\n",
              "      <td>0.0877</td>\n",
              "      <td>-0.0690</td>\n",
              "      <td>-0.18</td>\n",
              "      <td>-0.170000</td>\n",
              "    </tr>\n",
              "    <tr>\n",
              "      <th>3</th>\n",
              "      <td>12237.309351</td>\n",
              "      <td>12242.227141</td>\n",
              "      <td>12030.371144</td>\n",
              "      <td>12051.960005</td>\n",
              "      <td>3911.17</td>\n",
              "      <td>4593.40</td>\n",
              "      <td>-682.23</td>\n",
              "      <td>4205.16</td>\n",
              "      <td>3893.97</td>\n",
              "      <td>311.19</td>\n",
              "      <td>1248.0</td>\n",
              "      <td>578.0</td>\n",
              "      <td>-0.21</td>\n",
              "      <td>-0.050</td>\n",
              "      <td>-0.02</td>\n",
              "      <td>-1.79</td>\n",
              "      <td>-0.0437</td>\n",
              "      <td>-0.0208</td>\n",
              "      <td>0.08</td>\n",
              "      <td>-0.060000</td>\n",
              "    </tr>\n",
              "    <tr>\n",
              "      <th>4</th>\n",
              "      <td>12149.137851</td>\n",
              "      <td>12192.474725</td>\n",
              "      <td>11985.555622</td>\n",
              "      <td>12017.343536</td>\n",
              "      <td>4109.04</td>\n",
              "      <td>4624.89</td>\n",
              "      <td>-515.85</td>\n",
              "      <td>5162.02</td>\n",
              "      <td>4413.62</td>\n",
              "      <td>748.40</td>\n",
              "      <td>725.0</td>\n",
              "      <td>1109.0</td>\n",
              "      <td>0.56</td>\n",
              "      <td>0.305</td>\n",
              "      <td>0.54</td>\n",
              "      <td>-0.59</td>\n",
              "      <td>-0.2980</td>\n",
              "      <td>-0.6992</td>\n",
              "      <td>-0.65</td>\n",
              "      <td>-0.340000</td>\n",
              "    </tr>\n",
              "  </tbody>\n",
              "</table>\n",
              "</div>"
            ],
            "text/plain": [
              "            NFO           NFH           NFL  ...    Flow  Shine      Vega\n",
              "0  12115.673242  12177.119957  12151.571552  ...  0.0399  -0.10 -1.309999\n",
              "1  12195.406448  12275.487382  12173.355954  ...  0.5648   0.08  1.550000\n",
              "2  12272.929018  12299.127043  12181.887534  ... -0.0690  -0.18 -0.170000\n",
              "3  12237.309351  12242.227141  12030.371144  ... -0.0208   0.08 -0.060000\n",
              "4  12149.137851  12192.474725  11985.555622  ... -0.6992  -0.65 -0.340000\n",
              "\n",
              "[5 rows x 20 columns]"
            ]
          },
          "metadata": {
            "tags": []
          },
          "execution_count": 17
        }
      ]
    },
    {
      "cell_type": "code",
      "metadata": {
        "colab": {
          "base_uri": "https://localhost:8080/",
          "height": 226
        },
        "id": "7C1GryyLksXa",
        "outputId": "5f271158-d529-4c81-d92f-511aa190a21b"
      },
      "source": [
        "test_df.head()\n",
        "      "
      ],
      "execution_count": 18,
      "outputs": [
        {
          "output_type": "execute_result",
          "data": {
            "text/html": [
              "<div>\n",
              "<style scoped>\n",
              "    .dataframe tbody tr th:only-of-type {\n",
              "        vertical-align: middle;\n",
              "    }\n",
              "\n",
              "    .dataframe tbody tr th {\n",
              "        vertical-align: top;\n",
              "    }\n",
              "\n",
              "    .dataframe thead th {\n",
              "        text-align: right;\n",
              "    }\n",
              "</style>\n",
              "<table border=\"1\" class=\"dataframe\">\n",
              "  <thead>\n",
              "    <tr style=\"text-align: right;\">\n",
              "      <th></th>\n",
              "      <th>NFO</th>\n",
              "      <th>NFH</th>\n",
              "      <th>NFL</th>\n",
              "      <th>NFC</th>\n",
              "      <th>FIIB</th>\n",
              "      <th>FIIS</th>\n",
              "      <th>FIIN</th>\n",
              "      <th>DIIB</th>\n",
              "      <th>DIIS</th>\n",
              "      <th>DIIN</th>\n",
              "      <th>August</th>\n",
              "      <th>December</th>\n",
              "      <th>CAD</th>\n",
              "      <th>DAD</th>\n",
              "      <th>DOD</th>\n",
              "      <th>NDAD</th>\n",
              "      <th>Currey</th>\n",
              "      <th>Flow</th>\n",
              "      <th>Shine</th>\n",
              "      <th>Vega</th>\n",
              "    </tr>\n",
              "  </thead>\n",
              "  <tbody>\n",
              "    <tr>\n",
              "      <th>250</th>\n",
              "      <td>14682.481531</td>\n",
              "      <td>14714.912106</td>\n",
              "      <td>14480.442931</td>\n",
              "      <td>14573.937584</td>\n",
              "      <td>6715.91</td>\n",
              "      <td>6458.36</td>\n",
              "      <td>257.55</td>\n",
              "      <td>5146.41</td>\n",
              "      <td>5345.71</td>\n",
              "      <td>-199.30</td>\n",
              "      <td>1431.0</td>\n",
              "      <td>517.0</td>\n",
              "      <td>-0.10</td>\n",
              "      <td>0.3965</td>\n",
              "      <td>0.24</td>\n",
              "      <td>2.22</td>\n",
              "      <td>-0.0010</td>\n",
              "      <td>0.2139</td>\n",
              "      <td>0.25</td>\n",
              "      <td>-1.100000</td>\n",
              "    </tr>\n",
              "    <tr>\n",
              "      <th>251</th>\n",
              "      <td>14515.578392</td>\n",
              "      <td>14645.972963</td>\n",
              "      <td>14427.467418</td>\n",
              "      <td>14572.879876</td>\n",
              "      <td>7701.29</td>\n",
              "      <td>5412.24</td>\n",
              "      <td>2289.05</td>\n",
              "      <td>5084.73</td>\n",
              "      <td>5949.35</td>\n",
              "      <td>-864.62</td>\n",
              "      <td>997.0</td>\n",
              "      <td>937.0</td>\n",
              "      <td>-0.45</td>\n",
              "      <td>0.1000</td>\n",
              "      <td>1.02</td>\n",
              "      <td>1.41</td>\n",
              "      <td>-0.2290</td>\n",
              "      <td>0.0200</td>\n",
              "      <td>0.44</td>\n",
              "      <td>-1.660000</td>\n",
              "    </tr>\n",
              "    <tr>\n",
              "      <th>252</th>\n",
              "      <td>14551.584522</td>\n",
              "      <td>14693.201278</td>\n",
              "      <td>14517.302013</td>\n",
              "      <td>14655.403965</td>\n",
              "      <td>9104.25</td>\n",
              "      <td>7489.59</td>\n",
              "      <td>1614.66</td>\n",
              "      <td>5053.57</td>\n",
              "      <td>6093.05</td>\n",
              "      <td>-1039.48</td>\n",
              "      <td>601.0</td>\n",
              "      <td>1369.0</td>\n",
              "      <td>-0.03</td>\n",
              "      <td>0.1150</td>\n",
              "      <td>-1.01</td>\n",
              "      <td>-2.27</td>\n",
              "      <td>0.0405</td>\n",
              "      <td>-0.0240</td>\n",
              "      <td>-0.15</td>\n",
              "      <td>-0.260000</td>\n",
              "    </tr>\n",
              "    <tr>\n",
              "      <th>253</th>\n",
              "      <td>14703.493836</td>\n",
              "      <td>14771.798953</td>\n",
              "      <td>14553.138062</td>\n",
              "      <td>14647.997590</td>\n",
              "      <td>8326.77</td>\n",
              "      <td>8962.46</td>\n",
              "      <td>-635.69</td>\n",
              "      <td>4859.95</td>\n",
              "      <td>6150.30</td>\n",
              "      <td>-1290.35</td>\n",
              "      <td>477.0</td>\n",
              "      <td>1472.0</td>\n",
              "      <td>0.39</td>\n",
              "      <td>-0.0700</td>\n",
              "      <td>-0.06</td>\n",
              "      <td>-0.98</td>\n",
              "      <td>0.0146</td>\n",
              "      <td>-0.2160</td>\n",
              "      <td>-0.21</td>\n",
              "      <td>0.590000</td>\n",
              "    </tr>\n",
              "    <tr>\n",
              "      <th>254</th>\n",
              "      <td>14661.259872</td>\n",
              "      <td>14704.740581</td>\n",
              "      <td>14448.256300</td>\n",
              "      <td>14480.847650</td>\n",
              "      <td>8423.37</td>\n",
              "      <td>9188.67</td>\n",
              "      <td>-765.30</td>\n",
              "      <td>5090.23</td>\n",
              "      <td>5477.99</td>\n",
              "      <td>-387.76</td>\n",
              "      <td>501.0</td>\n",
              "      <td>1457.0</td>\n",
              "      <td>-1.03</td>\n",
              "      <td>-0.3550</td>\n",
              "      <td>-0.27</td>\n",
              "      <td>1.88</td>\n",
              "      <td>-0.0301</td>\n",
              "      <td>0.1574</td>\n",
              "      <td>-0.03</td>\n",
              "      <td>1.280001</td>\n",
              "    </tr>\n",
              "  </tbody>\n",
              "</table>\n",
              "</div>"
            ],
            "text/plain": [
              "              NFO           NFH           NFL  ...    Flow  Shine      Vega\n",
              "250  14682.481531  14714.912106  14480.442931  ...  0.2139   0.25 -1.100000\n",
              "251  14515.578392  14645.972963  14427.467418  ...  0.0200   0.44 -1.660000\n",
              "252  14551.584522  14693.201278  14517.302013  ... -0.0240  -0.15 -0.260000\n",
              "253  14703.493836  14771.798953  14553.138062  ... -0.2160  -0.21  0.590000\n",
              "254  14661.259872  14704.740581  14448.256300  ...  0.1574  -0.03  1.280001\n",
              "\n",
              "[5 rows x 20 columns]"
            ]
          },
          "metadata": {
            "tags": []
          },
          "execution_count": 18
        }
      ]
    },
    {
      "cell_type": "code",
      "metadata": {
        "colab": {
          "base_uri": "https://localhost:8080/"
        },
        "id": "Bmr4AgyX5Vck",
        "outputId": "e46e6775-07db-4494-c6b4-03a8b758e6f3"
      },
      "source": [
        "train_df.shape"
      ],
      "execution_count": 19,
      "outputs": [
        {
          "output_type": "execute_result",
          "data": {
            "text/plain": [
              "(250, 20)"
            ]
          },
          "metadata": {
            "tags": []
          },
          "execution_count": 19
        }
      ]
    },
    {
      "cell_type": "code",
      "metadata": {
        "colab": {
          "base_uri": "https://localhost:8080/"
        },
        "id": "gOVsaTJI5bGt",
        "outputId": "fbf1cb0f-89e1-4a6b-e97e-e432506ebd3c"
      },
      "source": [
        "test_df.shape"
      ],
      "execution_count": 20,
      "outputs": [
        {
          "output_type": "execute_result",
          "data": {
            "text/plain": [
              "(108, 20)"
            ]
          },
          "metadata": {
            "tags": []
          },
          "execution_count": 20
        }
      ]
    },
    {
      "cell_type": "code",
      "metadata": {
        "id": "V14g4itPlCfi"
      },
      "source": [
        "train_data = task.Dataset(data=train_df)\n",
        "test_data = task.Dataset(data=test_df)"
      ],
      "execution_count": 21,
      "outputs": []
    },
    {
      "cell_type": "code",
      "metadata": {
        "colab": {
          "base_uri": "https://localhost:8080/"
        },
        "id": "mj67LYFtr7Xg",
        "outputId": "49665a0d-abbf-492a-8623-87c599d24541"
      },
      "source": [
        "print(train_data.head())"
      ],
      "execution_count": 22,
      "outputs": [
        {
          "output_type": "stream",
          "text": [
            "            NFO           NFH           NFL  ...    Flow  Shine      Vega\n",
            "0  12115.673242  12177.119957  12151.571552  ...  0.0399  -0.10 -1.309999\n",
            "1  12195.406448  12275.487382  12173.355954  ...  0.5648   0.08  1.550000\n",
            "2  12272.929018  12299.127043  12181.887534  ... -0.0690  -0.18 -0.170000\n",
            "3  12237.309351  12242.227141  12030.371144  ... -0.0208   0.08 -0.060000\n",
            "4  12149.137851  12192.474725  11985.555622  ... -0.6992  -0.65 -0.340000\n",
            "\n",
            "[5 rows x 20 columns]\n"
          ],
          "name": "stdout"
        }
      ]
    },
    {
      "cell_type": "code",
      "metadata": {
        "colab": {
          "base_uri": "https://localhost:8080/"
        },
        "id": "RX90xmfMlE_l",
        "outputId": "0661336f-a3e2-4ab5-d332-7c58f44661a5"
      },
      "source": [
        "print(test_data.head())"
      ],
      "execution_count": 23,
      "outputs": [
        {
          "output_type": "stream",
          "text": [
            "              NFO           NFH           NFL  ...    Flow  Shine      Vega\n",
            "250  14682.481531  14714.912106  14480.442931  ...  0.2139   0.25 -1.100000\n",
            "251  14515.578392  14645.972963  14427.467418  ...  0.0200   0.44 -1.660000\n",
            "252  14551.584522  14693.201278  14517.302013  ... -0.0240  -0.15 -0.260000\n",
            "253  14703.493836  14771.798953  14553.138062  ... -0.2160  -0.21  0.590000\n",
            "254  14661.259872  14704.740581  14448.256300  ...  0.1574  -0.03  1.280001\n",
            "\n",
            "[5 rows x 20 columns]\n"
          ],
          "name": "stdout"
        }
      ]
    },
    {
      "cell_type": "markdown",
      "metadata": {
        "id": "IXo7ME0LstIZ"
      },
      "source": [
        "# set the column we have to predict"
      ]
    },
    {
      "cell_type": "code",
      "metadata": {
        "id": "5UfyXkLclr6w"
      },
      "source": [
        "label_column = 'NFH'"
      ],
      "execution_count": 24,
      "outputs": []
    },
    {
      "cell_type": "code",
      "metadata": {
        "colab": {
          "base_uri": "https://localhost:8080/"
        },
        "id": "1MuGCqFHT7aM",
        "outputId": "cd274be3-52b3-45f7-cd2f-950cc210c582"
      },
      "source": [
        "train_data[label_column].describe()"
      ],
      "execution_count": 25,
      "outputs": [
        {
          "output_type": "execute_result",
          "data": {
            "text/plain": [
              "count      250.000000\n",
              "mean     11360.928219\n",
              "std       1491.421586\n",
              "min       7819.610704\n",
              "25%      10381.973872\n",
              "50%      11437.760114\n",
              "75%      12176.188516\n",
              "max      14730.963589\n",
              "Name: NFH, dtype: float64"
            ]
          },
          "metadata": {
            "tags": []
          },
          "execution_count": 25
        }
      ]
    },
    {
      "cell_type": "markdown",
      "metadata": {
        "id": "FeqHUSvKXvSO"
      },
      "source": [
        "#Fitting the model for predictions on First dependent variable NFH"
      ]
    },
    {
      "cell_type": "code",
      "metadata": {
        "colab": {
          "base_uri": "https://localhost:8080/"
        },
        "id": "-OLrY1K5LfeT",
        "outputId": "06e9ffef-947f-4804-a2db-2f4b05dbb3ba"
      },
      "source": [
        "metric = 'rmse'\n",
        "predictor = task(label=label_column, eval_metric=metric).fit(train_data, presets=['best_quality'], time_limit=30)"
      ],
      "execution_count": 26,
      "outputs": [
        {
          "output_type": "stream",
          "text": [
            "No path specified. Models will be saved in: \"AutogluonModels/ag-20210710_050924/\"\n",
            "Presets specified: ['best_quality']\n",
            "Beginning AutoGluon training ... Time limit = 30s\n",
            "AutoGluon will save models to \"AutogluonModels/ag-20210710_050924/\"\n",
            "AutoGluon Version:  0.2.0\n",
            "Train Data Rows:    250\n",
            "Train Data Columns: 19\n",
            "Preprocessing data ...\n",
            "AutoGluon infers your prediction problem is: 'regression' (because dtype of label-column == float and many unique label-values observed).\n",
            "\tLabel info (max, min, mean, stddev): (14730.963588851202, 7819.61070394115, 11360.92822, 1491.42159)\n",
            "\tIf 'regression' is not the correct problem_type, please manually specify the problem_type argument in fit() (You may specify problem_type as one of: ['binary', 'multiclass', 'regression'])\n",
            "Using Feature Generators to preprocess the data ...\n",
            "Fitting AutoMLPipelineFeatureGenerator...\n",
            "\tAvailable Memory:                    12668.41 MB\n",
            "\tTrain Data (Original)  Memory Usage: 0.04 MB (0.0% of available memory)\n",
            "\tInferring data type of each feature based on column values. Set feature_metadata_in to manually specify special dtypes of the features.\n",
            "\tStage 1 Generators:\n",
            "\t\tFitting AsTypeFeatureGenerator...\n",
            "\tStage 2 Generators:\n",
            "\t\tFitting FillNaFeatureGenerator...\n",
            "\tStage 3 Generators:\n",
            "\t\tFitting IdentityFeatureGenerator...\n",
            "\tStage 4 Generators:\n",
            "\t\tFitting DropUniqueFeatureGenerator...\n",
            "\tTypes of features in original data (raw dtype, special dtypes):\n",
            "\t\t('float', []) : 19 | ['NFO', 'NFL', 'NFC', 'FIIB', 'FIIS', ...]\n",
            "\tTypes of features in processed data (raw dtype, special dtypes):\n",
            "\t\t('float', []) : 19 | ['NFO', 'NFL', 'NFC', 'FIIB', 'FIIS', ...]\n",
            "\t0.1s = Fit runtime\n",
            "\t19 features in original data used to generate 19 features in processed data.\n",
            "\tTrain Data (Processed) Memory Usage: 0.04 MB (0.0% of available memory)\n",
            "Data preprocessing and feature engineering runtime = 0.11s ...\n",
            "AutoGluon will gauge predictive performance using evaluation metric: 'root_mean_squared_error'\n",
            "\tTo change this, specify the eval_metric argument of fit()\n",
            "Fitting model: KNeighborsUnif_BAG_L1 ... Training model for up to 29.89s of the 29.88s of remaining time.\n",
            "NumExpr defaulting to 2 threads.\n",
            "\t-416.364\t = Validation root_mean_squared_error score\n",
            "\t0.0s\t = Training runtime\n",
            "\t0.1s\t = Validation runtime\n",
            "Fitting model: KNeighborsDist_BAG_L1 ... Training model for up to 29.75s of the 29.75s of remaining time.\n",
            "\t-397.4079\t = Validation root_mean_squared_error score\n",
            "\t0.0s\t = Training runtime\n",
            "\t0.1s\t = Validation runtime\n",
            "Fitting model: LightGBMXT_BAG_L1 ... Training model for up to 29.63s of the 29.62s of remaining time.\n"
          ],
          "name": "stderr"
        },
        {
          "output_type": "stream",
          "text": [
            "[1000]\ttrain_set's rmse: 62.349\tvalid_set's rmse: 262.45\n"
          ],
          "name": "stdout"
        },
        {
          "output_type": "stream",
          "text": [
            "\t-232.398\t = Validation root_mean_squared_error score\n",
            "\t3.09s\t = Training runtime\n",
            "\t0.02s\t = Validation runtime\n",
            "Fitting model: LightGBM_BAG_L1 ... Training model for up to 26.42s of the 26.41s of remaining time.\n"
          ],
          "name": "stderr"
        },
        {
          "output_type": "stream",
          "text": [
            "[1000]\ttrain_set's rmse: 10.8902\tvalid_set's rmse: 244.566\n",
            "[2000]\ttrain_set's rmse: 1.9533\tvalid_set's rmse: 244.242\n"
          ],
          "name": "stdout"
        },
        {
          "output_type": "stream",
          "text": [
            "\t-195.7911\t = Validation root_mean_squared_error score\n",
            "\t1.37s\t = Training runtime\n",
            "\t0.01s\t = Validation runtime\n",
            "Fitting model: RandomForestMSE_BAG_L1 ... Training model for up to 24.9s of the 24.89s of remaining time.\n",
            "\t-75.9332\t = Validation root_mean_squared_error score\n",
            "\t0.72s\t = Training runtime\n",
            "\t0.08s\t = Validation runtime\n",
            "Fitting model: CatBoost_BAG_L1 ... Training model for up to 24.07s of the 24.06s of remaining time.\n",
            "\t-174.4966\t = Validation root_mean_squared_error score\n",
            "\t16.91s\t = Training runtime\n",
            "\t0.01s\t = Validation runtime\n",
            "Fitting model: ExtraTreesMSE_BAG_L1 ... Training model for up to 7.12s of the 7.11s of remaining time.\n",
            "\t-69.703\t = Validation root_mean_squared_error score\n",
            "\t0.61s\t = Training runtime\n",
            "\t0.08s\t = Validation runtime\n",
            "Fitting model: NeuralNetFastAI_BAG_L1 ... Training model for up to 6.4s of the 6.39s of remaining time.\n",
            "\tRan out of time, stopping training early.\n",
            "\tTime limit exceeded... Skipping NeuralNetFastAI_BAG_L1.\n",
            "Completed 1/20 k-fold bagging repeats ...\n",
            "Fitting model: WeightedEnsemble_L2 ... Training model for up to 29.89s of the -9.99s of remaining time.\n",
            "\t-69.4749\t = Validation root_mean_squared_error score\n",
            "\t0.27s\t = Training runtime\n",
            "\t0.0s\t = Validation runtime\n",
            "AutoGluon training complete, total runtime = 40.28s ...\n",
            "TabularPredictor saved. To load, use: predictor = TabularPredictor.load(\"AutogluonModels/ag-20210710_050924/\")\n"
          ],
          "name": "stderr"
        }
      ]
    },
    {
      "cell_type": "code",
      "metadata": {
        "colab": {
          "base_uri": "https://localhost:8080/"
        },
        "id": "52l0QIfKpNWH",
        "outputId": "3385d7a5-1523-4d8b-edf4-4a7c10312a45"
      },
      "source": [
        "y_test = test_data[label_column]  # values to predict\n",
        "test_data_nolab = test_data.drop(labels=[label_column],axis=1)  # delete label column to prove we're not cheating\n",
        "print(test_data_nolab.head())"
      ],
      "execution_count": 27,
      "outputs": [
        {
          "output_type": "stream",
          "text": [
            "              NFO           NFL           NFC  ...    Flow  Shine      Vega\n",
            "250  14682.481531  14480.442931  14573.937584  ...  0.2139   0.25 -1.100000\n",
            "251  14515.578392  14427.467418  14572.879876  ...  0.0200   0.44 -1.660000\n",
            "252  14551.584522  14517.302013  14655.403965  ... -0.0240  -0.15 -0.260000\n",
            "253  14703.493836  14553.138062  14647.997590  ... -0.2160  -0.21  0.590000\n",
            "254  14661.259872  14448.256300  14480.847650  ...  0.1574  -0.03  1.280001\n",
            "\n",
            "[5 rows x 19 columns]\n"
          ],
          "name": "stdout"
        }
      ]
    },
    {
      "cell_type": "markdown",
      "metadata": {
        "id": "npm8sdYAX4wp"
      },
      "source": [
        "# Do the predictions on test data"
      ]
    },
    {
      "cell_type": "code",
      "metadata": {
        "colab": {
          "base_uri": "https://localhost:8080/"
        },
        "id": "ZSQNcvlpquKQ",
        "outputId": "2a5e3bba-23af-49e0-cc58-667b8096f5ff"
      },
      "source": [
        "y_pred = predictor.predict(test_data_nolab)\n",
        "print(\"Predictions:  \", y_pred)\n",
        "perf = predictor.evaluate_predictions(y_true=y_test, y_pred=y_pred, auxiliary_metrics=True)"
      ],
      "execution_count": 28,
      "outputs": [
        {
          "output_type": "stream",
          "text": [
            "Evaluation: root_mean_squared_error on test data: -695.4339850112682\n",
            "\tNote: Scores are always higher_is_better. This metric score can be multiplied by -1 to get the metric value.\n",
            "Evaluations on test data:\n",
            "{\n",
            "    \"root_mean_squared_error\": -695.4339850112682,\n",
            "    \"mean_squared_error\": -483628.42750865285,\n",
            "    \"mean_absolute_error\": -553.7408425288481,\n",
            "    \"r2\": -1.0577119786543676,\n",
            "    \"pearsonr\": 0.5754980619352394,\n",
            "    \"median_absolute_error\": -411.5311998924999\n",
            "}\n"
          ],
          "name": "stderr"
        },
        {
          "output_type": "stream",
          "text": [
            "Predictions:   250    14541.677734\n",
            "251    14523.267578\n",
            "252    14625.293945\n",
            "253    14637.854492\n",
            "254    14566.880859\n",
            "           ...     \n",
            "353    14583.158203\n",
            "354    14636.631836\n",
            "355    14604.518555\n",
            "356    14578.746094\n",
            "357    14581.007812\n",
            "Name: NFH, Length: 108, dtype: float32\n"
          ],
          "name": "stdout"
        }
      ]
    },
    {
      "cell_type": "markdown",
      "metadata": {
        "id": "_Wi0k6pqtAga"
      },
      "source": [
        "# Summary of Fit"
      ]
    },
    {
      "cell_type": "code",
      "metadata": {
        "colab": {
          "base_uri": "https://localhost:8080/"
        },
        "id": "qCwnbcoKIFQS",
        "outputId": "26ba3f1d-2524-4051-b9ca-90a7ac3f55d0"
      },
      "source": [
        "result = predictor.fit_summary()"
      ],
      "execution_count": 29,
      "outputs": [
        {
          "output_type": "stream",
          "text": [
            "*** Summary of fit() ***\n",
            "Estimated performance of each model:\n",
            "                    model   score_val  pred_time_val   fit_time  pred_time_val_marginal  fit_time_marginal  stack_level  can_infer  fit_order\n",
            "0     WeightedEnsemble_L2  -69.474949       0.157894   1.595544                0.000597           0.267265            2       True          8\n",
            "1    ExtraTreesMSE_BAG_L1  -69.702953       0.080524   0.613188                0.080524           0.613188            1       True          7\n",
            "2  RandomForestMSE_BAG_L1  -75.933222       0.076772   0.715091                0.076772           0.715091            1       True          5\n",
            "3         CatBoost_BAG_L1 -174.496634       0.005226  16.908813                0.005226          16.908813            1       True          6\n",
            "4         LightGBM_BAG_L1 -195.791056       0.013330   1.371999                0.013330           1.371999            1       True          4\n",
            "5       LightGBMXT_BAG_L1 -232.397994       0.015311   3.086787                0.015311           3.086787            1       True          3\n",
            "6   KNeighborsDist_BAG_L1 -397.407868       0.104558   0.001401                0.104558           0.001401            1       True          2\n",
            "7   KNeighborsUnif_BAG_L1 -416.363969       0.103956   0.004422                0.103956           0.004422            1       True          1\n",
            "Number of models trained: 8\n",
            "Types of models trained:\n",
            "{'StackerEnsembleModel_LGB', 'StackerEnsembleModel_RF', 'StackerEnsembleModel_XT', 'StackerEnsembleModel_CatBoost', 'StackerEnsembleModel_KNN', 'WeightedEnsembleModel'}\n",
            "Bagging used: True  (with 5 folds)\n",
            "Multi-layer stack-ensembling used: False \n",
            "Feature Metadata (Processed):\n",
            "(raw dtype, special dtypes):\n",
            "('float', []) : 19 | ['NFO', 'NFL', 'NFC', 'FIIB', 'FIIS', ...]\n",
            "Plot summary of models saved to file: AutogluonModels/ag-20210710_050924/SummaryOfModels.html\n",
            "*** End of fit() summary ***\n"
          ],
          "name": "stdout"
        }
      ]
    },
    {
      "cell_type": "code",
      "metadata": {
        "id": "P2NflFxDXbMA",
        "colab": {
          "base_uri": "https://localhost:8080/"
        },
        "outputId": "2e6bab19-7da9-4405-f034-6ab4f04e3976"
      },
      "source": [
        "print(\"AutoGluon infers problem type is: \", predictor.problem_type)\n",
        "print(\"AutoGluon identified the following types of features:\")\n",
        "print(predictor.feature_metadata)"
      ],
      "execution_count": 30,
      "outputs": [
        {
          "output_type": "stream",
          "text": [
            "AutoGluon infers problem type is:  regression\n",
            "AutoGluon identified the following types of features:\n",
            "('float', []) : 19 | ['NFO', 'NFL', 'NFC', 'FIIB', 'FIIS', ...]\n"
          ],
          "name": "stdout"
        }
      ]
    },
    {
      "cell_type": "markdown",
      "metadata": {
        "id": "jAgtppEQ88W6"
      },
      "source": [
        "# Leader board of test data"
      ]
    },
    {
      "cell_type": "code",
      "metadata": {
        "colab": {
          "base_uri": "https://localhost:8080/",
          "height": 320
        },
        "id": "Klmut0IR8rLm",
        "outputId": "57bbbbd9-9243-462d-db1b-1a87b845bbe9"
      },
      "source": [
        "predictor.leaderboard(test_data, silent=True)"
      ],
      "execution_count": 31,
      "outputs": [
        {
          "output_type": "execute_result",
          "data": {
            "text/html": [
              "<div>\n",
              "<style scoped>\n",
              "    .dataframe tbody tr th:only-of-type {\n",
              "        vertical-align: middle;\n",
              "    }\n",
              "\n",
              "    .dataframe tbody tr th {\n",
              "        vertical-align: top;\n",
              "    }\n",
              "\n",
              "    .dataframe thead th {\n",
              "        text-align: right;\n",
              "    }\n",
              "</style>\n",
              "<table border=\"1\" class=\"dataframe\">\n",
              "  <thead>\n",
              "    <tr style=\"text-align: right;\">\n",
              "      <th></th>\n",
              "      <th>model</th>\n",
              "      <th>score_test</th>\n",
              "      <th>score_val</th>\n",
              "      <th>pred_time_test</th>\n",
              "      <th>pred_time_val</th>\n",
              "      <th>fit_time</th>\n",
              "      <th>pred_time_test_marginal</th>\n",
              "      <th>pred_time_val_marginal</th>\n",
              "      <th>fit_time_marginal</th>\n",
              "      <th>stack_level</th>\n",
              "      <th>can_infer</th>\n",
              "      <th>fit_order</th>\n",
              "    </tr>\n",
              "  </thead>\n",
              "  <tbody>\n",
              "    <tr>\n",
              "      <th>0</th>\n",
              "      <td>ExtraTreesMSE_BAG_L1</td>\n",
              "      <td>-691.747604</td>\n",
              "      <td>-69.702953</td>\n",
              "      <td>0.112955</td>\n",
              "      <td>0.080524</td>\n",
              "      <td>0.613188</td>\n",
              "      <td>0.112955</td>\n",
              "      <td>0.080524</td>\n",
              "      <td>0.613188</td>\n",
              "      <td>1</td>\n",
              "      <td>True</td>\n",
              "      <td>7</td>\n",
              "    </tr>\n",
              "    <tr>\n",
              "      <th>1</th>\n",
              "      <td>WeightedEnsemble_L2</td>\n",
              "      <td>-695.433985</td>\n",
              "      <td>-69.474949</td>\n",
              "      <td>0.229721</td>\n",
              "      <td>0.157894</td>\n",
              "      <td>1.595544</td>\n",
              "      <td>0.002192</td>\n",
              "      <td>0.000597</td>\n",
              "      <td>0.267265</td>\n",
              "      <td>2</td>\n",
              "      <td>True</td>\n",
              "      <td>8</td>\n",
              "    </tr>\n",
              "    <tr>\n",
              "      <th>2</th>\n",
              "      <td>RandomForestMSE_BAG_L1</td>\n",
              "      <td>-715.691356</td>\n",
              "      <td>-75.933222</td>\n",
              "      <td>0.114574</td>\n",
              "      <td>0.076772</td>\n",
              "      <td>0.715091</td>\n",
              "      <td>0.114574</td>\n",
              "      <td>0.076772</td>\n",
              "      <td>0.715091</td>\n",
              "      <td>1</td>\n",
              "      <td>True</td>\n",
              "      <td>5</td>\n",
              "    </tr>\n",
              "    <tr>\n",
              "      <th>3</th>\n",
              "      <td>LightGBM_BAG_L1</td>\n",
              "      <td>-1204.516899</td>\n",
              "      <td>-195.791056</td>\n",
              "      <td>0.042672</td>\n",
              "      <td>0.013330</td>\n",
              "      <td>1.371999</td>\n",
              "      <td>0.042672</td>\n",
              "      <td>0.013330</td>\n",
              "      <td>1.371999</td>\n",
              "      <td>1</td>\n",
              "      <td>True</td>\n",
              "      <td>4</td>\n",
              "    </tr>\n",
              "    <tr>\n",
              "      <th>4</th>\n",
              "      <td>LightGBMXT_BAG_L1</td>\n",
              "      <td>-1257.240143</td>\n",
              "      <td>-232.397994</td>\n",
              "      <td>0.057893</td>\n",
              "      <td>0.015311</td>\n",
              "      <td>3.086787</td>\n",
              "      <td>0.057893</td>\n",
              "      <td>0.015311</td>\n",
              "      <td>3.086787</td>\n",
              "      <td>1</td>\n",
              "      <td>True</td>\n",
              "      <td>3</td>\n",
              "    </tr>\n",
              "    <tr>\n",
              "      <th>5</th>\n",
              "      <td>CatBoost_BAG_L1</td>\n",
              "      <td>-1323.746071</td>\n",
              "      <td>-174.496634</td>\n",
              "      <td>0.014987</td>\n",
              "      <td>0.005226</td>\n",
              "      <td>16.908813</td>\n",
              "      <td>0.014987</td>\n",
              "      <td>0.005226</td>\n",
              "      <td>16.908813</td>\n",
              "      <td>1</td>\n",
              "      <td>True</td>\n",
              "      <td>6</td>\n",
              "    </tr>\n",
              "    <tr>\n",
              "      <th>6</th>\n",
              "      <td>KNeighborsUnif_BAG_L1</td>\n",
              "      <td>-1358.187481</td>\n",
              "      <td>-416.363969</td>\n",
              "      <td>0.102886</td>\n",
              "      <td>0.103956</td>\n",
              "      <td>0.004422</td>\n",
              "      <td>0.102886</td>\n",
              "      <td>0.103956</td>\n",
              "      <td>0.004422</td>\n",
              "      <td>1</td>\n",
              "      <td>True</td>\n",
              "      <td>1</td>\n",
              "    </tr>\n",
              "    <tr>\n",
              "      <th>7</th>\n",
              "      <td>KNeighborsDist_BAG_L1</td>\n",
              "      <td>-1358.360124</td>\n",
              "      <td>-397.407868</td>\n",
              "      <td>0.102637</td>\n",
              "      <td>0.104558</td>\n",
              "      <td>0.001401</td>\n",
              "      <td>0.102637</td>\n",
              "      <td>0.104558</td>\n",
              "      <td>0.001401</td>\n",
              "      <td>1</td>\n",
              "      <td>True</td>\n",
              "      <td>2</td>\n",
              "    </tr>\n",
              "  </tbody>\n",
              "</table>\n",
              "</div>"
            ],
            "text/plain": [
              "                    model   score_test  ...  can_infer  fit_order\n",
              "0    ExtraTreesMSE_BAG_L1  -691.747604  ...       True          7\n",
              "1     WeightedEnsemble_L2  -695.433985  ...       True          8\n",
              "2  RandomForestMSE_BAG_L1  -715.691356  ...       True          5\n",
              "3         LightGBM_BAG_L1 -1204.516899  ...       True          4\n",
              "4       LightGBMXT_BAG_L1 -1257.240143  ...       True          3\n",
              "5         CatBoost_BAG_L1 -1323.746071  ...       True          6\n",
              "6   KNeighborsUnif_BAG_L1 -1358.187481  ...       True          1\n",
              "7   KNeighborsDist_BAG_L1 -1358.360124  ...       True          2\n",
              "\n",
              "[8 rows x 12 columns]"
            ]
          },
          "metadata": {
            "tags": []
          },
          "execution_count": 31
        }
      ]
    },
    {
      "cell_type": "markdown",
      "metadata": {
        "id": "-3XzJ0ty9ccg"
      },
      "source": [
        "# checking for each models seperately"
      ]
    },
    {
      "cell_type": "code",
      "metadata": {
        "colab": {
          "base_uri": "https://localhost:8080/"
        },
        "id": "NRw6eNn0814Q",
        "outputId": "c720ecd7-9400-42eb-e49a-1957e5f76e7e"
      },
      "source": [
        "predictor.predict(test_data, model='WeightedEnsemble_L2')\n"
      ],
      "execution_count": 32,
      "outputs": [
        {
          "output_type": "execute_result",
          "data": {
            "text/plain": [
              "250    14541.677734\n",
              "251    14523.267578\n",
              "252    14625.293945\n",
              "253    14637.854492\n",
              "254    14566.880859\n",
              "           ...     \n",
              "353    14583.158203\n",
              "354    14636.631836\n",
              "355    14604.518555\n",
              "356    14578.746094\n",
              "357    14581.007812\n",
              "Name: NFH, Length: 108, dtype: float32"
            ]
          },
          "metadata": {
            "tags": []
          },
          "execution_count": 32
        }
      ]
    },
    {
      "cell_type": "markdown",
      "metadata": {
        "id": "U_-Z3Jd_tXs8"
      },
      "source": [
        "# Faster presets / Hyperparameter"
      ]
    },
    {
      "cell_type": "code",
      "metadata": {
        "colab": {
          "base_uri": "https://localhost:8080/"
        },
        "id": "-sqlIg7C9Q0_",
        "outputId": "2db27392-902f-44f3-b2b1-e093ffe141b1"
      },
      "source": [
        "presets = ['high_quality_fast_inference_only_refit','best_quality']\n",
        "time_limits = 2*60\n",
        "predictor_light = task(label=label_column, eval_metric=metric).fit(train_data,presets=presets)\n"
      ],
      "execution_count": 33,
      "outputs": [
        {
          "output_type": "stream",
          "text": [
            "No path specified. Models will be saved in: \"AutogluonModels/ag-20210710_051006/\"\n",
            "Presets specified: ['high_quality_fast_inference_only_refit', 'best_quality']\n",
            "Beginning AutoGluon training ...\n",
            "AutoGluon will save models to \"AutogluonModels/ag-20210710_051006/\"\n",
            "AutoGluon Version:  0.2.0\n",
            "Train Data Rows:    250\n",
            "Train Data Columns: 19\n",
            "Preprocessing data ...\n",
            "AutoGluon infers your prediction problem is: 'regression' (because dtype of label-column == float and many unique label-values observed).\n",
            "\tLabel info (max, min, mean, stddev): (14730.963588851202, 7819.61070394115, 11360.92822, 1491.42159)\n",
            "\tIf 'regression' is not the correct problem_type, please manually specify the problem_type argument in fit() (You may specify problem_type as one of: ['binary', 'multiclass', 'regression'])\n",
            "Using Feature Generators to preprocess the data ...\n",
            "Fitting AutoMLPipelineFeatureGenerator...\n",
            "\tAvailable Memory:                    10880.87 MB\n",
            "\tTrain Data (Original)  Memory Usage: 0.04 MB (0.0% of available memory)\n",
            "\tInferring data type of each feature based on column values. Set feature_metadata_in to manually specify special dtypes of the features.\n",
            "\tStage 1 Generators:\n",
            "\t\tFitting AsTypeFeatureGenerator...\n",
            "\tStage 2 Generators:\n",
            "\t\tFitting FillNaFeatureGenerator...\n",
            "\tStage 3 Generators:\n",
            "\t\tFitting IdentityFeatureGenerator...\n",
            "\tStage 4 Generators:\n",
            "\t\tFitting DropUniqueFeatureGenerator...\n",
            "\tTypes of features in original data (raw dtype, special dtypes):\n",
            "\t\t('float', []) : 19 | ['NFO', 'NFL', 'NFC', 'FIIB', 'FIIS', ...]\n",
            "\tTypes of features in processed data (raw dtype, special dtypes):\n",
            "\t\t('float', []) : 19 | ['NFO', 'NFL', 'NFC', 'FIIB', 'FIIS', ...]\n",
            "\t0.1s = Fit runtime\n",
            "\t19 features in original data used to generate 19 features in processed data.\n",
            "\tTrain Data (Processed) Memory Usage: 0.04 MB (0.0% of available memory)\n",
            "Data preprocessing and feature engineering runtime = 0.1s ...\n",
            "AutoGluon will gauge predictive performance using evaluation metric: 'root_mean_squared_error'\n",
            "\tTo change this, specify the eval_metric argument of fit()\n",
            "Fitting model: KNeighborsUnif_BAG_L1 ...\n",
            "\t-416.364\t = Validation root_mean_squared_error score\n",
            "\t0.0s\t = Training runtime\n",
            "\t0.11s\t = Validation runtime\n",
            "Fitting model: KNeighborsDist_BAG_L1 ...\n",
            "\t-397.4079\t = Validation root_mean_squared_error score\n",
            "\t0.0s\t = Training runtime\n",
            "\t0.11s\t = Validation runtime\n",
            "Fitting model: LightGBMXT_BAG_L1 ...\n"
          ],
          "name": "stderr"
        },
        {
          "output_type": "stream",
          "text": [
            "[1000]\ttrain_set's rmse: 62.349\tvalid_set's rmse: 262.45\n"
          ],
          "name": "stdout"
        },
        {
          "output_type": "stream",
          "text": [
            "\t-232.398\t = Validation root_mean_squared_error score\n",
            "\t1.35s\t = Training runtime\n",
            "\t0.01s\t = Validation runtime\n",
            "Fitting model: LightGBM_BAG_L1 ...\n"
          ],
          "name": "stderr"
        },
        {
          "output_type": "stream",
          "text": [
            "[1000]\ttrain_set's rmse: 10.8902\tvalid_set's rmse: 244.566\n",
            "[2000]\ttrain_set's rmse: 1.9533\tvalid_set's rmse: 244.242\n"
          ],
          "name": "stdout"
        },
        {
          "output_type": "stream",
          "text": [
            "\t-195.7911\t = Validation root_mean_squared_error score\n",
            "\t1.49s\t = Training runtime\n",
            "\t0.01s\t = Validation runtime\n",
            "Fitting model: RandomForestMSE_BAG_L1 ...\n",
            "\t-75.9332\t = Validation root_mean_squared_error score\n",
            "\t0.71s\t = Training runtime\n",
            "\t0.09s\t = Validation runtime\n",
            "Fitting model: CatBoost_BAG_L1 ...\n",
            "\t-174.4784\t = Validation root_mean_squared_error score\n",
            "\t33.48s\t = Training runtime\n",
            "\t0.01s\t = Validation runtime\n",
            "Fitting model: ExtraTreesMSE_BAG_L1 ...\n",
            "\t-69.703\t = Validation root_mean_squared_error score\n",
            "\t0.61s\t = Training runtime\n",
            "\t0.08s\t = Validation runtime\n",
            "Fitting model: NeuralNetFastAI_BAG_L1 ...\n",
            "\t-11254.1944\t = Validation root_mean_squared_error score\n",
            "\t8.51s\t = Training runtime\n",
            "\t0.09s\t = Validation runtime\n",
            "Fitting model: XGBoost_BAG_L1 ...\n",
            "\t-77.7854\t = Validation root_mean_squared_error score\n",
            "\t2.16s\t = Training runtime\n",
            "\t0.01s\t = Validation runtime\n",
            "Fitting model: NeuralNetMXNet_BAG_L1 ...\n",
            "\t-224.9167\t = Validation root_mean_squared_error score\n",
            "\t13.53s\t = Training runtime\n",
            "\t0.66s\t = Validation runtime\n",
            "Fitting model: LightGBMLarge_BAG_L1 ...\n",
            "\t-96.9042\t = Validation root_mean_squared_error score\n",
            "\t2.39s\t = Training runtime\n",
            "\t0.01s\t = Validation runtime\n",
            "Fitting model: WeightedEnsemble_L2 ...\n",
            "\t-66.4072\t = Validation root_mean_squared_error score\n",
            "\t0.42s\t = Training runtime\n",
            "\t0.0s\t = Validation runtime\n",
            "AutoGluon training complete, total runtime = 66.19s ...\n",
            "Fitting model: KNeighborsUnif_BAG_L1_FULL ...\n",
            "\t-416.364\t = Validation root_mean_squared_error score\n",
            "\t0.0s\t = Training runtime\n",
            "\t0.1s\t = Validation runtime\n",
            "Fitting model: KNeighborsDist_BAG_L1_FULL ...\n",
            "\t-397.4079\t = Validation root_mean_squared_error score\n",
            "\t0.0s\t = Training runtime\n",
            "\t0.11s\t = Validation runtime\n",
            "Fitting model: LightGBMXT_BAG_L1_FULL ...\n",
            "\t0.24s\t = Training runtime\n",
            "Fitting model: LightGBM_BAG_L1_FULL ...\n",
            "\t0.27s\t = Training runtime\n",
            "Fitting model: RandomForestMSE_BAG_L1_FULL ...\n",
            "\t-75.9332\t = Validation root_mean_squared_error score\n",
            "\t0.71s\t = Training runtime\n",
            "\t0.09s\t = Validation runtime\n",
            "Fitting model: CatBoost_BAG_L1_FULL ...\n",
            "\t7.5s\t = Training runtime\n",
            "Fitting model: ExtraTreesMSE_BAG_L1_FULL ...\n",
            "\t-69.703\t = Validation root_mean_squared_error score\n",
            "\t0.61s\t = Training runtime\n",
            "\t0.09s\t = Validation runtime\n",
            "Fitting model: NeuralNetFastAI_BAG_L1_FULL ...\n",
            "\tStopping at the best epoch learned earlier - 28.\n",
            "\t1.71s\t = Training runtime\n",
            "Fitting model: XGBoost_BAG_L1_FULL ...\n",
            "\t0.24s\t = Training runtime\n",
            "Fitting model: NeuralNetMXNet_BAG_L1_FULL ...\n",
            "\t0.49s\t = Training runtime\n",
            "Fitting model: LightGBMLarge_BAG_L1_FULL ...\n",
            "\t0.44s\t = Training runtime\n",
            "Fitting model: WeightedEnsemble_L2_FULL ...\n",
            "\t-66.4072\t = Validation root_mean_squared_error score\n",
            "\t0.13s\t = Training runtime\n",
            "\t0.0s\t = Validation runtime\n",
            "TabularPredictor saved. To load, use: predictor = TabularPredictor.load(\"AutogluonModels/ag-20210710_051006/\")\n"
          ],
          "name": "stderr"
        }
      ]
    },
    {
      "cell_type": "markdown",
      "metadata": {
        "id": "_3XyqxR1th8C"
      },
      "source": [
        "# more lightweight hyperparameters"
      ]
    },
    {
      "cell_type": "code",
      "metadata": {
        "colab": {
          "base_uri": "https://localhost:8080/"
        },
        "id": "2fljSRWYJLUF",
        "outputId": "e4a015a4-fd83-4b15-9f03-3bd20c96932f"
      },
      "source": [
        "predictor_light = task(label=label_column, eval_metric=metric).fit(train_data,hyperparameters='very_light')\n"
      ],
      "execution_count": 34,
      "outputs": [
        {
          "output_type": "stream",
          "text": [
            "No path specified. Models will be saved in: \"AutogluonModels/ag-20210710_051125/\"\n",
            "Beginning AutoGluon training ...\n",
            "AutoGluon will save models to \"AutogluonModels/ag-20210710_051125/\"\n",
            "AutoGluon Version:  0.2.0\n",
            "Train Data Rows:    250\n",
            "Train Data Columns: 19\n",
            "Preprocessing data ...\n",
            "AutoGluon infers your prediction problem is: 'regression' (because dtype of label-column == float and many unique label-values observed).\n",
            "\tLabel info (max, min, mean, stddev): (14730.963588851202, 7819.61070394115, 11360.92822, 1491.42159)\n",
            "\tIf 'regression' is not the correct problem_type, please manually specify the problem_type argument in fit() (You may specify problem_type as one of: ['binary', 'multiclass', 'regression'])\n",
            "Using Feature Generators to preprocess the data ...\n",
            "Fitting AutoMLPipelineFeatureGenerator...\n",
            "\tAvailable Memory:                    10780.74 MB\n",
            "\tTrain Data (Original)  Memory Usage: 0.04 MB (0.0% of available memory)\n",
            "\tInferring data type of each feature based on column values. Set feature_metadata_in to manually specify special dtypes of the features.\n",
            "\tStage 1 Generators:\n",
            "\t\tFitting AsTypeFeatureGenerator...\n",
            "\tStage 2 Generators:\n",
            "\t\tFitting FillNaFeatureGenerator...\n",
            "\tStage 3 Generators:\n",
            "\t\tFitting IdentityFeatureGenerator...\n",
            "\tStage 4 Generators:\n",
            "\t\tFitting DropUniqueFeatureGenerator...\n",
            "\tTypes of features in original data (raw dtype, special dtypes):\n",
            "\t\t('float', []) : 19 | ['NFO', 'NFL', 'NFC', 'FIIB', 'FIIS', ...]\n",
            "\tTypes of features in processed data (raw dtype, special dtypes):\n",
            "\t\t('float', []) : 19 | ['NFO', 'NFL', 'NFC', 'FIIB', 'FIIS', ...]\n",
            "\t0.1s = Fit runtime\n",
            "\t19 features in original data used to generate 19 features in processed data.\n",
            "\tTrain Data (Processed) Memory Usage: 0.04 MB (0.0% of available memory)\n",
            "Data preprocessing and feature engineering runtime = 0.1s ...\n",
            "AutoGluon will gauge predictive performance using evaluation metric: 'root_mean_squared_error'\n",
            "\tTo change this, specify the eval_metric argument of fit()\n",
            "Automatically generating train/validation split with holdout_frac=0.2, Train Rows: 200, Val Rows: 50\n",
            "Fitting model: LightGBM ...\n",
            "\t-145.3085\t = Validation root_mean_squared_error score\n",
            "\t0.38s\t = Training runtime\n",
            "\t0.0s\t = Validation runtime\n",
            "Fitting model: LightGBMXT ...\n",
            "\t-172.3843\t = Validation root_mean_squared_error score\n",
            "\t0.26s\t = Training runtime\n",
            "\t0.0s\t = Validation runtime\n",
            "Fitting model: CatBoost ...\n",
            "\t-140.8307\t = Validation root_mean_squared_error score\n",
            "\t4.27s\t = Training runtime\n",
            "\t0.0s\t = Validation runtime\n",
            "Fitting model: NeuralNetFastAI ...\n",
            "\t-10975.3842\t = Validation root_mean_squared_error score\n",
            "\t1.69s\t = Training runtime\n",
            "\t0.02s\t = Validation runtime\n",
            "Fitting model: XGBoost ...\n",
            "\t-82.3849\t = Validation root_mean_squared_error score\n",
            "\t0.35s\t = Training runtime\n",
            "\t0.0s\t = Validation runtime\n",
            "Fitting model: NeuralNetMXNet ...\n",
            "\t-236.9319\t = Validation root_mean_squared_error score\n",
            "\t3.12s\t = Training runtime\n",
            "\t0.14s\t = Validation runtime\n",
            "Fitting model: WeightedEnsemble_L2 ...\n",
            "\t-74.2073\t = Validation root_mean_squared_error score\n",
            "\t0.24s\t = Training runtime\n",
            "\t0.0s\t = Validation runtime\n",
            "AutoGluon training complete, total runtime = 10.97s ...\n",
            "TabularPredictor saved. To load, use: predictor = TabularPredictor.load(\"AutogluonModels/ag-20210710_051125/\")\n"
          ],
          "name": "stderr"
        }
      ]
    },
    {
      "cell_type": "code",
      "metadata": {
        "colab": {
          "base_uri": "https://localhost:8080/"
        },
        "id": "jkculz2xVcDj",
        "outputId": "9e2b951b-b0ca-4e53-f1cd-28835c5d3b75"
      },
      "source": [
        "y_pred = predictor.predict(test_data_nolab)\n",
        "print(\"Predictions:  \", y_pred)\n",
        "perf = predictor.evaluate_predictions(y_true=y_test, y_pred=y_pred, auxiliary_metrics=True)"
      ],
      "execution_count": 35,
      "outputs": [
        {
          "output_type": "stream",
          "text": [
            "Evaluation: root_mean_squared_error on test data: -695.4339850112682\n",
            "\tNote: Scores are always higher_is_better. This metric score can be multiplied by -1 to get the metric value.\n",
            "Evaluations on test data:\n",
            "{\n",
            "    \"root_mean_squared_error\": -695.4339850112682,\n",
            "    \"mean_squared_error\": -483628.42750865285,\n",
            "    \"mean_absolute_error\": -553.7408425288481,\n",
            "    \"r2\": -1.0577119786543676,\n",
            "    \"pearsonr\": 0.5754980619352394,\n",
            "    \"median_absolute_error\": -411.5311998924999\n",
            "}\n"
          ],
          "name": "stderr"
        },
        {
          "output_type": "stream",
          "text": [
            "Predictions:   250    14541.677734\n",
            "251    14523.267578\n",
            "252    14625.293945\n",
            "253    14637.854492\n",
            "254    14566.880859\n",
            "           ...     \n",
            "353    14583.158203\n",
            "354    14636.631836\n",
            "355    14604.518555\n",
            "356    14578.746094\n",
            "357    14581.007812\n",
            "Name: NFH, Length: 108, dtype: float32\n"
          ],
          "name": "stdout"
        }
      ]
    },
    {
      "cell_type": "markdown",
      "metadata": {
        "id": "DitsBHgptsHV"
      },
      "source": [
        "# summary"
      ]
    },
    {
      "cell_type": "code",
      "metadata": {
        "colab": {
          "base_uri": "https://localhost:8080/"
        },
        "id": "8-ubi-JCVnRL",
        "outputId": "cc55853b-254a-4bdc-a27c-66c8282fcc63"
      },
      "source": [
        "result = predictor_light.fit_summary()"
      ],
      "execution_count": 36,
      "outputs": [
        {
          "output_type": "stream",
          "text": [
            "*** Summary of fit() ***\n",
            "Estimated performance of each model:\n",
            "                 model     score_val  pred_time_val  fit_time  pred_time_val_marginal  fit_time_marginal  stack_level  can_infer  fit_order\n",
            "0  WeightedEnsemble_L2    -74.207283       0.153034  8.354407                0.000558           0.240340            2       True          7\n",
            "1              XGBoost    -82.384885       0.003059  0.349658                0.003059           0.349658            1       True          5\n",
            "2             CatBoost   -140.830682       0.001941  4.273191                0.001941           4.273191            1       True          3\n",
            "3             LightGBM   -145.308477       0.003896  0.375789                0.003896           0.375789            1       True          1\n",
            "4           LightGBMXT   -172.384294       0.003422  0.261156                0.003422           0.261156            1       True          2\n",
            "5       NeuralNetMXNet   -236.931859       0.143581  3.115428                0.143581           3.115428            1       True          6\n",
            "6      NeuralNetFastAI -10975.384245       0.016824  1.692193                0.016824           1.692193            1       True          4\n",
            "Number of models trained: 7\n",
            "Types of models trained:\n",
            "{'LGBModel', 'XGBoostModel', 'TabularNeuralNetModel', 'CatBoostModel', 'NNFastAiTabularModel', 'WeightedEnsembleModel'}\n",
            "Bagging used: False \n",
            "Multi-layer stack-ensembling used: False \n",
            "Feature Metadata (Processed):\n",
            "(raw dtype, special dtypes):\n",
            "('float', []) : 19 | ['NFO', 'NFL', 'NFC', 'FIIB', 'FIIS', ...]\n",
            "Plot summary of models saved to file: AutogluonModels/ag-20210710_051125/SummaryOfModels.html\n",
            "*** End of fit() summary ***\n"
          ],
          "name": "stdout"
        }
      ]
    },
    {
      "cell_type": "markdown",
      "metadata": {
        "id": "MQoTG-AktwGm"
      },
      "source": [
        "# excluding some models and again predict"
      ]
    },
    {
      "cell_type": "code",
      "metadata": {
        "colab": {
          "base_uri": "https://localhost:8080/"
        },
        "id": "Z8Ft48HbUDZ6",
        "outputId": "c3e5925e-bc65-4ad0-fcc4-98d32553f0ff"
      },
      "source": [
        "excluded_model_types = ['NeuralNetFastAI','NeuralNetMXNet','LightGBMXT']\n",
        "predictor_light = task(label=label_column, eval_metric=metric).fit(train_data,excluded_model_types=excluded_model_types)"
      ],
      "execution_count": 37,
      "outputs": [
        {
          "output_type": "stream",
          "text": [
            "No path specified. Models will be saved in: \"AutogluonModels/ag-20210710_051137/\"\n",
            "Beginning AutoGluon training ...\n",
            "AutoGluon will save models to \"AutogluonModels/ag-20210710_051137/\"\n",
            "AutoGluon Version:  0.2.0\n",
            "Train Data Rows:    250\n",
            "Train Data Columns: 19\n",
            "Preprocessing data ...\n",
            "AutoGluon infers your prediction problem is: 'regression' (because dtype of label-column == float and many unique label-values observed).\n",
            "\tLabel info (max, min, mean, stddev): (14730.963588851202, 7819.61070394115, 11360.92822, 1491.42159)\n",
            "\tIf 'regression' is not the correct problem_type, please manually specify the problem_type argument in fit() (You may specify problem_type as one of: ['binary', 'multiclass', 'regression'])\n",
            "Using Feature Generators to preprocess the data ...\n",
            "Fitting AutoMLPipelineFeatureGenerator...\n",
            "\tAvailable Memory:                    10776.22 MB\n",
            "\tTrain Data (Original)  Memory Usage: 0.04 MB (0.0% of available memory)\n",
            "\tInferring data type of each feature based on column values. Set feature_metadata_in to manually specify special dtypes of the features.\n",
            "\tStage 1 Generators:\n",
            "\t\tFitting AsTypeFeatureGenerator...\n",
            "\tStage 2 Generators:\n",
            "\t\tFitting FillNaFeatureGenerator...\n",
            "\tStage 3 Generators:\n",
            "\t\tFitting IdentityFeatureGenerator...\n",
            "\tStage 4 Generators:\n",
            "\t\tFitting DropUniqueFeatureGenerator...\n",
            "\tTypes of features in original data (raw dtype, special dtypes):\n",
            "\t\t('float', []) : 19 | ['NFO', 'NFL', 'NFC', 'FIIB', 'FIIS', ...]\n",
            "\tTypes of features in processed data (raw dtype, special dtypes):\n",
            "\t\t('float', []) : 19 | ['NFO', 'NFL', 'NFC', 'FIIB', 'FIIS', ...]\n",
            "\t0.1s = Fit runtime\n",
            "\t19 features in original data used to generate 19 features in processed data.\n",
            "\tTrain Data (Processed) Memory Usage: 0.04 MB (0.0% of available memory)\n",
            "Data preprocessing and feature engineering runtime = 0.11s ...\n",
            "AutoGluon will gauge predictive performance using evaluation metric: 'root_mean_squared_error'\n",
            "\tTo change this, specify the eval_metric argument of fit()\n",
            "Automatically generating train/validation split with holdout_frac=0.2, Train Rows: 200, Val Rows: 50\n",
            "Excluded Model Types: ['NeuralNetFastAI', 'NeuralNetMXNet', 'LightGBMXT']\n",
            "Fitting model: KNeighborsUnif ...\n",
            "\t-581.9488\t = Validation root_mean_squared_error score\n",
            "\t0.0s\t = Training runtime\n",
            "\t0.1s\t = Validation runtime\n",
            "Fitting model: KNeighborsDist ...\n",
            "\t-569.6802\t = Validation root_mean_squared_error score\n",
            "\t0.0s\t = Training runtime\n",
            "\t0.11s\t = Validation runtime\n",
            "Fitting model: LightGBMXT ...\n",
            "\t-172.3843\t = Validation root_mean_squared_error score\n",
            "\t0.25s\t = Training runtime\n",
            "\t0.0s\t = Validation runtime\n",
            "Fitting model: LightGBM ...\n",
            "\t-145.3085\t = Validation root_mean_squared_error score\n",
            "\t0.38s\t = Training runtime\n",
            "\t0.0s\t = Validation runtime\n",
            "Fitting model: RandomForestMSE ...\n",
            "\t-90.5837\t = Validation root_mean_squared_error score\n",
            "\t0.61s\t = Training runtime\n",
            "\t0.1s\t = Validation runtime\n",
            "Fitting model: CatBoost ...\n",
            "\t-140.8307\t = Validation root_mean_squared_error score\n",
            "\t4.27s\t = Training runtime\n",
            "\t0.0s\t = Validation runtime\n",
            "Fitting model: ExtraTreesMSE ...\n",
            "\t-70.8762\t = Validation root_mean_squared_error score\n",
            "\t0.51s\t = Training runtime\n",
            "\t0.1s\t = Validation runtime\n",
            "Fitting model: NeuralNetFastAI ...\n",
            "\t-10971.3112\t = Validation root_mean_squared_error score\n",
            "\t1.72s\t = Training runtime\n",
            "\t0.02s\t = Validation runtime\n",
            "Fitting model: XGBoost ...\n",
            "\t-82.3849\t = Validation root_mean_squared_error score\n",
            "\t0.33s\t = Training runtime\n",
            "\t0.0s\t = Validation runtime\n",
            "Fitting model: NeuralNetMXNet ...\n",
            "\t-341.201\t = Validation root_mean_squared_error score\n",
            "\t1.98s\t = Training runtime\n",
            "\t0.13s\t = Validation runtime\n",
            "Fitting model: LightGBMLarge ...\n",
            "\t-94.4706\t = Validation root_mean_squared_error score\n",
            "\t0.63s\t = Training runtime\n",
            "\t0.0s\t = Validation runtime\n",
            "Fitting model: WeightedEnsemble_L2 ...\n",
            "\t-64.3046\t = Validation root_mean_squared_error score\n",
            "\t0.41s\t = Training runtime\n",
            "\t0.0s\t = Validation runtime\n",
            "AutoGluon training complete, total runtime = 12.75s ...\n",
            "TabularPredictor saved. To load, use: predictor = TabularPredictor.load(\"AutogluonModels/ag-20210710_051137/\")\n"
          ],
          "name": "stderr"
        }
      ]
    },
    {
      "cell_type": "code",
      "metadata": {
        "colab": {
          "base_uri": "https://localhost:8080/"
        },
        "id": "A1NzjOeUWBCc",
        "outputId": "2b11f576-4fb8-4a5c-a88f-13ff329084cb"
      },
      "source": [
        "result = predictor_light.fit_summary()"
      ],
      "execution_count": 38,
      "outputs": [
        {
          "output_type": "stream",
          "text": [
            "*** Summary of fit() ***\n",
            "Estimated performance of each model:\n",
            "                  model     score_val  pred_time_val  fit_time  pred_time_val_marginal  fit_time_marginal  stack_level  can_infer  fit_order\n",
            "0   WeightedEnsemble_L2    -64.304593       0.111556  5.894368                0.000515           0.410047            2       True         12\n",
            "1         ExtraTreesMSE    -70.876153       0.102183  0.509546                0.102183           0.509546            1       True          7\n",
            "2               XGBoost    -82.384885       0.002812  0.327225                0.002812           0.327225            1       True          9\n",
            "3       RandomForestMSE    -90.583745       0.102164  0.611641                0.102164           0.611641            1       True          5\n",
            "4         LightGBMLarge    -94.470588       0.004024  0.630653                0.004024           0.630653            1       True         11\n",
            "5              CatBoost   -140.830682       0.001894  4.272076                0.001894           4.272076            1       True          6\n",
            "6              LightGBM   -145.308477       0.004152  0.375473                0.004152           0.375473            1       True          4\n",
            "7            LightGBMXT   -172.384294       0.003219  0.252342                0.003219           0.252342            1       True          3\n",
            "8        NeuralNetMXNet   -341.201036       0.134303  1.976644                0.134303           1.976644            1       True         10\n",
            "9        KNeighborsDist   -569.680177       0.105835  0.002656                0.105835           0.002656            1       True          2\n",
            "10       KNeighborsUnif   -581.948800       0.103818  0.002604                0.103818           0.002604            1       True          1\n",
            "11      NeuralNetFastAI -10971.311242       0.016574  1.716288                0.016574           1.716288            1       True          8\n",
            "Number of models trained: 12\n",
            "Types of models trained:\n",
            "{'LGBModel', 'RFModel', 'XGBoostModel', 'KNNModel', 'XTModel', 'CatBoostModel', 'TabularNeuralNetModel', 'NNFastAiTabularModel', 'WeightedEnsembleModel'}\n",
            "Bagging used: False \n",
            "Multi-layer stack-ensembling used: False \n",
            "Feature Metadata (Processed):\n",
            "(raw dtype, special dtypes):\n",
            "('float', []) : 19 | ['NFO', 'NFL', 'NFC', 'FIIB', 'FIIS', ...]\n",
            "Plot summary of models saved to file: AutogluonModels/ag-20210710_051137/SummaryOfModels.html\n",
            "*** End of fit() summary ***\n"
          ],
          "name": "stdout"
        }
      ]
    },
    {
      "cell_type": "markdown",
      "metadata": {
        "id": "gX_v1YpawbJO"
      },
      "source": [
        "#Using smaller ensemble or faster model for prediction"
      ]
    },
    {
      "cell_type": "code",
      "metadata": {
        "colab": {
          "base_uri": "https://localhost:8080/",
          "height": 660
        },
        "id": "qM1AZm-yWeho",
        "outputId": "cddee529-893e-4dcc-c400-1ac395128d53"
      },
      "source": [
        "additional_ensembles = predictor.fit_weighted_ensemble(expand_pareto_frontier=True)\n",
        "print(\"Alternative ensembles you can use for prediction:\", additional_ensembles)\n",
        "\n",
        "predictor.leaderboard(only_pareto_frontier=True, silent=True)"
      ],
      "execution_count": 39,
      "outputs": [
        {
          "output_type": "stream",
          "text": [
            "Fitting model: WeightedEnsemble_L2Best_Pareto1 ...\n",
            "\t-163.3152\t = Validation root_mean_squared_error score\n",
            "\t0.09s\t = Training runtime\n",
            "\t0.0s\t = Validation runtime\n",
            "Fitting model: WeightedEnsemble_L2Best_Pareto2 ...\n",
            "\t-163.3152\t = Validation root_mean_squared_error score\n",
            "\t0.14s\t = Training runtime\n",
            "\t0.0s\t = Validation runtime\n",
            "Fitting model: WeightedEnsemble_L2Best_Pareto3 ...\n",
            "\t-75.6968\t = Validation root_mean_squared_error score\n",
            "\t0.16s\t = Training runtime\n",
            "\t0.0s\t = Validation runtime\n",
            "Fitting model: WeightedEnsemble_L2Best_Pareto4 ...\n",
            "\t-69.4749\t = Validation root_mean_squared_error score\n",
            "\t0.2s\t = Training runtime\n",
            "\t0.0s\t = Validation runtime\n",
            "Fitting model: WeightedEnsemble_L2Best_Pareto5 ...\n",
            "\t-69.4749\t = Validation root_mean_squared_error score\n",
            "\t0.25s\t = Training runtime\n",
            "\t0.0s\t = Validation runtime\n",
            "Fitting model: WeightedEnsemble_L2Best ...\n",
            "\t-69.4749\t = Validation root_mean_squared_error score\n",
            "\t0.28s\t = Training runtime\n",
            "\t0.0s\t = Validation runtime\n"
          ],
          "name": "stderr"
        },
        {
          "output_type": "stream",
          "text": [
            "Alternative ensembles you can use for prediction: ['WeightedEnsemble_L2Best_Pareto1', 'WeightedEnsemble_L2Best_Pareto2', 'WeightedEnsemble_L2Best_Pareto3', 'WeightedEnsemble_L2Best_Pareto4', 'WeightedEnsemble_L2Best_Pareto5', 'WeightedEnsemble_L2Best']\n"
          ],
          "name": "stdout"
        },
        {
          "output_type": "execute_result",
          "data": {
            "text/html": [
              "<div>\n",
              "<style scoped>\n",
              "    .dataframe tbody tr th:only-of-type {\n",
              "        vertical-align: middle;\n",
              "    }\n",
              "\n",
              "    .dataframe tbody tr th {\n",
              "        vertical-align: top;\n",
              "    }\n",
              "\n",
              "    .dataframe thead th {\n",
              "        text-align: right;\n",
              "    }\n",
              "</style>\n",
              "<table border=\"1\" class=\"dataframe\">\n",
              "  <thead>\n",
              "    <tr style=\"text-align: right;\">\n",
              "      <th></th>\n",
              "      <th>model</th>\n",
              "      <th>score_val</th>\n",
              "      <th>pred_time_val</th>\n",
              "      <th>fit_time</th>\n",
              "      <th>pred_time_val_marginal</th>\n",
              "      <th>fit_time_marginal</th>\n",
              "      <th>stack_level</th>\n",
              "      <th>can_infer</th>\n",
              "      <th>fit_order</th>\n",
              "    </tr>\n",
              "  </thead>\n",
              "  <tbody>\n",
              "    <tr>\n",
              "      <th>0</th>\n",
              "      <td>WeightedEnsemble_L2Best</td>\n",
              "      <td>-69.474949</td>\n",
              "      <td>0.157795</td>\n",
              "      <td>1.603391</td>\n",
              "      <td>0.000498</td>\n",
              "      <td>0.275112</td>\n",
              "      <td>2</td>\n",
              "      <td>True</td>\n",
              "      <td>14</td>\n",
              "    </tr>\n",
              "    <tr>\n",
              "      <th>1</th>\n",
              "      <td>ExtraTreesMSE_BAG_L1</td>\n",
              "      <td>-69.702953</td>\n",
              "      <td>0.080524</td>\n",
              "      <td>0.613188</td>\n",
              "      <td>0.080524</td>\n",
              "      <td>0.613188</td>\n",
              "      <td>1</td>\n",
              "      <td>True</td>\n",
              "      <td>7</td>\n",
              "    </tr>\n",
              "    <tr>\n",
              "      <th>2</th>\n",
              "      <td>RandomForestMSE_BAG_L1</td>\n",
              "      <td>-75.933222</td>\n",
              "      <td>0.076772</td>\n",
              "      <td>0.715091</td>\n",
              "      <td>0.076772</td>\n",
              "      <td>0.715091</td>\n",
              "      <td>1</td>\n",
              "      <td>True</td>\n",
              "      <td>5</td>\n",
              "    </tr>\n",
              "    <tr>\n",
              "      <th>3</th>\n",
              "      <td>WeightedEnsemble_L2Best_Pareto1</td>\n",
              "      <td>-163.315236</td>\n",
              "      <td>0.019069</td>\n",
              "      <td>18.375017</td>\n",
              "      <td>0.000514</td>\n",
              "      <td>0.094204</td>\n",
              "      <td>2</td>\n",
              "      <td>True</td>\n",
              "      <td>9</td>\n",
              "    </tr>\n",
              "    <tr>\n",
              "      <th>4</th>\n",
              "      <td>CatBoost_BAG_L1</td>\n",
              "      <td>-174.496634</td>\n",
              "      <td>0.005226</td>\n",
              "      <td>16.908813</td>\n",
              "      <td>0.005226</td>\n",
              "      <td>16.908813</td>\n",
              "      <td>1</td>\n",
              "      <td>True</td>\n",
              "      <td>6</td>\n",
              "    </tr>\n",
              "  </tbody>\n",
              "</table>\n",
              "</div>"
            ],
            "text/plain": [
              "                             model   score_val  ...  can_infer  fit_order\n",
              "0          WeightedEnsemble_L2Best  -69.474949  ...       True         14\n",
              "1             ExtraTreesMSE_BAG_L1  -69.702953  ...       True          7\n",
              "2           RandomForestMSE_BAG_L1  -75.933222  ...       True          5\n",
              "3  WeightedEnsemble_L2Best_Pareto1 -163.315236  ...       True          9\n",
              "4                  CatBoost_BAG_L1 -174.496634  ...       True          6\n",
              "\n",
              "[5 rows x 9 columns]"
            ]
          },
          "metadata": {
            "tags": []
          },
          "execution_count": 39
        }
      ]
    },
    {
      "cell_type": "markdown",
      "metadata": {
        "id": "7vG4QZWwuDNt"
      },
      "source": [
        "# HyperParameter Tuning"
      ]
    },
    {
      "cell_type": "code",
      "metadata": {
        "colab": {
          "base_uri": "https://localhost:8080/"
        },
        "id": "4l9fZfFVW4nR",
        "outputId": "9b6df1ac-8a05-4811-8a27-db5a4ca4904a"
      },
      "source": [
        "predictor = task(label=label_column, eval_metric=metric).fit(train_data,\n",
        "    num_bag_folds=5, num_bag_sets=1, num_stack_levels=1,\n",
        "    hyperparameters = {'NN': {'num_epochs': 2}, 'GBM': {'num_boost_round': 20}},  # last  argument is just for quick demo here, omit it in real applications\n",
        ")\n"
      ],
      "execution_count": 40,
      "outputs": [
        {
          "output_type": "stream",
          "text": [
            "No path specified. Models will be saved in: \"AutogluonModels/ag-20210710_051151/\"\n",
            "Beginning AutoGluon training ...\n",
            "AutoGluon will save models to \"AutogluonModels/ag-20210710_051151/\"\n",
            "AutoGluon Version:  0.2.0\n",
            "Train Data Rows:    250\n",
            "Train Data Columns: 19\n",
            "Preprocessing data ...\n",
            "AutoGluon infers your prediction problem is: 'regression' (because dtype of label-column == float and many unique label-values observed).\n",
            "\tLabel info (max, min, mean, stddev): (14730.963588851202, 7819.61070394115, 11360.92822, 1491.42159)\n",
            "\tIf 'regression' is not the correct problem_type, please manually specify the problem_type argument in fit() (You may specify problem_type as one of: ['binary', 'multiclass', 'regression'])\n",
            "Using Feature Generators to preprocess the data ...\n",
            "Fitting AutoMLPipelineFeatureGenerator...\n",
            "\tAvailable Memory:                    10777.44 MB\n",
            "\tTrain Data (Original)  Memory Usage: 0.04 MB (0.0% of available memory)\n",
            "\tInferring data type of each feature based on column values. Set feature_metadata_in to manually specify special dtypes of the features.\n",
            "\tStage 1 Generators:\n",
            "\t\tFitting AsTypeFeatureGenerator...\n",
            "\tStage 2 Generators:\n",
            "\t\tFitting FillNaFeatureGenerator...\n",
            "\tStage 3 Generators:\n",
            "\t\tFitting IdentityFeatureGenerator...\n",
            "\tStage 4 Generators:\n",
            "\t\tFitting DropUniqueFeatureGenerator...\n",
            "\tTypes of features in original data (raw dtype, special dtypes):\n",
            "\t\t('float', []) : 19 | ['NFO', 'NFL', 'NFC', 'FIIB', 'FIIS', ...]\n",
            "\tTypes of features in processed data (raw dtype, special dtypes):\n",
            "\t\t('float', []) : 19 | ['NFO', 'NFL', 'NFC', 'FIIB', 'FIIS', ...]\n",
            "\t0.1s = Fit runtime\n",
            "\t19 features in original data used to generate 19 features in processed data.\n",
            "\tTrain Data (Processed) Memory Usage: 0.04 MB (0.0% of available memory)\n",
            "Data preprocessing and feature engineering runtime = 0.11s ...\n",
            "AutoGluon will gauge predictive performance using evaluation metric: 'root_mean_squared_error'\n",
            "\tTo change this, specify the eval_metric argument of fit()\n",
            "Fitting model: LightGBM_BAG_L1 ...\n",
            "\t-598.0346\t = Validation root_mean_squared_error score\n",
            "\t0.62s\t = Training runtime\n",
            "\t0.01s\t = Validation runtime\n",
            "Fitting model: NeuralNetMXNet_BAG_L1 ...\n",
            "\t-1428.6128\t = Validation root_mean_squared_error score\n",
            "\t1.62s\t = Training runtime\n",
            "\t0.64s\t = Validation runtime\n",
            "Fitting model: WeightedEnsemble_L2 ...\n",
            "\t-598.0346\t = Validation root_mean_squared_error score\n",
            "\t0.09s\t = Training runtime\n",
            "\t0.0s\t = Validation runtime\n",
            "Fitting model: LightGBM_BAG_L2 ...\n",
            "\t-591.3711\t = Validation root_mean_squared_error score\n",
            "\t0.6s\t = Training runtime\n",
            "\t0.01s\t = Validation runtime\n",
            "Fitting model: NeuralNetMXNet_BAG_L2 ...\n",
            "\t-1522.2991\t = Validation root_mean_squared_error score\n",
            "\t1.61s\t = Training runtime\n",
            "\t0.64s\t = Validation runtime\n",
            "Fitting model: WeightedEnsemble_L3 ...\n",
            "\t-591.3711\t = Validation root_mean_squared_error score\n",
            "\t0.09s\t = Training runtime\n",
            "\t0.0s\t = Validation runtime\n",
            "AutoGluon training complete, total runtime = 6.22s ...\n",
            "TabularPredictor saved. To load, use: predictor = TabularPredictor.load(\"AutogluonModels/ag-20210710_051151/\")\n"
          ],
          "name": "stderr"
        }
      ]
    },
    {
      "cell_type": "code",
      "metadata": {
        "colab": {
          "base_uri": "https://localhost:8080/"
        },
        "id": "bHxzCZzYuK1J",
        "outputId": "06ef90c3-bf9c-423d-e747-db0852d030a0"
      },
      "source": [
        "result = predictor.fit_summary()"
      ],
      "execution_count": 41,
      "outputs": [
        {
          "output_type": "stream",
          "text": [
            "*** Summary of fit() ***\n",
            "Estimated performance of each model:\n",
            "                   model    score_val  pred_time_val  fit_time  pred_time_val_marginal  fit_time_marginal  stack_level  can_infer  fit_order\n",
            "0        LightGBM_BAG_L2  -591.371149       0.658062  2.840420                0.008776           0.599552            2       True          4\n",
            "1    WeightedEnsemble_L3  -591.371149       0.658582  2.928456                0.000520           0.088035            3       True          6\n",
            "2        LightGBM_BAG_L1  -598.034643       0.008761  0.623884                0.008761           0.623884            1       True          1\n",
            "3    WeightedEnsemble_L2  -598.034643       0.009325  0.717370                0.000564           0.093486            2       True          3\n",
            "4  NeuralNetMXNet_BAG_L1 -1428.612815       0.640525  1.616985                0.640525           1.616985            1       True          2\n",
            "5  NeuralNetMXNet_BAG_L2 -1522.299073       1.285027  3.853593                0.635741           1.612724            2       True          5\n",
            "Number of models trained: 6\n",
            "Types of models trained:\n",
            "{'StackerEnsembleModel_LGB', 'WeightedEnsembleModel', 'StackerEnsembleModel_TabularNeuralNet'}\n",
            "Bagging used: True  (with 5 folds)\n",
            "Multi-layer stack-ensembling used: True  (with 3 levels)\n",
            "Feature Metadata (Processed):\n",
            "(raw dtype, special dtypes):\n",
            "('float', []) : 19 | ['NFO', 'NFL', 'NFC', 'FIIB', 'FIIS', ...]\n",
            "Plot summary of models saved to file: AutogluonModels/ag-20210710_051151/SummaryOfModels.html\n",
            "*** End of fit() summary ***\n"
          ],
          "name": "stdout"
        }
      ]
    },
    {
      "cell_type": "code",
      "metadata": {
        "id": "-wYkNCFuqkWH"
      },
      "source": [
        "import matplotlib.pyplot as plt\n"
      ],
      "execution_count": 42,
      "outputs": []
    },
    {
      "cell_type": "code",
      "metadata": {
        "colab": {
          "base_uri": "https://localhost:8080/"
        },
        "id": "k4CT4IrfoEY6",
        "outputId": "f08ea05e-2e19-46db-8a90-47b08d1c5fe5"
      },
      "source": [
        "results = predictor.fit_summary()"
      ],
      "execution_count": 43,
      "outputs": [
        {
          "output_type": "stream",
          "text": [
            "*** Summary of fit() ***\n",
            "Estimated performance of each model:\n",
            "                   model    score_val  pred_time_val  fit_time  pred_time_val_marginal  fit_time_marginal  stack_level  can_infer  fit_order\n",
            "0        LightGBM_BAG_L2  -591.371149       0.658062  2.840420                0.008776           0.599552            2       True          4\n",
            "1    WeightedEnsemble_L3  -591.371149       0.658582  2.928456                0.000520           0.088035            3       True          6\n",
            "2        LightGBM_BAG_L1  -598.034643       0.008761  0.623884                0.008761           0.623884            1       True          1\n",
            "3    WeightedEnsemble_L2  -598.034643       0.009325  0.717370                0.000564           0.093486            2       True          3\n",
            "4  NeuralNetMXNet_BAG_L1 -1428.612815       0.640525  1.616985                0.640525           1.616985            1       True          2\n",
            "5  NeuralNetMXNet_BAG_L2 -1522.299073       1.285027  3.853593                0.635741           1.612724            2       True          5\n",
            "Number of models trained: 6\n",
            "Types of models trained:\n",
            "{'StackerEnsembleModel_LGB', 'WeightedEnsembleModel', 'StackerEnsembleModel_TabularNeuralNet'}\n",
            "Bagging used: True  (with 5 folds)\n",
            "Multi-layer stack-ensembling used: True  (with 3 levels)\n",
            "Feature Metadata (Processed):\n",
            "(raw dtype, special dtypes):\n",
            "('float', []) : 19 | ['NFO', 'NFL', 'NFC', 'FIIB', 'FIIS', ...]\n",
            "Plot summary of models saved to file: AutogluonModels/ag-20210710_051151/SummaryOfModels.html\n",
            "*** End of fit() summary ***\n"
          ],
          "name": "stdout"
        }
      ]
    },
    {
      "cell_type": "code",
      "metadata": {
        "id": "btB-mWB33rd2"
      },
      "source": [
        ""
      ],
      "execution_count": null,
      "outputs": []
    },
    {
      "cell_type": "markdown",
      "metadata": {
        "id": "SfALZwmZ3dcW"
      },
      "source": [
        "![bokeh_plot.png](data:image/png;base64,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)"
      ]
    },
    {
      "cell_type": "markdown",
      "metadata": {
        "id": "qQVHR5df4JXS"
      },
      "source": [
        "# Documentation\n"
      ]
    },
    {
      "cell_type": "markdown",
      "metadata": {
        "id": "yeCVye0O4cw-"
      },
      "source": [
        " # Objective\n",
        "\n",
        " The objective of the problem is to predict the NFH values based on the given data set. Here the data set have columns 'Date(IST)', 'NFO', 'NFH', 'NFL', 'NFC', 'FIIB', 'FIIS', 'FIIN','DIIB', 'DIIS', 'DIIN', 'August', 'December', 'CAD', 'DAD', 'DOD''NDAD', 'Currey', 'Flow', 'Shine', 'Vega'. \n",
        "\n",
        " # Data Cleaning\n",
        "\n",
        " First do the data cleaning process, dropped 2 columns index and date columns.\n",
        "\n",
        "# Data Split\n",
        "\n",
        "Split the train and Test data with ratio 70%-30%\n",
        "\n",
        "# Model Training\n",
        "\n",
        "Select the label class to predict.\n",
        "Fit() and Predictions performed based on the autogluon models \n",
        "\n",
        "# do Hyperparametr tuning and ensemble techniques\n",
        "\n",
        " 1.preprocesses raw data (identifies the type of each feature)\n",
        "\n",
        " 2.identifies what type of prediction problem this is (binary/multi-class classification or regression) \n",
        "\n",
        " 3.splits data appropriately   (eg.training/validation sets, k-fold split)\n",
        "\n",
        " 4.individually trains/tunes various models (RandomForest/ExtraTrees, KNN, \n",
        " NeuralNet, GBDT)\n",
        "\n",
        " 5.assembles ensemble that outperforms all the individual models\n",
        "\n",
        " 6. Plot the HPO summary graph which will be get at summary report as html file."
      ]
    },
    {
      "cell_type": "code",
      "metadata": {
        "id": "YCSZoW-F6nOA"
      },
      "source": [
        ""
      ],
      "execution_count": null,
      "outputs": []
    }
  ]
}