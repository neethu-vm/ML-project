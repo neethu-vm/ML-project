{
  "nbformat": 4,
  "nbformat_minor": 0,
  "metadata": {
    "colab": {
      "name": "NFLData.ipynb",
      "provenance": [],
      "collapsed_sections": [],
      "mount_file_id": "1dpfVueJEXCTZpI4Tcx1R2SRu-K0iwlTH",
      "authorship_tag": "ABX9TyOHrn7B+OO/GxB3BPy3kANc",
      "include_colab_link": true
    },
    "kernelspec": {
      "name": "python3",
      "display_name": "Python 3"
    },
    "language_info": {
      "name": "python"
    },
    "accelerator": "GPU"
  },
  "cells": [
    {
      "cell_type": "markdown",
      "metadata": {
        "id": "view-in-github",
        "colab_type": "text"
      },
      "source": [
        "<a href=\"https://colab.research.google.com/github/neethu-vm/ML-project/blob/main/NFLData.ipynb\" target=\"_parent\"><img src=\"https://colab.research.google.com/assets/colab-badge.svg\" alt=\"Open In Colab\"/></a>"
      ]
    },
    {
      "cell_type": "markdown",
      "metadata": {
        "id": "g6dgnwmYZM4P"
      },
      "source": [
        "First Name : Neethu\n",
        "\n",
        "Last Name  : VM\n",
        "\n",
        "Start Date : 08/07/2021 \n"
      ]
    },
    {
      "cell_type": "code",
      "metadata": {
        "colab": {
          "base_uri": "https://localhost:8080/"
        },
        "id": "Jelwsyz8aWC0",
        "outputId": "0626a41f-d9f6-49dd-abf9-5cce76e66110"
      },
      "source": [
        "!python3 -m pip install -U pip\n",
        "!python3 -m pip install -U setuptools wheel\n",
        "!python3 -m pip install -U \"mxnet<2.0.0\"\n",
        "!python3 -m pip install autogluon "
      ],
      "execution_count": null,
      "outputs": [
        {
          "output_type": "stream",
          "text": [
            "Collecting pip\n",
            "\u001b[?25l  Downloading https://files.pythonhosted.org/packages/47/ca/f0d790b6e18b3a6f3bd5e80c2ee4edbb5807286c21cdd0862ca933f751dd/pip-21.1.3-py3-none-any.whl (1.5MB)\n",
            "\r\u001b[K     |▏                               | 10kB 25.9MB/s eta 0:00:01\r\u001b[K     |▍                               | 20kB 32.9MB/s eta 0:00:01\r\u001b[K     |▋                               | 30kB 36.1MB/s eta 0:00:01\r\u001b[K     |▉                               | 40kB 38.8MB/s eta 0:00:01\r\u001b[K     |█                               | 51kB 37.8MB/s eta 0:00:01\r\u001b[K     |█▎                              | 61kB 39.4MB/s eta 0:00:01\r\u001b[K     |█▌                              | 71kB 31.2MB/s eta 0:00:01\r\u001b[K     |█▊                              | 81kB 31.2MB/s eta 0:00:01\r\u001b[K     |██                              | 92kB 27.4MB/s eta 0:00:01\r\u001b[K     |██▏                             | 102kB 28.7MB/s eta 0:00:01\r\u001b[K     |██▎                             | 112kB 28.7MB/s eta 0:00:01\r\u001b[K     |██▌                             | 122kB 28.7MB/s eta 0:00:01\r\u001b[K     |██▊                             | 133kB 28.7MB/s eta 0:00:01\r\u001b[K     |███                             | 143kB 28.7MB/s eta 0:00:01\r\u001b[K     |███▏                            | 153kB 28.7MB/s eta 0:00:01\r\u001b[K     |███▍                            | 163kB 28.7MB/s eta 0:00:01\r\u001b[K     |███▋                            | 174kB 28.7MB/s eta 0:00:01\r\u001b[K     |███▉                            | 184kB 28.7MB/s eta 0:00:01\r\u001b[K     |████                            | 194kB 28.7MB/s eta 0:00:01\r\u001b[K     |████▎                           | 204kB 28.7MB/s eta 0:00:01\r\u001b[K     |████▌                           | 215kB 28.7MB/s eta 0:00:01\r\u001b[K     |████▋                           | 225kB 28.7MB/s eta 0:00:01\r\u001b[K     |████▉                           | 235kB 28.7MB/s eta 0:00:01\r\u001b[K     |█████                           | 245kB 28.7MB/s eta 0:00:01\r\u001b[K     |█████▎                          | 256kB 28.7MB/s eta 0:00:01\r\u001b[K     |█████▌                          | 266kB 28.7MB/s eta 0:00:01\r\u001b[K     |█████▊                          | 276kB 28.7MB/s eta 0:00:01\r\u001b[K     |██████                          | 286kB 28.7MB/s eta 0:00:01\r\u001b[K     |██████▏                         | 296kB 28.7MB/s eta 0:00:01\r\u001b[K     |██████▍                         | 307kB 28.7MB/s eta 0:00:01\r\u001b[K     |██████▋                         | 317kB 28.7MB/s eta 0:00:01\r\u001b[K     |██████▊                         | 327kB 28.7MB/s eta 0:00:01\r\u001b[K     |███████                         | 337kB 28.7MB/s eta 0:00:01\r\u001b[K     |███████▏                        | 348kB 28.7MB/s eta 0:00:01\r\u001b[K     |███████▍                        | 358kB 28.7MB/s eta 0:00:01\r\u001b[K     |███████▋                        | 368kB 28.7MB/s eta 0:00:01\r\u001b[K     |███████▉                        | 378kB 28.7MB/s eta 0:00:01\r\u001b[K     |████████                        | 389kB 28.7MB/s eta 0:00:01\r\u001b[K     |████████▎                       | 399kB 28.7MB/s eta 0:00:01\r\u001b[K     |████████▌                       | 409kB 28.7MB/s eta 0:00:01\r\u001b[K     |████████▊                       | 419kB 28.7MB/s eta 0:00:01\r\u001b[K     |█████████                       | 430kB 28.7MB/s eta 0:00:01\r\u001b[K     |█████████                       | 440kB 28.7MB/s eta 0:00:01\r\u001b[K     |█████████▎                      | 450kB 28.7MB/s eta 0:00:01\r\u001b[K     |█████████▌                      | 460kB 28.7MB/s eta 0:00:01\r\u001b[K     |█████████▊                      | 471kB 28.7MB/s eta 0:00:01\r\u001b[K     |██████████                      | 481kB 28.7MB/s eta 0:00:01\r\u001b[K     |██████████▏                     | 491kB 28.7MB/s eta 0:00:01\r\u001b[K     |██████████▍                     | 501kB 28.7MB/s eta 0:00:01\r\u001b[K     |██████████▋                     | 512kB 28.7MB/s eta 0:00:01\r\u001b[K     |██████████▉                     | 522kB 28.7MB/s eta 0:00:01\r\u001b[K     |███████████                     | 532kB 28.7MB/s eta 0:00:01\r\u001b[K     |███████████▏                    | 542kB 28.7MB/s eta 0:00:01\r\u001b[K     |███████████▍                    | 552kB 28.7MB/s eta 0:00:01\r\u001b[K     |███████████▋                    | 563kB 28.7MB/s eta 0:00:01\r\u001b[K     |███████████▉                    | 573kB 28.7MB/s eta 0:00:01\r\u001b[K     |████████████                    | 583kB 28.7MB/s eta 0:00:01\r\u001b[K     |████████████▎                   | 593kB 28.7MB/s eta 0:00:01\r\u001b[K     |████████████▌                   | 604kB 28.7MB/s eta 0:00:01\r\u001b[K     |████████████▊                   | 614kB 28.7MB/s eta 0:00:01\r\u001b[K     |█████████████                   | 624kB 28.7MB/s eta 0:00:01\r\u001b[K     |█████████████▏                  | 634kB 28.7MB/s eta 0:00:01\r\u001b[K     |█████████████▍                  | 645kB 28.7MB/s eta 0:00:01\r\u001b[K     |█████████████▌                  | 655kB 28.7MB/s eta 0:00:01\r\u001b[K     |█████████████▊                  | 665kB 28.7MB/s eta 0:00:01\r\u001b[K     |██████████████                  | 675kB 28.7MB/s eta 0:00:01\r\u001b[K     |██████████████▏                 | 686kB 28.7MB/s eta 0:00:01\r\u001b[K     |██████████████▍                 | 696kB 28.7MB/s eta 0:00:01\r\u001b[K     |██████████████▋                 | 706kB 28.7MB/s eta 0:00:01\r\u001b[K     |██████████████▉                 | 716kB 28.7MB/s eta 0:00:01\r\u001b[K     |███████████████                 | 727kB 28.7MB/s eta 0:00:01\r\u001b[K     |███████████████▎                | 737kB 28.7MB/s eta 0:00:01\r\u001b[K     |███████████████▌                | 747kB 28.7MB/s eta 0:00:01\r\u001b[K     |███████████████▋                | 757kB 28.7MB/s eta 0:00:01\r\u001b[K     |███████████████▉                | 768kB 28.7MB/s eta 0:00:01\r\u001b[K     |████████████████                | 778kB 28.7MB/s eta 0:00:01\r\u001b[K     |████████████████▎               | 788kB 28.7MB/s eta 0:00:01\r\u001b[K     |████████████████▌               | 798kB 28.7MB/s eta 0:00:01\r\u001b[K     |████████████████▊               | 808kB 28.7MB/s eta 0:00:01\r\u001b[K     |█████████████████               | 819kB 28.7MB/s eta 0:00:01\r\u001b[K     |█████████████████▏              | 829kB 28.7MB/s eta 0:00:01\r\u001b[K     |█████████████████▍              | 839kB 28.7MB/s eta 0:00:01\r\u001b[K     |█████████████████▋              | 849kB 28.7MB/s eta 0:00:01\r\u001b[K     |█████████████████▉              | 860kB 28.7MB/s eta 0:00:01\r\u001b[K     |██████████████████              | 870kB 28.7MB/s eta 0:00:01\r\u001b[K     |██████████████████▏             | 880kB 28.7MB/s eta 0:00:01\r\u001b[K     |██████████████████▍             | 890kB 28.7MB/s eta 0:00:01\r\u001b[K     |██████████████████▋             | 901kB 28.7MB/s eta 0:00:01\r\u001b[K     |██████████████████▉             | 911kB 28.7MB/s eta 0:00:01\r\u001b[K     |███████████████████             | 921kB 28.7MB/s eta 0:00:01\r\u001b[K     |███████████████████▎            | 931kB 28.7MB/s eta 0:00:01\r\u001b[K     |███████████████████▌            | 942kB 28.7MB/s eta 0:00:01\r\u001b[K     |███████████████████▊            | 952kB 28.7MB/s eta 0:00:01\r\u001b[K     |████████████████████            | 962kB 28.7MB/s eta 0:00:01\r\u001b[K     |████████████████████            | 972kB 28.7MB/s eta 0:00:01\r\u001b[K     |████████████████████▎           | 983kB 28.7MB/s eta 0:00:01\r\u001b[K     |████████████████████▌           | 993kB 28.7MB/s eta 0:00:01\r\u001b[K     |████████████████████▊           | 1.0MB 28.7MB/s eta 0:00:01\r\u001b[K     |█████████████████████           | 1.0MB 28.7MB/s eta 0:00:01\r\u001b[K     |█████████████████████▏          | 1.0MB 28.7MB/s eta 0:00:01\r\u001b[K     |█████████████████████▍          | 1.0MB 28.7MB/s eta 0:00:01\r\u001b[K     |█████████████████████▋          | 1.0MB 28.7MB/s eta 0:00:01\r\u001b[K     |█████████████████████▉          | 1.1MB 28.7MB/s eta 0:00:01\r\u001b[K     |██████████████████████          | 1.1MB 28.7MB/s eta 0:00:01\r\u001b[K     |██████████████████████▎         | 1.1MB 28.7MB/s eta 0:00:01\r\u001b[K     |██████████████████████▍         | 1.1MB 28.7MB/s eta 0:00:01\r\u001b[K     |██████████████████████▋         | 1.1MB 28.7MB/s eta 0:00:01\r\u001b[K     |██████████████████████▉         | 1.1MB 28.7MB/s eta 0:00:01\r\u001b[K     |███████████████████████         | 1.1MB 28.7MB/s eta 0:00:01\r\u001b[K     |███████████████████████▎        | 1.1MB 28.7MB/s eta 0:00:01\r\u001b[K     |███████████████████████▌        | 1.1MB 28.7MB/s eta 0:00:01\r\u001b[K     |███████████████████████▊        | 1.1MB 28.7MB/s eta 0:00:01\r\u001b[K     |████████████████████████        | 1.2MB 28.7MB/s eta 0:00:01\r\u001b[K     |████████████████████████▏       | 1.2MB 28.7MB/s eta 0:00:01\r\u001b[K     |████████████████████████▍       | 1.2MB 28.7MB/s eta 0:00:01\r\u001b[K     |████████████████████████▌       | 1.2MB 28.7MB/s eta 0:00:01\r\u001b[K     |████████████████████████▊       | 1.2MB 28.7MB/s eta 0:00:01\r\u001b[K     |█████████████████████████       | 1.2MB 28.7MB/s eta 0:00:01\r\u001b[K     |█████████████████████████▏      | 1.2MB 28.7MB/s eta 0:00:01\r\u001b[K     |█████████████████████████▍      | 1.2MB 28.7MB/s eta 0:00:01\r\u001b[K     |█████████████████████████▋      | 1.2MB 28.7MB/s eta 0:00:01\r\u001b[K     |█████████████████████████▉      | 1.2MB 28.7MB/s eta 0:00:01\r\u001b[K     |██████████████████████████      | 1.3MB 28.7MB/s eta 0:00:01\r\u001b[K     |██████████████████████████▎     | 1.3MB 28.7MB/s eta 0:00:01\r\u001b[K     |██████████████████████████▌     | 1.3MB 28.7MB/s eta 0:00:01\r\u001b[K     |██████████████████████████▊     | 1.3MB 28.7MB/s eta 0:00:01\r\u001b[K     |██████████████████████████▉     | 1.3MB 28.7MB/s eta 0:00:01\r\u001b[K     |███████████████████████████     | 1.3MB 28.7MB/s eta 0:00:01\r\u001b[K     |███████████████████████████▎    | 1.3MB 28.7MB/s eta 0:00:01\r\u001b[K     |███████████████████████████▌    | 1.3MB 28.7MB/s eta 0:00:01\r\u001b[K     |███████████████████████████▊    | 1.3MB 28.7MB/s eta 0:00:01\r\u001b[K     |████████████████████████████    | 1.4MB 28.7MB/s eta 0:00:01\r\u001b[K     |████████████████████████████▏   | 1.4MB 28.7MB/s eta 0:00:01\r\u001b[K     |████████████████████████████▍   | 1.4MB 28.7MB/s eta 0:00:01\r\u001b[K     |████████████████████████████▋   | 1.4MB 28.7MB/s eta 0:00:01\r\u001b[K     |████████████████████████████▉   | 1.4MB 28.7MB/s eta 0:00:01\r\u001b[K     |█████████████████████████████   | 1.4MB 28.7MB/s eta 0:00:01\r\u001b[K     |█████████████████████████████▏  | 1.4MB 28.7MB/s eta 0:00:01\r\u001b[K     |█████████████████████████████▍  | 1.4MB 28.7MB/s eta 0:00:01\r\u001b[K     |█████████████████████████████▋  | 1.4MB 28.7MB/s eta 0:00:01\r\u001b[K     |█████████████████████████████▉  | 1.4MB 28.7MB/s eta 0:00:01\r\u001b[K     |██████████████████████████████  | 1.5MB 28.7MB/s eta 0:00:01\r\u001b[K     |██████████████████████████████▎ | 1.5MB 28.7MB/s eta 0:00:01\r\u001b[K     |██████████████████████████████▌ | 1.5MB 28.7MB/s eta 0:00:01\r\u001b[K     |██████████████████████████████▊ | 1.5MB 28.7MB/s eta 0:00:01\r\u001b[K     |███████████████████████████████ | 1.5MB 28.7MB/s eta 0:00:01\r\u001b[K     |███████████████████████████████▏| 1.5MB 28.7MB/s eta 0:00:01\r\u001b[K     |███████████████████████████████▎| 1.5MB 28.7MB/s eta 0:00:01\r\u001b[K     |███████████████████████████████▌| 1.5MB 28.7MB/s eta 0:00:01\r\u001b[K     |███████████████████████████████▊| 1.5MB 28.7MB/s eta 0:00:01\r\u001b[K     |████████████████████████████████| 1.5MB 28.7MB/s eta 0:00:01\r\u001b[K     |████████████████████████████████| 1.6MB 28.7MB/s \n",
            "\u001b[?25hInstalling collected packages: pip\n",
            "  Found existing installation: pip 19.3.1\n",
            "    Uninstalling pip-19.3.1:\n",
            "      Successfully uninstalled pip-19.3.1\n",
            "Successfully installed pip-21.1.3\n",
            "Requirement already satisfied: setuptools in /usr/local/lib/python3.7/dist-packages (57.0.0)\n",
            "Collecting setuptools\n",
            "  Downloading setuptools-57.1.0-py3-none-any.whl (818 kB)\n",
            "\u001b[K     |████████████████████████████████| 818 kB 36.1 MB/s \n",
            "\u001b[?25hRequirement already satisfied: wheel in /usr/local/lib/python3.7/dist-packages (0.36.2)\n",
            "Installing collected packages: setuptools\n",
            "  Attempting uninstall: setuptools\n",
            "    Found existing installation: setuptools 57.0.0\n",
            "    Uninstalling setuptools-57.0.0:\n",
            "      Successfully uninstalled setuptools-57.0.0\n",
            "\u001b[31mERROR: pip's dependency resolver does not currently take into account all the packages that are installed. This behaviour is the source of the following dependency conflicts.\n",
            "datascience 0.10.6 requires folium==0.2.1, but you have folium 0.8.3 which is incompatible.\u001b[0m\n",
            "Successfully installed setuptools-57.1.0\n",
            "\u001b[33mWARNING: Running pip as the 'root' user can result in broken permissions and conflicting behaviour with the system package manager. It is recommended to use a virtual environment instead: https://pip.pypa.io/warnings/venv\u001b[0m\n",
            "Collecting mxnet<2.0.0\n",
            "  Downloading mxnet-1.8.0.post0-py2.py3-none-manylinux2014_x86_64.whl (46.9 MB)\n",
            "\u001b[K     |████████████████████████████████| 46.9 MB 38 kB/s \n",
            "\u001b[?25hRequirement already satisfied: numpy<2.0.0,>1.16.0 in /usr/local/lib/python3.7/dist-packages (from mxnet<2.0.0) (1.19.5)\n",
            "Requirement already satisfied: requests<3,>=2.20.0 in /usr/local/lib/python3.7/dist-packages (from mxnet<2.0.0) (2.23.0)\n",
            "Collecting graphviz<0.9.0,>=0.8.1\n",
            "  Downloading graphviz-0.8.4-py2.py3-none-any.whl (16 kB)\n",
            "Requirement already satisfied: chardet<4,>=3.0.2 in /usr/local/lib/python3.7/dist-packages (from requests<3,>=2.20.0->mxnet<2.0.0) (3.0.4)\n",
            "Requirement already satisfied: certifi>=2017.4.17 in /usr/local/lib/python3.7/dist-packages (from requests<3,>=2.20.0->mxnet<2.0.0) (2021.5.30)\n",
            "Requirement already satisfied: idna<3,>=2.5 in /usr/local/lib/python3.7/dist-packages (from requests<3,>=2.20.0->mxnet<2.0.0) (2.10)\n",
            "Requirement already satisfied: urllib3!=1.25.0,!=1.25.1,<1.26,>=1.21.1 in /usr/local/lib/python3.7/dist-packages (from requests<3,>=2.20.0->mxnet<2.0.0) (1.24.3)\n",
            "Installing collected packages: graphviz, mxnet\n",
            "  Attempting uninstall: graphviz\n",
            "    Found existing installation: graphviz 0.10.1\n",
            "    Uninstalling graphviz-0.10.1:\n",
            "      Successfully uninstalled graphviz-0.10.1\n",
            "Successfully installed graphviz-0.8.4 mxnet-1.8.0.post0\n",
            "\u001b[33mWARNING: Running pip as the 'root' user can result in broken permissions and conflicting behaviour with the system package manager. It is recommended to use a virtual environment instead: https://pip.pypa.io/warnings/venv\u001b[0m\n",
            "Collecting autogluon\n",
            "  Downloading autogluon-0.2.0-py3-none-any.whl (5.4 kB)\n",
            "Collecting autogluon.core==0.2.0\n",
            "  Downloading autogluon.core-0.2.0-py3-none-any.whl (334 kB)\n",
            "\u001b[K     |████████████████████████████████| 334 kB 39.8 MB/s \n",
            "\u001b[?25hCollecting autogluon.extra==0.2.0\n",
            "  Downloading autogluon.extra-0.2.0-py3-none-any.whl (24 kB)\n",
            "Collecting autogluon.mxnet==0.2.0\n",
            "  Downloading autogluon.mxnet-0.2.0-py3-none-any.whl (28 kB)\n",
            "Collecting autogluon.text==0.2.0\n",
            "  Downloading autogluon.text-0.2.0-py3-none-any.whl (48 kB)\n",
            "\u001b[K     |████████████████████████████████| 48 kB 6.3 MB/s \n",
            "\u001b[?25hCollecting autogluon.features==0.2.0\n",
            "  Downloading autogluon.features-0.2.0-py3-none-any.whl (48 kB)\n",
            "\u001b[K     |████████████████████████████████| 48 kB 6.6 MB/s \n",
            "\u001b[?25hCollecting autogluon.vision==0.2.0\n",
            "  Downloading autogluon.vision-0.2.0-py3-none-any.whl (31 kB)\n",
            "Collecting autogluon.tabular[all]==0.2.0\n",
            "  Downloading autogluon.tabular-0.2.0-py3-none-any.whl (250 kB)\n",
            "\u001b[K     |████████████████████████████████| 250 kB 69.8 MB/s \n",
            "\u001b[?25hRequirement already satisfied: pandas<2.0,>=1.0.0 in /usr/local/lib/python3.7/dist-packages (from autogluon.core==0.2.0->autogluon) (1.1.5)\n",
            "Collecting scipy<1.7,>=1.5.4\n",
            "  Downloading scipy-1.6.3-cp37-cp37m-manylinux1_x86_64.whl (27.4 MB)\n",
            "\u001b[K     |████████████████████████████████| 27.4 MB 108 kB/s \n",
            "\u001b[?25hRequirement already satisfied: tornado>=5.0.1 in /usr/local/lib/python3.7/dist-packages (from autogluon.core==0.2.0->autogluon) (5.1.1)\n",
            "Requirement already satisfied: cython in /usr/local/lib/python3.7/dist-packages (from autogluon.core==0.2.0->autogluon) (0.29.23)\n",
            "Requirement already satisfied: graphviz<0.9.0,>=0.8.1 in /usr/local/lib/python3.7/dist-packages (from autogluon.core==0.2.0->autogluon) (0.8.4)\n",
            "Requirement already satisfied: requests in /usr/local/lib/python3.7/dist-packages (from autogluon.core==0.2.0->autogluon) (2.23.0)\n",
            "Requirement already satisfied: matplotlib in /usr/local/lib/python3.7/dist-packages (from autogluon.core==0.2.0->autogluon) (3.2.2)\n",
            "Collecting scikit-learn<0.25,>=0.23.2\n",
            "  Downloading scikit_learn-0.24.2-cp37-cp37m-manylinux2010_x86_64.whl (22.3 MB)\n",
            "\u001b[K     |████████████████████████████████| 22.3 MB 1.5 MB/s \n",
            "\u001b[?25hRequirement already satisfied: tqdm>=4.38.0 in /usr/local/lib/python3.7/dist-packages (from autogluon.core==0.2.0->autogluon) (4.41.1)\n",
            "Collecting distributed>=2.6.0\n",
            "  Downloading distributed-2021.6.2-py3-none-any.whl (722 kB)\n",
            "\u001b[K     |████████████████████████████████| 722 kB 50.7 MB/s \n",
            "\u001b[?25hCollecting boto3\n",
            "  Downloading boto3-1.17.108-py2.py3-none-any.whl (131 kB)\n",
            "\u001b[K     |████████████████████████████████| 131 kB 54.9 MB/s \n",
            "\u001b[?25hCollecting dill==0.3.3\n",
            "  Downloading dill-0.3.3-py2.py3-none-any.whl (81 kB)\n",
            "\u001b[K     |████████████████████████████████| 81 kB 11.4 MB/s \n",
            "\u001b[?25hRequirement already satisfied: autograd>=1.3 in /usr/local/lib/python3.7/dist-packages (from autogluon.core==0.2.0->autogluon) (1.3)\n",
            "Collecting ConfigSpace==0.4.18\n",
            "  Downloading ConfigSpace-0.4.18.tar.gz (950 kB)\n",
            "\u001b[K     |████████████████████████████████| 950 kB 56.1 MB/s \n",
            "\u001b[?25h  Installing build dependencies ... \u001b[?25l\u001b[?25hdone\n",
            "  Getting requirements to build wheel ... \u001b[?25l\u001b[?25hdone\n",
            "    Preparing wheel metadata ... \u001b[?25l\u001b[?25hdone\n",
            "Collecting paramiko>=2.4\n",
            "  Downloading paramiko-2.7.2-py2.py3-none-any.whl (206 kB)\n",
            "\u001b[K     |████████████████████████████████| 206 kB 64.7 MB/s \n",
            "\u001b[?25hRequirement already satisfied: numpy==1.19.5 in /usr/local/lib/python3.7/dist-packages (from autogluon.core==0.2.0->autogluon) (1.19.5)\n",
            "Requirement already satisfied: dask>=2.6.0 in /usr/local/lib/python3.7/dist-packages (from autogluon.core==0.2.0->autogluon) (2.12.0)\n",
            "Requirement already satisfied: pytest in /usr/local/lib/python3.7/dist-packages (from autogluon.extra==0.2.0->autogluon) (3.6.4)\n",
            "Collecting openml\n",
            "  Downloading openml-0.12.2.tar.gz (119 kB)\n",
            "\u001b[K     |████████████████████████████████| 119 kB 75.1 MB/s \n",
            "\u001b[?25hCollecting gluoncv<0.11,>=0.10.1.post0\n",
            "  Downloading gluoncv-0.10.3-py3-none-any.whl (1.3 MB)\n",
            "\u001b[K     |████████████████████████████████| 1.3 MB 52.3 MB/s \n",
            "\u001b[?25hRequirement already satisfied: Pillow<=8.1 in /usr/local/lib/python3.7/dist-packages (from autogluon.mxnet==0.2.0->autogluon) (7.1.2)\n",
            "Requirement already satisfied: networkx<3.0,>=2.3 in /usr/local/lib/python3.7/dist-packages (from autogluon.tabular[all]==0.2.0->autogluon) (2.5.1)\n",
            "Collecting psutil<5.9,>=5.7.3\n",
            "  Downloading psutil-5.8.0-cp37-cp37m-manylinux2010_x86_64.whl (296 kB)\n",
            "\u001b[K     |████████████████████████████████| 296 kB 71.2 MB/s \n",
            "\u001b[?25hCollecting lightgbm<4.0,>=3.0\n",
            "  Downloading lightgbm-3.2.1-py3-none-manylinux1_x86_64.whl (2.0 MB)\n",
            "\u001b[K     |████████████████████████████████| 2.0 MB 32.7 MB/s \n",
            "\u001b[?25hCollecting fastai<3.0,>=2.0\n",
            "  Downloading fastai-2.4-py3-none-any.whl (187 kB)\n",
            "\u001b[K     |████████████████████████████████| 187 kB 61.0 MB/s \n",
            "\u001b[?25hCollecting xgboost<1.4,>=1.3.2\n",
            "  Downloading xgboost-1.3.3-py3-none-manylinux2010_x86_64.whl (157.5 MB)\n",
            "\u001b[K     |████████████████████████████████| 157.5 MB 66 kB/s \n",
            "\u001b[?25hRequirement already satisfied: torch<2.0,>=1.0 in /usr/local/lib/python3.7/dist-packages (from autogluon.tabular[all]==0.2.0->autogluon) (1.9.0+cu102)\n",
            "Collecting catboost<0.26,>=0.24.0\n",
            "  Downloading catboost-0.25.1-cp37-none-manylinux1_x86_64.whl (67.3 MB)\n",
            "\u001b[K     |████████████████████████████████| 67.3 MB 4.4 kB/s \n",
            "\u001b[?25hCollecting autogluon-contrib-nlp==0.0.1b20210201\n",
            "  Downloading autogluon_contrib_nlp-0.0.1b20210201-py3-none-any.whl (157 kB)\n",
            "\u001b[K     |████████████████████████████████| 157 kB 71.9 MB/s \n",
            "\u001b[?25hRequirement already satisfied: pyarrow in /usr/local/lib/python3.7/dist-packages (from autogluon.text==0.2.0->autogluon) (3.0.0)\n",
            "Collecting sentencepiece==0.1.95\n",
            "  Downloading sentencepiece-0.1.95-cp37-cp37m-manylinux2014_x86_64.whl (1.2 MB)\n",
            "\u001b[K     |████████████████████████████████| 1.2 MB 41.3 MB/s \n",
            "\u001b[?25hCollecting sacrebleu\n",
            "  Downloading sacrebleu-1.5.1-py3-none-any.whl (54 kB)\n",
            "\u001b[K     |████████████████████████████████| 54 kB 3.9 MB/s \n",
            "\u001b[?25hCollecting yacs>=0.1.6\n",
            "  Downloading yacs-0.1.8-py3-none-any.whl (14 kB)\n",
            "Collecting tokenizers==0.9.4\n",
            "  Downloading tokenizers-0.9.4-cp37-cp37m-manylinux2010_x86_64.whl (2.9 MB)\n",
            "\u001b[K     |████████████████████████████████| 2.9 MB 55.5 MB/s \n",
            "\u001b[?25hCollecting contextvars\n",
            "  Downloading contextvars-2.4.tar.gz (9.6 kB)\n",
            "Collecting sacremoses>=0.0.38\n",
            "  Downloading sacremoses-0.0.45-py3-none-any.whl (895 kB)\n",
            "\u001b[K     |████████████████████████████████| 895 kB 41.3 MB/s \n",
            "\u001b[?25hCollecting flake8\n",
            "  Downloading flake8-3.9.2-py2.py3-none-any.whl (73 kB)\n",
            "\u001b[K     |████████████████████████████████| 73 kB 2.1 MB/s \n",
            "\u001b[?25hRequirement already satisfied: protobuf in /usr/local/lib/python3.7/dist-packages (from autogluon-contrib-nlp==0.0.1b20210201->autogluon.text==0.2.0->autogluon) (3.17.3)\n",
            "Requirement already satisfied: regex in /usr/local/lib/python3.7/dist-packages (from autogluon-contrib-nlp==0.0.1b20210201->autogluon.text==0.2.0->autogluon) (2019.12.20)\n",
            "Collecting d8<1.0,>=0.0.2\n",
            "  Downloading d8-0.0.2.post0-py3-none-any.whl (28 kB)\n",
            "Requirement already satisfied: pyparsing in /usr/local/lib/python3.7/dist-packages (from ConfigSpace==0.4.18->autogluon.core==0.2.0->autogluon) (2.4.7)\n",
            "Requirement already satisfied: future>=0.15.2 in /usr/local/lib/python3.7/dist-packages (from autograd>=1.3->autogluon.core==0.2.0->autogluon) (0.16.0)\n",
            "Requirement already satisfied: six in /usr/local/lib/python3.7/dist-packages (from catboost<0.26,>=0.24.0->autogluon.tabular[all]==0.2.0->autogluon) (1.15.0)\n",
            "Requirement already satisfied: plotly in /usr/local/lib/python3.7/dist-packages (from catboost<0.26,>=0.24.0->autogluon.tabular[all]==0.2.0->autogluon) (4.4.1)\n",
            "Requirement already satisfied: kaggle in /usr/local/lib/python3.7/dist-packages (from d8<1.0,>=0.0.2->autogluon.vision==0.2.0->autogluon) (1.5.12)\n",
            "Collecting xxhash\n",
            "  Downloading xxhash-2.0.2-cp37-cp37m-manylinux2010_x86_64.whl (243 kB)\n",
            "\u001b[K     |████████████████████████████████| 243 kB 70.1 MB/s \n",
            "\u001b[?25hRequirement already satisfied: tblib>=1.6.0 in /usr/local/lib/python3.7/dist-packages (from distributed>=2.6.0->autogluon.core==0.2.0->autogluon) (1.7.0)\n",
            "Requirement already satisfied: pyyaml in /usr/local/lib/python3.7/dist-packages (from distributed>=2.6.0->autogluon.core==0.2.0->autogluon) (3.13)\n",
            "Requirement already satisfied: msgpack>=0.6.0 in /usr/local/lib/python3.7/dist-packages (from distributed>=2.6.0->autogluon.core==0.2.0->autogluon) (1.0.2)\n",
            "Collecting dask>=2.6.0\n",
            "  Downloading dask-2021.6.2-py3-none-any.whl (973 kB)\n",
            "\u001b[K     |████████████████████████████████| 973 kB 48.2 MB/s \n",
            "\u001b[?25hRequirement already satisfied: toolz>=0.8.2 in /usr/local/lib/python3.7/dist-packages (from distributed>=2.6.0->autogluon.core==0.2.0->autogluon) (0.11.1)\n",
            "Requirement already satisfied: zict>=0.1.3 in /usr/local/lib/python3.7/dist-packages (from distributed>=2.6.0->autogluon.core==0.2.0->autogluon) (2.0.0)\n",
            "Requirement already satisfied: setuptools in /usr/local/lib/python3.7/dist-packages (from distributed>=2.6.0->autogluon.core==0.2.0->autogluon) (57.1.0)\n",
            "Requirement already satisfied: click>=6.6 in /usr/local/lib/python3.7/dist-packages (from distributed>=2.6.0->autogluon.core==0.2.0->autogluon) (7.1.2)\n",
            "Requirement already satisfied: sortedcontainers!=2.0.0,!=2.0.1 in /usr/local/lib/python3.7/dist-packages (from distributed>=2.6.0->autogluon.core==0.2.0->autogluon) (2.4.0)\n",
            "Collecting cloudpickle>=1.5.0\n",
            "  Downloading cloudpickle-1.6.0-py3-none-any.whl (23 kB)\n",
            "Collecting fsspec>=0.6.0\n",
            "  Downloading fsspec-2021.6.1-py3-none-any.whl (115 kB)\n",
            "\u001b[K     |████████████████████████████████| 115 kB 74.2 MB/s \n",
            "\u001b[?25hCollecting partd>=0.3.10\n",
            "  Downloading partd-1.2.0-py3-none-any.whl (19 kB)\n",
            "Requirement already satisfied: pip in /usr/local/lib/python3.7/dist-packages (from fastai<3.0,>=2.0->autogluon.tabular[all]==0.2.0->autogluon) (21.1.3)\n",
            "Requirement already satisfied: torchvision>=0.8.2 in /usr/local/lib/python3.7/dist-packages (from fastai<3.0,>=2.0->autogluon.tabular[all]==0.2.0->autogluon) (0.10.0+cu102)\n",
            "Requirement already satisfied: spacy<4 in /usr/local/lib/python3.7/dist-packages (from fastai<3.0,>=2.0->autogluon.tabular[all]==0.2.0->autogluon) (2.2.4)\n",
            "Requirement already satisfied: fastprogress>=0.2.4 in /usr/local/lib/python3.7/dist-packages (from fastai<3.0,>=2.0->autogluon.tabular[all]==0.2.0->autogluon) (1.0.0)\n",
            "Collecting fastcore<1.4,>=1.3.8\n",
            "  Downloading fastcore-1.3.20-py3-none-any.whl (53 kB)\n",
            "\u001b[K     |████████████████████████████████| 53 kB 3.1 MB/s \n",
            "\u001b[?25hRequirement already satisfied: packaging in /usr/local/lib/python3.7/dist-packages (from fastai<3.0,>=2.0->autogluon.tabular[all]==0.2.0->autogluon) (20.9)\n",
            "Collecting autocfg\n",
            "  Downloading autocfg-0.0.8-py3-none-any.whl (13 kB)\n",
            "Requirement already satisfied: opencv-python in /usr/local/lib/python3.7/dist-packages (from gluoncv<0.11,>=0.10.1.post0->autogluon.extra==0.2.0->autogluon) (4.1.2.30)\n",
            "Collecting portalocker\n",
            "  Downloading portalocker-2.3.0-py2.py3-none-any.whl (15 kB)\n",
            "Requirement already satisfied: wheel in /usr/local/lib/python3.7/dist-packages (from lightgbm<4.0,>=3.0->autogluon.tabular[all]==0.2.0->autogluon) (0.36.2)\n",
            "Requirement already satisfied: decorator<5,>=4.3 in /usr/local/lib/python3.7/dist-packages (from networkx<3.0,>=2.3->autogluon.tabular[all]==0.2.0->autogluon) (4.4.2)\n",
            "Requirement already satisfied: pytz>=2017.2 in /usr/local/lib/python3.7/dist-packages (from pandas<2.0,>=1.0.0->autogluon.core==0.2.0->autogluon) (2018.9)\n",
            "Requirement already satisfied: python-dateutil>=2.7.3 in /usr/local/lib/python3.7/dist-packages (from pandas<2.0,>=1.0.0->autogluon.core==0.2.0->autogluon) (2.8.1)\n",
            "Collecting pynacl>=1.0.1\n",
            "  Downloading PyNaCl-1.4.0-cp35-abi3-manylinux1_x86_64.whl (961 kB)\n",
            "\u001b[K     |████████████████████████████████| 961 kB 60.1 MB/s \n",
            "\u001b[?25hCollecting cryptography>=2.5\n",
            "  Downloading cryptography-3.4.7-cp36-abi3-manylinux2014_x86_64.whl (3.2 MB)\n",
            "\u001b[K     |████████████████████████████████| 3.2 MB 23.2 MB/s \n",
            "\u001b[?25hCollecting bcrypt>=3.1.3\n",
            "  Downloading bcrypt-3.2.0-cp36-abi3-manylinux2010_x86_64.whl (63 kB)\n",
            "\u001b[K     |████████████████████████████████| 63 kB 3.2 MB/s \n",
            "\u001b[?25hRequirement already satisfied: cffi>=1.1 in /usr/local/lib/python3.7/dist-packages (from bcrypt>=3.1.3->paramiko>=2.4->autogluon.core==0.2.0->autogluon) (1.14.5)\n",
            "Requirement already satisfied: pycparser in /usr/local/lib/python3.7/dist-packages (from cffi>=1.1->bcrypt>=3.1.3->paramiko>=2.4->autogluon.core==0.2.0->autogluon) (2.20)\n",
            "Collecting locket\n",
            "  Downloading locket-0.2.1-py2.py3-none-any.whl (4.1 kB)\n",
            "Requirement already satisfied: joblib in /usr/local/lib/python3.7/dist-packages (from sacremoses>=0.0.38->autogluon-contrib-nlp==0.0.1b20210201->autogluon.text==0.2.0->autogluon) (1.0.1)\n",
            "Collecting threadpoolctl>=2.0.0\n",
            "  Downloading threadpoolctl-2.1.0-py3-none-any.whl (12 kB)\n",
            "Requirement already satisfied: srsly<1.1.0,>=1.0.2 in /usr/local/lib/python3.7/dist-packages (from spacy<4->fastai<3.0,>=2.0->autogluon.tabular[all]==0.2.0->autogluon) (1.0.5)\n",
            "Requirement already satisfied: thinc==7.4.0 in /usr/local/lib/python3.7/dist-packages (from spacy<4->fastai<3.0,>=2.0->autogluon.tabular[all]==0.2.0->autogluon) (7.4.0)\n",
            "Requirement already satisfied: preshed<3.1.0,>=3.0.2 in /usr/local/lib/python3.7/dist-packages (from spacy<4->fastai<3.0,>=2.0->autogluon.tabular[all]==0.2.0->autogluon) (3.0.5)\n",
            "Requirement already satisfied: cymem<2.1.0,>=2.0.2 in /usr/local/lib/python3.7/dist-packages (from spacy<4->fastai<3.0,>=2.0->autogluon.tabular[all]==0.2.0->autogluon) (2.0.5)\n",
            "Requirement already satisfied: blis<0.5.0,>=0.4.0 in /usr/local/lib/python3.7/dist-packages (from spacy<4->fastai<3.0,>=2.0->autogluon.tabular[all]==0.2.0->autogluon) (0.4.1)\n",
            "Requirement already satisfied: catalogue<1.1.0,>=0.0.7 in /usr/local/lib/python3.7/dist-packages (from spacy<4->fastai<3.0,>=2.0->autogluon.tabular[all]==0.2.0->autogluon) (1.0.0)\n",
            "Requirement already satisfied: murmurhash<1.1.0,>=0.28.0 in /usr/local/lib/python3.7/dist-packages (from spacy<4->fastai<3.0,>=2.0->autogluon.tabular[all]==0.2.0->autogluon) (1.0.5)\n",
            "Requirement already satisfied: plac<1.2.0,>=0.9.6 in /usr/local/lib/python3.7/dist-packages (from spacy<4->fastai<3.0,>=2.0->autogluon.tabular[all]==0.2.0->autogluon) (1.1.3)\n",
            "Requirement already satisfied: wasabi<1.1.0,>=0.4.0 in /usr/local/lib/python3.7/dist-packages (from spacy<4->fastai<3.0,>=2.0->autogluon.tabular[all]==0.2.0->autogluon) (0.8.2)\n",
            "Requirement already satisfied: importlib-metadata>=0.20 in /usr/local/lib/python3.7/dist-packages (from catalogue<1.1.0,>=0.0.7->spacy<4->fastai<3.0,>=2.0->autogluon.tabular[all]==0.2.0->autogluon) (4.6.0)\n",
            "Requirement already satisfied: typing-extensions>=3.6.4 in /usr/local/lib/python3.7/dist-packages (from importlib-metadata>=0.20->catalogue<1.1.0,>=0.0.7->spacy<4->fastai<3.0,>=2.0->autogluon.tabular[all]==0.2.0->autogluon) (3.7.4.3)\n",
            "Requirement already satisfied: zipp>=0.5 in /usr/local/lib/python3.7/dist-packages (from importlib-metadata>=0.20->catalogue<1.1.0,>=0.0.7->spacy<4->fastai<3.0,>=2.0->autogluon.tabular[all]==0.2.0->autogluon) (3.4.1)\n",
            "Requirement already satisfied: idna<3,>=2.5 in /usr/local/lib/python3.7/dist-packages (from requests->autogluon.core==0.2.0->autogluon) (2.10)\n",
            "Requirement already satisfied: chardet<4,>=3.0.2 in /usr/local/lib/python3.7/dist-packages (from requests->autogluon.core==0.2.0->autogluon) (3.0.4)\n",
            "Requirement already satisfied: urllib3!=1.25.0,!=1.25.1,<1.26,>=1.21.1 in /usr/local/lib/python3.7/dist-packages (from requests->autogluon.core==0.2.0->autogluon) (1.24.3)\n",
            "Requirement already satisfied: certifi>=2017.4.17 in /usr/local/lib/python3.7/dist-packages (from requests->autogluon.core==0.2.0->autogluon) (2021.5.30)\n",
            "Requirement already satisfied: heapdict in /usr/local/lib/python3.7/dist-packages (from zict>=0.1.3->distributed>=2.6.0->autogluon.core==0.2.0->autogluon) (1.0.1)\n",
            "Collecting s3transfer<0.5.0,>=0.4.0\n",
            "  Downloading s3transfer-0.4.2-py2.py3-none-any.whl (79 kB)\n",
            "\u001b[K     |████████████████████████████████| 79 kB 8.7 MB/s \n",
            "\u001b[?25hCollecting jmespath<1.0.0,>=0.7.1\n",
            "  Downloading jmespath-0.10.0-py2.py3-none-any.whl (24 kB)\n",
            "Collecting botocore<1.21.0,>=1.20.108\n",
            "  Downloading botocore-1.20.108-py2.py3-none-any.whl (7.7 MB)\n",
            "\u001b[K     |████████████████████████████████| 7.7 MB 61.6 MB/s \n",
            "\u001b[?25hCollecting urllib3!=1.25.0,!=1.25.1,<1.26,>=1.21.1\n",
            "  Downloading urllib3-1.25.11-py2.py3-none-any.whl (127 kB)\n",
            "\u001b[K     |████████████████████████████████| 127 kB 71.8 MB/s \n",
            "\u001b[?25hCollecting immutables>=0.9\n",
            "  Downloading immutables-0.15-cp37-cp37m-manylinux1_x86_64.whl (101 kB)\n",
            "\u001b[K     |████████████████████████████████| 101 kB 12.3 MB/s \n",
            "\u001b[?25hCollecting mccabe<0.7.0,>=0.6.0\n",
            "  Downloading mccabe-0.6.1-py2.py3-none-any.whl (8.6 kB)\n",
            "Collecting pyflakes<2.4.0,>=2.3.0\n",
            "  Downloading pyflakes-2.3.1-py2.py3-none-any.whl (68 kB)\n",
            "\u001b[K     |████████████████████████████████| 68 kB 7.9 MB/s \n",
            "\u001b[?25hCollecting pycodestyle<2.8.0,>=2.7.0\n",
            "  Downloading pycodestyle-2.7.0-py2.py3-none-any.whl (41 kB)\n",
            "\u001b[K     |████████████████████████████████| 41 kB 728 kB/s \n",
            "\u001b[?25hRequirement already satisfied: python-slugify in /usr/local/lib/python3.7/dist-packages (from kaggle->d8<1.0,>=0.0.2->autogluon.vision==0.2.0->autogluon) (5.0.2)\n",
            "Requirement already satisfied: cycler>=0.10 in /usr/local/lib/python3.7/dist-packages (from matplotlib->autogluon.core==0.2.0->autogluon) (0.10.0)\n",
            "Requirement already satisfied: kiwisolver>=1.0.1 in /usr/local/lib/python3.7/dist-packages (from matplotlib->autogluon.core==0.2.0->autogluon) (1.3.1)\n",
            "Collecting liac-arff>=2.4.0\n",
            "  Downloading liac-arff-2.5.0.tar.gz (13 kB)\n",
            "Collecting xmltodict\n",
            "  Downloading xmltodict-0.12.0-py2.py3-none-any.whl (9.2 kB)\n",
            "Collecting minio\n",
            "  Downloading minio-7.1.0-py3-none-any.whl (75 kB)\n",
            "\u001b[K     |████████████████████████████████| 75 kB 5.4 MB/s \n",
            "\u001b[?25hRequirement already satisfied: retrying>=1.3.3 in /usr/local/lib/python3.7/dist-packages (from plotly->catboost<0.26,>=0.24.0->autogluon.tabular[all]==0.2.0->autogluon) (1.3.3)\n",
            "Requirement already satisfied: pluggy<0.8,>=0.5 in /usr/local/lib/python3.7/dist-packages (from pytest->autogluon.extra==0.2.0->autogluon) (0.7.1)\n",
            "Requirement already satisfied: attrs>=17.4.0 in /usr/local/lib/python3.7/dist-packages (from pytest->autogluon.extra==0.2.0->autogluon) (21.2.0)\n",
            "Requirement already satisfied: atomicwrites>=1.0 in /usr/local/lib/python3.7/dist-packages (from pytest->autogluon.extra==0.2.0->autogluon) (1.4.0)\n",
            "Requirement already satisfied: py>=1.5.0 in /usr/local/lib/python3.7/dist-packages (from pytest->autogluon.extra==0.2.0->autogluon) (1.10.0)\n",
            "Requirement already satisfied: more-itertools>=4.0.0 in /usr/local/lib/python3.7/dist-packages (from pytest->autogluon.extra==0.2.0->autogluon) (8.8.0)\n",
            "Requirement already satisfied: text-unidecode>=1.3 in /usr/local/lib/python3.7/dist-packages (from python-slugify->kaggle->d8<1.0,>=0.0.2->autogluon.vision==0.2.0->autogluon) (1.3)\n",
            "Collecting portalocker\n",
            "  Downloading portalocker-2.0.0-py2.py3-none-any.whl (11 kB)\n",
            "Building wheels for collected packages: ConfigSpace, contextvars, openml, liac-arff\n",
            "  Building wheel for ConfigSpace (PEP 517) ... \u001b[?25l\u001b[?25hdone\n",
            "  Created wheel for ConfigSpace: filename=ConfigSpace-0.4.18-cp37-cp37m-linux_x86_64.whl size=2880027 sha256=4b01f0721e12d5a375bfa09dfce8488d9de57faeed153c39f1c49ce23d6b6f20\n",
            "  Stored in directory: /root/.cache/pip/wheels/36/f7/0f/36f368c419ea1a8024fc3d6c078c3111dfef43fa1d14cfebe0\n",
            "  Building wheel for contextvars (setup.py) ... \u001b[?25l\u001b[?25hdone\n",
            "  Created wheel for contextvars: filename=contextvars-2.4-py3-none-any.whl size=7680 sha256=eb0089370f31adee1d5257253ca4cf8195e5a5a7f59a3604ae0ca1a4e812696a\n",
            "  Stored in directory: /root/.cache/pip/wheels/0a/11/79/e70e668095c0bb1f94718af672ef2d35ee7a023fee56ef54d9\n",
            "  Building wheel for openml (setup.py) ... \u001b[?25l\u001b[?25hdone\n",
            "  Created wheel for openml: filename=openml-0.12.2-py3-none-any.whl size=137326 sha256=a6057fcafeed3f95741b64576dd25422bb1bdf15f99cd1fa6a963ba526e11794\n",
            "  Stored in directory: /root/.cache/pip/wheels/6a/20/88/cf4ac86aa18e2cd647ed16ebe274a5dacee9d0075fa02af250\n",
            "  Building wheel for liac-arff (setup.py) ... \u001b[?25l\u001b[?25hdone\n",
            "  Created wheel for liac-arff: filename=liac_arff-2.5.0-py3-none-any.whl size=11730 sha256=d88727c5d039b1cacda41d535ea225c5f5d5db165fc7fc62caa76394fc8e0b7b\n",
            "  Stored in directory: /root/.cache/pip/wheels/1f/0f/15/332ca86cbebf25ddf98518caaf887945fbe1712b97a0f2493b\n",
            "Successfully built ConfigSpace contextvars openml liac-arff\n",
            "Installing collected packages: urllib3, locket, jmespath, partd, fsspec, cloudpickle, botocore, threadpoolctl, scipy, s3transfer, pynacl, psutil, dask, cryptography, bcrypt, scikit-learn, paramiko, distributed, dill, ConfigSpace, boto3, xmltodict, pyflakes, pycodestyle, portalocker, minio, mccabe, liac-arff, immutables, autogluon.core, yacs, xxhash, tokenizers, sentencepiece, sacremoses, sacrebleu, openml, flake8, fastcore, contextvars, autogluon.features, autocfg, xgboost, lightgbm, gluoncv, fastai, d8, catboost, autogluon.tabular, autogluon.mxnet, autogluon-contrib-nlp, autogluon.vision, autogluon.text, autogluon.extra, autogluon\n",
            "  Attempting uninstall: urllib3\n",
            "    Found existing installation: urllib3 1.24.3\n",
            "    Uninstalling urllib3-1.24.3:\n",
            "      Successfully uninstalled urllib3-1.24.3\n",
            "  Attempting uninstall: cloudpickle\n",
            "    Found existing installation: cloudpickle 1.3.0\n",
            "    Uninstalling cloudpickle-1.3.0:\n",
            "      Successfully uninstalled cloudpickle-1.3.0\n",
            "  Attempting uninstall: scipy\n",
            "    Found existing installation: scipy 1.4.1\n",
            "    Uninstalling scipy-1.4.1:\n",
            "      Successfully uninstalled scipy-1.4.1\n",
            "  Attempting uninstall: psutil\n",
            "    Found existing installation: psutil 5.4.8\n",
            "    Uninstalling psutil-5.4.8:\n",
            "      Successfully uninstalled psutil-5.4.8\n",
            "  Attempting uninstall: dask\n",
            "    Found existing installation: dask 2.12.0\n",
            "    Uninstalling dask-2.12.0:\n",
            "      Successfully uninstalled dask-2.12.0\n",
            "  Attempting uninstall: scikit-learn\n",
            "    Found existing installation: scikit-learn 0.22.2.post1\n",
            "    Uninstalling scikit-learn-0.22.2.post1:\n",
            "      Successfully uninstalled scikit-learn-0.22.2.post1\n",
            "  Attempting uninstall: distributed\n",
            "    Found existing installation: distributed 1.25.3\n",
            "    Uninstalling distributed-1.25.3:\n",
            "      Successfully uninstalled distributed-1.25.3\n",
            "  Attempting uninstall: dill\n",
            "    Found existing installation: dill 0.3.4\n",
            "    Uninstalling dill-0.3.4:\n",
            "      Successfully uninstalled dill-0.3.4\n",
            "  Attempting uninstall: xgboost\n",
            "    Found existing installation: xgboost 0.90\n",
            "    Uninstalling xgboost-0.90:\n",
            "      Successfully uninstalled xgboost-0.90\n",
            "  Attempting uninstall: lightgbm\n",
            "    Found existing installation: lightgbm 2.2.3\n",
            "    Uninstalling lightgbm-2.2.3:\n",
            "      Successfully uninstalled lightgbm-2.2.3\n",
            "  Attempting uninstall: fastai\n",
            "    Found existing installation: fastai 1.0.61\n",
            "    Uninstalling fastai-1.0.61:\n",
            "      Successfully uninstalled fastai-1.0.61\n",
            "\u001b[31mERROR: pip's dependency resolver does not currently take into account all the packages that are installed. This behaviour is the source of the following dependency conflicts.\n",
            "multiprocess 0.70.12.2 requires dill>=0.3.4, but you have dill 0.3.3 which is incompatible.\n",
            "datascience 0.10.6 requires folium==0.2.1, but you have folium 0.8.3 which is incompatible.\n",
            "albumentations 0.1.12 requires imgaug<0.2.7,>=0.2.5, but you have imgaug 0.2.9 which is incompatible.\u001b[0m\n",
            "Successfully installed ConfigSpace-0.4.18 autocfg-0.0.8 autogluon-0.2.0 autogluon-contrib-nlp-0.0.1b20210201 autogluon.core-0.2.0 autogluon.extra-0.2.0 autogluon.features-0.2.0 autogluon.mxnet-0.2.0 autogluon.tabular-0.2.0 autogluon.text-0.2.0 autogluon.vision-0.2.0 bcrypt-3.2.0 boto3-1.17.108 botocore-1.20.108 catboost-0.25.1 cloudpickle-1.6.0 contextvars-2.4 cryptography-3.4.7 d8-0.0.2.post0 dask-2021.6.2 dill-0.3.3 distributed-2021.6.2 fastai-2.4 fastcore-1.3.20 flake8-3.9.2 fsspec-2021.6.1 gluoncv-0.10.3 immutables-0.15 jmespath-0.10.0 liac-arff-2.5.0 lightgbm-3.2.1 locket-0.2.1 mccabe-0.6.1 minio-7.1.0 openml-0.12.2 paramiko-2.7.2 partd-1.2.0 portalocker-2.0.0 psutil-5.8.0 pycodestyle-2.7.0 pyflakes-2.3.1 pynacl-1.4.0 s3transfer-0.4.2 sacrebleu-1.5.1 sacremoses-0.0.45 scikit-learn-0.24.2 scipy-1.6.3 sentencepiece-0.1.95 threadpoolctl-2.1.0 tokenizers-0.9.4 urllib3-1.25.11 xgboost-1.3.3 xmltodict-0.12.0 xxhash-2.0.2 yacs-0.1.8\n",
            "\u001b[33mWARNING: Running pip as the 'root' user can result in broken permissions and conflicting behaviour with the system package manager. It is recommended to use a virtual environment instead: https://pip.pypa.io/warnings/venv\u001b[0m\n"
          ],
          "name": "stdout"
        }
      ]
    },
    {
      "cell_type": "markdown",
      "metadata": {
        "id": "ly4tR5uqXgNt"
      },
      "source": [
        "Installed All required installations "
      ]
    },
    {
      "cell_type": "code",
      "metadata": {
        "id": "kw35POKoah7F"
      },
      "source": [
        "from autogluon.tabular import TabularPredictor as task"
      ],
      "execution_count": null,
      "outputs": []
    },
    {
      "cell_type": "code",
      "metadata": {
        "id": "2fA5fr33btu0"
      },
      "source": [
        "import numpy as np"
      ],
      "execution_count": null,
      "outputs": []
    },
    {
      "cell_type": "code",
      "metadata": {
        "id": "-1jeyzrKcBUz"
      },
      "source": [
        "import pandas as pd"
      ],
      "execution_count": null,
      "outputs": []
    },
    {
      "cell_type": "code",
      "metadata": {
        "colab": {
          "base_uri": "https://localhost:8080/"
        },
        "id": "xX-bszK3iyKg",
        "outputId": "0e862b8a-d772-413b-950f-62674cc0948f"
      },
      "source": [
        "from google.colab import drive\n",
        "drive.mount('/content/drive')"
      ],
      "execution_count": null,
      "outputs": [
        {
          "output_type": "stream",
          "text": [
            "Mounted at /content/drive\n"
          ],
          "name": "stdout"
        }
      ]
    },
    {
      "cell_type": "code",
      "metadata": {
        "id": "Wz_MRBgcji0v"
      },
      "source": [
        "PATH = \"/content/drive/MyDrive/Colab Notebooks/nfldata6.csv\""
      ],
      "execution_count": null,
      "outputs": []
    },
    {
      "cell_type": "code",
      "metadata": {
        "colab": {
          "base_uri": "https://localhost:8080/",
          "height": 224
        },
        "id": "2h1oTnUjkYP_",
        "outputId": "e5adf840-a10a-4eff-e44d-2429ee1514eb"
      },
      "source": [
        "\n",
        "data = pd.read_csv(PATH)\n",
        "\n",
        "data.head()"
      ],
      "execution_count": null,
      "outputs": [
        {
          "output_type": "execute_result",
          "data": {
            "text/html": [
              "<div>\n",
              "<style scoped>\n",
              "    .dataframe tbody tr th:only-of-type {\n",
              "        vertical-align: middle;\n",
              "    }\n",
              "\n",
              "    .dataframe tbody tr th {\n",
              "        vertical-align: top;\n",
              "    }\n",
              "\n",
              "    .dataframe thead th {\n",
              "        text-align: right;\n",
              "    }\n",
              "</style>\n",
              "<table border=\"1\" class=\"dataframe\">\n",
              "  <thead>\n",
              "    <tr style=\"text-align: right;\">\n",
              "      <th></th>\n",
              "      <th>_c0</th>\n",
              "      <th>Date(IST)</th>\n",
              "      <th>NFO</th>\n",
              "      <th>NFH</th>\n",
              "      <th>NFL</th>\n",
              "      <th>NFC</th>\n",
              "      <th>FIIB</th>\n",
              "      <th>FIIS</th>\n",
              "      <th>FIIN</th>\n",
              "      <th>DIIB</th>\n",
              "      <th>DIIS</th>\n",
              "      <th>DIIN</th>\n",
              "      <th>August</th>\n",
              "      <th>December</th>\n",
              "      <th>CAD</th>\n",
              "      <th>DAD</th>\n",
              "      <th>DOD</th>\n",
              "      <th>NDAD</th>\n",
              "      <th>Currey</th>\n",
              "      <th>Flow</th>\n",
              "      <th>Shine</th>\n",
              "      <th>Vega</th>\n",
              "    </tr>\n",
              "  </thead>\n",
              "  <tbody>\n",
              "    <tr>\n",
              "      <th>0</th>\n",
              "      <td>1</td>\n",
              "      <td>2020-01-02</td>\n",
              "      <td>12115.673242</td>\n",
              "      <td>12177.119957</td>\n",
              "      <td>12151.571552</td>\n",
              "      <td>12216.272367</td>\n",
              "      <td>2670.78</td>\n",
              "      <td>1982.02</td>\n",
              "      <td>688.76</td>\n",
              "      <td>3490.16</td>\n",
              "      <td>3426.21</td>\n",
              "      <td>63.95</td>\n",
              "      <td>1356.0</td>\n",
              "      <td>482.0</td>\n",
              "      <td>-0.01</td>\n",
              "      <td>0.397</td>\n",
              "      <td>-0.98</td>\n",
              "      <td>0.72</td>\n",
              "      <td>-0.0520</td>\n",
              "      <td>0.0399</td>\n",
              "      <td>-0.10</td>\n",
              "      <td>-1.309999</td>\n",
              "    </tr>\n",
              "    <tr>\n",
              "      <th>1</th>\n",
              "      <td>2</td>\n",
              "      <td>2020-01-03</td>\n",
              "      <td>12195.406448</td>\n",
              "      <td>12275.487382</td>\n",
              "      <td>12173.355954</td>\n",
              "      <td>12251.196928</td>\n",
              "      <td>4514.35</td>\n",
              "      <td>3251.30</td>\n",
              "      <td>1263.05</td>\n",
              "      <td>2750.87</td>\n",
              "      <td>3780.07</td>\n",
              "      <td>-1029.20</td>\n",
              "      <td>879.0</td>\n",
              "      <td>973.0</td>\n",
              "      <td>-0.23</td>\n",
              "      <td>-0.510</td>\n",
              "      <td>-1.33</td>\n",
              "      <td>0.46</td>\n",
              "      <td>0.4430</td>\n",
              "      <td>0.5648</td>\n",
              "      <td>0.08</td>\n",
              "      <td>1.550000</td>\n",
              "    </tr>\n",
              "    <tr>\n",
              "      <th>2</th>\n",
              "      <td>3</td>\n",
              "      <td>2020-01-06</td>\n",
              "      <td>12272.929018</td>\n",
              "      <td>12299.127043</td>\n",
              "      <td>12181.887534</td>\n",
              "      <td>12228.903255</td>\n",
              "      <td>3732.00</td>\n",
              "      <td>3835.84</td>\n",
              "      <td>-103.84</td>\n",
              "      <td>3778.78</td>\n",
              "      <td>3802.48</td>\n",
              "      <td>-23.70</td>\n",
              "      <td>360.0</td>\n",
              "      <td>1502.0</td>\n",
              "      <td>-0.17</td>\n",
              "      <td>0.015</td>\n",
              "      <td>-0.21</td>\n",
              "      <td>-0.07</td>\n",
              "      <td>0.0877</td>\n",
              "      <td>-0.0690</td>\n",
              "      <td>-0.18</td>\n",
              "      <td>-0.170000</td>\n",
              "    </tr>\n",
              "    <tr>\n",
              "      <th>3</th>\n",
              "      <td>4</td>\n",
              "      <td>2020-01-07</td>\n",
              "      <td>12237.309351</td>\n",
              "      <td>12242.227141</td>\n",
              "      <td>12030.371144</td>\n",
              "      <td>12051.960005</td>\n",
              "      <td>3911.17</td>\n",
              "      <td>4593.40</td>\n",
              "      <td>-682.23</td>\n",
              "      <td>4205.16</td>\n",
              "      <td>3893.97</td>\n",
              "      <td>311.19</td>\n",
              "      <td>1248.0</td>\n",
              "      <td>578.0</td>\n",
              "      <td>-0.21</td>\n",
              "      <td>-0.050</td>\n",
              "      <td>-0.02</td>\n",
              "      <td>-1.79</td>\n",
              "      <td>-0.0437</td>\n",
              "      <td>-0.0208</td>\n",
              "      <td>0.08</td>\n",
              "      <td>-0.060000</td>\n",
              "    </tr>\n",
              "    <tr>\n",
              "      <th>4</th>\n",
              "      <td>5</td>\n",
              "      <td>2020-01-08</td>\n",
              "      <td>12149.137851</td>\n",
              "      <td>12192.474725</td>\n",
              "      <td>11985.555622</td>\n",
              "      <td>12017.343536</td>\n",
              "      <td>4109.04</td>\n",
              "      <td>4624.89</td>\n",
              "      <td>-515.85</td>\n",
              "      <td>5162.02</td>\n",
              "      <td>4413.62</td>\n",
              "      <td>748.40</td>\n",
              "      <td>725.0</td>\n",
              "      <td>1109.0</td>\n",
              "      <td>0.56</td>\n",
              "      <td>0.305</td>\n",
              "      <td>0.54</td>\n",
              "      <td>-0.59</td>\n",
              "      <td>-0.2980</td>\n",
              "      <td>-0.6992</td>\n",
              "      <td>-0.65</td>\n",
              "      <td>-0.340000</td>\n",
              "    </tr>\n",
              "  </tbody>\n",
              "</table>\n",
              "</div>"
            ],
            "text/plain": [
              "   _c0   Date(IST)           NFO           NFH  ...  Currey    Flow  Shine      Vega\n",
              "0    1  2020-01-02  12115.673242  12177.119957  ... -0.0520  0.0399  -0.10 -1.309999\n",
              "1    2  2020-01-03  12195.406448  12275.487382  ...  0.4430  0.5648   0.08  1.550000\n",
              "2    3  2020-01-06  12272.929018  12299.127043  ...  0.0877 -0.0690  -0.18 -0.170000\n",
              "3    4  2020-01-07  12237.309351  12242.227141  ... -0.0437 -0.0208   0.08 -0.060000\n",
              "4    5  2020-01-08  12149.137851  12192.474725  ... -0.2980 -0.6992  -0.65 -0.340000\n",
              "\n",
              "[5 rows x 22 columns]"
            ]
          },
          "metadata": {
            "tags": []
          },
          "execution_count": 51
        }
      ]
    },
    {
      "cell_type": "code",
      "metadata": {
        "colab": {
          "base_uri": "https://localhost:8080/"
        },
        "id": "XidfvSwfvypG",
        "outputId": "d47cd7ae-6a1d-436a-ef31-8ea68f8739b8"
      },
      "source": [
        "data.columns"
      ],
      "execution_count": null,
      "outputs": [
        {
          "output_type": "execute_result",
          "data": {
            "text/plain": [
              "Index(['_c0', 'Date(IST)', 'NFO', 'NFH', 'NFL', 'NFC', 'FIIB', 'FIIS', 'FIIN',\n",
              "       'DIIB', 'DIIS', 'DIIN', 'August', 'December', 'CAD', 'DAD', 'DOD',\n",
              "       'NDAD', 'Currey', 'Flow', 'Shine', 'Vega'],\n",
              "      dtype='object')"
            ]
          },
          "metadata": {
            "tags": []
          },
          "execution_count": 52
        }
      ]
    },
    {
      "cell_type": "code",
      "metadata": {
        "id": "zV4poC4sz-f5"
      },
      "source": [
        "data = data.drop(['_c0'],axis=1)"
      ],
      "execution_count": null,
      "outputs": []
    },
    {
      "cell_type": "markdown",
      "metadata": {
        "id": "TJRRCl0DYqAb"
      },
      "source": [
        "Dividing Dataset to 70% train and 30% test"
      ]
    },
    {
      "cell_type": "code",
      "metadata": {
        "id": "o9Flkw1IkdoC"
      },
      "source": [
        "size = int(0.7*data.shape[0])\n",
        "train_df = data[:size]\n",
        "test_df = data[size:]"
      ],
      "execution_count": null,
      "outputs": []
    },
    {
      "cell_type": "markdown",
      "metadata": {
        "id": "YOMiZEDTY6SW"
      },
      "source": [
        ""
      ]
    },
    {
      "cell_type": "code",
      "metadata": {
        "colab": {
          "base_uri": "https://localhost:8080/",
          "height": 224
        },
        "id": "NLr11_-7vpXv",
        "outputId": "d1a8ac1d-f1b5-4801-9445-49c48ad21463"
      },
      "source": [
        "train_df.head()"
      ],
      "execution_count": null,
      "outputs": [
        {
          "output_type": "execute_result",
          "data": {
            "text/html": [
              "<div>\n",
              "<style scoped>\n",
              "    .dataframe tbody tr th:only-of-type {\n",
              "        vertical-align: middle;\n",
              "    }\n",
              "\n",
              "    .dataframe tbody tr th {\n",
              "        vertical-align: top;\n",
              "    }\n",
              "\n",
              "    .dataframe thead th {\n",
              "        text-align: right;\n",
              "    }\n",
              "</style>\n",
              "<table border=\"1\" class=\"dataframe\">\n",
              "  <thead>\n",
              "    <tr style=\"text-align: right;\">\n",
              "      <th></th>\n",
              "      <th>Date(IST)</th>\n",
              "      <th>NFO</th>\n",
              "      <th>NFH</th>\n",
              "      <th>NFL</th>\n",
              "      <th>NFC</th>\n",
              "      <th>FIIB</th>\n",
              "      <th>FIIS</th>\n",
              "      <th>FIIN</th>\n",
              "      <th>DIIB</th>\n",
              "      <th>DIIS</th>\n",
              "      <th>DIIN</th>\n",
              "      <th>August</th>\n",
              "      <th>December</th>\n",
              "      <th>CAD</th>\n",
              "      <th>DAD</th>\n",
              "      <th>DOD</th>\n",
              "      <th>NDAD</th>\n",
              "      <th>Currey</th>\n",
              "      <th>Flow</th>\n",
              "      <th>Shine</th>\n",
              "      <th>Vega</th>\n",
              "    </tr>\n",
              "  </thead>\n",
              "  <tbody>\n",
              "    <tr>\n",
              "      <th>0</th>\n",
              "      <td>2020-01-02</td>\n",
              "      <td>12115.673242</td>\n",
              "      <td>12177.119957</td>\n",
              "      <td>12151.571552</td>\n",
              "      <td>12216.272367</td>\n",
              "      <td>2670.78</td>\n",
              "      <td>1982.02</td>\n",
              "      <td>688.76</td>\n",
              "      <td>3490.16</td>\n",
              "      <td>3426.21</td>\n",
              "      <td>63.95</td>\n",
              "      <td>1356.0</td>\n",
              "      <td>482.0</td>\n",
              "      <td>-0.01</td>\n",
              "      <td>0.397</td>\n",
              "      <td>-0.98</td>\n",
              "      <td>0.72</td>\n",
              "      <td>-0.0520</td>\n",
              "      <td>0.0399</td>\n",
              "      <td>-0.10</td>\n",
              "      <td>-1.309999</td>\n",
              "    </tr>\n",
              "    <tr>\n",
              "      <th>1</th>\n",
              "      <td>2020-01-03</td>\n",
              "      <td>12195.406448</td>\n",
              "      <td>12275.487382</td>\n",
              "      <td>12173.355954</td>\n",
              "      <td>12251.196928</td>\n",
              "      <td>4514.35</td>\n",
              "      <td>3251.30</td>\n",
              "      <td>1263.05</td>\n",
              "      <td>2750.87</td>\n",
              "      <td>3780.07</td>\n",
              "      <td>-1029.20</td>\n",
              "      <td>879.0</td>\n",
              "      <td>973.0</td>\n",
              "      <td>-0.23</td>\n",
              "      <td>-0.510</td>\n",
              "      <td>-1.33</td>\n",
              "      <td>0.46</td>\n",
              "      <td>0.4430</td>\n",
              "      <td>0.5648</td>\n",
              "      <td>0.08</td>\n",
              "      <td>1.550000</td>\n",
              "    </tr>\n",
              "    <tr>\n",
              "      <th>2</th>\n",
              "      <td>2020-01-06</td>\n",
              "      <td>12272.929018</td>\n",
              "      <td>12299.127043</td>\n",
              "      <td>12181.887534</td>\n",
              "      <td>12228.903255</td>\n",
              "      <td>3732.00</td>\n",
              "      <td>3835.84</td>\n",
              "      <td>-103.84</td>\n",
              "      <td>3778.78</td>\n",
              "      <td>3802.48</td>\n",
              "      <td>-23.70</td>\n",
              "      <td>360.0</td>\n",
              "      <td>1502.0</td>\n",
              "      <td>-0.17</td>\n",
              "      <td>0.015</td>\n",
              "      <td>-0.21</td>\n",
              "      <td>-0.07</td>\n",
              "      <td>0.0877</td>\n",
              "      <td>-0.0690</td>\n",
              "      <td>-0.18</td>\n",
              "      <td>-0.170000</td>\n",
              "    </tr>\n",
              "    <tr>\n",
              "      <th>3</th>\n",
              "      <td>2020-01-07</td>\n",
              "      <td>12237.309351</td>\n",
              "      <td>12242.227141</td>\n",
              "      <td>12030.371144</td>\n",
              "      <td>12051.960005</td>\n",
              "      <td>3911.17</td>\n",
              "      <td>4593.40</td>\n",
              "      <td>-682.23</td>\n",
              "      <td>4205.16</td>\n",
              "      <td>3893.97</td>\n",
              "      <td>311.19</td>\n",
              "      <td>1248.0</td>\n",
              "      <td>578.0</td>\n",
              "      <td>-0.21</td>\n",
              "      <td>-0.050</td>\n",
              "      <td>-0.02</td>\n",
              "      <td>-1.79</td>\n",
              "      <td>-0.0437</td>\n",
              "      <td>-0.0208</td>\n",
              "      <td>0.08</td>\n",
              "      <td>-0.060000</td>\n",
              "    </tr>\n",
              "    <tr>\n",
              "      <th>4</th>\n",
              "      <td>2020-01-08</td>\n",
              "      <td>12149.137851</td>\n",
              "      <td>12192.474725</td>\n",
              "      <td>11985.555622</td>\n",
              "      <td>12017.343536</td>\n",
              "      <td>4109.04</td>\n",
              "      <td>4624.89</td>\n",
              "      <td>-515.85</td>\n",
              "      <td>5162.02</td>\n",
              "      <td>4413.62</td>\n",
              "      <td>748.40</td>\n",
              "      <td>725.0</td>\n",
              "      <td>1109.0</td>\n",
              "      <td>0.56</td>\n",
              "      <td>0.305</td>\n",
              "      <td>0.54</td>\n",
              "      <td>-0.59</td>\n",
              "      <td>-0.2980</td>\n",
              "      <td>-0.6992</td>\n",
              "      <td>-0.65</td>\n",
              "      <td>-0.340000</td>\n",
              "    </tr>\n",
              "  </tbody>\n",
              "</table>\n",
              "</div>"
            ],
            "text/plain": [
              "    Date(IST)           NFO           NFH  ...    Flow  Shine      Vega\n",
              "0  2020-01-02  12115.673242  12177.119957  ...  0.0399  -0.10 -1.309999\n",
              "1  2020-01-03  12195.406448  12275.487382  ...  0.5648   0.08  1.550000\n",
              "2  2020-01-06  12272.929018  12299.127043  ... -0.0690  -0.18 -0.170000\n",
              "3  2020-01-07  12237.309351  12242.227141  ... -0.0208   0.08 -0.060000\n",
              "4  2020-01-08  12149.137851  12192.474725  ... -0.6992  -0.65 -0.340000\n",
              "\n",
              "[5 rows x 21 columns]"
            ]
          },
          "metadata": {
            "tags": []
          },
          "execution_count": 135
        }
      ]
    },
    {
      "cell_type": "code",
      "metadata": {
        "colab": {
          "base_uri": "https://localhost:8080/",
          "height": 224
        },
        "id": "7C1GryyLksXa",
        "outputId": "b73eebba-b0a6-42bf-ec45-78ca4d01ee52"
      },
      "source": [
        "test_df.head()\n",
        "      "
      ],
      "execution_count": null,
      "outputs": [
        {
          "output_type": "execute_result",
          "data": {
            "text/html": [
              "<div>\n",
              "<style scoped>\n",
              "    .dataframe tbody tr th:only-of-type {\n",
              "        vertical-align: middle;\n",
              "    }\n",
              "\n",
              "    .dataframe tbody tr th {\n",
              "        vertical-align: top;\n",
              "    }\n",
              "\n",
              "    .dataframe thead th {\n",
              "        text-align: right;\n",
              "    }\n",
              "</style>\n",
              "<table border=\"1\" class=\"dataframe\">\n",
              "  <thead>\n",
              "    <tr style=\"text-align: right;\">\n",
              "      <th></th>\n",
              "      <th>Date(IST)</th>\n",
              "      <th>NFO</th>\n",
              "      <th>NFH</th>\n",
              "      <th>NFL</th>\n",
              "      <th>NFC</th>\n",
              "      <th>FIIB</th>\n",
              "      <th>FIIS</th>\n",
              "      <th>FIIN</th>\n",
              "      <th>DIIB</th>\n",
              "      <th>DIIS</th>\n",
              "      <th>DIIN</th>\n",
              "      <th>August</th>\n",
              "      <th>December</th>\n",
              "      <th>CAD</th>\n",
              "      <th>DAD</th>\n",
              "      <th>DOD</th>\n",
              "      <th>NDAD</th>\n",
              "      <th>Currey</th>\n",
              "      <th>Flow</th>\n",
              "      <th>Shine</th>\n",
              "      <th>Vega</th>\n",
              "    </tr>\n",
              "  </thead>\n",
              "  <tbody>\n",
              "    <tr>\n",
              "      <th>250</th>\n",
              "      <td>2021-01-19</td>\n",
              "      <td>14682.481531</td>\n",
              "      <td>14714.912106</td>\n",
              "      <td>14480.442931</td>\n",
              "      <td>14573.937584</td>\n",
              "      <td>6715.91</td>\n",
              "      <td>6458.36</td>\n",
              "      <td>257.55</td>\n",
              "      <td>5146.41</td>\n",
              "      <td>5345.71</td>\n",
              "      <td>-199.30</td>\n",
              "      <td>1431.0</td>\n",
              "      <td>517.0</td>\n",
              "      <td>-0.10</td>\n",
              "      <td>0.3965</td>\n",
              "      <td>0.24</td>\n",
              "      <td>2.22</td>\n",
              "      <td>-0.0010</td>\n",
              "      <td>0.2139</td>\n",
              "      <td>0.25</td>\n",
              "      <td>-1.100000</td>\n",
              "    </tr>\n",
              "    <tr>\n",
              "      <th>251</th>\n",
              "      <td>2021-01-20</td>\n",
              "      <td>14515.578392</td>\n",
              "      <td>14645.972963</td>\n",
              "      <td>14427.467418</td>\n",
              "      <td>14572.879876</td>\n",
              "      <td>7701.29</td>\n",
              "      <td>5412.24</td>\n",
              "      <td>2289.05</td>\n",
              "      <td>5084.73</td>\n",
              "      <td>5949.35</td>\n",
              "      <td>-864.62</td>\n",
              "      <td>997.0</td>\n",
              "      <td>937.0</td>\n",
              "      <td>-0.45</td>\n",
              "      <td>0.1000</td>\n",
              "      <td>1.02</td>\n",
              "      <td>1.41</td>\n",
              "      <td>-0.2290</td>\n",
              "      <td>0.0200</td>\n",
              "      <td>0.44</td>\n",
              "      <td>-1.660000</td>\n",
              "    </tr>\n",
              "    <tr>\n",
              "      <th>252</th>\n",
              "      <td>2021-01-21</td>\n",
              "      <td>14551.584522</td>\n",
              "      <td>14693.201278</td>\n",
              "      <td>14517.302013</td>\n",
              "      <td>14655.403965</td>\n",
              "      <td>9104.25</td>\n",
              "      <td>7489.59</td>\n",
              "      <td>1614.66</td>\n",
              "      <td>5053.57</td>\n",
              "      <td>6093.05</td>\n",
              "      <td>-1039.48</td>\n",
              "      <td>601.0</td>\n",
              "      <td>1369.0</td>\n",
              "      <td>-0.03</td>\n",
              "      <td>0.1150</td>\n",
              "      <td>-1.01</td>\n",
              "      <td>-2.27</td>\n",
              "      <td>0.0405</td>\n",
              "      <td>-0.0240</td>\n",
              "      <td>-0.15</td>\n",
              "      <td>-0.260000</td>\n",
              "    </tr>\n",
              "    <tr>\n",
              "      <th>253</th>\n",
              "      <td>2021-01-22</td>\n",
              "      <td>14703.493836</td>\n",
              "      <td>14771.798953</td>\n",
              "      <td>14553.138062</td>\n",
              "      <td>14647.997590</td>\n",
              "      <td>8326.77</td>\n",
              "      <td>8962.46</td>\n",
              "      <td>-635.69</td>\n",
              "      <td>4859.95</td>\n",
              "      <td>6150.30</td>\n",
              "      <td>-1290.35</td>\n",
              "      <td>477.0</td>\n",
              "      <td>1472.0</td>\n",
              "      <td>0.39</td>\n",
              "      <td>-0.0700</td>\n",
              "      <td>-0.06</td>\n",
              "      <td>-0.98</td>\n",
              "      <td>0.0146</td>\n",
              "      <td>-0.2160</td>\n",
              "      <td>-0.21</td>\n",
              "      <td>0.590000</td>\n",
              "    </tr>\n",
              "    <tr>\n",
              "      <th>254</th>\n",
              "      <td>2021-01-25</td>\n",
              "      <td>14661.259872</td>\n",
              "      <td>14704.740581</td>\n",
              "      <td>14448.256300</td>\n",
              "      <td>14480.847650</td>\n",
              "      <td>8423.37</td>\n",
              "      <td>9188.67</td>\n",
              "      <td>-765.30</td>\n",
              "      <td>5090.23</td>\n",
              "      <td>5477.99</td>\n",
              "      <td>-387.76</td>\n",
              "      <td>501.0</td>\n",
              "      <td>1457.0</td>\n",
              "      <td>-1.03</td>\n",
              "      <td>-0.3550</td>\n",
              "      <td>-0.27</td>\n",
              "      <td>1.88</td>\n",
              "      <td>-0.0301</td>\n",
              "      <td>0.1574</td>\n",
              "      <td>-0.03</td>\n",
              "      <td>1.280001</td>\n",
              "    </tr>\n",
              "  </tbody>\n",
              "</table>\n",
              "</div>"
            ],
            "text/plain": [
              "      Date(IST)           NFO           NFH  ...    Flow  Shine      Vega\n",
              "250  2021-01-19  14682.481531  14714.912106  ...  0.2139   0.25 -1.100000\n",
              "251  2021-01-20  14515.578392  14645.972963  ...  0.0200   0.44 -1.660000\n",
              "252  2021-01-21  14551.584522  14693.201278  ... -0.0240  -0.15 -0.260000\n",
              "253  2021-01-22  14703.493836  14771.798953  ... -0.2160  -0.21  0.590000\n",
              "254  2021-01-25  14661.259872  14704.740581  ...  0.1574  -0.03  1.280001\n",
              "\n",
              "[5 rows x 21 columns]"
            ]
          },
          "metadata": {
            "tags": []
          },
          "execution_count": 136
        }
      ]
    },
    {
      "cell_type": "code",
      "metadata": {
        "colab": {
          "base_uri": "https://localhost:8080/"
        },
        "id": "Bmr4AgyX5Vck",
        "outputId": "93dab0ae-3895-42cf-cea3-7ec7971d73d5"
      },
      "source": [
        "train_df.shape"
      ],
      "execution_count": null,
      "outputs": [
        {
          "output_type": "execute_result",
          "data": {
            "text/plain": [
              "(250, 21)"
            ]
          },
          "metadata": {
            "tags": []
          },
          "execution_count": 137
        }
      ]
    },
    {
      "cell_type": "code",
      "metadata": {
        "colab": {
          "base_uri": "https://localhost:8080/"
        },
        "id": "gOVsaTJI5bGt",
        "outputId": "31891e0e-dd5d-49b7-c622-a4c3e42baae6"
      },
      "source": [
        "test_df.shape"
      ],
      "execution_count": null,
      "outputs": [
        {
          "output_type": "execute_result",
          "data": {
            "text/plain": [
              "(108, 21)"
            ]
          },
          "metadata": {
            "tags": []
          },
          "execution_count": 138
        }
      ]
    },
    {
      "cell_type": "code",
      "metadata": {
        "id": "V14g4itPlCfi"
      },
      "source": [
        "train_data = task.Dataset(data=train_df)\n",
        "test_data = task.Dataset(data=test_df)"
      ],
      "execution_count": null,
      "outputs": []
    },
    {
      "cell_type": "code",
      "metadata": {
        "colab": {
          "base_uri": "https://localhost:8080/"
        },
        "id": "mj67LYFtr7Xg",
        "outputId": "8c72abad-cc4a-4a32-96bc-d116315a331e"
      },
      "source": [
        "print(train_data.head())"
      ],
      "execution_count": null,
      "outputs": [
        {
          "output_type": "stream",
          "text": [
            "    Date(IST)           NFO           NFH  ...    Flow  Shine      Vega\n",
            "0  2020-01-02  12115.673242  12177.119957  ...  0.0399  -0.10 -1.309999\n",
            "1  2020-01-03  12195.406448  12275.487382  ...  0.5648   0.08  1.550000\n",
            "2  2020-01-06  12272.929018  12299.127043  ... -0.0690  -0.18 -0.170000\n",
            "3  2020-01-07  12237.309351  12242.227141  ... -0.0208   0.08 -0.060000\n",
            "4  2020-01-08  12149.137851  12192.474725  ... -0.6992  -0.65 -0.340000\n",
            "\n",
            "[5 rows x 21 columns]\n"
          ],
          "name": "stdout"
        }
      ]
    },
    {
      "cell_type": "code",
      "metadata": {
        "colab": {
          "base_uri": "https://localhost:8080/"
        },
        "id": "RX90xmfMlE_l",
        "outputId": "41ade698-1789-4b99-a1a5-7560ee3973f1"
      },
      "source": [
        "print(test_data.head())"
      ],
      "execution_count": null,
      "outputs": [
        {
          "output_type": "stream",
          "text": [
            "      Date(IST)           NFO           NFH  ...    Flow  Shine      Vega\n",
            "250  2021-01-19  14682.481531  14714.912106  ...  0.2139   0.25 -1.100000\n",
            "251  2021-01-20  14515.578392  14645.972963  ...  0.0200   0.44 -1.660000\n",
            "252  2021-01-21  14551.584522  14693.201278  ... -0.0240  -0.15 -0.260000\n",
            "253  2021-01-22  14703.493836  14771.798953  ... -0.2160  -0.21  0.590000\n",
            "254  2021-01-25  14661.259872  14704.740581  ...  0.1574  -0.03  1.280001\n",
            "\n",
            "[5 rows x 21 columns]\n"
          ],
          "name": "stdout"
        }
      ]
    },
    {
      "cell_type": "code",
      "metadata": {
        "id": "5UfyXkLclr6w"
      },
      "source": [
        "label_column = 'NFH'"
      ],
      "execution_count": null,
      "outputs": []
    },
    {
      "cell_type": "code",
      "metadata": {
        "colab": {
          "base_uri": "https://localhost:8080/"
        },
        "id": "1MuGCqFHT7aM",
        "outputId": "580f3171-0458-4922-a3db-5101066b6078"
      },
      "source": [
        "train_data[label_column].describe()"
      ],
      "execution_count": null,
      "outputs": [
        {
          "output_type": "execute_result",
          "data": {
            "text/plain": [
              "count      250.000000\n",
              "mean     11360.928219\n",
              "std       1491.421586\n",
              "min       7819.610704\n",
              "25%      10381.973872\n",
              "50%      11437.760114\n",
              "75%      12176.188516\n",
              "max      14730.963589\n",
              "Name: NFH, dtype: float64"
            ]
          },
          "metadata": {
            "tags": []
          },
          "execution_count": 183
        }
      ]
    },
    {
      "cell_type": "markdown",
      "metadata": {
        "id": "FeqHUSvKXvSO"
      },
      "source": [
        "Fitting the model for predictions on First dependent variable NFH"
      ]
    },
    {
      "cell_type": "code",
      "metadata": {
        "colab": {
          "base_uri": "https://localhost:8080/"
        },
        "id": "-OLrY1K5LfeT",
        "outputId": "39f341e9-ced9-4bb7-80c0-5d8159e7caed"
      },
      "source": [
        "metric = 'rmse'\n",
        "predictor = TabularPredictor(label=label_column, eval_metric=metric).fit(train_data, presets=['best_quality'], time_limit=30)"
      ],
      "execution_count": null,
      "outputs": [
        {
          "output_type": "stream",
          "text": [
            "No path specified. Models will be saved in: \"AutogluonModels/ag-20210709_081238/\"\n",
            "Presets specified: ['best_quality']\n",
            "Beginning AutoGluon training ... Time limit = 30s\n",
            "AutoGluon will save models to \"AutogluonModels/ag-20210709_081238/\"\n",
            "AutoGluon Version:  0.2.0\n",
            "Train Data Rows:    250\n",
            "Train Data Columns: 20\n",
            "Preprocessing data ...\n",
            "AutoGluon infers your prediction problem is: 'regression' (because dtype of label-column == float and many unique label-values observed).\n",
            "\tLabel info (max, min, mean, stddev): (14730.963588851202, 7819.61070394115, 11360.92822, 1491.42159)\n",
            "\tIf 'regression' is not the correct problem_type, please manually specify the problem_type argument in fit() (You may specify problem_type as one of: ['binary', 'multiclass', 'regression'])\n",
            "Using Feature Generators to preprocess the data ...\n",
            "Fitting AutoMLPipelineFeatureGenerator...\n",
            "NumExpr defaulting to 2 threads.\n",
            "\tAvailable Memory:                    12642.16 MB\n",
            "\tTrain Data (Original)  Memory Usage: 0.05 MB (0.0% of available memory)\n",
            "\tInferring data type of each feature based on column values. Set feature_metadata_in to manually specify special dtypes of the features.\n",
            "\tStage 1 Generators:\n",
            "\t\tFitting AsTypeFeatureGenerator...\n",
            "\tStage 2 Generators:\n",
            "\t\tFitting FillNaFeatureGenerator...\n",
            "\tStage 3 Generators:\n",
            "\t\tFitting IdentityFeatureGenerator...\n",
            "\t\tFitting DatetimeFeatureGenerator...\n",
            "\tStage 4 Generators:\n",
            "\t\tFitting DropUniqueFeatureGenerator...\n",
            "\tTypes of features in original data (raw dtype, special dtypes):\n",
            "\t\t('float', [])                      : 19 | ['NFO', 'NFL', 'NFC', 'FIIB', 'FIIS', ...]\n",
            "\t\t('object', ['datetime_as_object']) :  1 | ['Date(IST)']\n",
            "\tTypes of features in processed data (raw dtype, special dtypes):\n",
            "\t\t('float', [])                : 19 | ['NFO', 'NFL', 'NFC', 'FIIB', 'FIIS', ...]\n",
            "\t\t('int', ['datetime_as_int']) :  1 | ['Date(IST)']\n",
            "\t0.1s = Fit runtime\n",
            "\t20 features in original data used to generate 20 features in processed data.\n",
            "\tTrain Data (Processed) Memory Usage: 0.04 MB (0.0% of available memory)\n",
            "Data preprocessing and feature engineering runtime = 0.16s ...\n",
            "AutoGluon will gauge predictive performance using evaluation metric: 'root_mean_squared_error'\n",
            "\tTo change this, specify the eval_metric argument of fit()\n",
            "Fitting model: KNeighborsUnif_BAG_L1 ... Training model for up to 29.84s of the 29.84s of remaining time.\n",
            "\t-416.364\t = Validation root_mean_squared_error score\n",
            "\t0.01s\t = Training runtime\n",
            "\t0.11s\t = Validation runtime\n",
            "Fitting model: KNeighborsDist_BAG_L1 ... Training model for up to 29.71s of the 29.7s of remaining time.\n",
            "\t-397.4079\t = Validation root_mean_squared_error score\n",
            "\t0.0s\t = Training runtime\n",
            "\t0.1s\t = Validation runtime\n",
            "Fitting model: LightGBMXT_BAG_L1 ... Training model for up to 29.58s of the 29.58s of remaining time.\n",
            "\t-214.2177\t = Validation root_mean_squared_error score\n",
            "\t3.02s\t = Training runtime\n",
            "\t0.01s\t = Validation runtime\n",
            "Fitting model: LightGBM_BAG_L1 ... Training model for up to 26.46s of the 26.45s of remaining time.\n"
          ],
          "name": "stderr"
        },
        {
          "output_type": "stream",
          "text": [
            "[1000]\ttrain_set's rmse: 53.4895\tvalid_set's rmse: 170.777\n",
            "[1000]\ttrain_set's rmse: 8.62182\tvalid_set's rmse: 217.276\n",
            "[2000]\ttrain_set's rmse: 1.52998\tvalid_set's rmse: 215.549\n"
          ],
          "name": "stdout"
        },
        {
          "output_type": "stream",
          "text": [
            "\t-184.5386\t = Validation root_mean_squared_error score\n",
            "\t1.85s\t = Training runtime\n",
            "\t0.03s\t = Validation runtime\n",
            "Fitting model: RandomForestMSE_BAG_L1 ... Training model for up to 24.38s of the 24.37s of remaining time.\n",
            "\t-76.6408\t = Validation root_mean_squared_error score\n",
            "\t0.72s\t = Training runtime\n",
            "\t0.08s\t = Validation runtime\n",
            "Fitting model: CatBoost_BAG_L1 ... Training model for up to 23.55s of the 23.54s of remaining time.\n",
            "\t-152.4661\t = Validation root_mean_squared_error score\n",
            "\t14.45s\t = Training runtime\n",
            "\t0.01s\t = Validation runtime\n",
            "Fitting model: ExtraTreesMSE_BAG_L1 ... Training model for up to 9.06s of the 9.06s of remaining time.\n",
            "\t-67.8039\t = Validation root_mean_squared_error score\n",
            "\t0.62s\t = Training runtime\n",
            "\t0.08s\t = Validation runtime\n",
            "Fitting model: NeuralNetFastAI_BAG_L1 ... Training model for up to 8.34s of the 8.33s of remaining time.\n",
            "\tRan out of time, stopping training early.\n",
            "\tTime limit exceeded... Skipping NeuralNetFastAI_BAG_L1.\n",
            "Completed 1/20 k-fold bagging repeats ...\n",
            "Fitting model: WeightedEnsemble_L2 ... Training model for up to 29.84s of the -8.24s of remaining time.\n",
            "\t-67.8039\t = Validation root_mean_squared_error score\n",
            "\t0.27s\t = Training runtime\n",
            "\t0.0s\t = Validation runtime\n",
            "AutoGluon training complete, total runtime = 38.52s ...\n",
            "TabularPredictor saved. To load, use: predictor = TabularPredictor.load(\"AutogluonModels/ag-20210709_081238/\")\n"
          ],
          "name": "stderr"
        }
      ]
    },
    {
      "cell_type": "code",
      "metadata": {
        "colab": {
          "base_uri": "https://localhost:8080/"
        },
        "id": "A9ueYWAFl3He",
        "outputId": "69471533-8786-4028-aa1e-c54dcbc00a6f"
      },
      "source": [
        "metric = 'rmse'\n",
        "predictor = TabularPredictor(label=label_column, eval_metric=metric).fit(test_data, presets=['best_quality'], time_limit=30)"
      ],
      "execution_count": null,
      "outputs": [
        {
          "output_type": "stream",
          "text": [
            "No path specified. Models will be saved in: \"AutogluonModels/ag-20210709_081441/\"\n",
            "Presets specified: ['best_quality']\n",
            "Beginning AutoGluon training ... Time limit = 30s\n",
            "AutoGluon will save models to \"AutogluonModels/ag-20210709_081441/\"\n",
            "AutoGluon Version:  0.2.0\n",
            "Train Data Rows:    108\n",
            "Train Data Columns: 20\n",
            "Preprocessing data ...\n",
            "AutoGluon infers your prediction problem is: 'regression' (because dtype of label-column == float and many unique label-values observed).\n",
            "\tLabel info (max, min, mean, stddev): (15921.6774310452, 13879.787316883001, 15096.19088, 487.06128)\n",
            "\tIf 'regression' is not the correct problem_type, please manually specify the problem_type argument in fit() (You may specify problem_type as one of: ['binary', 'multiclass', 'regression'])\n",
            "Using Feature Generators to preprocess the data ...\n",
            "Fitting AutoMLPipelineFeatureGenerator...\n",
            "\tAvailable Memory:                    10830.59 MB\n",
            "\tTrain Data (Original)  Memory Usage: 0.02 MB (0.0% of available memory)\n",
            "\tInferring data type of each feature based on column values. Set feature_metadata_in to manually specify special dtypes of the features.\n",
            "\tStage 1 Generators:\n",
            "\t\tFitting AsTypeFeatureGenerator...\n",
            "\tStage 2 Generators:\n",
            "\t\tFitting FillNaFeatureGenerator...\n",
            "\tStage 3 Generators:\n",
            "\t\tFitting IdentityFeatureGenerator...\n",
            "\t\tFitting DatetimeFeatureGenerator...\n",
            "\tStage 4 Generators:\n",
            "\t\tFitting DropUniqueFeatureGenerator...\n",
            "\tTypes of features in original data (raw dtype, special dtypes):\n",
            "\t\t('float', [])                      : 19 | ['NFO', 'NFL', 'NFC', 'FIIB', 'FIIS', ...]\n",
            "\t\t('object', ['datetime_as_object']) :  1 | ['Date(IST)']\n",
            "\tTypes of features in processed data (raw dtype, special dtypes):\n",
            "\t\t('float', [])                : 19 | ['NFO', 'NFL', 'NFC', 'FIIB', 'FIIS', ...]\n",
            "\t\t('int', ['datetime_as_int']) :  1 | ['Date(IST)']\n",
            "\t0.1s = Fit runtime\n",
            "\t20 features in original data used to generate 20 features in processed data.\n",
            "\tTrain Data (Processed) Memory Usage: 0.02 MB (0.0% of available memory)\n",
            "Data preprocessing and feature engineering runtime = 0.12s ...\n",
            "AutoGluon will gauge predictive performance using evaluation metric: 'root_mean_squared_error'\n",
            "\tTo change this, specify the eval_metric argument of fit()\n",
            "Fitting model: KNeighborsUnif_BAG_L1 ... Training model for up to 29.88s of the 29.87s of remaining time.\n",
            "\t-316.9555\t = Validation root_mean_squared_error score\n",
            "\t0.0s\t = Training runtime\n",
            "\t0.1s\t = Validation runtime\n",
            "Fitting model: KNeighborsDist_BAG_L1 ... Training model for up to 29.76s of the 29.76s of remaining time.\n",
            "\t-313.1248\t = Validation root_mean_squared_error score\n",
            "\t0.0s\t = Training runtime\n",
            "\t0.1s\t = Validation runtime\n",
            "Fitting model: LightGBMXT_BAG_L1 ... Training model for up to 29.64s of the 29.64s of remaining time.\n"
          ],
          "name": "stderr"
        },
        {
          "output_type": "stream",
          "text": [
            "[1000]\ttrain_set's rmse: 49.8059\tvalid_set's rmse: 203.658\n",
            "[2000]\ttrain_set's rmse: 29.1154\tvalid_set's rmse: 197.58\n",
            "[3000]\ttrain_set's rmse: 18.5681\tvalid_set's rmse: 196.905\n"
          ],
          "name": "stdout"
        },
        {
          "output_type": "stream",
          "text": [
            "\t-142.6454\t = Validation root_mean_squared_error score\n",
            "\t1.21s\t = Training runtime\n",
            "\t0.01s\t = Validation runtime\n",
            "Fitting model: LightGBM_BAG_L1 ... Training model for up to 28.29s of the 28.29s of remaining time.\n"
          ],
          "name": "stderr"
        },
        {
          "output_type": "stream",
          "text": [
            "[1000]\ttrain_set's rmse: 19.2721\tvalid_set's rmse: 187.456\n"
          ],
          "name": "stdout"
        },
        {
          "output_type": "stream",
          "text": [
            "\t-127.1161\t = Validation root_mean_squared_error score\n",
            "\t0.91s\t = Training runtime\n",
            "\t0.01s\t = Validation runtime\n",
            "Fitting model: RandomForestMSE_BAG_L1 ... Training model for up to 27.32s of the 27.31s of remaining time.\n",
            "\t-70.3996\t = Validation root_mean_squared_error score\n",
            "\t0.52s\t = Training runtime\n",
            "\t0.07s\t = Validation runtime\n",
            "Fitting model: CatBoost_BAG_L1 ... Training model for up to 26.7s of the 26.7s of remaining time.\n",
            "\t-115.7328\t = Validation root_mean_squared_error score\n",
            "\t4.71s\t = Training runtime\n",
            "\t0.01s\t = Validation runtime\n",
            "Fitting model: ExtraTreesMSE_BAG_L1 ... Training model for up to 21.96s of the 21.96s of remaining time.\n",
            "\t-58.8007\t = Validation root_mean_squared_error score\n",
            "\t0.51s\t = Training runtime\n",
            "\t0.08s\t = Validation runtime\n",
            "Fitting model: NeuralNetFastAI_BAG_L1 ... Training model for up to 21.36s of the 21.36s of remaining time.\n",
            "\t-15091.2195\t = Validation root_mean_squared_error score\n",
            "\t3.63s\t = Training runtime\n",
            "\t0.08s\t = Validation runtime\n",
            "Fitting model: XGBoost_BAG_L1 ... Training model for up to 17.58s of the 17.58s of remaining time.\n",
            "\t-62.7928\t = Validation root_mean_squared_error score\n",
            "\t1.0s\t = Training runtime\n",
            "\t0.01s\t = Validation runtime\n",
            "Fitting model: NeuralNetMXNet_BAG_L1 ... Training model for up to 16.47s of the 16.47s of remaining time.\n",
            "\tTime limit exceeded... Skipping NeuralNetMXNet_BAG_L1.\n",
            "Fitting model: LightGBMLarge_BAG_L1 ... Training model for up to 14.71s of the 14.7s of remaining time.\n"
          ],
          "name": "stderr"
        },
        {
          "output_type": "stream",
          "text": [
            "[1000]\ttrain_set's rmse: 1.71954\tvalid_set's rmse: 34.6488\n",
            "[2000]\ttrain_set's rmse: 0.0779427\tvalid_set's rmse: 34.5056\n",
            "[3000]\ttrain_set's rmse: 0.00276345\tvalid_set's rmse: 34.4979\n",
            "[4000]\ttrain_set's rmse: 9.37892e-05\tvalid_set's rmse: 34.4976\n",
            "[5000]\ttrain_set's rmse: 3.30778e-06\tvalid_set's rmse: 34.4976\n",
            "[6000]\ttrain_set's rmse: 1.24778e-07\tvalid_set's rmse: 34.4976\n",
            "[7000]\ttrain_set's rmse: 4.98404e-09\tvalid_set's rmse: 34.4976\n",
            "[8000]\ttrain_set's rmse: 2.00008e-10\tvalid_set's rmse: 34.4976\n",
            "[9000]\ttrain_set's rmse: 4.53905e-11\tvalid_set's rmse: 34.4976\n",
            "[10000]\ttrain_set's rmse: 4.39373e-11\tvalid_set's rmse: 34.4976\n",
            "[1000]\ttrain_set's rmse: 0.90763\tvalid_set's rmse: 131.787\n",
            "[2000]\ttrain_set's rmse: 0.020611\tvalid_set's rmse: 131.526\n",
            "[3000]\ttrain_set's rmse: 0.000464279\tvalid_set's rmse: 131.523\n",
            "[4000]\ttrain_set's rmse: 1.02921e-05\tvalid_set's rmse: 131.523\n",
            "[5000]\ttrain_set's rmse: 2.36498e-07\tvalid_set's rmse: 131.523\n",
            "[6000]\ttrain_set's rmse: 5.52672e-09\tvalid_set's rmse: 131.523\n",
            "[7000]\ttrain_set's rmse: 1.25603e-10\tvalid_set's rmse: 131.523\n",
            "[8000]\ttrain_set's rmse: 3.9032e-11\tvalid_set's rmse: 131.523\n"
          ],
          "name": "stdout"
        },
        {
          "output_type": "stream",
          "text": [
            "\t-79.8657\t = Validation root_mean_squared_error score\n",
            "\t7.51s\t = Training runtime\n",
            "\t0.03s\t = Validation runtime\n",
            "Completed 1/20 k-fold bagging repeats ...\n",
            "Fitting model: WeightedEnsemble_L2 ... Training model for up to 29.88s of the 5.88s of remaining time.\n",
            "\t-55.3911\t = Validation root_mean_squared_error score\n",
            "\t0.37s\t = Training runtime\n",
            "\t0.0s\t = Validation runtime\n",
            "AutoGluon training complete, total runtime = 24.51s ...\n",
            "TabularPredictor saved. To load, use: predictor = TabularPredictor.load(\"AutogluonModels/ag-20210709_081441/\")\n"
          ],
          "name": "stderr"
        }
      ]
    },
    {
      "cell_type": "code",
      "metadata": {
        "colab": {
          "base_uri": "https://localhost:8080/"
        },
        "id": "52l0QIfKpNWH",
        "outputId": "17edc1ee-8df3-4bd8-b6e6-d0d9daf398e7"
      },
      "source": [
        "y_test = test_data[label_column]  # values to predict\n",
        "test_data_nolab = test_data.drop(labels=[label_column],axis=1)  # delete label column to prove we're not cheating\n",
        "print(test_data_nolab.head())"
      ],
      "execution_count": null,
      "outputs": [
        {
          "output_type": "stream",
          "text": [
            "      Date(IST)           NFO           NFL  ...    Flow  Shine      Vega\n",
            "250  2021-01-19  14682.481531  14480.442931  ...  0.2139   0.25 -1.100000\n",
            "251  2021-01-20  14515.578392  14427.467418  ...  0.0200   0.44 -1.660000\n",
            "252  2021-01-21  14551.584522  14517.302013  ... -0.0240  -0.15 -0.260000\n",
            "253  2021-01-22  14703.493836  14553.138062  ... -0.2160  -0.21  0.590000\n",
            "254  2021-01-25  14661.259872  14448.256300  ...  0.1574  -0.03  1.280001\n",
            "\n",
            "[5 rows x 20 columns]\n"
          ],
          "name": "stdout"
        }
      ]
    },
    {
      "cell_type": "markdown",
      "metadata": {
        "id": "npm8sdYAX4wp"
      },
      "source": [
        "Predictions"
      ]
    },
    {
      "cell_type": "code",
      "metadata": {
        "colab": {
          "base_uri": "https://localhost:8080/"
        },
        "id": "ZSQNcvlpquKQ",
        "outputId": "759b556f-fd85-4b45-99b6-e9e906010c50"
      },
      "source": [
        "y_pred = predictor.predict(test_data_nolab)\n",
        "print(\"Predictions:  \", y_pred)\n",
        "perf = predictor.evaluate_predictions(y_true=y_test, y_pred=y_pred, auxiliary_metrics=True)"
      ],
      "execution_count": null,
      "outputs": [
        {
          "output_type": "stream",
          "text": [
            "Evaluation: root_mean_squared_error on test data: -18.11553154569582\n",
            "\tNote: Scores are always higher_is_better. This metric score can be multiplied by -1 to get the metric value.\n",
            "Evaluations on test data:\n",
            "{\n",
            "    \"root_mean_squared_error\": -18.11553154569582,\n",
            "    \"mean_squared_error\": -328.17248318310027,\n",
            "    \"mean_absolute_error\": -11.381546195834222,\n",
            "    \"r2\": 0.9986037122482868,\n",
            "    \"pearsonr\": 0.9993660820451571,\n",
            "    \"median_absolute_error\": -8.100162360649847\n",
            "}\n"
          ],
          "name": "stderr"
        },
        {
          "output_type": "stream",
          "text": [
            "Predictions:   250    14713.847656\n",
            "251    14651.549805\n",
            "252    14703.159180\n",
            "253    14768.759766\n",
            "254    14703.569336\n",
            "           ...     \n",
            "353    15865.394531\n",
            "354    15898.544922\n",
            "355    15867.244141\n",
            "356    15846.332031\n",
            "357    15792.820312\n",
            "Name: NFH, Length: 108, dtype: float32\n"
          ],
          "name": "stdout"
        }
      ]
    },
    {
      "cell_type": "markdown",
      "metadata": {
        "id": "bCHyncwFYAwP"
      },
      "source": [
        "Doing the same method for the prediction of NFL variable"
      ]
    },
    {
      "cell_type": "code",
      "metadata": {
        "id": "KK7X6BKCqx1Q"
      },
      "source": [
        "label_column1 = 'NFL'"
      ],
      "execution_count": null,
      "outputs": []
    },
    {
      "cell_type": "code",
      "metadata": {
        "colab": {
          "base_uri": "https://localhost:8080/"
        },
        "id": "42CwUrfOW2-D",
        "outputId": "ead2706f-ca57-4eee-e9b0-969645a4c8c0"
      },
      "source": [
        "train_data[label_column1].describe()"
      ],
      "execution_count": null,
      "outputs": [
        {
          "output_type": "execute_result",
          "data": {
            "text/plain": [
              "count      250.000000\n",
              "mean     11173.554244\n",
              "std       1559.506904\n",
              "min       7264.768634\n",
              "25%      10192.636626\n",
              "50%      11324.593347\n",
              "75%      12060.032917\n",
              "max      14563.343016\n",
              "Name: NFL, dtype: float64"
            ]
          },
          "metadata": {
            "tags": []
          },
          "execution_count": 189
        }
      ]
    },
    {
      "cell_type": "code",
      "metadata": {
        "colab": {
          "base_uri": "https://localhost:8080/"
        },
        "id": "Zsrj_knIW-mn",
        "outputId": "e5e3410d-9b72-47c3-ab77-9bc0f4ef94d8"
      },
      "source": [
        "metric = 'rmse'\n",
        "predictor = TabularPredictor(label=label_column1, eval_metric=metric).fit(test_data, presets=['best_quality'], time_limit=30)"
      ],
      "execution_count": null,
      "outputs": [
        {
          "output_type": "stream",
          "text": [
            "No path specified. Models will be saved in: \"AutogluonModels/ag-20210709_082219/\"\n",
            "Presets specified: ['best_quality']\n",
            "Beginning AutoGluon training ... Time limit = 30s\n",
            "AutoGluon will save models to \"AutogluonModels/ag-20210709_082219/\"\n",
            "AutoGluon Version:  0.2.0\n",
            "Train Data Rows:    108\n",
            "Train Data Columns: 20\n",
            "Preprocessing data ...\n",
            "AutoGluon infers your prediction problem is: 'regression' (because dtype of label-column == float and many unique label-values observed).\n",
            "\tLabel info (max, min, mean, stddev): (15814.8220341054, 13520.6374274173, 14896.13368, 540.15818)\n",
            "\tIf 'regression' is not the correct problem_type, please manually specify the problem_type argument in fit() (You may specify problem_type as one of: ['binary', 'multiclass', 'regression'])\n",
            "Using Feature Generators to preprocess the data ...\n",
            "Fitting AutoMLPipelineFeatureGenerator...\n",
            "\tAvailable Memory:                    10793.37 MB\n",
            "\tTrain Data (Original)  Memory Usage: 0.02 MB (0.0% of available memory)\n",
            "\tInferring data type of each feature based on column values. Set feature_metadata_in to manually specify special dtypes of the features.\n",
            "\tStage 1 Generators:\n",
            "\t\tFitting AsTypeFeatureGenerator...\n",
            "\tStage 2 Generators:\n",
            "\t\tFitting FillNaFeatureGenerator...\n",
            "\tStage 3 Generators:\n",
            "\t\tFitting IdentityFeatureGenerator...\n",
            "\t\tFitting DatetimeFeatureGenerator...\n",
            "\tStage 4 Generators:\n",
            "\t\tFitting DropUniqueFeatureGenerator...\n",
            "\tTypes of features in original data (raw dtype, special dtypes):\n",
            "\t\t('float', [])                      : 19 | ['NFO', 'NFH', 'NFC', 'FIIB', 'FIIS', ...]\n",
            "\t\t('object', ['datetime_as_object']) :  1 | ['Date(IST)']\n",
            "\tTypes of features in processed data (raw dtype, special dtypes):\n",
            "\t\t('float', [])                : 19 | ['NFO', 'NFH', 'NFC', 'FIIB', 'FIIS', ...]\n",
            "\t\t('int', ['datetime_as_int']) :  1 | ['Date(IST)']\n",
            "\t0.1s = Fit runtime\n",
            "\t20 features in original data used to generate 20 features in processed data.\n",
            "\tTrain Data (Processed) Memory Usage: 0.02 MB (0.0% of available memory)\n",
            "Data preprocessing and feature engineering runtime = 0.13s ...\n",
            "AutoGluon will gauge predictive performance using evaluation metric: 'root_mean_squared_error'\n",
            "\tTo change this, specify the eval_metric argument of fit()\n",
            "Fitting model: KNeighborsUnif_BAG_L1 ... Training model for up to 29.87s of the 29.87s of remaining time.\n",
            "\t-357.9946\t = Validation root_mean_squared_error score\n",
            "\t0.01s\t = Training runtime\n",
            "\t0.1s\t = Validation runtime\n",
            "Fitting model: KNeighborsDist_BAG_L1 ... Training model for up to 29.75s of the 29.74s of remaining time.\n",
            "\t-354.9777\t = Validation root_mean_squared_error score\n",
            "\t0.0s\t = Training runtime\n",
            "\t0.1s\t = Validation runtime\n",
            "Fitting model: LightGBMXT_BAG_L1 ... Training model for up to 29.63s of the 29.62s of remaining time.\n"
          ],
          "name": "stderr"
        },
        {
          "output_type": "stream",
          "text": [
            "[1000]\ttrain_set's rmse: 58.5812\tvalid_set's rmse: 204.806\n",
            "[2000]\ttrain_set's rmse: 35.2981\tvalid_set's rmse: 197.492\n",
            "[3000]\ttrain_set's rmse: 22.438\tvalid_set's rmse: 195.325\n"
          ],
          "name": "stdout"
        },
        {
          "output_type": "stream",
          "text": [
            "\t-144.948\t = Validation root_mean_squared_error score\n",
            "\t1.47s\t = Training runtime\n",
            "\t0.01s\t = Validation runtime\n",
            "Fitting model: LightGBM_BAG_L1 ... Training model for up to 27.99s of the 27.98s of remaining time.\n"
          ],
          "name": "stderr"
        },
        {
          "output_type": "stream",
          "text": [
            "[1000]\ttrain_set's rmse: 53.7142\tvalid_set's rmse: 160.762\n",
            "[1000]\ttrain_set's rmse: 27.5897\tvalid_set's rmse: 178.861\n",
            "[2000]\ttrain_set's rmse: 8.8894\tvalid_set's rmse: 170.442\n",
            "[3000]\ttrain_set's rmse: 2.87486\tvalid_set's rmse: 168.334\n",
            "[4000]\ttrain_set's rmse: 0.907939\tvalid_set's rmse: 167.741\n",
            "[5000]\ttrain_set's rmse: 0.301166\tvalid_set's rmse: 167.563\n",
            "[6000]\ttrain_set's rmse: 0.0986958\tvalid_set's rmse: 167.514\n",
            "[7000]\ttrain_set's rmse: 0.0316373\tvalid_set's rmse: 167.491\n",
            "[8000]\ttrain_set's rmse: 0.0101034\tvalid_set's rmse: 167.482\n",
            "[9000]\ttrain_set's rmse: 0.0030856\tvalid_set's rmse: 167.48\n",
            "[10000]\ttrain_set's rmse: 0.000915584\tvalid_set's rmse: 167.479\n"
          ],
          "name": "stdout"
        },
        {
          "output_type": "stream",
          "text": [
            "\t-126.7906\t = Validation root_mean_squared_error score\n",
            "\t2.58s\t = Training runtime\n",
            "\t0.02s\t = Validation runtime\n",
            "Fitting model: RandomForestMSE_BAG_L1 ... Training model for up to 24.96s of the 24.96s of remaining time.\n",
            "\t-82.7741\t = Validation root_mean_squared_error score\n",
            "\t0.62s\t = Training runtime\n",
            "\t0.08s\t = Validation runtime\n",
            "Fitting model: CatBoost_BAG_L1 ... Training model for up to 24.24s of the 24.24s of remaining time.\n",
            "\t-122.3648\t = Validation root_mean_squared_error score\n",
            "\t5.36s\t = Training runtime\n",
            "\t0.01s\t = Validation runtime\n",
            "Fitting model: ExtraTreesMSE_BAG_L1 ... Training model for up to 18.84s of the 18.84s of remaining time.\n",
            "\t-74.0148\t = Validation root_mean_squared_error score\n",
            "\t0.52s\t = Training runtime\n",
            "\t0.08s\t = Validation runtime\n",
            "Fitting model: NeuralNetFastAI_BAG_L1 ... Training model for up to 18.23s of the 18.22s of remaining time.\n",
            "\t-14892.2293\t = Validation root_mean_squared_error score\n",
            "\t3.83s\t = Training runtime\n",
            "\t0.08s\t = Validation runtime\n",
            "Fitting model: XGBoost_BAG_L1 ... Training model for up to 14.26s of the 14.26s of remaining time.\n",
            "\t-65.5599\t = Validation root_mean_squared_error score\n",
            "\t1.1s\t = Training runtime\n",
            "\t0.01s\t = Validation runtime\n",
            "Fitting model: NeuralNetMXNet_BAG_L1 ... Training model for up to 13.03s of the 13.03s of remaining time.\n",
            "\tRan out of time, stopping training early. (Stopping on epoch 129)\n",
            "\t-118.635\t = Validation root_mean_squared_error score\n",
            "\t7.99s\t = Training runtime\n",
            "\t0.65s\t = Validation runtime\n",
            "Fitting model: LightGBMLarge_BAG_L1 ... Training model for up to 4.36s of the 4.36s of remaining time.\n"
          ],
          "name": "stderr"
        },
        {
          "output_type": "stream",
          "text": [
            "[1000]\ttrain_set's rmse: 1.68702\tvalid_set's rmse: 143.057\n",
            "[2000]\ttrain_set's rmse: 0.0387775\tvalid_set's rmse: 142.721\n",
            "[3000]\ttrain_set's rmse: 0.000904808\tvalid_set's rmse: 142.714\n",
            "[4000]\ttrain_set's rmse: 2.07549e-05\tvalid_set's rmse: 142.714\n"
          ],
          "name": "stdout"
        },
        {
          "output_type": "stream",
          "text": [
            "\tRan out of time, early stopping on iteration 4700. Best iteration is:\n",
            "\t[4697]\ttrain_set's rmse: 1.49494e-06\tvalid_set's rmse: 142.714\n",
            "\t-97.2119\t = Validation root_mean_squared_error score\n",
            "\t2.96s\t = Training runtime\n",
            "\t0.02s\t = Validation runtime\n",
            "Completed 1/20 k-fold bagging repeats ...\n",
            "Fitting model: WeightedEnsemble_L2 ... Training model for up to 29.87s of the 0.89s of remaining time.\n",
            "\t-58.0198\t = Validation root_mean_squared_error score\n",
            "\t0.4s\t = Training runtime\n",
            "\t0.0s\t = Validation runtime\n",
            "AutoGluon training complete, total runtime = 29.53s ...\n",
            "TabularPredictor saved. To load, use: predictor = TabularPredictor.load(\"AutogluonModels/ag-20210709_082219/\")\n"
          ],
          "name": "stderr"
        }
      ]
    },
    {
      "cell_type": "code",
      "metadata": {
        "colab": {
          "base_uri": "https://localhost:8080/"
        },
        "id": "Touiwy-kXD1X",
        "outputId": "3f60a81b-4bfa-4991-9271-9368f5b06749"
      },
      "source": [
        "y_test = test_data[label_column1]  # values to predict\n",
        "test_data_nolab = test_data.drop(labels=[label_column1],axis=1)  # delete label column to prove we're not cheating\n",
        "print(test_data_nolab.head())"
      ],
      "execution_count": null,
      "outputs": [
        {
          "output_type": "stream",
          "text": [
            "      Date(IST)           NFO           NFH  ...    Flow  Shine      Vega\n",
            "250  2021-01-19  14682.481531  14714.912106  ...  0.2139   0.25 -1.100000\n",
            "251  2021-01-20  14515.578392  14645.972963  ...  0.0200   0.44 -1.660000\n",
            "252  2021-01-21  14551.584522  14693.201278  ... -0.0240  -0.15 -0.260000\n",
            "253  2021-01-22  14703.493836  14771.798953  ... -0.2160  -0.21  0.590000\n",
            "254  2021-01-25  14661.259872  14704.740581  ...  0.1574  -0.03  1.280001\n",
            "\n",
            "[5 rows x 20 columns]\n"
          ],
          "name": "stdout"
        }
      ]
    },
    {
      "cell_type": "code",
      "metadata": {
        "colab": {
          "base_uri": "https://localhost:8080/"
        },
        "id": "Luvu9IKFXTaA",
        "outputId": "8e1315ec-6295-4a16-fd79-03d628898681"
      },
      "source": [
        "y_pred = predictor.predict(test_data_nolab)\n",
        "print(\"Predictions:  \", y_pred)\n",
        "perf = predictor.evaluate_predictions(y_true=y_test, y_pred=y_pred, auxiliary_metrics=True)"
      ],
      "execution_count": null,
      "outputs": [
        {
          "output_type": "stream",
          "text": [
            "Evaluation: root_mean_squared_error on test data: -19.514526441702696\n",
            "\tNote: Scores are always higher_is_better. This metric score can be multiplied by -1 to get the metric value.\n",
            "Evaluations on test data:\n",
            "{\n",
            "    \"root_mean_squared_error\": -19.514526441702696,\n",
            "    \"mean_squared_error\": -380.81674224391367,\n",
            "    \"mean_absolute_error\": -14.322109625537113,\n",
            "    \"r2\": 0.9986826108052529,\n",
            "    \"pearsonr\": 0.9995180743871511,\n",
            "    \"median_absolute_error\": -11.150880860999678\n",
            "}\n"
          ],
          "name": "stderr"
        },
        {
          "output_type": "stream",
          "text": [
            "Predictions:   250    14490.653320\n",
            "251    14427.355469\n",
            "252    14508.442383\n",
            "253    14549.712891\n",
            "254    14446.745117\n",
            "           ...     \n",
            "353    15745.719727\n",
            "354    15769.389648\n",
            "355    15745.084961\n",
            "356    15714.994141\n",
            "357    15660.559570\n",
            "Name: NFL, Length: 108, dtype: float32\n"
          ],
          "name": "stdout"
        }
      ]
    },
    {
      "cell_type": "code",
      "metadata": {
        "id": "P2NflFxDXbMA"
      },
      "source": [
        ""
      ],
      "execution_count": null,
      "outputs": []
    }
  ]
}