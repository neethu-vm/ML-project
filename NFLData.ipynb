{
  "nbformat": 4,
  "nbformat_minor": 0,
  "metadata": {
    "colab": {
      "name": "NFLData.ipynb",
      "provenance": [],
      "collapsed_sections": [],
      "authorship_tag": "ABX9TyOtA9Fs8+C7xPa2bjo3cZQV",
      "include_colab_link": true
    },
    "kernelspec": {
      "name": "python3",
      "display_name": "Python 3"
    },
    "language_info": {
      "name": "python"
    }
  },
  "cells": [
    {
      "cell_type": "markdown",
      "metadata": {
        "id": "view-in-github",
        "colab_type": "text"
      },
      "source": [
        "<a href=\"https://colab.research.google.com/github/neethu-vm/ML-project/blob/main/NFLData.ipynb\" target=\"_parent\"><img src=\"https://colab.research.google.com/assets/colab-badge.svg\" alt=\"Open In Colab\"/></a>"
      ]
    },
    {
      "cell_type": "markdown",
      "metadata": {
        "id": "yQMn0Pok6xPO"
      },
      "source": [
        "Neethu VM\n",
        "8/07/2021\n",
        "\n",
        "# Install all necessary libraries"
      ]
    },
    {
      "cell_type": "code",
      "metadata": {
        "colab": {
          "base_uri": "https://localhost:8080/"
        },
        "id": "M2m27o9f98tq",
        "outputId": "538f56ea-08e9-4f5e-dc7e-2f7f3ebe68f6"
      },
      "source": [
        "!python3 -m pip install -U pip\n",
        "!python3 -m pip install -U setuptools wheel\n",
        "!python3 -m pip install -U \"mxnet<2.0.0\"\n",
        "!python3 -m pip install autogluon "
      ],
      "execution_count": 2,
      "outputs": [
        {
          "output_type": "stream",
          "text": [
            "Collecting pip\n",
            "\u001b[?25l  Downloading https://files.pythonhosted.org/packages/47/ca/f0d790b6e18b3a6f3bd5e80c2ee4edbb5807286c21cdd0862ca933f751dd/pip-21.1.3-py3-none-any.whl (1.5MB)\n",
            "\u001b[K     |████████████████████████████████| 1.6MB 7.7MB/s \n",
            "\u001b[?25hInstalling collected packages: pip\n",
            "  Found existing installation: pip 19.3.1\n",
            "    Uninstalling pip-19.3.1:\n",
            "      Successfully uninstalled pip-19.3.1\n",
            "Successfully installed pip-21.1.3\n",
            "Requirement already satisfied: setuptools in /usr/local/lib/python3.7/dist-packages (57.0.0)\n",
            "Collecting setuptools\n",
            "  Downloading setuptools-57.1.0-py3-none-any.whl (818 kB)\n",
            "\u001b[K     |████████████████████████████████| 818 kB 7.0 MB/s \n",
            "\u001b[?25hRequirement already satisfied: wheel in /usr/local/lib/python3.7/dist-packages (0.36.2)\n",
            "Installing collected packages: setuptools\n",
            "  Attempting uninstall: setuptools\n",
            "    Found existing installation: setuptools 57.0.0\n",
            "    Uninstalling setuptools-57.0.0:\n",
            "      Successfully uninstalled setuptools-57.0.0\n",
            "\u001b[31mERROR: pip's dependency resolver does not currently take into account all the packages that are installed. This behaviour is the source of the following dependency conflicts.\n",
            "datascience 0.10.6 requires folium==0.2.1, but you have folium 0.8.3 which is incompatible.\u001b[0m\n",
            "Successfully installed setuptools-57.1.0\n",
            "\u001b[33mWARNING: Running pip as the 'root' user can result in broken permissions and conflicting behaviour with the system package manager. It is recommended to use a virtual environment instead: https://pip.pypa.io/warnings/venv\u001b[0m\n",
            "Collecting mxnet<2.0.0\n",
            "  Downloading mxnet-1.8.0.post0-py2.py3-none-manylinux2014_x86_64.whl (46.9 MB)\n",
            "\u001b[K     |████████████████████████████████| 46.9 MB 43 kB/s \n",
            "\u001b[?25hCollecting graphviz<0.9.0,>=0.8.1\n",
            "  Downloading graphviz-0.8.4-py2.py3-none-any.whl (16 kB)\n",
            "Requirement already satisfied: numpy<2.0.0,>1.16.0 in /usr/local/lib/python3.7/dist-packages (from mxnet<2.0.0) (1.19.5)\n",
            "Requirement already satisfied: requests<3,>=2.20.0 in /usr/local/lib/python3.7/dist-packages (from mxnet<2.0.0) (2.23.0)\n",
            "Requirement already satisfied: chardet<4,>=3.0.2 in /usr/local/lib/python3.7/dist-packages (from requests<3,>=2.20.0->mxnet<2.0.0) (3.0.4)\n",
            "Requirement already satisfied: certifi>=2017.4.17 in /usr/local/lib/python3.7/dist-packages (from requests<3,>=2.20.0->mxnet<2.0.0) (2021.5.30)\n",
            "Requirement already satisfied: urllib3!=1.25.0,!=1.25.1,<1.26,>=1.21.1 in /usr/local/lib/python3.7/dist-packages (from requests<3,>=2.20.0->mxnet<2.0.0) (1.24.3)\n",
            "Requirement already satisfied: idna<3,>=2.5 in /usr/local/lib/python3.7/dist-packages (from requests<3,>=2.20.0->mxnet<2.0.0) (2.10)\n",
            "Installing collected packages: graphviz, mxnet\n",
            "  Attempting uninstall: graphviz\n",
            "    Found existing installation: graphviz 0.10.1\n",
            "    Uninstalling graphviz-0.10.1:\n",
            "      Successfully uninstalled graphviz-0.10.1\n",
            "Successfully installed graphviz-0.8.4 mxnet-1.8.0.post0\n",
            "\u001b[33mWARNING: Running pip as the 'root' user can result in broken permissions and conflicting behaviour with the system package manager. It is recommended to use a virtual environment instead: https://pip.pypa.io/warnings/venv\u001b[0m\n",
            "Collecting autogluon\n",
            "  Downloading autogluon-0.2.0-py3-none-any.whl (5.4 kB)\n",
            "Collecting autogluon.tabular[all]==0.2.0\n",
            "  Downloading autogluon.tabular-0.2.0-py3-none-any.whl (250 kB)\n",
            "\u001b[K     |████████████████████████████████| 250 kB 7.7 MB/s \n",
            "\u001b[?25hCollecting autogluon.core==0.2.0\n",
            "  Downloading autogluon.core-0.2.0-py3-none-any.whl (334 kB)\n",
            "\u001b[K     |████████████████████████████████| 334 kB 42.8 MB/s \n",
            "\u001b[?25hCollecting autogluon.vision==0.2.0\n",
            "  Downloading autogluon.vision-0.2.0-py3-none-any.whl (31 kB)\n",
            "Collecting autogluon.mxnet==0.2.0\n",
            "  Downloading autogluon.mxnet-0.2.0-py3-none-any.whl (28 kB)\n",
            "Collecting autogluon.extra==0.2.0\n",
            "  Downloading autogluon.extra-0.2.0-py3-none-any.whl (24 kB)\n",
            "Collecting autogluon.text==0.2.0\n",
            "  Downloading autogluon.text-0.2.0-py3-none-any.whl (48 kB)\n",
            "\u001b[K     |████████████████████████████████| 48 kB 5.9 MB/s \n",
            "\u001b[?25hCollecting autogluon.features==0.2.0\n",
            "  Downloading autogluon.features-0.2.0-py3-none-any.whl (48 kB)\n",
            "\u001b[K     |████████████████████████████████| 48 kB 5.2 MB/s \n",
            "\u001b[?25hRequirement already satisfied: tqdm>=4.38.0 in /usr/local/lib/python3.7/dist-packages (from autogluon.core==0.2.0->autogluon) (4.41.1)\n",
            "Requirement already satisfied: dask>=2.6.0 in /usr/local/lib/python3.7/dist-packages (from autogluon.core==0.2.0->autogluon) (2.12.0)\n",
            "Requirement already satisfied: cython in /usr/local/lib/python3.7/dist-packages (from autogluon.core==0.2.0->autogluon) (0.29.23)\n",
            "Requirement already satisfied: matplotlib in /usr/local/lib/python3.7/dist-packages (from autogluon.core==0.2.0->autogluon) (3.2.2)\n",
            "Collecting scikit-learn<0.25,>=0.23.2\n",
            "  Downloading scikit_learn-0.24.2-cp37-cp37m-manylinux2010_x86_64.whl (22.3 MB)\n",
            "\u001b[K     |████████████████████████████████| 22.3 MB 1.5 MB/s \n",
            "\u001b[?25hRequirement already satisfied: pandas<2.0,>=1.0.0 in /usr/local/lib/python3.7/dist-packages (from autogluon.core==0.2.0->autogluon) (1.1.5)\n",
            "Requirement already satisfied: requests in /usr/local/lib/python3.7/dist-packages (from autogluon.core==0.2.0->autogluon) (2.23.0)\n",
            "Collecting paramiko>=2.4\n",
            "  Downloading paramiko-2.7.2-py2.py3-none-any.whl (206 kB)\n",
            "\u001b[K     |████████████████████████████████| 206 kB 38.4 MB/s \n",
            "\u001b[?25hCollecting boto3\n",
            "  Downloading boto3-1.17.109-py2.py3-none-any.whl (131 kB)\n",
            "\u001b[K     |████████████████████████████████| 131 kB 60.4 MB/s \n",
            "\u001b[?25hRequirement already satisfied: autograd>=1.3 in /usr/local/lib/python3.7/dist-packages (from autogluon.core==0.2.0->autogluon) (1.3)\n",
            "Collecting dill==0.3.3\n",
            "  Downloading dill-0.3.3-py2.py3-none-any.whl (81 kB)\n",
            "\u001b[K     |████████████████████████████████| 81 kB 10.8 MB/s \n",
            "\u001b[?25hRequirement already satisfied: tornado>=5.0.1 in /usr/local/lib/python3.7/dist-packages (from autogluon.core==0.2.0->autogluon) (5.1.1)\n",
            "Collecting scipy<1.7,>=1.5.4\n",
            "  Downloading scipy-1.6.3-cp37-cp37m-manylinux1_x86_64.whl (27.4 MB)\n",
            "\u001b[K     |████████████████████████████████| 27.4 MB 98 kB/s \n",
            "\u001b[?25hCollecting ConfigSpace==0.4.18\n",
            "  Downloading ConfigSpace-0.4.18.tar.gz (950 kB)\n",
            "\u001b[K     |████████████████████████████████| 950 kB 44.6 MB/s \n",
            "\u001b[?25h  Installing build dependencies ... \u001b[?25l\u001b[?25hdone\n",
            "  Getting requirements to build wheel ... \u001b[?25l\u001b[?25hdone\n",
            "    Preparing wheel metadata ... \u001b[?25l\u001b[?25hdone\n",
            "Collecting distributed>=2.6.0\n",
            "  Downloading distributed-2021.7.0-py3-none-any.whl (1.0 MB)\n",
            "\u001b[K     |████████████████████████████████| 1.0 MB 30.6 MB/s \n",
            "\u001b[?25hRequirement already satisfied: graphviz<0.9.0,>=0.8.1 in /usr/local/lib/python3.7/dist-packages (from autogluon.core==0.2.0->autogluon) (0.8.4)\n",
            "Requirement already satisfied: numpy==1.19.5 in /usr/local/lib/python3.7/dist-packages (from autogluon.core==0.2.0->autogluon) (1.19.5)\n",
            "Requirement already satisfied: pytest in /usr/local/lib/python3.7/dist-packages (from autogluon.extra==0.2.0->autogluon) (3.6.4)\n",
            "Collecting openml\n",
            "  Downloading openml-0.12.2.tar.gz (119 kB)\n",
            "\u001b[K     |████████████████████████████████| 119 kB 62.8 MB/s \n",
            "\u001b[?25hCollecting gluoncv<0.11,>=0.10.1.post0\n",
            "  Downloading gluoncv-0.10.3-py3-none-any.whl (1.3 MB)\n",
            "\u001b[K     |████████████████████████████████| 1.3 MB 33.4 MB/s \n",
            "\u001b[?25hRequirement already satisfied: Pillow<=8.1 in /usr/local/lib/python3.7/dist-packages (from autogluon.mxnet==0.2.0->autogluon) (7.1.2)\n",
            "Collecting psutil<5.9,>=5.7.3\n",
            "  Downloading psutil-5.8.0-cp37-cp37m-manylinux2010_x86_64.whl (296 kB)\n",
            "\u001b[K     |████████████████████████████████| 296 kB 54.1 MB/s \n",
            "\u001b[?25hRequirement already satisfied: networkx<3.0,>=2.3 in /usr/local/lib/python3.7/dist-packages (from autogluon.tabular[all]==0.2.0->autogluon) (2.5.1)\n",
            "Collecting xgboost<1.4,>=1.3.2\n",
            "  Downloading xgboost-1.3.3-py3-none-manylinux2010_x86_64.whl (157.5 MB)\n",
            "\u001b[K     |████████████████████████████████| 157.5 MB 65 kB/s \n",
            "\u001b[?25hCollecting lightgbm<4.0,>=3.0\n",
            "  Downloading lightgbm-3.2.1-py3-none-manylinux1_x86_64.whl (2.0 MB)\n",
            "\u001b[K     |████████████████████████████████| 2.0 MB 43.8 MB/s \n",
            "\u001b[?25hRequirement already satisfied: torch<2.0,>=1.0 in /usr/local/lib/python3.7/dist-packages (from autogluon.tabular[all]==0.2.0->autogluon) (1.9.0+cu102)\n",
            "Collecting catboost<0.26,>=0.24.0\n",
            "  Downloading catboost-0.25.1-cp37-none-manylinux1_x86_64.whl (67.3 MB)\n",
            "\u001b[K     |████████████████████████████████| 67.3 MB 4.0 kB/s \n",
            "\u001b[?25hCollecting fastai<3.0,>=2.0\n",
            "  Downloading fastai-2.4-py3-none-any.whl (187 kB)\n",
            "\u001b[K     |████████████████████████████████| 187 kB 74.0 MB/s \n",
            "\u001b[?25hRequirement already satisfied: pyarrow in /usr/local/lib/python3.7/dist-packages (from autogluon.text==0.2.0->autogluon) (3.0.0)\n",
            "Collecting autogluon-contrib-nlp==0.0.1b20210201\n",
            "  Downloading autogluon_contrib_nlp-0.0.1b20210201-py3-none-any.whl (157 kB)\n",
            "\u001b[K     |████████████████████████████████| 157 kB 79.8 MB/s \n",
            "\u001b[?25hCollecting yacs>=0.1.6\n",
            "  Downloading yacs-0.1.8-py3-none-any.whl (14 kB)\n",
            "Requirement already satisfied: regex in /usr/local/lib/python3.7/dist-packages (from autogluon-contrib-nlp==0.0.1b20210201->autogluon.text==0.2.0->autogluon) (2019.12.20)\n",
            "Collecting sacremoses>=0.0.38\n",
            "  Downloading sacremoses-0.0.45-py3-none-any.whl (895 kB)\n",
            "\u001b[K     |████████████████████████████████| 895 kB 37.1 MB/s \n",
            "\u001b[?25hCollecting contextvars\n",
            "  Downloading contextvars-2.4.tar.gz (9.6 kB)\n",
            "Requirement already satisfied: protobuf in /usr/local/lib/python3.7/dist-packages (from autogluon-contrib-nlp==0.0.1b20210201->autogluon.text==0.2.0->autogluon) (3.17.3)\n",
            "Collecting flake8\n",
            "  Downloading flake8-3.9.2-py2.py3-none-any.whl (73 kB)\n",
            "\u001b[K     |████████████████████████████████| 73 kB 2.2 MB/s \n",
            "\u001b[?25hCollecting sentencepiece==0.1.95\n",
            "  Downloading sentencepiece-0.1.95-cp37-cp37m-manylinux2014_x86_64.whl (1.2 MB)\n",
            "\u001b[K     |████████████████████████████████| 1.2 MB 32.6 MB/s \n",
            "\u001b[?25hCollecting tokenizers==0.9.4\n",
            "  Downloading tokenizers-0.9.4-cp37-cp37m-manylinux2010_x86_64.whl (2.9 MB)\n",
            "\u001b[K     |████████████████████████████████| 2.9 MB 45.6 MB/s \n",
            "\u001b[?25hCollecting sacrebleu\n",
            "  Downloading sacrebleu-1.5.1-py3-none-any.whl (54 kB)\n",
            "\u001b[K     |████████████████████████████████| 54 kB 3.2 MB/s \n",
            "\u001b[?25hCollecting d8<1.0,>=0.0.2\n",
            "  Downloading d8-0.0.2.post0-py3-none-any.whl (28 kB)\n",
            "Requirement already satisfied: pyparsing in /usr/local/lib/python3.7/dist-packages (from ConfigSpace==0.4.18->autogluon.core==0.2.0->autogluon) (2.4.7)\n",
            "Requirement already satisfied: future>=0.15.2 in /usr/local/lib/python3.7/dist-packages (from autograd>=1.3->autogluon.core==0.2.0->autogluon) (0.16.0)\n",
            "Requirement already satisfied: plotly in /usr/local/lib/python3.7/dist-packages (from catboost<0.26,>=0.24.0->autogluon.tabular[all]==0.2.0->autogluon) (4.4.1)\n",
            "Requirement already satisfied: six in /usr/local/lib/python3.7/dist-packages (from catboost<0.26,>=0.24.0->autogluon.tabular[all]==0.2.0->autogluon) (1.15.0)\n",
            "Requirement already satisfied: kaggle in /usr/local/lib/python3.7/dist-packages (from d8<1.0,>=0.0.2->autogluon.vision==0.2.0->autogluon) (1.5.12)\n",
            "Collecting xxhash\n",
            "  Downloading xxhash-2.0.2-cp37-cp37m-manylinux2010_x86_64.whl (243 kB)\n",
            "\u001b[K     |████████████████████████████████| 243 kB 75.7 MB/s \n",
            "\u001b[?25hRequirement already satisfied: toolz>=0.8.2 in /usr/local/lib/python3.7/dist-packages (from distributed>=2.6.0->autogluon.core==0.2.0->autogluon) (0.11.1)\n",
            "Requirement already satisfied: click>=6.6 in /usr/local/lib/python3.7/dist-packages (from distributed>=2.6.0->autogluon.core==0.2.0->autogluon) (7.1.2)\n",
            "Requirement already satisfied: sortedcontainers!=2.0.0,!=2.0.1 in /usr/local/lib/python3.7/dist-packages (from distributed>=2.6.0->autogluon.core==0.2.0->autogluon) (2.4.0)\n",
            "Requirement already satisfied: setuptools in /usr/local/lib/python3.7/dist-packages (from distributed>=2.6.0->autogluon.core==0.2.0->autogluon) (57.1.0)\n",
            "Requirement already satisfied: pyyaml in /usr/local/lib/python3.7/dist-packages (from distributed>=2.6.0->autogluon.core==0.2.0->autogluon) (3.13)\n",
            "Collecting dask>=2.6.0\n",
            "  Downloading dask-2021.7.0-py3-none-any.whl (977 kB)\n",
            "\u001b[K     |████████████████████████████████| 977 kB 30.0 MB/s \n",
            "\u001b[?25hRequirement already satisfied: tblib>=1.6.0 in /usr/local/lib/python3.7/dist-packages (from distributed>=2.6.0->autogluon.core==0.2.0->autogluon) (1.7.0)\n",
            "Collecting cloudpickle>=1.5.0\n",
            "  Downloading cloudpickle-1.6.0-py3-none-any.whl (23 kB)\n",
            "Requirement already satisfied: zict>=0.1.3 in /usr/local/lib/python3.7/dist-packages (from distributed>=2.6.0->autogluon.core==0.2.0->autogluon) (2.0.0)\n",
            "Requirement already satisfied: msgpack>=0.6.0 in /usr/local/lib/python3.7/dist-packages (from distributed>=2.6.0->autogluon.core==0.2.0->autogluon) (1.0.2)\n",
            "Collecting partd>=0.3.10\n",
            "  Downloading partd-1.2.0-py3-none-any.whl (19 kB)\n",
            "Collecting fsspec>=0.6.0\n",
            "  Downloading fsspec-2021.6.1-py3-none-any.whl (115 kB)\n",
            "\u001b[K     |████████████████████████████████| 115 kB 62.4 MB/s \n",
            "\u001b[?25hRequirement already satisfied: pip in /usr/local/lib/python3.7/dist-packages (from fastai<3.0,>=2.0->autogluon.tabular[all]==0.2.0->autogluon) (21.1.3)\n",
            "Requirement already satisfied: torchvision>=0.8.2 in /usr/local/lib/python3.7/dist-packages (from fastai<3.0,>=2.0->autogluon.tabular[all]==0.2.0->autogluon) (0.10.0+cu102)\n",
            "Requirement already satisfied: packaging in /usr/local/lib/python3.7/dist-packages (from fastai<3.0,>=2.0->autogluon.tabular[all]==0.2.0->autogluon) (20.9)\n",
            "Requirement already satisfied: spacy<4 in /usr/local/lib/python3.7/dist-packages (from fastai<3.0,>=2.0->autogluon.tabular[all]==0.2.0->autogluon) (2.2.4)\n",
            "Requirement already satisfied: fastprogress>=0.2.4 in /usr/local/lib/python3.7/dist-packages (from fastai<3.0,>=2.0->autogluon.tabular[all]==0.2.0->autogluon) (1.0.0)\n",
            "Collecting fastcore<1.4,>=1.3.8\n",
            "  Downloading fastcore-1.3.20-py3-none-any.whl (53 kB)\n",
            "\u001b[K     |████████████████████████████████| 53 kB 1.9 MB/s \n",
            "\u001b[?25hRequirement already satisfied: opencv-python in /usr/local/lib/python3.7/dist-packages (from gluoncv<0.11,>=0.10.1.post0->autogluon.extra==0.2.0->autogluon) (4.1.2.30)\n",
            "Collecting autocfg\n",
            "  Downloading autocfg-0.0.8-py3-none-any.whl (13 kB)\n",
            "Collecting portalocker\n",
            "  Downloading portalocker-2.3.0-py2.py3-none-any.whl (15 kB)\n",
            "Requirement already satisfied: wheel in /usr/local/lib/python3.7/dist-packages (from lightgbm<4.0,>=3.0->autogluon.tabular[all]==0.2.0->autogluon) (0.36.2)\n",
            "Requirement already satisfied: decorator<5,>=4.3 in /usr/local/lib/python3.7/dist-packages (from networkx<3.0,>=2.3->autogluon.tabular[all]==0.2.0->autogluon) (4.4.2)\n",
            "Requirement already satisfied: python-dateutil>=2.7.3 in /usr/local/lib/python3.7/dist-packages (from pandas<2.0,>=1.0.0->autogluon.core==0.2.0->autogluon) (2.8.1)\n",
            "Requirement already satisfied: pytz>=2017.2 in /usr/local/lib/python3.7/dist-packages (from pandas<2.0,>=1.0.0->autogluon.core==0.2.0->autogluon) (2018.9)\n",
            "Collecting bcrypt>=3.1.3\n",
            "  Downloading bcrypt-3.2.0-cp36-abi3-manylinux2010_x86_64.whl (63 kB)\n",
            "\u001b[K     |████████████████████████████████| 63 kB 3.0 MB/s \n",
            "\u001b[?25hCollecting pynacl>=1.0.1\n",
            "  Downloading PyNaCl-1.4.0-cp35-abi3-manylinux1_x86_64.whl (961 kB)\n",
            "\u001b[K     |████████████████████████████████| 961 kB 33.1 MB/s \n",
            "\u001b[?25hCollecting cryptography>=2.5\n",
            "  Downloading cryptography-3.4.7-cp36-abi3-manylinux2014_x86_64.whl (3.2 MB)\n",
            "\u001b[K     |████████████████████████████████| 3.2 MB 28.2 MB/s \n",
            "\u001b[?25hRequirement already satisfied: cffi>=1.1 in /usr/local/lib/python3.7/dist-packages (from bcrypt>=3.1.3->paramiko>=2.4->autogluon.core==0.2.0->autogluon) (1.14.5)\n",
            "Requirement already satisfied: pycparser in /usr/local/lib/python3.7/dist-packages (from cffi>=1.1->bcrypt>=3.1.3->paramiko>=2.4->autogluon.core==0.2.0->autogluon) (2.20)\n",
            "Collecting locket\n",
            "  Downloading locket-0.2.1-py2.py3-none-any.whl (4.1 kB)\n",
            "Requirement already satisfied: joblib in /usr/local/lib/python3.7/dist-packages (from sacremoses>=0.0.38->autogluon-contrib-nlp==0.0.1b20210201->autogluon.text==0.2.0->autogluon) (1.0.1)\n",
            "Collecting threadpoolctl>=2.0.0\n",
            "  Downloading threadpoolctl-2.2.0-py3-none-any.whl (12 kB)\n",
            "Requirement already satisfied: murmurhash<1.1.0,>=0.28.0 in /usr/local/lib/python3.7/dist-packages (from spacy<4->fastai<3.0,>=2.0->autogluon.tabular[all]==0.2.0->autogluon) (1.0.5)\n",
            "Requirement already satisfied: srsly<1.1.0,>=1.0.2 in /usr/local/lib/python3.7/dist-packages (from spacy<4->fastai<3.0,>=2.0->autogluon.tabular[all]==0.2.0->autogluon) (1.0.5)\n",
            "Requirement already satisfied: cymem<2.1.0,>=2.0.2 in /usr/local/lib/python3.7/dist-packages (from spacy<4->fastai<3.0,>=2.0->autogluon.tabular[all]==0.2.0->autogluon) (2.0.5)\n",
            "Requirement already satisfied: wasabi<1.1.0,>=0.4.0 in /usr/local/lib/python3.7/dist-packages (from spacy<4->fastai<3.0,>=2.0->autogluon.tabular[all]==0.2.0->autogluon) (0.8.2)\n",
            "Requirement already satisfied: preshed<3.1.0,>=3.0.2 in /usr/local/lib/python3.7/dist-packages (from spacy<4->fastai<3.0,>=2.0->autogluon.tabular[all]==0.2.0->autogluon) (3.0.5)\n",
            "Requirement already satisfied: blis<0.5.0,>=0.4.0 in /usr/local/lib/python3.7/dist-packages (from spacy<4->fastai<3.0,>=2.0->autogluon.tabular[all]==0.2.0->autogluon) (0.4.1)\n",
            "Requirement already satisfied: plac<1.2.0,>=0.9.6 in /usr/local/lib/python3.7/dist-packages (from spacy<4->fastai<3.0,>=2.0->autogluon.tabular[all]==0.2.0->autogluon) (1.1.3)\n",
            "Requirement already satisfied: catalogue<1.1.0,>=0.0.7 in /usr/local/lib/python3.7/dist-packages (from spacy<4->fastai<3.0,>=2.0->autogluon.tabular[all]==0.2.0->autogluon) (1.0.0)\n",
            "Requirement already satisfied: thinc==7.4.0 in /usr/local/lib/python3.7/dist-packages (from spacy<4->fastai<3.0,>=2.0->autogluon.tabular[all]==0.2.0->autogluon) (7.4.0)\n",
            "Requirement already satisfied: importlib-metadata>=0.20 in /usr/local/lib/python3.7/dist-packages (from catalogue<1.1.0,>=0.0.7->spacy<4->fastai<3.0,>=2.0->autogluon.tabular[all]==0.2.0->autogluon) (4.6.0)\n",
            "Requirement already satisfied: typing-extensions>=3.6.4 in /usr/local/lib/python3.7/dist-packages (from importlib-metadata>=0.20->catalogue<1.1.0,>=0.0.7->spacy<4->fastai<3.0,>=2.0->autogluon.tabular[all]==0.2.0->autogluon) (3.7.4.3)\n",
            "Requirement already satisfied: zipp>=0.5 in /usr/local/lib/python3.7/dist-packages (from importlib-metadata>=0.20->catalogue<1.1.0,>=0.0.7->spacy<4->fastai<3.0,>=2.0->autogluon.tabular[all]==0.2.0->autogluon) (3.4.1)\n",
            "Requirement already satisfied: urllib3!=1.25.0,!=1.25.1,<1.26,>=1.21.1 in /usr/local/lib/python3.7/dist-packages (from requests->autogluon.core==0.2.0->autogluon) (1.24.3)\n",
            "Requirement already satisfied: certifi>=2017.4.17 in /usr/local/lib/python3.7/dist-packages (from requests->autogluon.core==0.2.0->autogluon) (2021.5.30)\n",
            "Requirement already satisfied: idna<3,>=2.5 in /usr/local/lib/python3.7/dist-packages (from requests->autogluon.core==0.2.0->autogluon) (2.10)\n",
            "Requirement already satisfied: chardet<4,>=3.0.2 in /usr/local/lib/python3.7/dist-packages (from requests->autogluon.core==0.2.0->autogluon) (3.0.4)\n",
            "Requirement already satisfied: heapdict in /usr/local/lib/python3.7/dist-packages (from zict>=0.1.3->distributed>=2.6.0->autogluon.core==0.2.0->autogluon) (1.0.1)\n",
            "Collecting botocore<1.21.0,>=1.20.109\n",
            "  Downloading botocore-1.20.109-py2.py3-none-any.whl (7.7 MB)\n",
            "\u001b[K     |████████████████████████████████| 7.7 MB 30.4 MB/s \n",
            "\u001b[?25hCollecting s3transfer<0.5.0,>=0.4.0\n",
            "  Downloading s3transfer-0.4.2-py2.py3-none-any.whl (79 kB)\n",
            "\u001b[K     |████████████████████████████████| 79 kB 9.7 MB/s \n",
            "\u001b[?25hCollecting jmespath<1.0.0,>=0.7.1\n",
            "  Downloading jmespath-0.10.0-py2.py3-none-any.whl (24 kB)\n",
            "Collecting urllib3!=1.25.0,!=1.25.1,<1.26,>=1.21.1\n",
            "  Downloading urllib3-1.25.11-py2.py3-none-any.whl (127 kB)\n",
            "\u001b[K     |████████████████████████████████| 127 kB 63.6 MB/s \n",
            "\u001b[?25hCollecting immutables>=0.9\n",
            "  Downloading immutables-0.15-cp37-cp37m-manylinux1_x86_64.whl (101 kB)\n",
            "\u001b[K     |████████████████████████████████| 101 kB 10.6 MB/s \n",
            "\u001b[?25hCollecting pycodestyle<2.8.0,>=2.7.0\n",
            "  Downloading pycodestyle-2.7.0-py2.py3-none-any.whl (41 kB)\n",
            "\u001b[K     |████████████████████████████████| 41 kB 817 kB/s \n",
            "\u001b[?25hCollecting pyflakes<2.4.0,>=2.3.0\n",
            "  Downloading pyflakes-2.3.1-py2.py3-none-any.whl (68 kB)\n",
            "\u001b[K     |████████████████████████████████| 68 kB 7.3 MB/s \n",
            "\u001b[?25hCollecting mccabe<0.7.0,>=0.6.0\n",
            "  Downloading mccabe-0.6.1-py2.py3-none-any.whl (8.6 kB)\n",
            "Requirement already satisfied: python-slugify in /usr/local/lib/python3.7/dist-packages (from kaggle->d8<1.0,>=0.0.2->autogluon.vision==0.2.0->autogluon) (5.0.2)\n",
            "Requirement already satisfied: kiwisolver>=1.0.1 in /usr/local/lib/python3.7/dist-packages (from matplotlib->autogluon.core==0.2.0->autogluon) (1.3.1)\n",
            "Requirement already satisfied: cycler>=0.10 in /usr/local/lib/python3.7/dist-packages (from matplotlib->autogluon.core==0.2.0->autogluon) (0.10.0)\n",
            "Collecting liac-arff>=2.4.0\n",
            "  Downloading liac-arff-2.5.0.tar.gz (13 kB)\n",
            "Collecting xmltodict\n",
            "  Downloading xmltodict-0.12.0-py2.py3-none-any.whl (9.2 kB)\n",
            "Collecting minio\n",
            "  Downloading minio-7.1.0-py3-none-any.whl (75 kB)\n",
            "\u001b[K     |████████████████████████████████| 75 kB 5.4 MB/s \n",
            "\u001b[?25hRequirement already satisfied: retrying>=1.3.3 in /usr/local/lib/python3.7/dist-packages (from plotly->catboost<0.26,>=0.24.0->autogluon.tabular[all]==0.2.0->autogluon) (1.3.3)\n",
            "Requirement already satisfied: py>=1.5.0 in /usr/local/lib/python3.7/dist-packages (from pytest->autogluon.extra==0.2.0->autogluon) (1.10.0)\n",
            "Requirement already satisfied: attrs>=17.4.0 in /usr/local/lib/python3.7/dist-packages (from pytest->autogluon.extra==0.2.0->autogluon) (21.2.0)\n",
            "Requirement already satisfied: pluggy<0.8,>=0.5 in /usr/local/lib/python3.7/dist-packages (from pytest->autogluon.extra==0.2.0->autogluon) (0.7.1)\n",
            "Requirement already satisfied: more-itertools>=4.0.0 in /usr/local/lib/python3.7/dist-packages (from pytest->autogluon.extra==0.2.0->autogluon) (8.8.0)\n",
            "Requirement already satisfied: atomicwrites>=1.0 in /usr/local/lib/python3.7/dist-packages (from pytest->autogluon.extra==0.2.0->autogluon) (1.4.0)\n",
            "Requirement already satisfied: text-unidecode>=1.3 in /usr/local/lib/python3.7/dist-packages (from python-slugify->kaggle->d8<1.0,>=0.0.2->autogluon.vision==0.2.0->autogluon) (1.3)\n",
            "Collecting portalocker\n",
            "  Downloading portalocker-2.0.0-py2.py3-none-any.whl (11 kB)\n",
            "Building wheels for collected packages: ConfigSpace, contextvars, openml, liac-arff\n",
            "  Building wheel for ConfigSpace (PEP 517) ... \u001b[?25l\u001b[?25hdone\n",
            "  Created wheel for ConfigSpace: filename=ConfigSpace-0.4.18-cp37-cp37m-linux_x86_64.whl size=2880004 sha256=9185929febd807d1f6dcec2d31b557a1908d4c1c5e84380e69a52a1fdee6f35b\n",
            "  Stored in directory: /root/.cache/pip/wheels/36/f7/0f/36f368c419ea1a8024fc3d6c078c3111dfef43fa1d14cfebe0\n",
            "  Building wheel for contextvars (setup.py) ... \u001b[?25l\u001b[?25hdone\n",
            "  Created wheel for contextvars: filename=contextvars-2.4-py3-none-any.whl size=7680 sha256=0e493b96ea829d6c103339d414891e4123d596309ea0639ca318a57da338bfd9\n",
            "  Stored in directory: /root/.cache/pip/wheels/0a/11/79/e70e668095c0bb1f94718af672ef2d35ee7a023fee56ef54d9\n",
            "  Building wheel for openml (setup.py) ... \u001b[?25l\u001b[?25hdone\n",
            "  Created wheel for openml: filename=openml-0.12.2-py3-none-any.whl size=137326 sha256=9088ae289008724dcf02eeebb5882b7be1df0c191df80a24fe0daa6670156ad7\n",
            "  Stored in directory: /root/.cache/pip/wheels/6a/20/88/cf4ac86aa18e2cd647ed16ebe274a5dacee9d0075fa02af250\n",
            "  Building wheel for liac-arff (setup.py) ... \u001b[?25l\u001b[?25hdone\n",
            "  Created wheel for liac-arff: filename=liac_arff-2.5.0-py3-none-any.whl size=11730 sha256=95b9b811e3939b7717355845af81bbec54ce05e4de0f4c628b2c630255aaa8c9\n",
            "  Stored in directory: /root/.cache/pip/wheels/1f/0f/15/332ca86cbebf25ddf98518caaf887945fbe1712b97a0f2493b\n",
            "Successfully built ConfigSpace contextvars openml liac-arff\n",
            "Installing collected packages: urllib3, locket, jmespath, partd, fsspec, cloudpickle, botocore, threadpoolctl, scipy, s3transfer, pynacl, psutil, dask, cryptography, bcrypt, scikit-learn, paramiko, distributed, dill, ConfigSpace, boto3, xmltodict, pyflakes, pycodestyle, portalocker, minio, mccabe, liac-arff, immutables, autogluon.core, yacs, xxhash, tokenizers, sentencepiece, sacremoses, sacrebleu, openml, flake8, fastcore, contextvars, autogluon.features, autocfg, xgboost, lightgbm, gluoncv, fastai, d8, catboost, autogluon.tabular, autogluon.mxnet, autogluon-contrib-nlp, autogluon.vision, autogluon.text, autogluon.extra, autogluon\n",
            "  Attempting uninstall: urllib3\n",
            "    Found existing installation: urllib3 1.24.3\n",
            "    Uninstalling urllib3-1.24.3:\n",
            "      Successfully uninstalled urllib3-1.24.3\n",
            "  Attempting uninstall: cloudpickle\n",
            "    Found existing installation: cloudpickle 1.3.0\n",
            "    Uninstalling cloudpickle-1.3.0:\n",
            "      Successfully uninstalled cloudpickle-1.3.0\n",
            "  Attempting uninstall: scipy\n",
            "    Found existing installation: scipy 1.4.1\n",
            "    Uninstalling scipy-1.4.1:\n",
            "      Successfully uninstalled scipy-1.4.1\n",
            "  Attempting uninstall: psutil\n",
            "    Found existing installation: psutil 5.4.8\n",
            "    Uninstalling psutil-5.4.8:\n",
            "      Successfully uninstalled psutil-5.4.8\n",
            "  Attempting uninstall: dask\n",
            "    Found existing installation: dask 2.12.0\n",
            "    Uninstalling dask-2.12.0:\n",
            "      Successfully uninstalled dask-2.12.0\n",
            "  Attempting uninstall: scikit-learn\n",
            "    Found existing installation: scikit-learn 0.22.2.post1\n",
            "    Uninstalling scikit-learn-0.22.2.post1:\n",
            "      Successfully uninstalled scikit-learn-0.22.2.post1\n",
            "  Attempting uninstall: distributed\n",
            "    Found existing installation: distributed 1.25.3\n",
            "    Uninstalling distributed-1.25.3:\n",
            "      Successfully uninstalled distributed-1.25.3\n",
            "  Attempting uninstall: dill\n",
            "    Found existing installation: dill 0.3.4\n",
            "    Uninstalling dill-0.3.4:\n",
            "      Successfully uninstalled dill-0.3.4\n",
            "  Attempting uninstall: xgboost\n",
            "    Found existing installation: xgboost 0.90\n",
            "    Uninstalling xgboost-0.90:\n",
            "      Successfully uninstalled xgboost-0.90\n",
            "  Attempting uninstall: lightgbm\n",
            "    Found existing installation: lightgbm 2.2.3\n",
            "    Uninstalling lightgbm-2.2.3:\n",
            "      Successfully uninstalled lightgbm-2.2.3\n",
            "  Attempting uninstall: fastai\n",
            "    Found existing installation: fastai 1.0.61\n",
            "    Uninstalling fastai-1.0.61:\n",
            "      Successfully uninstalled fastai-1.0.61\n",
            "\u001b[31mERROR: pip's dependency resolver does not currently take into account all the packages that are installed. This behaviour is the source of the following dependency conflicts.\n",
            "multiprocess 0.70.12.2 requires dill>=0.3.4, but you have dill 0.3.3 which is incompatible.\n",
            "datascience 0.10.6 requires folium==0.2.1, but you have folium 0.8.3 which is incompatible.\n",
            "albumentations 0.1.12 requires imgaug<0.2.7,>=0.2.5, but you have imgaug 0.2.9 which is incompatible.\u001b[0m\n",
            "Successfully installed ConfigSpace-0.4.18 autocfg-0.0.8 autogluon-0.2.0 autogluon-contrib-nlp-0.0.1b20210201 autogluon.core-0.2.0 autogluon.extra-0.2.0 autogluon.features-0.2.0 autogluon.mxnet-0.2.0 autogluon.tabular-0.2.0 autogluon.text-0.2.0 autogluon.vision-0.2.0 bcrypt-3.2.0 boto3-1.17.109 botocore-1.20.109 catboost-0.25.1 cloudpickle-1.6.0 contextvars-2.4 cryptography-3.4.7 d8-0.0.2.post0 dask-2021.7.0 dill-0.3.3 distributed-2021.7.0 fastai-2.4 fastcore-1.3.20 flake8-3.9.2 fsspec-2021.6.1 gluoncv-0.10.3 immutables-0.15 jmespath-0.10.0 liac-arff-2.5.0 lightgbm-3.2.1 locket-0.2.1 mccabe-0.6.1 minio-7.1.0 openml-0.12.2 paramiko-2.7.2 partd-1.2.0 portalocker-2.0.0 psutil-5.8.0 pycodestyle-2.7.0 pyflakes-2.3.1 pynacl-1.4.0 s3transfer-0.4.2 sacrebleu-1.5.1 sacremoses-0.0.45 scikit-learn-0.24.2 scipy-1.6.3 sentencepiece-0.1.95 threadpoolctl-2.2.0 tokenizers-0.9.4 urllib3-1.25.11 xgboost-1.3.3 xmltodict-0.12.0 xxhash-2.0.2 yacs-0.1.8\n",
            "\u001b[33mWARNING: Running pip as the 'root' user can result in broken permissions and conflicting behaviour with the system package manager. It is recommended to use a virtual environment instead: https://pip.pypa.io/warnings/venv\u001b[0m\n"
          ],
          "name": "stdout"
        }
      ]
    },
    {
      "cell_type": "markdown",
      "metadata": {
        "id": "TGuL8rG6AsaD"
      },
      "source": [
        "#import autogluon and tablularpredictor"
      ]
    },
    {
      "cell_type": "code",
      "metadata": {
        "id": "a0EcN0fw-CZh"
      },
      "source": [
        "import autogluon.core as ag\n",
        "from autogluon.tabular import TabularPredictor as task"
      ],
      "execution_count": 3,
      "outputs": []
    },
    {
      "cell_type": "code",
      "metadata": {
        "id": "vBG8ENBFChGf"
      },
      "source": [
        "import pandas as pd\n",
        "import numpy as np"
      ],
      "execution_count": 4,
      "outputs": []
    },
    {
      "cell_type": "markdown",
      "metadata": {
        "id": "nnqaub1uAzRq"
      },
      "source": [
        "#mount to drive to access dataset"
      ]
    },
    {
      "cell_type": "code",
      "metadata": {
        "colab": {
          "base_uri": "https://localhost:8080/"
        },
        "id": "9Bo_LuY8CpEP",
        "outputId": "45666143-665d-4af5-a4b4-c2c447297304"
      },
      "source": [
        "from google.colab import drive\n",
        "drive.mount('/content/drive')"
      ],
      "execution_count": 5,
      "outputs": [
        {
          "output_type": "stream",
          "text": [
            "Mounted at /content/drive\n"
          ],
          "name": "stdout"
        }
      ]
    },
    {
      "cell_type": "code",
      "metadata": {
        "id": "R-DqtxuQCvYz"
      },
      "source": [
        "PATH = \"/content/drive/MyDrive/Colab Notebooks/nfldata6.csv\""
      ],
      "execution_count": 6,
      "outputs": []
    },
    {
      "cell_type": "code",
      "metadata": {
        "colab": {
          "base_uri": "https://localhost:8080/",
          "height": 226
        },
        "id": "wUXedxXPDKfa",
        "outputId": "8ef2a870-d4bf-4402-bf32-75dff351cc83"
      },
      "source": [
        "\n",
        "data = pd.read_csv(PATH)\n",
        "\n",
        "data.head()"
      ],
      "execution_count": 7,
      "outputs": [
        {
          "output_type": "execute_result",
          "data": {
            "text/html": [
              "<div>\n",
              "<style scoped>\n",
              "    .dataframe tbody tr th:only-of-type {\n",
              "        vertical-align: middle;\n",
              "    }\n",
              "\n",
              "    .dataframe tbody tr th {\n",
              "        vertical-align: top;\n",
              "    }\n",
              "\n",
              "    .dataframe thead th {\n",
              "        text-align: right;\n",
              "    }\n",
              "</style>\n",
              "<table border=\"1\" class=\"dataframe\">\n",
              "  <thead>\n",
              "    <tr style=\"text-align: right;\">\n",
              "      <th></th>\n",
              "      <th>_c0</th>\n",
              "      <th>Date(IST)</th>\n",
              "      <th>NFO</th>\n",
              "      <th>NFH</th>\n",
              "      <th>NFL</th>\n",
              "      <th>NFC</th>\n",
              "      <th>FIIB</th>\n",
              "      <th>FIIS</th>\n",
              "      <th>FIIN</th>\n",
              "      <th>DIIB</th>\n",
              "      <th>DIIS</th>\n",
              "      <th>DIIN</th>\n",
              "      <th>August</th>\n",
              "      <th>December</th>\n",
              "      <th>CAD</th>\n",
              "      <th>DAD</th>\n",
              "      <th>DOD</th>\n",
              "      <th>NDAD</th>\n",
              "      <th>Currey</th>\n",
              "      <th>Flow</th>\n",
              "      <th>Shine</th>\n",
              "      <th>Vega</th>\n",
              "    </tr>\n",
              "  </thead>\n",
              "  <tbody>\n",
              "    <tr>\n",
              "      <th>0</th>\n",
              "      <td>1</td>\n",
              "      <td>2020-01-02</td>\n",
              "      <td>12115.673242</td>\n",
              "      <td>12177.119957</td>\n",
              "      <td>12151.571552</td>\n",
              "      <td>12216.272367</td>\n",
              "      <td>2670.78</td>\n",
              "      <td>1982.02</td>\n",
              "      <td>688.76</td>\n",
              "      <td>3490.16</td>\n",
              "      <td>3426.21</td>\n",
              "      <td>63.95</td>\n",
              "      <td>1356.0</td>\n",
              "      <td>482.0</td>\n",
              "      <td>-0.01</td>\n",
              "      <td>0.397</td>\n",
              "      <td>-0.98</td>\n",
              "      <td>0.72</td>\n",
              "      <td>-0.0520</td>\n",
              "      <td>0.0399</td>\n",
              "      <td>-0.10</td>\n",
              "      <td>-1.309999</td>\n",
              "    </tr>\n",
              "    <tr>\n",
              "      <th>1</th>\n",
              "      <td>2</td>\n",
              "      <td>2020-01-03</td>\n",
              "      <td>12195.406448</td>\n",
              "      <td>12275.487382</td>\n",
              "      <td>12173.355954</td>\n",
              "      <td>12251.196928</td>\n",
              "      <td>4514.35</td>\n",
              "      <td>3251.30</td>\n",
              "      <td>1263.05</td>\n",
              "      <td>2750.87</td>\n",
              "      <td>3780.07</td>\n",
              "      <td>-1029.20</td>\n",
              "      <td>879.0</td>\n",
              "      <td>973.0</td>\n",
              "      <td>-0.23</td>\n",
              "      <td>-0.510</td>\n",
              "      <td>-1.33</td>\n",
              "      <td>0.46</td>\n",
              "      <td>0.4430</td>\n",
              "      <td>0.5648</td>\n",
              "      <td>0.08</td>\n",
              "      <td>1.550000</td>\n",
              "    </tr>\n",
              "    <tr>\n",
              "      <th>2</th>\n",
              "      <td>3</td>\n",
              "      <td>2020-01-06</td>\n",
              "      <td>12272.929018</td>\n",
              "      <td>12299.127043</td>\n",
              "      <td>12181.887534</td>\n",
              "      <td>12228.903255</td>\n",
              "      <td>3732.00</td>\n",
              "      <td>3835.84</td>\n",
              "      <td>-103.84</td>\n",
              "      <td>3778.78</td>\n",
              "      <td>3802.48</td>\n",
              "      <td>-23.70</td>\n",
              "      <td>360.0</td>\n",
              "      <td>1502.0</td>\n",
              "      <td>-0.17</td>\n",
              "      <td>0.015</td>\n",
              "      <td>-0.21</td>\n",
              "      <td>-0.07</td>\n",
              "      <td>0.0877</td>\n",
              "      <td>-0.0690</td>\n",
              "      <td>-0.18</td>\n",
              "      <td>-0.170000</td>\n",
              "    </tr>\n",
              "    <tr>\n",
              "      <th>3</th>\n",
              "      <td>4</td>\n",
              "      <td>2020-01-07</td>\n",
              "      <td>12237.309351</td>\n",
              "      <td>12242.227141</td>\n",
              "      <td>12030.371144</td>\n",
              "      <td>12051.960005</td>\n",
              "      <td>3911.17</td>\n",
              "      <td>4593.40</td>\n",
              "      <td>-682.23</td>\n",
              "      <td>4205.16</td>\n",
              "      <td>3893.97</td>\n",
              "      <td>311.19</td>\n",
              "      <td>1248.0</td>\n",
              "      <td>578.0</td>\n",
              "      <td>-0.21</td>\n",
              "      <td>-0.050</td>\n",
              "      <td>-0.02</td>\n",
              "      <td>-1.79</td>\n",
              "      <td>-0.0437</td>\n",
              "      <td>-0.0208</td>\n",
              "      <td>0.08</td>\n",
              "      <td>-0.060000</td>\n",
              "    </tr>\n",
              "    <tr>\n",
              "      <th>4</th>\n",
              "      <td>5</td>\n",
              "      <td>2020-01-08</td>\n",
              "      <td>12149.137851</td>\n",
              "      <td>12192.474725</td>\n",
              "      <td>11985.555622</td>\n",
              "      <td>12017.343536</td>\n",
              "      <td>4109.04</td>\n",
              "      <td>4624.89</td>\n",
              "      <td>-515.85</td>\n",
              "      <td>5162.02</td>\n",
              "      <td>4413.62</td>\n",
              "      <td>748.40</td>\n",
              "      <td>725.0</td>\n",
              "      <td>1109.0</td>\n",
              "      <td>0.56</td>\n",
              "      <td>0.305</td>\n",
              "      <td>0.54</td>\n",
              "      <td>-0.59</td>\n",
              "      <td>-0.2980</td>\n",
              "      <td>-0.6992</td>\n",
              "      <td>-0.65</td>\n",
              "      <td>-0.340000</td>\n",
              "    </tr>\n",
              "  </tbody>\n",
              "</table>\n",
              "</div>"
            ],
            "text/plain": [
              "   _c0   Date(IST)           NFO           NFH  ...  Currey    Flow  Shine      Vega\n",
              "0    1  2020-01-02  12115.673242  12177.119957  ... -0.0520  0.0399  -0.10 -1.309999\n",
              "1    2  2020-01-03  12195.406448  12275.487382  ...  0.4430  0.5648   0.08  1.550000\n",
              "2    3  2020-01-06  12272.929018  12299.127043  ...  0.0877 -0.0690  -0.18 -0.170000\n",
              "3    4  2020-01-07  12237.309351  12242.227141  ... -0.0437 -0.0208   0.08 -0.060000\n",
              "4    5  2020-01-08  12149.137851  12192.474725  ... -0.2980 -0.6992  -0.65 -0.340000\n",
              "\n",
              "[5 rows x 22 columns]"
            ]
          },
          "metadata": {
            "tags": []
          },
          "execution_count": 7
        }
      ]
    },
    {
      "cell_type": "markdown",
      "metadata": {
        "id": "26t-d795A5Wc"
      },
      "source": [
        "# Data cleaning"
      ]
    },
    {
      "cell_type": "code",
      "metadata": {
        "id": "Unn6WsxqDcGw"
      },
      "source": [
        "data = data.drop(['_c0','Date(IST)'],axis=1)"
      ],
      "execution_count": 8,
      "outputs": []
    },
    {
      "cell_type": "code",
      "metadata": {
        "id": "4PzCnUL2DmnA"
      },
      "source": [
        "size = int(0.7*data.shape[0])\n",
        "train_df = data[:size]\n",
        "test_df = data[size:]"
      ],
      "execution_count": 9,
      "outputs": []
    },
    {
      "cell_type": "code",
      "metadata": {
        "colab": {
          "base_uri": "https://localhost:8080/",
          "height": 226
        },
        "id": "UBvfSFrcD9LO",
        "outputId": "ac950b00-011f-439e-beef-722e530f4068"
      },
      "source": [
        "train_df.head()"
      ],
      "execution_count": 10,
      "outputs": [
        {
          "output_type": "execute_result",
          "data": {
            "text/html": [
              "<div>\n",
              "<style scoped>\n",
              "    .dataframe tbody tr th:only-of-type {\n",
              "        vertical-align: middle;\n",
              "    }\n",
              "\n",
              "    .dataframe tbody tr th {\n",
              "        vertical-align: top;\n",
              "    }\n",
              "\n",
              "    .dataframe thead th {\n",
              "        text-align: right;\n",
              "    }\n",
              "</style>\n",
              "<table border=\"1\" class=\"dataframe\">\n",
              "  <thead>\n",
              "    <tr style=\"text-align: right;\">\n",
              "      <th></th>\n",
              "      <th>NFO</th>\n",
              "      <th>NFH</th>\n",
              "      <th>NFL</th>\n",
              "      <th>NFC</th>\n",
              "      <th>FIIB</th>\n",
              "      <th>FIIS</th>\n",
              "      <th>FIIN</th>\n",
              "      <th>DIIB</th>\n",
              "      <th>DIIS</th>\n",
              "      <th>DIIN</th>\n",
              "      <th>August</th>\n",
              "      <th>December</th>\n",
              "      <th>CAD</th>\n",
              "      <th>DAD</th>\n",
              "      <th>DOD</th>\n",
              "      <th>NDAD</th>\n",
              "      <th>Currey</th>\n",
              "      <th>Flow</th>\n",
              "      <th>Shine</th>\n",
              "      <th>Vega</th>\n",
              "    </tr>\n",
              "  </thead>\n",
              "  <tbody>\n",
              "    <tr>\n",
              "      <th>0</th>\n",
              "      <td>12115.673242</td>\n",
              "      <td>12177.119957</td>\n",
              "      <td>12151.571552</td>\n",
              "      <td>12216.272367</td>\n",
              "      <td>2670.78</td>\n",
              "      <td>1982.02</td>\n",
              "      <td>688.76</td>\n",
              "      <td>3490.16</td>\n",
              "      <td>3426.21</td>\n",
              "      <td>63.95</td>\n",
              "      <td>1356.0</td>\n",
              "      <td>482.0</td>\n",
              "      <td>-0.01</td>\n",
              "      <td>0.397</td>\n",
              "      <td>-0.98</td>\n",
              "      <td>0.72</td>\n",
              "      <td>-0.0520</td>\n",
              "      <td>0.0399</td>\n",
              "      <td>-0.10</td>\n",
              "      <td>-1.309999</td>\n",
              "    </tr>\n",
              "    <tr>\n",
              "      <th>1</th>\n",
              "      <td>12195.406448</td>\n",
              "      <td>12275.487382</td>\n",
              "      <td>12173.355954</td>\n",
              "      <td>12251.196928</td>\n",
              "      <td>4514.35</td>\n",
              "      <td>3251.30</td>\n",
              "      <td>1263.05</td>\n",
              "      <td>2750.87</td>\n",
              "      <td>3780.07</td>\n",
              "      <td>-1029.20</td>\n",
              "      <td>879.0</td>\n",
              "      <td>973.0</td>\n",
              "      <td>-0.23</td>\n",
              "      <td>-0.510</td>\n",
              "      <td>-1.33</td>\n",
              "      <td>0.46</td>\n",
              "      <td>0.4430</td>\n",
              "      <td>0.5648</td>\n",
              "      <td>0.08</td>\n",
              "      <td>1.550000</td>\n",
              "    </tr>\n",
              "    <tr>\n",
              "      <th>2</th>\n",
              "      <td>12272.929018</td>\n",
              "      <td>12299.127043</td>\n",
              "      <td>12181.887534</td>\n",
              "      <td>12228.903255</td>\n",
              "      <td>3732.00</td>\n",
              "      <td>3835.84</td>\n",
              "      <td>-103.84</td>\n",
              "      <td>3778.78</td>\n",
              "      <td>3802.48</td>\n",
              "      <td>-23.70</td>\n",
              "      <td>360.0</td>\n",
              "      <td>1502.0</td>\n",
              "      <td>-0.17</td>\n",
              "      <td>0.015</td>\n",
              "      <td>-0.21</td>\n",
              "      <td>-0.07</td>\n",
              "      <td>0.0877</td>\n",
              "      <td>-0.0690</td>\n",
              "      <td>-0.18</td>\n",
              "      <td>-0.170000</td>\n",
              "    </tr>\n",
              "    <tr>\n",
              "      <th>3</th>\n",
              "      <td>12237.309351</td>\n",
              "      <td>12242.227141</td>\n",
              "      <td>12030.371144</td>\n",
              "      <td>12051.960005</td>\n",
              "      <td>3911.17</td>\n",
              "      <td>4593.40</td>\n",
              "      <td>-682.23</td>\n",
              "      <td>4205.16</td>\n",
              "      <td>3893.97</td>\n",
              "      <td>311.19</td>\n",
              "      <td>1248.0</td>\n",
              "      <td>578.0</td>\n",
              "      <td>-0.21</td>\n",
              "      <td>-0.050</td>\n",
              "      <td>-0.02</td>\n",
              "      <td>-1.79</td>\n",
              "      <td>-0.0437</td>\n",
              "      <td>-0.0208</td>\n",
              "      <td>0.08</td>\n",
              "      <td>-0.060000</td>\n",
              "    </tr>\n",
              "    <tr>\n",
              "      <th>4</th>\n",
              "      <td>12149.137851</td>\n",
              "      <td>12192.474725</td>\n",
              "      <td>11985.555622</td>\n",
              "      <td>12017.343536</td>\n",
              "      <td>4109.04</td>\n",
              "      <td>4624.89</td>\n",
              "      <td>-515.85</td>\n",
              "      <td>5162.02</td>\n",
              "      <td>4413.62</td>\n",
              "      <td>748.40</td>\n",
              "      <td>725.0</td>\n",
              "      <td>1109.0</td>\n",
              "      <td>0.56</td>\n",
              "      <td>0.305</td>\n",
              "      <td>0.54</td>\n",
              "      <td>-0.59</td>\n",
              "      <td>-0.2980</td>\n",
              "      <td>-0.6992</td>\n",
              "      <td>-0.65</td>\n",
              "      <td>-0.340000</td>\n",
              "    </tr>\n",
              "  </tbody>\n",
              "</table>\n",
              "</div>"
            ],
            "text/plain": [
              "            NFO           NFH           NFL  ...    Flow  Shine      Vega\n",
              "0  12115.673242  12177.119957  12151.571552  ...  0.0399  -0.10 -1.309999\n",
              "1  12195.406448  12275.487382  12173.355954  ...  0.5648   0.08  1.550000\n",
              "2  12272.929018  12299.127043  12181.887534  ... -0.0690  -0.18 -0.170000\n",
              "3  12237.309351  12242.227141  12030.371144  ... -0.0208   0.08 -0.060000\n",
              "4  12149.137851  12192.474725  11985.555622  ... -0.6992  -0.65 -0.340000\n",
              "\n",
              "[5 rows x 20 columns]"
            ]
          },
          "metadata": {
            "tags": []
          },
          "execution_count": 10
        }
      ]
    },
    {
      "cell_type": "code",
      "metadata": {
        "colab": {
          "base_uri": "https://localhost:8080/",
          "height": 226
        },
        "id": "yJwFfqCXECjm",
        "outputId": "c1489fe4-8077-4e66-cbb4-34e366ec2c6a"
      },
      "source": [
        "test_df.head()"
      ],
      "execution_count": 11,
      "outputs": [
        {
          "output_type": "execute_result",
          "data": {
            "text/html": [
              "<div>\n",
              "<style scoped>\n",
              "    .dataframe tbody tr th:only-of-type {\n",
              "        vertical-align: middle;\n",
              "    }\n",
              "\n",
              "    .dataframe tbody tr th {\n",
              "        vertical-align: top;\n",
              "    }\n",
              "\n",
              "    .dataframe thead th {\n",
              "        text-align: right;\n",
              "    }\n",
              "</style>\n",
              "<table border=\"1\" class=\"dataframe\">\n",
              "  <thead>\n",
              "    <tr style=\"text-align: right;\">\n",
              "      <th></th>\n",
              "      <th>NFO</th>\n",
              "      <th>NFH</th>\n",
              "      <th>NFL</th>\n",
              "      <th>NFC</th>\n",
              "      <th>FIIB</th>\n",
              "      <th>FIIS</th>\n",
              "      <th>FIIN</th>\n",
              "      <th>DIIB</th>\n",
              "      <th>DIIS</th>\n",
              "      <th>DIIN</th>\n",
              "      <th>August</th>\n",
              "      <th>December</th>\n",
              "      <th>CAD</th>\n",
              "      <th>DAD</th>\n",
              "      <th>DOD</th>\n",
              "      <th>NDAD</th>\n",
              "      <th>Currey</th>\n",
              "      <th>Flow</th>\n",
              "      <th>Shine</th>\n",
              "      <th>Vega</th>\n",
              "    </tr>\n",
              "  </thead>\n",
              "  <tbody>\n",
              "    <tr>\n",
              "      <th>250</th>\n",
              "      <td>14682.481531</td>\n",
              "      <td>14714.912106</td>\n",
              "      <td>14480.442931</td>\n",
              "      <td>14573.937584</td>\n",
              "      <td>6715.91</td>\n",
              "      <td>6458.36</td>\n",
              "      <td>257.55</td>\n",
              "      <td>5146.41</td>\n",
              "      <td>5345.71</td>\n",
              "      <td>-199.30</td>\n",
              "      <td>1431.0</td>\n",
              "      <td>517.0</td>\n",
              "      <td>-0.10</td>\n",
              "      <td>0.3965</td>\n",
              "      <td>0.24</td>\n",
              "      <td>2.22</td>\n",
              "      <td>-0.0010</td>\n",
              "      <td>0.2139</td>\n",
              "      <td>0.25</td>\n",
              "      <td>-1.100000</td>\n",
              "    </tr>\n",
              "    <tr>\n",
              "      <th>251</th>\n",
              "      <td>14515.578392</td>\n",
              "      <td>14645.972963</td>\n",
              "      <td>14427.467418</td>\n",
              "      <td>14572.879876</td>\n",
              "      <td>7701.29</td>\n",
              "      <td>5412.24</td>\n",
              "      <td>2289.05</td>\n",
              "      <td>5084.73</td>\n",
              "      <td>5949.35</td>\n",
              "      <td>-864.62</td>\n",
              "      <td>997.0</td>\n",
              "      <td>937.0</td>\n",
              "      <td>-0.45</td>\n",
              "      <td>0.1000</td>\n",
              "      <td>1.02</td>\n",
              "      <td>1.41</td>\n",
              "      <td>-0.2290</td>\n",
              "      <td>0.0200</td>\n",
              "      <td>0.44</td>\n",
              "      <td>-1.660000</td>\n",
              "    </tr>\n",
              "    <tr>\n",
              "      <th>252</th>\n",
              "      <td>14551.584522</td>\n",
              "      <td>14693.201278</td>\n",
              "      <td>14517.302013</td>\n",
              "      <td>14655.403965</td>\n",
              "      <td>9104.25</td>\n",
              "      <td>7489.59</td>\n",
              "      <td>1614.66</td>\n",
              "      <td>5053.57</td>\n",
              "      <td>6093.05</td>\n",
              "      <td>-1039.48</td>\n",
              "      <td>601.0</td>\n",
              "      <td>1369.0</td>\n",
              "      <td>-0.03</td>\n",
              "      <td>0.1150</td>\n",
              "      <td>-1.01</td>\n",
              "      <td>-2.27</td>\n",
              "      <td>0.0405</td>\n",
              "      <td>-0.0240</td>\n",
              "      <td>-0.15</td>\n",
              "      <td>-0.260000</td>\n",
              "    </tr>\n",
              "    <tr>\n",
              "      <th>253</th>\n",
              "      <td>14703.493836</td>\n",
              "      <td>14771.798953</td>\n",
              "      <td>14553.138062</td>\n",
              "      <td>14647.997590</td>\n",
              "      <td>8326.77</td>\n",
              "      <td>8962.46</td>\n",
              "      <td>-635.69</td>\n",
              "      <td>4859.95</td>\n",
              "      <td>6150.30</td>\n",
              "      <td>-1290.35</td>\n",
              "      <td>477.0</td>\n",
              "      <td>1472.0</td>\n",
              "      <td>0.39</td>\n",
              "      <td>-0.0700</td>\n",
              "      <td>-0.06</td>\n",
              "      <td>-0.98</td>\n",
              "      <td>0.0146</td>\n",
              "      <td>-0.2160</td>\n",
              "      <td>-0.21</td>\n",
              "      <td>0.590000</td>\n",
              "    </tr>\n",
              "    <tr>\n",
              "      <th>254</th>\n",
              "      <td>14661.259872</td>\n",
              "      <td>14704.740581</td>\n",
              "      <td>14448.256300</td>\n",
              "      <td>14480.847650</td>\n",
              "      <td>8423.37</td>\n",
              "      <td>9188.67</td>\n",
              "      <td>-765.30</td>\n",
              "      <td>5090.23</td>\n",
              "      <td>5477.99</td>\n",
              "      <td>-387.76</td>\n",
              "      <td>501.0</td>\n",
              "      <td>1457.0</td>\n",
              "      <td>-1.03</td>\n",
              "      <td>-0.3550</td>\n",
              "      <td>-0.27</td>\n",
              "      <td>1.88</td>\n",
              "      <td>-0.0301</td>\n",
              "      <td>0.1574</td>\n",
              "      <td>-0.03</td>\n",
              "      <td>1.280001</td>\n",
              "    </tr>\n",
              "  </tbody>\n",
              "</table>\n",
              "</div>"
            ],
            "text/plain": [
              "              NFO           NFH           NFL  ...    Flow  Shine      Vega\n",
              "250  14682.481531  14714.912106  14480.442931  ...  0.2139   0.25 -1.100000\n",
              "251  14515.578392  14645.972963  14427.467418  ...  0.0200   0.44 -1.660000\n",
              "252  14551.584522  14693.201278  14517.302013  ... -0.0240  -0.15 -0.260000\n",
              "253  14703.493836  14771.798953  14553.138062  ... -0.2160  -0.21  0.590000\n",
              "254  14661.259872  14704.740581  14448.256300  ...  0.1574  -0.03  1.280001\n",
              "\n",
              "[5 rows x 20 columns]"
            ]
          },
          "metadata": {
            "tags": []
          },
          "execution_count": 11
        }
      ]
    },
    {
      "cell_type": "code",
      "metadata": {
        "colab": {
          "base_uri": "https://localhost:8080/"
        },
        "id": "Q7I5365yEH6c",
        "outputId": "5f62cc04-1eb3-452e-9c4b-937cb2794764"
      },
      "source": [
        "train_df.shape"
      ],
      "execution_count": 12,
      "outputs": [
        {
          "output_type": "execute_result",
          "data": {
            "text/plain": [
              "(250, 20)"
            ]
          },
          "metadata": {
            "tags": []
          },
          "execution_count": 12
        }
      ]
    },
    {
      "cell_type": "code",
      "metadata": {
        "colab": {
          "base_uri": "https://localhost:8080/"
        },
        "id": "LnhgJSNpErKV",
        "outputId": "fbc024dc-db29-40f4-ca75-80c2bd09e66a"
      },
      "source": [
        "test_df.shape"
      ],
      "execution_count": 13,
      "outputs": [
        {
          "output_type": "execute_result",
          "data": {
            "text/plain": [
              "(108, 20)"
            ]
          },
          "metadata": {
            "tags": []
          },
          "execution_count": 13
        }
      ]
    },
    {
      "cell_type": "code",
      "metadata": {
        "id": "tL6ZCraGEtFi"
      },
      "source": [
        "train_data = task.Dataset(data=train_df)\n",
        "test_data = task.Dataset(data=test_df)"
      ],
      "execution_count": 14,
      "outputs": []
    },
    {
      "cell_type": "code",
      "metadata": {
        "colab": {
          "base_uri": "https://localhost:8080/"
        },
        "id": "SB-UVaZmExx_",
        "outputId": "1c7959bc-a022-4f6a-91a6-7d1b4e79da84"
      },
      "source": [
        "print(train_data.head())"
      ],
      "execution_count": 15,
      "outputs": [
        {
          "output_type": "stream",
          "text": [
            "            NFO           NFH           NFL  ...    Flow  Shine      Vega\n",
            "0  12115.673242  12177.119957  12151.571552  ...  0.0399  -0.10 -1.309999\n",
            "1  12195.406448  12275.487382  12173.355954  ...  0.5648   0.08  1.550000\n",
            "2  12272.929018  12299.127043  12181.887534  ... -0.0690  -0.18 -0.170000\n",
            "3  12237.309351  12242.227141  12030.371144  ... -0.0208   0.08 -0.060000\n",
            "4  12149.137851  12192.474725  11985.555622  ... -0.6992  -0.65 -0.340000\n",
            "\n",
            "[5 rows x 20 columns]\n"
          ],
          "name": "stdout"
        }
      ]
    },
    {
      "cell_type": "code",
      "metadata": {
        "colab": {
          "base_uri": "https://localhost:8080/"
        },
        "id": "U8t09hM3E6s3",
        "outputId": "dc68ba02-0906-4e81-dad1-2f95456a2c15"
      },
      "source": [
        "print(test_data.head())"
      ],
      "execution_count": 16,
      "outputs": [
        {
          "output_type": "stream",
          "text": [
            "              NFO           NFH           NFL  ...    Flow  Shine      Vega\n",
            "250  14682.481531  14714.912106  14480.442931  ...  0.2139   0.25 -1.100000\n",
            "251  14515.578392  14645.972963  14427.467418  ...  0.0200   0.44 -1.660000\n",
            "252  14551.584522  14693.201278  14517.302013  ... -0.0240  -0.15 -0.260000\n",
            "253  14703.493836  14771.798953  14553.138062  ... -0.2160  -0.21  0.590000\n",
            "254  14661.259872  14704.740581  14448.256300  ...  0.1574  -0.03  1.280001\n",
            "\n",
            "[5 rows x 20 columns]\n"
          ],
          "name": "stdout"
        }
      ]
    },
    {
      "cell_type": "markdown",
      "metadata": {
        "id": "USm0tBn7A-I5"
      },
      "source": [
        "# Set label class "
      ]
    },
    {
      "cell_type": "code",
      "metadata": {
        "id": "n0P4feQNE9qo"
      },
      "source": [
        "label_column = 'NFL'"
      ],
      "execution_count": 17,
      "outputs": []
    },
    {
      "cell_type": "code",
      "metadata": {
        "colab": {
          "base_uri": "https://localhost:8080/"
        },
        "id": "_GZCTdDmFCW9",
        "outputId": "081f5ba3-3971-412c-f928-dcc7ee996571"
      },
      "source": [
        "train_data[label_column].describe()"
      ],
      "execution_count": 18,
      "outputs": [
        {
          "output_type": "execute_result",
          "data": {
            "text/plain": [
              "count      250.000000\n",
              "mean     11173.554244\n",
              "std       1559.506904\n",
              "min       7264.768634\n",
              "25%      10192.636626\n",
              "50%      11324.593347\n",
              "75%      12060.032917\n",
              "max      14563.343016\n",
              "Name: NFL, dtype: float64"
            ]
          },
          "metadata": {
            "tags": []
          },
          "execution_count": 18
        }
      ]
    },
    {
      "cell_type": "markdown",
      "metadata": {
        "id": "8oqgedwrBDDu"
      },
      "source": [
        "# fit() and Predict"
      ]
    },
    {
      "cell_type": "code",
      "metadata": {
        "colab": {
          "base_uri": "https://localhost:8080/"
        },
        "id": "iIKQ10AzFSWA",
        "outputId": "8c321cf0-f1c5-48e1-eeab-e809a833bb0d"
      },
      "source": [
        "metric = 'rmse'\n",
        "predictor = task(label=label_column, eval_metric=metric).fit(train_data, presets=['best_quality'], time_limit=30)"
      ],
      "execution_count": 19,
      "outputs": [
        {
          "output_type": "stream",
          "text": [
            "No path specified. Models will be saved in: \"AutogluonModels/ag-20210710_055521/\"\n",
            "Presets specified: ['best_quality']\n",
            "Beginning AutoGluon training ... Time limit = 30s\n",
            "AutoGluon will save models to \"AutogluonModels/ag-20210710_055521/\"\n",
            "AutoGluon Version:  0.2.0\n",
            "Train Data Rows:    250\n",
            "Train Data Columns: 19\n",
            "Preprocessing data ...\n",
            "AutoGluon infers your prediction problem is: 'regression' (because dtype of label-column == float and many unique label-values observed).\n",
            "\tLabel info (max, min, mean, stddev): (14563.343015754099, 7264.76863366667, 11173.55424, 1559.5069)\n",
            "\tIf 'regression' is not the correct problem_type, please manually specify the problem_type argument in fit() (You may specify problem_type as one of: ['binary', 'multiclass', 'regression'])\n",
            "Using Feature Generators to preprocess the data ...\n",
            "Fitting AutoMLPipelineFeatureGenerator...\n",
            "\tAvailable Memory:                    12723.21 MB\n",
            "\tTrain Data (Original)  Memory Usage: 0.04 MB (0.0% of available memory)\n",
            "\tInferring data type of each feature based on column values. Set feature_metadata_in to manually specify special dtypes of the features.\n",
            "\tStage 1 Generators:\n",
            "\t\tFitting AsTypeFeatureGenerator...\n",
            "\tStage 2 Generators:\n",
            "\t\tFitting FillNaFeatureGenerator...\n",
            "\tStage 3 Generators:\n",
            "\t\tFitting IdentityFeatureGenerator...\n",
            "\tStage 4 Generators:\n",
            "\t\tFitting DropUniqueFeatureGenerator...\n",
            "\tTypes of features in original data (raw dtype, special dtypes):\n",
            "\t\t('float', []) : 19 | ['NFO', 'NFH', 'NFC', 'FIIB', 'FIIS', ...]\n",
            "\tTypes of features in processed data (raw dtype, special dtypes):\n",
            "\t\t('float', []) : 19 | ['NFO', 'NFH', 'NFC', 'FIIB', 'FIIS', ...]\n",
            "\t0.1s = Fit runtime\n",
            "\t19 features in original data used to generate 19 features in processed data.\n",
            "\tTrain Data (Processed) Memory Usage: 0.04 MB (0.0% of available memory)\n",
            "Data preprocessing and feature engineering runtime = 0.1s ...\n",
            "AutoGluon will gauge predictive performance using evaluation metric: 'root_mean_squared_error'\n",
            "\tTo change this, specify the eval_metric argument of fit()\n",
            "Fitting model: KNeighborsUnif_BAG_L1 ... Training model for up to 29.9s of the 29.89s of remaining time.\n",
            "NumExpr defaulting to 2 threads.\n",
            "\t-438.1644\t = Validation root_mean_squared_error score\n",
            "\t0.0s\t = Training runtime\n",
            "\t0.11s\t = Validation runtime\n",
            "Fitting model: KNeighborsDist_BAG_L1 ... Training model for up to 29.75s of the 29.74s of remaining time.\n",
            "\t-421.1594\t = Validation root_mean_squared_error score\n",
            "\t0.0s\t = Training runtime\n",
            "\t0.1s\t = Validation runtime\n",
            "Fitting model: LightGBMXT_BAG_L1 ... Training model for up to 29.63s of the 29.62s of remaining time.\n",
            "\t-261.9599\t = Validation root_mean_squared_error score\n",
            "\t1.3s\t = Training runtime\n",
            "\t0.01s\t = Validation runtime\n",
            "Fitting model: LightGBM_BAG_L1 ... Training model for up to 28.24s of the 28.23s of remaining time.\n"
          ],
          "name": "stderr"
        },
        {
          "output_type": "stream",
          "text": [
            "[1000]\ttrain_set's rmse: 13.8233\tvalid_set's rmse: 260.139\n",
            "[2000]\ttrain_set's rmse: 2.72947\tvalid_set's rmse: 258.516\n",
            "[3000]\ttrain_set's rmse: 0.677887\tvalid_set's rmse: 258.239\n",
            "[4000]\ttrain_set's rmse: 0.195717\tvalid_set's rmse: 258.188\n",
            "[5000]\ttrain_set's rmse: 0.0618926\tvalid_set's rmse: 258.173\n",
            "[6000]\ttrain_set's rmse: 0.0195282\tvalid_set's rmse: 258.169\n",
            "[7000]\ttrain_set's rmse: 0.00541658\tvalid_set's rmse: 258.167\n",
            "[8000]\ttrain_set's rmse: 0.00165051\tvalid_set's rmse: 258.167\n",
            "[9000]\ttrain_set's rmse: 0.000476514\tvalid_set's rmse: 258.167\n",
            "[10000]\ttrain_set's rmse: 0.00014042\tvalid_set's rmse: 258.167\n"
          ],
          "name": "stdout"
        },
        {
          "output_type": "stream",
          "text": [
            "\t-215.8547\t = Validation root_mean_squared_error score\n",
            "\t4.81s\t = Training runtime\n",
            "\t0.04s\t = Validation runtime\n",
            "Fitting model: RandomForestMSE_BAG_L1 ... Training model for up to 22.68s of the 22.67s of remaining time.\n",
            "\t-89.0312\t = Validation root_mean_squared_error score\n",
            "\t0.85s\t = Training runtime\n",
            "\t0.09s\t = Validation runtime\n",
            "Fitting model: CatBoost_BAG_L1 ... Training model for up to 21.71s of the 21.7s of remaining time.\n",
            "\t-195.9159\t = Validation root_mean_squared_error score\n",
            "\t15.35s\t = Training runtime\n",
            "\t0.01s\t = Validation runtime\n",
            "Fitting model: ExtraTreesMSE_BAG_L1 ... Training model for up to 6.32s of the 6.32s of remaining time.\n",
            "\t-83.8523\t = Validation root_mean_squared_error score\n",
            "\t0.64s\t = Training runtime\n",
            "\t0.1s\t = Validation runtime\n",
            "Fitting model: NeuralNetFastAI_BAG_L1 ... Training model for up to 5.55s of the 5.55s of remaining time.\n",
            "\tRan out of time, stopping training early.\n",
            "\tTime limit exceeded... Skipping NeuralNetFastAI_BAG_L1.\n",
            "Fitting model: XGBoost_BAG_L1 ... Training model for up to 0.63s of the 0.62s of remaining time.\n",
            "\t-93.1128\t = Validation root_mean_squared_error score\n",
            "\t0.57s\t = Training runtime\n",
            "\t0.02s\t = Validation runtime\n",
            "Completed 1/20 k-fold bagging repeats ...\n",
            "Fitting model: WeightedEnsemble_L2 ... Training model for up to 29.9s of the -0.04s of remaining time.\n",
            "\t-77.7055\t = Validation root_mean_squared_error score\n",
            "\t0.35s\t = Training runtime\n",
            "\t0.0s\t = Validation runtime\n",
            "AutoGluon training complete, total runtime = 30.41s ...\n",
            "TabularPredictor saved. To load, use: predictor = TabularPredictor.load(\"AutogluonModels/ag-20210710_055521/\")\n"
          ],
          "name": "stderr"
        }
      ]
    },
    {
      "cell_type": "code",
      "metadata": {
        "colab": {
          "base_uri": "https://localhost:8080/"
        },
        "id": "z9iN95R4Fa-S",
        "outputId": "772dbe25-d8cd-4c67-d939-073bcdfa1f83"
      },
      "source": [
        "y_test = test_data[label_column]  # values to predict\n",
        "test_data_nolab = test_data.drop(labels=[label_column],axis=1)  # delete label column to prove we're not cheating\n",
        "print(test_data_nolab.head())"
      ],
      "execution_count": 20,
      "outputs": [
        {
          "output_type": "stream",
          "text": [
            "              NFO           NFH           NFC  ...    Flow  Shine      Vega\n",
            "250  14682.481531  14714.912106  14573.937584  ...  0.2139   0.25 -1.100000\n",
            "251  14515.578392  14645.972963  14572.879876  ...  0.0200   0.44 -1.660000\n",
            "252  14551.584522  14693.201278  14655.403965  ... -0.0240  -0.15 -0.260000\n",
            "253  14703.493836  14771.798953  14647.997590  ... -0.2160  -0.21  0.590000\n",
            "254  14661.259872  14704.740581  14480.847650  ...  0.1574  -0.03  1.280001\n",
            "\n",
            "[5 rows x 19 columns]\n"
          ],
          "name": "stdout"
        }
      ]
    },
    {
      "cell_type": "markdown",
      "metadata": {
        "id": "pcZ1vEVRBI1r"
      },
      "source": [
        "#predict the model"
      ]
    },
    {
      "cell_type": "code",
      "metadata": {
        "colab": {
          "base_uri": "https://localhost:8080/"
        },
        "id": "O-1F_B1yFuEV",
        "outputId": "3c467e5b-f496-447e-f9f6-558a84150c98"
      },
      "source": [
        "y_pred = predictor.predict(test_data_nolab)\n",
        "print(\"Predictions:  \", y_pred)\n",
        "perf = predictor.evaluate_predictions(y_true=y_test, y_pred=y_pred, auxiliary_metrics=True)"
      ],
      "execution_count": 21,
      "outputs": [
        {
          "output_type": "stream",
          "text": [
            "Evaluation: root_mean_squared_error on test data: -696.8443252332257\n",
            "\tNote: Scores are always higher_is_better. This metric score can be multiplied by -1 to get the metric value.\n",
            "Evaluations on test data:\n",
            "{\n",
            "    \"root_mean_squared_error\": -696.8443252332257,\n",
            "    \"mean_squared_error\": -485592.01360974973,\n",
            "    \"mean_absolute_error\": -527.7278804311056,\n",
            "    \"r2\": -0.6798465004861309,\n",
            "    \"pearsonr\": 0.5703725896620455,\n",
            "    \"median_absolute_error\": -388.08872550309934\n",
            "}\n"
          ],
          "name": "stderr"
        },
        {
          "output_type": "stream",
          "text": [
            "Predictions:   250    14410.187500\n",
            "251    14380.041992\n",
            "252    14441.944336\n",
            "253    14463.264648\n",
            "254    14432.819336\n",
            "           ...     \n",
            "353    14420.293945\n",
            "354    14463.038086\n",
            "355    14431.185547\n",
            "356    14420.334961\n",
            "357    14419.785156\n",
            "Name: NFL, Length: 108, dtype: float32\n"
          ],
          "name": "stdout"
        }
      ]
    },
    {
      "cell_type": "code",
      "metadata": {
        "colab": {
          "base_uri": "https://localhost:8080/"
        },
        "id": "gG7HCTaIGDDU",
        "outputId": "83c4ed37-e497-4ab4-b238-00b2bedb81ef"
      },
      "source": [
        "print(\"AutoGluon infers problem type is: \", predictor.problem_type)\n",
        "print(\"AutoGluon identified the following types of features:\")\n",
        "print(predictor.feature_metadata)"
      ],
      "execution_count": 22,
      "outputs": [
        {
          "output_type": "stream",
          "text": [
            "AutoGluon infers problem type is:  regression\n",
            "AutoGluon identified the following types of features:\n",
            "('float', []) : 19 | ['NFO', 'NFH', 'NFC', 'FIIB', 'FIIS', ...]\n"
          ],
          "name": "stdout"
        }
      ]
    },
    {
      "cell_type": "markdown",
      "metadata": {
        "id": "iDfWRltgBNwK"
      },
      "source": [
        "# leaderboard"
      ]
    },
    {
      "cell_type": "code",
      "metadata": {
        "colab": {
          "base_uri": "https://localhost:8080/",
          "height": 352
        },
        "id": "f4RDGW90GLCZ",
        "outputId": "65646123-16d1-4d27-9326-62b7fa242083"
      },
      "source": [
        "predictor.leaderboard(test_data, silent=True)\n"
      ],
      "execution_count": 23,
      "outputs": [
        {
          "output_type": "execute_result",
          "data": {
            "text/html": [
              "<div>\n",
              "<style scoped>\n",
              "    .dataframe tbody tr th:only-of-type {\n",
              "        vertical-align: middle;\n",
              "    }\n",
              "\n",
              "    .dataframe tbody tr th {\n",
              "        vertical-align: top;\n",
              "    }\n",
              "\n",
              "    .dataframe thead th {\n",
              "        text-align: right;\n",
              "    }\n",
              "</style>\n",
              "<table border=\"1\" class=\"dataframe\">\n",
              "  <thead>\n",
              "    <tr style=\"text-align: right;\">\n",
              "      <th></th>\n",
              "      <th>model</th>\n",
              "      <th>score_test</th>\n",
              "      <th>score_val</th>\n",
              "      <th>pred_time_test</th>\n",
              "      <th>pred_time_val</th>\n",
              "      <th>fit_time</th>\n",
              "      <th>pred_time_test_marginal</th>\n",
              "      <th>pred_time_val_marginal</th>\n",
              "      <th>fit_time_marginal</th>\n",
              "      <th>stack_level</th>\n",
              "      <th>can_infer</th>\n",
              "      <th>fit_order</th>\n",
              "    </tr>\n",
              "  </thead>\n",
              "  <tbody>\n",
              "    <tr>\n",
              "      <th>0</th>\n",
              "      <td>XGBoost_BAG_L1</td>\n",
              "      <td>-680.451673</td>\n",
              "      <td>-93.112799</td>\n",
              "      <td>0.052661</td>\n",
              "      <td>0.019170</td>\n",
              "      <td>0.574253</td>\n",
              "      <td>0.052661</td>\n",
              "      <td>0.019170</td>\n",
              "      <td>0.574253</td>\n",
              "      <td>1</td>\n",
              "      <td>True</td>\n",
              "      <td>8</td>\n",
              "    </tr>\n",
              "    <tr>\n",
              "      <th>1</th>\n",
              "      <td>WeightedEnsemble_L2</td>\n",
              "      <td>-696.844325</td>\n",
              "      <td>-77.705495</td>\n",
              "      <td>0.480583</td>\n",
              "      <td>0.314571</td>\n",
              "      <td>2.415841</td>\n",
              "      <td>0.004093</td>\n",
              "      <td>0.000593</td>\n",
              "      <td>0.350349</td>\n",
              "      <td>2</td>\n",
              "      <td>True</td>\n",
              "      <td>9</td>\n",
              "    </tr>\n",
              "    <tr>\n",
              "      <th>2</th>\n",
              "      <td>ExtraTreesMSE_BAG_L1</td>\n",
              "      <td>-700.937456</td>\n",
              "      <td>-83.852256</td>\n",
              "      <td>0.204749</td>\n",
              "      <td>0.098394</td>\n",
              "      <td>0.641390</td>\n",
              "      <td>0.204749</td>\n",
              "      <td>0.098394</td>\n",
              "      <td>0.641390</td>\n",
              "      <td>1</td>\n",
              "      <td>True</td>\n",
              "      <td>7</td>\n",
              "    </tr>\n",
              "    <tr>\n",
              "      <th>3</th>\n",
              "      <td>RandomForestMSE_BAG_L1</td>\n",
              "      <td>-707.155284</td>\n",
              "      <td>-89.031190</td>\n",
              "      <td>0.116020</td>\n",
              "      <td>0.092611</td>\n",
              "      <td>0.848203</td>\n",
              "      <td>0.116020</td>\n",
              "      <td>0.092611</td>\n",
              "      <td>0.848203</td>\n",
              "      <td>1</td>\n",
              "      <td>True</td>\n",
              "      <td>5</td>\n",
              "    </tr>\n",
              "    <tr>\n",
              "      <th>4</th>\n",
              "      <td>LightGBM_BAG_L1</td>\n",
              "      <td>-1224.610377</td>\n",
              "      <td>-215.854713</td>\n",
              "      <td>0.205763</td>\n",
              "      <td>0.038101</td>\n",
              "      <td>4.806171</td>\n",
              "      <td>0.205763</td>\n",
              "      <td>0.038101</td>\n",
              "      <td>4.806171</td>\n",
              "      <td>1</td>\n",
              "      <td>True</td>\n",
              "      <td>4</td>\n",
              "    </tr>\n",
              "    <tr>\n",
              "      <th>5</th>\n",
              "      <td>CatBoost_BAG_L1</td>\n",
              "      <td>-1308.816232</td>\n",
              "      <td>-195.915911</td>\n",
              "      <td>0.012563</td>\n",
              "      <td>0.006155</td>\n",
              "      <td>15.346488</td>\n",
              "      <td>0.012563</td>\n",
              "      <td>0.006155</td>\n",
              "      <td>15.346488</td>\n",
              "      <td>1</td>\n",
              "      <td>True</td>\n",
              "      <td>6</td>\n",
              "    </tr>\n",
              "    <tr>\n",
              "      <th>6</th>\n",
              "      <td>KNeighborsDist_BAG_L1</td>\n",
              "      <td>-1338.136023</td>\n",
              "      <td>-421.159444</td>\n",
              "      <td>0.103060</td>\n",
              "      <td>0.103803</td>\n",
              "      <td>0.001646</td>\n",
              "      <td>0.103060</td>\n",
              "      <td>0.103803</td>\n",
              "      <td>0.001646</td>\n",
              "      <td>1</td>\n",
              "      <td>True</td>\n",
              "      <td>2</td>\n",
              "    </tr>\n",
              "    <tr>\n",
              "      <th>7</th>\n",
              "      <td>KNeighborsUnif_BAG_L1</td>\n",
              "      <td>-1338.974743</td>\n",
              "      <td>-438.164443</td>\n",
              "      <td>0.102675</td>\n",
              "      <td>0.106025</td>\n",
              "      <td>0.002695</td>\n",
              "      <td>0.102675</td>\n",
              "      <td>0.106025</td>\n",
              "      <td>0.002695</td>\n",
              "      <td>1</td>\n",
              "      <td>True</td>\n",
              "      <td>1</td>\n",
              "    </tr>\n",
              "    <tr>\n",
              "      <th>8</th>\n",
              "      <td>LightGBMXT_BAG_L1</td>\n",
              "      <td>-1377.948473</td>\n",
              "      <td>-261.959909</td>\n",
              "      <td>0.039367</td>\n",
              "      <td>0.014461</td>\n",
              "      <td>1.300723</td>\n",
              "      <td>0.039367</td>\n",
              "      <td>0.014461</td>\n",
              "      <td>1.300723</td>\n",
              "      <td>1</td>\n",
              "      <td>True</td>\n",
              "      <td>3</td>\n",
              "    </tr>\n",
              "  </tbody>\n",
              "</table>\n",
              "</div>"
            ],
            "text/plain": [
              "                    model   score_test  ...  can_infer  fit_order\n",
              "0          XGBoost_BAG_L1  -680.451673  ...       True          8\n",
              "1     WeightedEnsemble_L2  -696.844325  ...       True          9\n",
              "2    ExtraTreesMSE_BAG_L1  -700.937456  ...       True          7\n",
              "3  RandomForestMSE_BAG_L1  -707.155284  ...       True          5\n",
              "4         LightGBM_BAG_L1 -1224.610377  ...       True          4\n",
              "5         CatBoost_BAG_L1 -1308.816232  ...       True          6\n",
              "6   KNeighborsDist_BAG_L1 -1338.136023  ...       True          2\n",
              "7   KNeighborsUnif_BAG_L1 -1338.974743  ...       True          1\n",
              "8       LightGBMXT_BAG_L1 -1377.948473  ...       True          3\n",
              "\n",
              "[9 rows x 12 columns]"
            ]
          },
          "metadata": {
            "tags": []
          },
          "execution_count": 23
        }
      ]
    },
    {
      "cell_type": "markdown",
      "metadata": {
        "id": "HrxUvMoXBXdW"
      },
      "source": [
        "# Faster presets and Hyperparameter"
      ]
    },
    {
      "cell_type": "code",
      "metadata": {
        "colab": {
          "base_uri": "https://localhost:8080/"
        },
        "id": "jeVxxLGBGUBP",
        "outputId": "542c2e64-51ff-4c45-a13c-d3c878271c99"
      },
      "source": [
        "presets = ['high_quality_fast_inference_only_refit','best_quality']\n",
        "time_limits = 2*60\n",
        "predictor_light = task(label=label_column, eval_metric=metric).fit(train_data,presets=presets)"
      ],
      "execution_count": 24,
      "outputs": [
        {
          "output_type": "stream",
          "text": [
            "No path specified. Models will be saved in: \"AutogluonModels/ag-20210710_055729/\"\n",
            "Presets specified: ['high_quality_fast_inference_only_refit', 'best_quality']\n",
            "Beginning AutoGluon training ...\n",
            "AutoGluon will save models to \"AutogluonModels/ag-20210710_055729/\"\n",
            "AutoGluon Version:  0.2.0\n",
            "Train Data Rows:    250\n",
            "Train Data Columns: 19\n",
            "Preprocessing data ...\n",
            "AutoGluon infers your prediction problem is: 'regression' (because dtype of label-column == float and many unique label-values observed).\n",
            "\tLabel info (max, min, mean, stddev): (14563.343015754099, 7264.76863366667, 11173.55424, 1559.5069)\n",
            "\tIf 'regression' is not the correct problem_type, please manually specify the problem_type argument in fit() (You may specify problem_type as one of: ['binary', 'multiclass', 'regression'])\n",
            "Using Feature Generators to preprocess the data ...\n",
            "Fitting AutoMLPipelineFeatureGenerator...\n",
            "\tAvailable Memory:                    12633.66 MB\n",
            "\tTrain Data (Original)  Memory Usage: 0.04 MB (0.0% of available memory)\n",
            "\tInferring data type of each feature based on column values. Set feature_metadata_in to manually specify special dtypes of the features.\n",
            "\tStage 1 Generators:\n",
            "\t\tFitting AsTypeFeatureGenerator...\n",
            "\tStage 2 Generators:\n",
            "\t\tFitting FillNaFeatureGenerator...\n",
            "\tStage 3 Generators:\n",
            "\t\tFitting IdentityFeatureGenerator...\n",
            "\tStage 4 Generators:\n",
            "\t\tFitting DropUniqueFeatureGenerator...\n",
            "\tTypes of features in original data (raw dtype, special dtypes):\n",
            "\t\t('float', []) : 19 | ['NFO', 'NFH', 'NFC', 'FIIB', 'FIIS', ...]\n",
            "\tTypes of features in processed data (raw dtype, special dtypes):\n",
            "\t\t('float', []) : 19 | ['NFO', 'NFH', 'NFC', 'FIIB', 'FIIS', ...]\n",
            "\t0.1s = Fit runtime\n",
            "\t19 features in original data used to generate 19 features in processed data.\n",
            "\tTrain Data (Processed) Memory Usage: 0.04 MB (0.0% of available memory)\n",
            "Data preprocessing and feature engineering runtime = 0.13s ...\n",
            "AutoGluon will gauge predictive performance using evaluation metric: 'root_mean_squared_error'\n",
            "\tTo change this, specify the eval_metric argument of fit()\n",
            "Fitting model: KNeighborsUnif_BAG_L1 ...\n",
            "\t-438.1644\t = Validation root_mean_squared_error score\n",
            "\t0.0s\t = Training runtime\n",
            "\t0.1s\t = Validation runtime\n",
            "Fitting model: KNeighborsDist_BAG_L1 ...\n",
            "\t-421.1594\t = Validation root_mean_squared_error score\n",
            "\t0.0s\t = Training runtime\n",
            "\t0.1s\t = Validation runtime\n",
            "Fitting model: LightGBMXT_BAG_L1 ...\n",
            "\t-261.9599\t = Validation root_mean_squared_error score\n",
            "\t1.1s\t = Training runtime\n",
            "\t0.01s\t = Validation runtime\n",
            "Fitting model: LightGBM_BAG_L1 ...\n"
          ],
          "name": "stderr"
        },
        {
          "output_type": "stream",
          "text": [
            "[1000]\ttrain_set's rmse: 13.8233\tvalid_set's rmse: 260.139\n",
            "[2000]\ttrain_set's rmse: 2.72947\tvalid_set's rmse: 258.516\n",
            "[3000]\ttrain_set's rmse: 0.677887\tvalid_set's rmse: 258.239\n",
            "[4000]\ttrain_set's rmse: 0.195717\tvalid_set's rmse: 258.188\n",
            "[5000]\ttrain_set's rmse: 0.0618926\tvalid_set's rmse: 258.173\n",
            "[6000]\ttrain_set's rmse: 0.0195282\tvalid_set's rmse: 258.169\n",
            "[7000]\ttrain_set's rmse: 0.00541658\tvalid_set's rmse: 258.167\n",
            "[8000]\ttrain_set's rmse: 0.00165051\tvalid_set's rmse: 258.167\n",
            "[9000]\ttrain_set's rmse: 0.000476514\tvalid_set's rmse: 258.167\n",
            "[10000]\ttrain_set's rmse: 0.00014042\tvalid_set's rmse: 258.167\n"
          ],
          "name": "stdout"
        },
        {
          "output_type": "stream",
          "text": [
            "\t-215.8547\t = Validation root_mean_squared_error score\n",
            "\t4.78s\t = Training runtime\n",
            "\t0.05s\t = Validation runtime\n",
            "Fitting model: RandomForestMSE_BAG_L1 ...\n",
            "\t-89.0312\t = Validation root_mean_squared_error score\n",
            "\t0.84s\t = Training runtime\n",
            "\t0.09s\t = Validation runtime\n",
            "Fitting model: CatBoost_BAG_L1 ...\n",
            "\t-195.8946\t = Validation root_mean_squared_error score\n",
            "\t20.35s\t = Training runtime\n",
            "\t0.01s\t = Validation runtime\n",
            "Fitting model: ExtraTreesMSE_BAG_L1 ...\n",
            "\t-83.8523\t = Validation root_mean_squared_error score\n",
            "\t0.63s\t = Training runtime\n",
            "\t0.1s\t = Validation runtime\n",
            "Fitting model: NeuralNetFastAI_BAG_L1 ...\n",
            "\t-11075.021\t = Validation root_mean_squared_error score\n",
            "\t11.4s\t = Training runtime\n",
            "\t0.09s\t = Validation runtime\n",
            "Fitting model: XGBoost_BAG_L1 ...\n",
            "\t-90.8451\t = Validation root_mean_squared_error score\n",
            "\t2.06s\t = Training runtime\n",
            "\t0.02s\t = Validation runtime\n",
            "Fitting model: NeuralNetMXNet_BAG_L1 ...\n",
            "\t-227.1947\t = Validation root_mean_squared_error score\n",
            "\t19.34s\t = Training runtime\n",
            "\t0.58s\t = Validation runtime\n",
            "Fitting model: LightGBMLarge_BAG_L1 ...\n",
            "\t-117.5743\t = Validation root_mean_squared_error score\n",
            "\t2.31s\t = Training runtime\n",
            "\t0.02s\t = Validation runtime\n",
            "Fitting model: WeightedEnsemble_L2 ...\n",
            "\t-76.5287\t = Validation root_mean_squared_error score\n",
            "\t0.48s\t = Training runtime\n",
            "\t0.0s\t = Validation runtime\n",
            "AutoGluon training complete, total runtime = 64.88s ...\n",
            "Fitting model: KNeighborsUnif_BAG_L1_FULL ...\n",
            "\t-438.1644\t = Validation root_mean_squared_error score\n",
            "\t0.0s\t = Training runtime\n",
            "\t0.1s\t = Validation runtime\n",
            "Fitting model: KNeighborsDist_BAG_L1_FULL ...\n",
            "\t-421.1594\t = Validation root_mean_squared_error score\n",
            "\t0.0s\t = Training runtime\n",
            "\t0.1s\t = Validation runtime\n",
            "Fitting model: LightGBMXT_BAG_L1_FULL ...\n",
            "\t0.2s\t = Training runtime\n",
            "Fitting model: LightGBM_BAG_L1_FULL ...\n"
          ],
          "name": "stderr"
        },
        {
          "output_type": "stream",
          "text": [
            "[1000]\ttrain_set's rmse: 5.97242\n",
            "[2000]\ttrain_set's rmse: 0.55023\n"
          ],
          "name": "stdout"
        },
        {
          "output_type": "stream",
          "text": [
            "\t1.1s\t = Training runtime\n",
            "Fitting model: RandomForestMSE_BAG_L1_FULL ...\n",
            "\t-89.0312\t = Validation root_mean_squared_error score\n",
            "\t0.83s\t = Training runtime\n",
            "\t0.09s\t = Validation runtime\n",
            "Fitting model: CatBoost_BAG_L1_FULL ...\n",
            "\t4.35s\t = Training runtime\n",
            "Fitting model: ExtraTreesMSE_BAG_L1_FULL ...\n",
            "\t-83.8523\t = Validation root_mean_squared_error score\n",
            "\t0.63s\t = Training runtime\n",
            "\t0.09s\t = Validation runtime\n",
            "Fitting model: NeuralNetFastAI_BAG_L1_FULL ...\n",
            "\tStopping at the best epoch learned earlier - 27.\n",
            "\t1.91s\t = Training runtime\n",
            "Fitting model: XGBoost_BAG_L1_FULL ...\n",
            "\t0.2s\t = Training runtime\n",
            "Fitting model: NeuralNetMXNet_BAG_L1_FULL ...\n",
            "\t0.53s\t = Training runtime\n",
            "Fitting model: LightGBMLarge_BAG_L1_FULL ...\n",
            "\t0.37s\t = Training runtime\n",
            "Fitting model: WeightedEnsemble_L2_FULL ...\n",
            "\t-76.5287\t = Validation root_mean_squared_error score\n",
            "\t0.18s\t = Training runtime\n",
            "\t0.0s\t = Validation runtime\n",
            "TabularPredictor saved. To load, use: predictor = TabularPredictor.load(\"AutogluonModels/ag-20210710_055729/\")\n"
          ],
          "name": "stderr"
        }
      ]
    },
    {
      "cell_type": "code",
      "metadata": {
        "colab": {
          "base_uri": "https://localhost:8080/"
        },
        "id": "OLGBHzPD_gIO",
        "outputId": "aad78b50-cbc2-4605-fce8-44272af346ec"
      },
      "source": [
        "result = predictor_light.fit_summary()"
      ],
      "execution_count": 25,
      "outputs": [
        {
          "output_type": "stream",
          "text": [
            "*** Summary of fit() ***\n",
            "Estimated performance of each model:\n",
            "                          model     score_val  pred_time_val   fit_time  pred_time_val_marginal  fit_time_marginal  stack_level  can_infer  fit_order\n",
            "0           WeightedEnsemble_L2    -76.528700       0.318470   4.008001                0.000606           0.483128            2      False         12\n",
            "1     ExtraTreesMSE_BAG_L1_FULL    -83.852256       0.092915   0.630522                0.092915           0.630522            1       True         19\n",
            "2          ExtraTreesMSE_BAG_L1    -83.852256       0.102228   0.631224                0.102228           0.631224            1      False          7\n",
            "3   RandomForestMSE_BAG_L1_FULL    -89.031190       0.092089   0.827677                0.092089           0.827677            1       True         17\n",
            "4        RandomForestMSE_BAG_L1    -89.031190       0.094993   0.835344                0.094993           0.835344            1      False          5\n",
            "5                XGBoost_BAG_L1    -90.845075       0.017174   2.056830                0.017174           2.056830            1      False          9\n",
            "6          LightGBMLarge_BAG_L1   -117.574343       0.015553   2.313568                0.015553           2.313568            1      False         11\n",
            "7               CatBoost_BAG_L1   -195.894568       0.006462  20.349675                0.006462          20.349675            1      False          6\n",
            "8               LightGBM_BAG_L1   -215.854713       0.045060   4.778774                0.045060           4.778774            1      False          4\n",
            "9         NeuralNetMXNet_BAG_L1   -227.194738       0.580327  19.343170                0.580327          19.343170            1      False         10\n",
            "10            LightGBMXT_BAG_L1   -261.959909       0.014343   1.103312                0.014343           1.103312            1      False          3\n",
            "11        KNeighborsDist_BAG_L1   -421.159444       0.103469   0.001474                0.103469           0.001474            1      False          2\n",
            "12   KNeighborsDist_BAG_L1_FULL   -421.159444       0.103556   0.002642                0.103556           0.002642            1       True         14\n",
            "13        KNeighborsUnif_BAG_L1   -438.164443       0.103400   0.001756                0.103400           0.001756            1      False          1\n",
            "14   KNeighborsUnif_BAG_L1_FULL   -438.164443       0.103466   0.001112                0.103466           0.001112            1       True         13\n",
            "15       NeuralNetFastAI_BAG_L1 -11075.020956       0.094151  11.403682                0.094151          11.403682            1      False          8\n",
            "16          XGBoost_BAG_L1_FULL           NaN            NaN   0.197380                     NaN           0.197380            1       True         21\n",
            "17     WeightedEnsemble_L2_FULL           NaN            NaN   1.839347                0.000575           0.181125            2       True         24\n",
            "18   NeuralNetMXNet_BAG_L1_FULL           NaN            NaN   0.531881                     NaN           0.531881            1       True         22\n",
            "19  NeuralNetFastAI_BAG_L1_FULL           NaN            NaN   1.913945                     NaN           1.913945            1       True         20\n",
            "20         LightGBM_BAG_L1_FULL           NaN            NaN   1.095545                     NaN           1.095545            1       True         16\n",
            "21       LightGBMXT_BAG_L1_FULL           NaN            NaN   0.203203                     NaN           0.203203            1       True         15\n",
            "22    LightGBMLarge_BAG_L1_FULL           NaN            NaN   0.374239                     NaN           0.374239            1       True         23\n",
            "23         CatBoost_BAG_L1_FULL           NaN            NaN   4.345130                     NaN           4.345130            1       True         18\n",
            "Number of models trained: 24\n",
            "Types of models trained:\n",
            "{'StackerEnsembleModel_XT', 'WeightedEnsembleModel', 'StackerEnsembleModel_TabularNeuralNet', 'StackerEnsembleModel_LGB', 'StackerEnsembleModel_CatBoost', 'StackerEnsembleModel_NNFastAiTabular', 'StackerEnsembleModel_RF', 'StackerEnsembleModel_XGBoost', 'StackerEnsembleModel_KNN'}\n",
            "Bagging used: True  (with 5 folds)\n",
            "Multi-layer stack-ensembling used: False \n",
            "Feature Metadata (Processed):\n",
            "(raw dtype, special dtypes):\n",
            "('float', []) : 19 | ['NFO', 'NFH', 'NFC', 'FIIB', 'FIIS', ...]\n",
            "Plot summary of models saved to file: AutogluonModels/ag-20210710_055729/SummaryOfModels.html\n",
            "*** End of fit() summary ***\n"
          ],
          "name": "stdout"
        }
      ]
    },
    {
      "cell_type": "markdown",
      "metadata": {
        "id": "KNOIxPYzBtP3"
      },
      "source": [
        "# excluding some models and predict"
      ]
    },
    {
      "cell_type": "code",
      "metadata": {
        "colab": {
          "base_uri": "https://localhost:8080/"
        },
        "id": "gB1mPfcw_5K3",
        "outputId": "e950bf45-3f88-4e8a-9d9e-370cbfd85c58"
      },
      "source": [
        "excluded_model_types = ['NeuralNetFastAI','NeuralNetMXNet','LightGBMXT']\n",
        "predictor_light = task(label=label_column, eval_metric=metric).fit(train_data,excluded_model_types=excluded_model_types)"
      ],
      "execution_count": 26,
      "outputs": [
        {
          "output_type": "stream",
          "text": [
            "No path specified. Models will be saved in: \"AutogluonModels/ag-20210710_055934/\"\n",
            "Beginning AutoGluon training ...\n",
            "AutoGluon will save models to \"AutogluonModels/ag-20210710_055934/\"\n",
            "AutoGluon Version:  0.2.0\n",
            "Train Data Rows:    250\n",
            "Train Data Columns: 19\n",
            "Preprocessing data ...\n",
            "AutoGluon infers your prediction problem is: 'regression' (because dtype of label-column == float and many unique label-values observed).\n",
            "\tLabel info (max, min, mean, stddev): (14563.343015754099, 7264.76863366667, 11173.55424, 1559.5069)\n",
            "\tIf 'regression' is not the correct problem_type, please manually specify the problem_type argument in fit() (You may specify problem_type as one of: ['binary', 'multiclass', 'regression'])\n",
            "Using Feature Generators to preprocess the data ...\n",
            "Fitting AutoMLPipelineFeatureGenerator...\n",
            "\tAvailable Memory:                    12577.59 MB\n",
            "\tTrain Data (Original)  Memory Usage: 0.04 MB (0.0% of available memory)\n",
            "\tInferring data type of each feature based on column values. Set feature_metadata_in to manually specify special dtypes of the features.\n",
            "\tStage 1 Generators:\n",
            "\t\tFitting AsTypeFeatureGenerator...\n",
            "\tStage 2 Generators:\n",
            "\t\tFitting FillNaFeatureGenerator...\n",
            "\tStage 3 Generators:\n",
            "\t\tFitting IdentityFeatureGenerator...\n",
            "\tStage 4 Generators:\n",
            "\t\tFitting DropUniqueFeatureGenerator...\n",
            "\tTypes of features in original data (raw dtype, special dtypes):\n",
            "\t\t('float', []) : 19 | ['NFO', 'NFH', 'NFC', 'FIIB', 'FIIS', ...]\n",
            "\tTypes of features in processed data (raw dtype, special dtypes):\n",
            "\t\t('float', []) : 19 | ['NFO', 'NFH', 'NFC', 'FIIB', 'FIIS', ...]\n",
            "\t0.1s = Fit runtime\n",
            "\t19 features in original data used to generate 19 features in processed data.\n",
            "\tTrain Data (Processed) Memory Usage: 0.04 MB (0.0% of available memory)\n",
            "Data preprocessing and feature engineering runtime = 0.13s ...\n",
            "AutoGluon will gauge predictive performance using evaluation metric: 'root_mean_squared_error'\n",
            "\tTo change this, specify the eval_metric argument of fit()\n",
            "Automatically generating train/validation split with holdout_frac=0.2, Train Rows: 200, Val Rows: 50\n",
            "Excluded Model Types: ['NeuralNetFastAI', 'NeuralNetMXNet', 'LightGBMXT']\n",
            "Fitting model: KNeighborsUnif ...\n",
            "\t-629.3806\t = Validation root_mean_squared_error score\n",
            "\t0.0s\t = Training runtime\n",
            "\t0.1s\t = Validation runtime\n",
            "Fitting model: KNeighborsDist ...\n",
            "\t-618.5991\t = Validation root_mean_squared_error score\n",
            "\t0.0s\t = Training runtime\n",
            "\t0.1s\t = Validation runtime\n",
            "Fitting model: LightGBMXT ...\n",
            "\t-221.7939\t = Validation root_mean_squared_error score\n",
            "\t0.26s\t = Training runtime\n",
            "\t0.0s\t = Validation runtime\n",
            "Fitting model: LightGBM ...\n"
          ],
          "name": "stderr"
        },
        {
          "output_type": "stream",
          "text": [
            "[1000]\ttrain_set's rmse: 11.3533\tvalid_set's rmse: 187.151\n"
          ],
          "name": "stdout"
        },
        {
          "output_type": "stream",
          "text": [
            "\t-186.5569\t = Validation root_mean_squared_error score\n",
            "\t0.61s\t = Training runtime\n",
            "\t0.01s\t = Validation runtime\n",
            "Fitting model: RandomForestMSE ...\n",
            "\t-73.2459\t = Validation root_mean_squared_error score\n",
            "\t0.73s\t = Training runtime\n",
            "\t0.1s\t = Validation runtime\n",
            "Fitting model: CatBoost ...\n",
            "\t-175.7946\t = Validation root_mean_squared_error score\n",
            "\t1.8s\t = Training runtime\n",
            "\t0.0s\t = Validation runtime\n",
            "Fitting model: ExtraTreesMSE ...\n",
            "\t-68.783\t = Validation root_mean_squared_error score\n",
            "\t0.63s\t = Training runtime\n",
            "\t0.1s\t = Validation runtime\n",
            "Fitting model: NeuralNetFastAI ...\n",
            "\t-10789.8748\t = Validation root_mean_squared_error score\n",
            "\t2.3s\t = Training runtime\n",
            "\t0.02s\t = Validation runtime\n",
            "Fitting model: XGBoost ...\n",
            "\t-98.9846\t = Validation root_mean_squared_error score\n",
            "\t0.5s\t = Training runtime\n",
            "\t0.0s\t = Validation runtime\n",
            "Fitting model: NeuralNetMXNet ...\n",
            "\t-358.2332\t = Validation root_mean_squared_error score\n",
            "\t2.33s\t = Training runtime\n",
            "\t0.12s\t = Validation runtime\n",
            "Fitting model: LightGBMLarge ...\n",
            "\t-112.327\t = Validation root_mean_squared_error score\n",
            "\t0.84s\t = Training runtime\n",
            "\t0.01s\t = Validation runtime\n",
            "Fitting model: WeightedEnsemble_L2 ...\n",
            "\t-66.6667\t = Validation root_mean_squared_error score\n",
            "\t0.51s\t = Training runtime\n",
            "\t0.0s\t = Validation runtime\n",
            "AutoGluon training complete, total runtime = 12.32s ...\n",
            "TabularPredictor saved. To load, use: predictor = TabularPredictor.load(\"AutogluonModels/ag-20210710_055934/\")\n"
          ],
          "name": "stderr"
        }
      ]
    },
    {
      "cell_type": "code",
      "metadata": {
        "colab": {
          "base_uri": "https://localhost:8080/"
        },
        "id": "XqTbpA3Y_-hI",
        "outputId": "d4d94b3f-58e0-4899-9970-667723dee514"
      },
      "source": [
        "result = predictor_light.fit_summary()"
      ],
      "execution_count": 27,
      "outputs": [
        {
          "output_type": "stream",
          "text": [
            "*** Summary of fit() ***\n",
            "Estimated performance of each model:\n",
            "                  model     score_val  pred_time_val  fit_time  pred_time_val_marginal  fit_time_marginal  stack_level  can_infer  fit_order\n",
            "0   WeightedEnsemble_L2    -66.666709       0.313868  2.377146                0.000593           0.506156            2       True         12\n",
            "1         ExtraTreesMSE    -68.782971       0.102720  0.634065                0.102720           0.634065            1       True          7\n",
            "2       RandomForestMSE    -73.245947       0.102673  0.732181                0.102673           0.732181            1       True          5\n",
            "3               XGBoost    -98.984596       0.003969  0.500405                0.003969           0.500405            1       True          9\n",
            "4         LightGBMLarge   -112.326971       0.005273  0.841676                0.005273           0.841676            1       True         11\n",
            "5              CatBoost   -175.794599       0.001920  1.798341                0.001920           1.798341            1       True          6\n",
            "6              LightGBM   -186.556924       0.005909  0.607495                0.005909           0.607495            1       True          4\n",
            "7            LightGBMXT   -221.793901       0.004076  0.257048                0.004076           0.257048            1       True          3\n",
            "8        NeuralNetMXNet   -358.233227       0.124791  2.331669                0.124791           2.331669            1       True         10\n",
            "9        KNeighborsDist   -618.599106       0.103913  0.004338                0.103913           0.004338            1       True          2\n",
            "10       KNeighborsUnif   -629.380617       0.104157  0.003759                0.104157           0.003759            1       True          1\n",
            "11      NeuralNetFastAI -10789.874757       0.019332  2.296197                0.019332           2.296197            1       True          8\n",
            "Number of models trained: 12\n",
            "Types of models trained:\n",
            "{'WeightedEnsembleModel', 'XTModel', 'KNNModel', 'NNFastAiTabularModel', 'TabularNeuralNetModel', 'XGBoostModel', 'LGBModel', 'CatBoostModel', 'RFModel'}\n",
            "Bagging used: False \n",
            "Multi-layer stack-ensembling used: False \n",
            "Feature Metadata (Processed):\n",
            "(raw dtype, special dtypes):\n",
            "('float', []) : 19 | ['NFO', 'NFH', 'NFC', 'FIIB', 'FIIS', ...]\n",
            "Plot summary of models saved to file: AutogluonModels/ag-20210710_055934/SummaryOfModels.html\n",
            "*** End of fit() summary ***\n"
          ],
          "name": "stdout"
        }
      ]
    },
    {
      "cell_type": "markdown",
      "metadata": {
        "id": "RLVBbimdByeh"
      },
      "source": [
        "# Ensemble"
      ]
    },
    {
      "cell_type": "code",
      "metadata": {
        "colab": {
          "base_uri": "https://localhost:8080/",
          "height": 855
        },
        "id": "w9KhgwcmAETi",
        "outputId": "b957d0c9-d472-409f-dd42-b415b4d4fa97"
      },
      "source": [
        "additional_ensembles = predictor.fit_weighted_ensemble(expand_pareto_frontier=True)\n",
        "print(\"Alternative ensembles you can use for prediction:\", additional_ensembles)\n",
        "\n",
        "predictor.leaderboard(only_pareto_frontier=True, silent=True)"
      ],
      "execution_count": 28,
      "outputs": [
        {
          "output_type": "stream",
          "text": [
            "Fitting model: WeightedEnsemble_L2Best_Pareto1 ...\n",
            "\t-193.9207\t = Validation root_mean_squared_error score\n",
            "\t0.1s\t = Training runtime\n",
            "\t0.0s\t = Validation runtime\n",
            "Fitting model: WeightedEnsemble_L2Best_Pareto2 ...\n",
            "\t-91.8391\t = Validation root_mean_squared_error score\n",
            "\t0.14s\t = Training runtime\n",
            "\t0.0s\t = Validation runtime\n",
            "Fitting model: WeightedEnsemble_L2Best_Pareto3 ...\n",
            "\t-91.7692\t = Validation root_mean_squared_error score\n",
            "\t0.2s\t = Training runtime\n",
            "\t0.0s\t = Validation runtime\n",
            "Fitting model: WeightedEnsemble_L2Best_Pareto4 ...\n",
            "\t-82.2105\t = Validation root_mean_squared_error score\n",
            "\t0.23s\t = Training runtime\n",
            "\t0.0s\t = Validation runtime\n",
            "Fitting model: WeightedEnsemble_L2Best_Pareto5 ...\n",
            "\t-77.7975\t = Validation root_mean_squared_error score\n",
            "\t0.27s\t = Training runtime\n",
            "\t0.0s\t = Validation runtime\n",
            "Fitting model: WeightedEnsemble_L2Best_Pareto6 ...\n",
            "\t-77.7055\t = Validation root_mean_squared_error score\n",
            "\t0.32s\t = Training runtime\n",
            "\t0.0s\t = Validation runtime\n",
            "Fitting model: WeightedEnsemble_L2Best ...\n",
            "\t-77.7055\t = Validation root_mean_squared_error score\n",
            "\t0.36s\t = Training runtime\n",
            "\t0.0s\t = Validation runtime\n"
          ],
          "name": "stderr"
        },
        {
          "output_type": "stream",
          "text": [
            "Alternative ensembles you can use for prediction: ['WeightedEnsemble_L2Best_Pareto1', 'WeightedEnsemble_L2Best_Pareto2', 'WeightedEnsemble_L2Best_Pareto3', 'WeightedEnsemble_L2Best_Pareto4', 'WeightedEnsemble_L2Best_Pareto5', 'WeightedEnsemble_L2Best_Pareto6', 'WeightedEnsemble_L2Best']\n"
          ],
          "name": "stdout"
        },
        {
          "output_type": "execute_result",
          "data": {
            "text/html": [
              "<div>\n",
              "<style scoped>\n",
              "    .dataframe tbody tr th:only-of-type {\n",
              "        vertical-align: middle;\n",
              "    }\n",
              "\n",
              "    .dataframe tbody tr th {\n",
              "        vertical-align: top;\n",
              "    }\n",
              "\n",
              "    .dataframe thead th {\n",
              "        text-align: right;\n",
              "    }\n",
              "</style>\n",
              "<table border=\"1\" class=\"dataframe\">\n",
              "  <thead>\n",
              "    <tr style=\"text-align: right;\">\n",
              "      <th></th>\n",
              "      <th>model</th>\n",
              "      <th>score_val</th>\n",
              "      <th>pred_time_val</th>\n",
              "      <th>fit_time</th>\n",
              "      <th>pred_time_val_marginal</th>\n",
              "      <th>fit_time_marginal</th>\n",
              "      <th>stack_level</th>\n",
              "      <th>can_infer</th>\n",
              "      <th>fit_order</th>\n",
              "    </tr>\n",
              "  </thead>\n",
              "  <tbody>\n",
              "    <tr>\n",
              "      <th>0</th>\n",
              "      <td>WeightedEnsemble_L2</td>\n",
              "      <td>-77.705495</td>\n",
              "      <td>0.314571</td>\n",
              "      <td>2.415841</td>\n",
              "      <td>0.000593</td>\n",
              "      <td>0.350349</td>\n",
              "      <td>2</td>\n",
              "      <td>True</td>\n",
              "      <td>9</td>\n",
              "    </tr>\n",
              "    <tr>\n",
              "      <th>1</th>\n",
              "      <td>WeightedEnsemble_L2Best_Pareto5</td>\n",
              "      <td>-77.797533</td>\n",
              "      <td>0.210816</td>\n",
              "      <td>2.336894</td>\n",
              "      <td>0.000642</td>\n",
              "      <td>0.273048</td>\n",
              "      <td>2</td>\n",
              "      <td>True</td>\n",
              "      <td>14</td>\n",
              "    </tr>\n",
              "    <tr>\n",
              "      <th>2</th>\n",
              "      <td>WeightedEnsemble_L2Best_Pareto4</td>\n",
              "      <td>-82.210548</td>\n",
              "      <td>0.126806</td>\n",
              "      <td>2.954039</td>\n",
              "      <td>0.000564</td>\n",
              "      <td>0.230860</td>\n",
              "      <td>2</td>\n",
              "      <td>True</td>\n",
              "      <td>13</td>\n",
              "    </tr>\n",
              "    <tr>\n",
              "      <th>3</th>\n",
              "      <td>ExtraTreesMSE_BAG_L1</td>\n",
              "      <td>-83.852256</td>\n",
              "      <td>0.098394</td>\n",
              "      <td>0.641390</td>\n",
              "      <td>0.098394</td>\n",
              "      <td>0.641390</td>\n",
              "      <td>1</td>\n",
              "      <td>True</td>\n",
              "      <td>7</td>\n",
              "    </tr>\n",
              "    <tr>\n",
              "      <th>4</th>\n",
              "      <td>RandomForestMSE_BAG_L1</td>\n",
              "      <td>-89.031190</td>\n",
              "      <td>0.092611</td>\n",
              "      <td>0.848203</td>\n",
              "      <td>0.092611</td>\n",
              "      <td>0.848203</td>\n",
              "      <td>1</td>\n",
              "      <td>True</td>\n",
              "      <td>5</td>\n",
              "    </tr>\n",
              "    <tr>\n",
              "      <th>5</th>\n",
              "      <td>WeightedEnsemble_L2Best_Pareto3</td>\n",
              "      <td>-91.769243</td>\n",
              "      <td>0.078464</td>\n",
              "      <td>22.226563</td>\n",
              "      <td>0.000576</td>\n",
              "      <td>0.198928</td>\n",
              "      <td>2</td>\n",
              "      <td>True</td>\n",
              "      <td>12</td>\n",
              "    </tr>\n",
              "    <tr>\n",
              "      <th>6</th>\n",
              "      <td>WeightedEnsemble_L2Best_Pareto2</td>\n",
              "      <td>-91.839101</td>\n",
              "      <td>0.040366</td>\n",
              "      <td>17.364490</td>\n",
              "      <td>0.000580</td>\n",
              "      <td>0.143026</td>\n",
              "      <td>2</td>\n",
              "      <td>True</td>\n",
              "      <td>11</td>\n",
              "    </tr>\n",
              "    <tr>\n",
              "      <th>7</th>\n",
              "      <td>XGBoost_BAG_L1</td>\n",
              "      <td>-93.112799</td>\n",
              "      <td>0.019170</td>\n",
              "      <td>0.574253</td>\n",
              "      <td>0.019170</td>\n",
              "      <td>0.574253</td>\n",
              "      <td>1</td>\n",
              "      <td>True</td>\n",
              "      <td>8</td>\n",
              "    </tr>\n",
              "    <tr>\n",
              "      <th>8</th>\n",
              "      <td>CatBoost_BAG_L1</td>\n",
              "      <td>-195.915911</td>\n",
              "      <td>0.006155</td>\n",
              "      <td>15.346488</td>\n",
              "      <td>0.006155</td>\n",
              "      <td>15.346488</td>\n",
              "      <td>1</td>\n",
              "      <td>True</td>\n",
              "      <td>6</td>\n",
              "    </tr>\n",
              "  </tbody>\n",
              "</table>\n",
              "</div>"
            ],
            "text/plain": [
              "                             model   score_val  ...  can_infer  fit_order\n",
              "0              WeightedEnsemble_L2  -77.705495  ...       True          9\n",
              "1  WeightedEnsemble_L2Best_Pareto5  -77.797533  ...       True         14\n",
              "2  WeightedEnsemble_L2Best_Pareto4  -82.210548  ...       True         13\n",
              "3             ExtraTreesMSE_BAG_L1  -83.852256  ...       True          7\n",
              "4           RandomForestMSE_BAG_L1  -89.031190  ...       True          5\n",
              "5  WeightedEnsemble_L2Best_Pareto3  -91.769243  ...       True         12\n",
              "6  WeightedEnsemble_L2Best_Pareto2  -91.839101  ...       True         11\n",
              "7                   XGBoost_BAG_L1  -93.112799  ...       True          8\n",
              "8                  CatBoost_BAG_L1 -195.915911  ...       True          6\n",
              "\n",
              "[9 rows x 9 columns]"
            ]
          },
          "metadata": {
            "tags": []
          },
          "execution_count": 28
        }
      ]
    },
    {
      "cell_type": "markdown",
      "metadata": {
        "id": "WpbeJsjLB2fj"
      },
      "source": [
        "#Hyperparameter tuning"
      ]
    },
    {
      "cell_type": "code",
      "metadata": {
        "colab": {
          "base_uri": "https://localhost:8080/"
        },
        "id": "wfVvZZkdAI2D",
        "outputId": "57711216-b4c6-4e7d-e786-b9091222bde1"
      },
      "source": [
        "predictor = task(label=label_column, eval_metric=metric).fit(train_data,\n",
        "    num_bag_folds=5, num_bag_sets=1, num_stack_levels=1,\n",
        "    hyperparameters = {'NN': {'num_epochs': 2}, 'GBM': {'num_boost_round': 20}},  # last  argument is just for quick demo here, omit it in real applications\n",
        ")\n"
      ],
      "execution_count": 29,
      "outputs": [
        {
          "output_type": "stream",
          "text": [
            "No path specified. Models will be saved in: \"AutogluonModels/ag-20210710_060031/\"\n",
            "Beginning AutoGluon training ...\n",
            "AutoGluon will save models to \"AutogluonModels/ag-20210710_060031/\"\n",
            "AutoGluon Version:  0.2.0\n",
            "Train Data Rows:    250\n",
            "Train Data Columns: 19\n",
            "Preprocessing data ...\n",
            "AutoGluon infers your prediction problem is: 'regression' (because dtype of label-column == float and many unique label-values observed).\n",
            "\tLabel info (max, min, mean, stddev): (14563.343015754099, 7264.76863366667, 11173.55424, 1559.5069)\n",
            "\tIf 'regression' is not the correct problem_type, please manually specify the problem_type argument in fit() (You may specify problem_type as one of: ['binary', 'multiclass', 'regression'])\n",
            "Using Feature Generators to preprocess the data ...\n",
            "Fitting AutoMLPipelineFeatureGenerator...\n",
            "\tAvailable Memory:                    12575.81 MB\n",
            "\tTrain Data (Original)  Memory Usage: 0.04 MB (0.0% of available memory)\n",
            "\tInferring data type of each feature based on column values. Set feature_metadata_in to manually specify special dtypes of the features.\n",
            "\tStage 1 Generators:\n",
            "\t\tFitting AsTypeFeatureGenerator...\n",
            "\tStage 2 Generators:\n",
            "\t\tFitting FillNaFeatureGenerator...\n",
            "\tStage 3 Generators:\n",
            "\t\tFitting IdentityFeatureGenerator...\n",
            "\tStage 4 Generators:\n",
            "\t\tFitting DropUniqueFeatureGenerator...\n",
            "\tTypes of features in original data (raw dtype, special dtypes):\n",
            "\t\t('float', []) : 19 | ['NFO', 'NFH', 'NFC', 'FIIB', 'FIIS', ...]\n",
            "\tTypes of features in processed data (raw dtype, special dtypes):\n",
            "\t\t('float', []) : 19 | ['NFO', 'NFH', 'NFC', 'FIIB', 'FIIS', ...]\n",
            "\t0.1s = Fit runtime\n",
            "\t19 features in original data used to generate 19 features in processed data.\n",
            "\tTrain Data (Processed) Memory Usage: 0.04 MB (0.0% of available memory)\n",
            "Data preprocessing and feature engineering runtime = 0.12s ...\n",
            "AutoGluon will gauge predictive performance using evaluation metric: 'root_mean_squared_error'\n",
            "\tTo change this, specify the eval_metric argument of fit()\n",
            "Fitting model: LightGBM_BAG_L1 ...\n",
            "\t-630.4867\t = Validation root_mean_squared_error score\n",
            "\t0.64s\t = Training runtime\n",
            "\t0.01s\t = Validation runtime\n",
            "Fitting model: NeuralNetMXNet_BAG_L1 ...\n",
            "\t-1537.1715\t = Validation root_mean_squared_error score\n",
            "\t1.75s\t = Training runtime\n",
            "\t0.65s\t = Validation runtime\n",
            "Fitting model: WeightedEnsemble_L2 ...\n",
            "\t-630.4867\t = Validation root_mean_squared_error score\n",
            "\t0.1s\t = Training runtime\n",
            "\t0.0s\t = Validation runtime\n",
            "Fitting model: LightGBM_BAG_L2 ...\n",
            "\t-620.7255\t = Validation root_mean_squared_error score\n",
            "\t0.64s\t = Training runtime\n",
            "\t0.02s\t = Validation runtime\n",
            "Fitting model: NeuralNetMXNet_BAG_L2 ...\n",
            "\t-1515.8936\t = Validation root_mean_squared_error score\n",
            "\t1.72s\t = Training runtime\n",
            "\t0.64s\t = Validation runtime\n",
            "Fitting model: WeightedEnsemble_L3 ...\n",
            "\t-620.7255\t = Validation root_mean_squared_error score\n",
            "\t0.11s\t = Training runtime\n",
            "\t0.0s\t = Validation runtime\n",
            "AutoGluon training complete, total runtime = 6.57s ...\n",
            "TabularPredictor saved. To load, use: predictor = TabularPredictor.load(\"AutogluonModels/ag-20210710_060031/\")\n"
          ],
          "name": "stderr"
        }
      ]
    },
    {
      "cell_type": "code",
      "metadata": {
        "colab": {
          "base_uri": "https://localhost:8080/"
        },
        "id": "hHlPFKd_AMiy",
        "outputId": "218e4e6d-907a-425d-8efc-f0cefa646bf4"
      },
      "source": [
        "result = predictor.fit_summary()"
      ],
      "execution_count": 30,
      "outputs": [
        {
          "output_type": "stream",
          "text": [
            "*** Summary of fit() ***\n",
            "Estimated performance of each model:\n",
            "                   model    score_val  pred_time_val  fit_time  pred_time_val_marginal  fit_time_marginal  stack_level  can_infer  fit_order\n",
            "0        LightGBM_BAG_L2  -620.725545       0.674726  3.016768                0.015316           0.635820            2       True          4\n",
            "1    WeightedEnsemble_L3  -620.725545       0.675306  3.123205                0.000580           0.106437            3       True          6\n",
            "2        LightGBM_BAG_L1  -630.486677       0.009487  0.635655                0.009487           0.635655            1       True          1\n",
            "3    WeightedEnsemble_L2  -630.486677       0.010137  0.739218                0.000650           0.103563            2       True          3\n",
            "4  NeuralNetMXNet_BAG_L2 -1515.893636       1.299736  4.101560                0.640326           1.720612            2       True          5\n",
            "5  NeuralNetMXNet_BAG_L1 -1537.171514       0.649923  1.745293                0.649923           1.745293            1       True          2\n",
            "Number of models trained: 6\n",
            "Types of models trained:\n",
            "{'StackerEnsembleModel_TabularNeuralNet', 'WeightedEnsembleModel', 'StackerEnsembleModel_LGB'}\n",
            "Bagging used: True  (with 5 folds)\n",
            "Multi-layer stack-ensembling used: True  (with 3 levels)\n",
            "Feature Metadata (Processed):\n",
            "(raw dtype, special dtypes):\n",
            "('float', []) : 19 | ['NFO', 'NFH', 'NFC', 'FIIB', 'FIIS', ...]\n",
            "Plot summary of models saved to file: AutogluonModels/ag-20210710_060031/SummaryOfModels.html\n",
            "*** End of fit() summary ***\n"
          ],
          "name": "stdout"
        }
      ]
    },
    {
      "cell_type": "markdown",
      "metadata": {
        "id": "BSnqcVFZAlBe"
      },
      "source": [
        "![bokeh_plot (1).png](data:image/png;base64,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)"
      ]
    },
    {
      "cell_type": "markdown",
      "metadata": {
        "id": "jxhKa9H2CK2u"
      },
      "source": [
        "# Objective\n",
        "\n",
        " The objective of the problem is to predict the NFH values based on the given data set. Here the data set have columns 'Date(IST)', 'NFO', 'NFH', 'NFL', 'NFC', 'FIIB', 'FIIS', 'FIIN','DIIB', 'DIIS', 'DIIN', 'August', 'December', 'CAD', 'DAD', 'DOD''NDAD', 'Currey', 'Flow', 'Shine', 'Vega'. \n",
        "\n",
        " # Data Cleaning\n",
        "\n",
        " First do the data cleaning process, dropped 2 columns index and date columns.\n",
        "\n",
        "# Data Split\n",
        "\n",
        "Split the train and Test data with ratio 70%-30%\n",
        "\n",
        "# Model Training\n",
        "\n",
        "Select the label class to predict.\n",
        "Fit() and Predictions performed based on the autogluon models \n",
        "\n",
        "# do Hyperparametr tuning and ensemble techniques\n",
        "\n",
        " 1.preprocesses raw data (identifies the type of each feature)\n",
        "\n",
        " 2.identifies what type of prediction problem this is (binary/multi-class classification or regression) \n",
        "\n",
        " 3.splits data appropriately   (eg.training/validation sets, k-fold split)\n",
        "\n",
        " 4.individually trains/tunes various models (RandomForest/ExtraTrees, KNN, \n",
        " NeuralNet, GBDT)\n",
        "\n",
        " 5.assembles ensemble that outperforms all the individual models\n",
        "\n",
        " 6. Plot the HPO summary graph which will be get at summary report as html file."
      ]
    },
    {
      "cell_type": "code",
      "metadata": {
        "id": "IAOaZCU0CLk8"
      },
      "source": [
        ""
      ],
      "execution_count": null,
      "outputs": []
    }
  ]
}